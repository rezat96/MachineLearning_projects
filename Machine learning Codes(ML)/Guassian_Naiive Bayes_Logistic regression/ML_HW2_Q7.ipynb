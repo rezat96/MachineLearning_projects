{
 "cells": [
  {
   "cell_type": "code",
   "execution_count": 96,
   "id": "cecda566",
   "metadata": {},
   "outputs": [],
   "source": [
    "# Python ≥3.5 is required\n",
    "import sys\n",
    "assert sys.version_info >= (3, 5)\n",
    " \n",
    "# Scikit-Learn ≥0.20 is required\n",
    "import sklearn\n",
    "assert sklearn.__version__ >= \"0.20\"\n",
    " \n",
    "# Common imports\n",
    "import numpy as np\n",
    "import pandas as pd\n",
    "import os\n",
    "from sklearn.model_selection import train_test_split\n",
    "from sklearn.preprocessing import MinMaxScaler\n",
    "# to make this notebook's output stable across runs\n",
    "np.random.seed(42)\n",
    " \n",
    "# To plot pretty figures\n",
    "# %matplotlib inline\n",
    "import matplotlib as mpl\n",
    "import matplotlib.pyplot as plt\n",
    "mpl.rc('axes', labelsize=14)\n",
    "mpl.rc('xtick', labelsize=12)\n",
    "mpl.rc('ytick', labelsize=12)"
   ]
  },
  {
   "cell_type": "code",
   "execution_count": 97,
   "id": "94b5b272",
   "metadata": {
    "scrolled": true
   },
   "outputs": [],
   "source": [
    "PATH_TO_DATA = r\"C:\\Users\\Reza\\trainData.csv\"\n",
    "X_train= pd.read_csv(PATH_TO_DATA,header=None).values\n",
    "\n",
    "PATH_TO_DATA1 = r\"C:\\Users\\Reza\\trainLabels.csv\"\n",
    "y_train= pd.read_csv(PATH_TO_DATA1,header=None).values\n",
    "\n",
    "PATH_TO_DATA2 = r\"C:\\Users\\Reza\\testData.csv\"\n",
    "X_test= pd.read_csv(PATH_TO_DATA2,header=None).values\n",
    "\n",
    "PATH_TO_DATA3 = r\"C:\\Users\\Reza\\testLabels.csv\"\n",
    "y_test= pd.read_csv(PATH_TO_DATA3,header=None).values\n",
    "\n",
    "\n",
    "\n",
    "\n"
   ]
  },
  {
   "cell_type": "code",
   "execution_count": 98,
   "id": "28c65651",
   "metadata": {},
   "outputs": [
    {
     "data": {
      "image/png": "[encoded data removed]",
      "text/plain": [
       "<Figure size 432x288 with 1 Axes>"
      ]
     },
     "metadata": {
      "needs_background": "light"
     },
     "output_type": "display_data"
    },
    {
     "data": {
      "image/png": "[encoded data removed]",
      "text/plain": [
       "<Figure size 432x288 with 1 Axes>"
      ]
     },
     "metadata": {
      "needs_background": "light"
     },
     "output_type": "display_data"
    },
    {
     "data": {
      "image/png": "[encoded data removed]",
      "text/plain": [
       "<Figure size 432x288 with 1 Axes>"
      ]
     },
     "metadata": {
      "needs_background": "light"
     },
     "output_type": "display_data"
    },
    {
     "data": {
      "image/png": "[encoded data removed]",
      "text/plain": [
       "<Figure size 432x288 with 1 Axes>"
      ]
     },
     "metadata": {
      "needs_background": "light"
     },
     "output_type": "display_data"
    },
    {
     "data": {
      "image/png": "[encoded data removed]",
      "text/plain": [
       "<Figure size 432x288 with 1 Axes>"
      ]
     },
     "metadata": {
      "needs_background": "light"
     },
     "output_type": "display_data"
    },
    {
     "data": {
      "image/png": "[encoded data removed]",
      "text/plain": [
       "<Figure size 432x288 with 1 Axes>"
      ]
     },
     "metadata": {
      "needs_background": "light"
     },
     "output_type": "display_data"
    },
    {
     "data": {
      "image/png": "[encoded data removed]",
      "text/plain": [
       "<Figure size 432x288 with 1 Axes>"
      ]
     },
     "metadata": {
      "needs_background": "light"
     },
     "output_type": "display_data"
    },
    {
     "data": {
      "image/png": "[encoded data removed]",
      "text/plain": [
       "<Figure size 432x288 with 1 Axes>"
      ]
     },
     "metadata": {
      "needs_background": "light"
     },
     "output_type": "display_data"
    },
    {
     "data": {
      "image/png": "[encoded data removed]",
      "text/plain": [
       "<Figure size 432x288 with 1 Axes>"
      ]
     },
     "metadata": {
      "needs_background": "light"
     },
     "output_type": "display_data"
    }
   ],
   "source": [
    "#First lets visualise some\n",
    "# Reshape The data for plotting\n",
    "import math\n",
    "n1,n2=X_train.shape\n",
    "n3=int(math.sqrt(n2))\n",
    "X_train1=X_train.reshape((n1,n3,n3))\n",
    "\n",
    "m1,m2=X_test.shape\n",
    "m3=int(math.sqrt(n2))\n",
    "X_test1=X_test.reshape((m1,m3,m3))\n",
    "\n",
    "for i in range(9):\n",
    "    plt.subplot(330 + 1 + i)\n",
    "    plt.imshow(X_train1[i], cmap=plt.get_cmap('gray'))\n",
    "    plt.show()"
   ]
  },
  {
   "cell_type": "code",
   "execution_count": 99,
   "id": "b16161ed",
   "metadata": {},
   "outputs": [],
   "source": [
    "# # preprocces & Normalising\n",
    "# #Normalising The data\n",
    "# xScaler = MinMaxScaler().fit(X_train);        #This has changed\n",
    "# yScaler = MinMaxScaler().fit(y_train.reshape(-1, 1));   #This has changed\n",
    "# X_train = xScaler.transform(X_train)\n",
    "# X_test  = xScaler.transform(X_test)\n",
    "# y_train = yScaler.transform(y_train.reshape(-1, 1))\n",
    "# y_test  = yScaler.transform(y_test.reshape(-1, 1))"
   ]
  },
  {
   "cell_type": "code",
   "execution_count": 100,
   "id": "25492128",
   "metadata": {},
   "outputs": [
    {
     "data": {
      "text/plain": [
       "GaussianNB()"
      ]
     },
     "execution_count": 100,
     "metadata": {},
     "output_type": "execute_result"
    }
   ],
   "source": [
    "from sklearn.naive_bayes import GaussianNB   \n",
    "\n",
    "clf = GaussianNB()  \n",
    "\n",
    "# fitting the classifier\n",
    "clf.fit(X_train, y_train.ravel())"
   ]
  },
  {
   "cell_type": "code",
   "execution_count": 101,
   "id": "2eae12bf",
   "metadata": {},
   "outputs": [
    {
     "name": "stdout",
     "output_type": "stream",
     "text": [
      "The accuracy of the model is: 50.7%\n"
     ]
    }
   ],
   "source": [
    "y_pred = clf.predict(X_test)\n",
    "\n",
    "from sklearn.metrics import accuracy_score\n",
    "\n",
    "print(\"The accuracy of the model is: %.1f%%\" % (accuracy_score(y_test, y_pred)*100))"
   ]
  },
  {
   "cell_type": "markdown",
   "id": "2664fa0c",
   "metadata": {},
   "source": [
    "# Computing The Prior Of Each Class"
   ]
  },
  {
   "cell_type": "code",
   "execution_count": 102,
   "id": "ed4aa517",
   "metadata": {
    "scrolled": false
   },
   "outputs": [
    {
     "name": "stdout",
     "output_type": "stream",
     "text": [
      "prior for each class is: \n",
      " [[0.1044]\n",
      " [0.1128]\n",
      " [0.1006]\n",
      " [0.1078]\n",
      " [0.089 ]\n",
      " [0.0858]\n",
      " [0.1026]\n",
      " [0.104 ]\n",
      " [0.0964]\n",
      " [0.0966]]\n"
     ]
    }
   ],
   "source": [
    "#Computing The Prior\n",
    "prior=np.zeros((10,1))\n",
    "for j in range(10):\n",
    "    for i in range(len(y_train)):\n",
    "        if y_train[i]==j:\n",
    "            prior[j,0]+=1\n",
    "prior=prior/len(y_train)\n",
    "print(\"prior for each class is: \\n\",prior )"
   ]
  },
  {
   "cell_type": "code",
   "execution_count": 110,
   "id": "c8d9c3d6",
   "metadata": {},
   "outputs": [],
   "source": [
    "import itertools\n",
    "\n",
    "def plot_confusion_matrix(cm, classes,\n",
    "                          normalize=False,\n",
    "                          title='Confusion matrix',\n",
    "                          cmap=plt.cm.Blues):\n",
    "    \"\"\"\n",
    "    This function prints and plots the confusion matrix.\n",
    "    Normalization can be applied by setting `normalize=True`.\n",
    "    \"\"\"\n",
    "    plt.figure(figsize = (5,5))\n",
    "    plt.imshow(cm, interpolation='nearest', cmap=cmap)\n",
    "    plt.title(title)\n",
    "    plt.colorbar()\n",
    "    tick_marks = np.arange(len(classes))\n",
    "    plt.xticks(tick_marks, classes, rotation=90)\n",
    "    plt.yticks(tick_marks, classes)\n",
    "    if normalize:\n",
    "        cm = cm.astype('float') / cm.sum(axis=1)[:, np.newaxis]\n",
    "\n",
    "    thresh = cm.max() / 2.\n",
    "    for i, j in itertools.product(range(cm.shape[0]), range(cm.shape[1])):\n",
    "        plt.text(j, i, cm[i, j],\n",
    "                 horizontalalignment=\"center\",\n",
    "                 color=\"white\" if cm[i, j] > thresh else \"black\")\n",
    "    plt.tight_layout()\n",
    "    plt.ylabel('True label')\n",
    "    plt.xlabel('Predicted label')"
   ]
  },
  {
   "cell_type": "code",
   "execution_count": 112,
   "id": "2e0fe775",
   "metadata": {},
   "outputs": [
    {
     "data": {
      "image/png": "[encoded data removed]",
      "text/plain": [
       "<Figure size 360x360 with 2 Axes>"
      ]
     },
     "metadata": {
      "needs_background": "light"
     },
     "output_type": "display_data"
    }
   ],
   "source": [
    "class_names=np.arange(0,10)\n",
    "from sklearn.metrics import confusion_matrix\n",
    "confusion_mtx1 = confusion_matrix(y_test, y_pred)\n",
    "plot_confusion_matrix(confusion_mtx1, class_names)"
   ]
  },
  {
   "cell_type": "markdown",
   "id": "9a7bea72",
   "metadata": {},
   "source": [
    "# Naive Bayes from Scratch"
   ]
  },
  {
   "cell_type": "code",
   "execution_count": 103,
   "id": "ee5c3864",
   "metadata": {},
   "outputs": [],
   "source": [
    "# train=X_train1.copy()\n",
    "# list=y_train\n",
    "# train.insert(n2, \"number\", list, True)\n",
    "\n",
    "# test=X_test1.copy()\n",
    "# list1=y_test\n",
    "# test.insert(n2, \"number\", list1, True)\n",
    "\n",
    "# listt=['x%d' % i for i in range(0, m2)]\n",
    "# listt.append(\"number\")\n",
    "# train.columns =listt\n",
    "# test.columns=listt\n",
    "# train"
   ]
  },
  {
   "cell_type": "code",
   "execution_count": 104,
   "id": "15643aa7",
   "metadata": {},
   "outputs": [],
   "source": [
    "# def calculate_prior(df, Y):\n",
    "#     classes = sorted((train[Y].unique()).tolist())\n",
    "#     prior = []\n",
    "#     for i in classes:\n",
    "#         prior.append(len(df[df[Y]==i])/len(df))\n",
    "#     return prior"
   ]
  },
  {
   "cell_type": "code",
   "execution_count": 105,
   "id": "f282be6b",
   "metadata": {},
   "outputs": [],
   "source": [
    "# def calculate_likelihood_gaussian(df, feat_name, feat_val, Y, label):\n",
    "#     feat = list(df.columns)\n",
    "#     df = df[df[Y]==label]\n",
    "#     mean, std = df[feat_name].mean(), df[feat_name].std()\n",
    "#     p_x_given_y = (1 / (np.sqrt(2 * np.pi) * std)) *  np.exp(-((feat_val-mean)**2 / (2 * std**2 )))\n",
    "#     return p_x_given_y"
   ]
  },
  {
   "cell_type": "code",
   "execution_count": 106,
   "id": "689aeb6d",
   "metadata": {},
   "outputs": [],
   "source": [
    "# def naive_bayes_gaussian(df, X, Y):\n",
    "#     # get feature names\n",
    "#     #features = list(df.columns)[:-1]\n",
    "#     features = df.columns[:-1].tolist()\n",
    "#     # calculate prior\n",
    "#     prior = calculate_prior(df, Y)\n",
    "\n",
    "#     Y_pred = []\n",
    "#     # loop over every data sample\n",
    "#     for x in X:\n",
    "#         # calculate likelihood\n",
    "#         #labels = sorted(list(df[Y].unique()))\n",
    "#         likelihood = [1]*len(labels)\n",
    "#         for j in range(len(labels)):\n",
    "#             for i in range(len(features)):\n",
    "#                 likelihood[j] *= calculate_likelihood_gaussian(df, features[i], x[i], Y, labels[j])\n",
    "\n",
    "#         # calculate posterior probability (numerator only)\n",
    "#         post_prob = [1]*len(labels)\n",
    "#         for j in range(len(labels)):\n",
    "#             post_prob[j] = likelihood[j] * prior[j]\n",
    "\n",
    "#         Y_pred.append(np.argmax(post_prob))\n",
    "#     return np.array(Y_pred)"
   ]
  },
  {
   "cell_type": "code",
   "execution_count": 107,
   "id": "d3336f1e",
   "metadata": {},
   "outputs": [],
   "source": [
    "# X_test = test.iloc[:,:-1].values\n",
    "# Y_test = test.iloc[:,-1].values\n",
    "\n",
    "# Y_pred = naive_bayes_gaussian(train,X=X_test,Y=\"number\")\n"
   ]
  }
 ],
 "metadata": {
  "kernelspec": {
   "display_name": "Python 3",
   "language": "python",
   "name": "python3"
  },
  "language_info": {
   "codemirror_mode": {
    "name": "ipython",
    "version": 3
   },
   "file_extension": ".py",
   "mimetype": "text/x-python",
   "name": "python",
   "nbconvert_exporter": "python",
   "pygments_lexer": "ipython3",
   "version": "3.7.10"
  }
 },
 "nbformat": 4,
 "nbformat_minor": 5
}
