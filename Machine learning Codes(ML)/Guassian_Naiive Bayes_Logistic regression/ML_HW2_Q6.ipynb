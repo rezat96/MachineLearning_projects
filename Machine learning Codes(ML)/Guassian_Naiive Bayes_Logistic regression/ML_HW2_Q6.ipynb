{
 "cells": [
  {
   "cell_type": "code",
   "execution_count": 2,
   "id": "9816c74f",
   "metadata": {},
   "outputs": [],
   "source": [
    "# Python ≥3.5 is required\n",
    "import sys\n",
    "assert sys.version_info >= (3, 5)\n",
    " \n",
    "# Scikit-Learn ≥0.20 is required\n",
    "import sklearn\n",
    "assert sklearn.__version__ >= \"0.20\"\n",
    " \n",
    "# Common imports\n",
    "import numpy as np\n",
    "import pandas as pd\n",
    "import os\n",
    "from sklearn.model_selection import train_test_split\n",
    "from sklearn.preprocessing import MinMaxScaler\n",
    "# to make this notebook's output stable across runs\n",
    "np.random.seed(42)\n",
    " \n",
    "# To plot pretty figures\n",
    "# %matplotlib inline\n",
    "import matplotlib as mpl\n",
    "import matplotlib.pyplot as plt\n",
    "mpl.rc('axes', labelsize=14)\n",
    "mpl.rc('xtick', labelsize=12)\n",
    "mpl.rc('ytick', labelsize=12)"
   ]
  },
  {
   "cell_type": "markdown",
   "id": "b5e58803",
   "metadata": {},
   "source": [
    "# Reading The Data & PreProcess"
   ]
  },
  {
   "cell_type": "code",
   "execution_count": 3,
   "id": "af7e9ecc",
   "metadata": {},
   "outputs": [
    {
     "data": {
      "text/html": [
       "<div>\n",
       "<style scoped>\n",
       "    .dataframe tbody tr th:only-of-type {\n",
       "        vertical-align: middle;\n",
       "    }\n",
       "\n",
       "    .dataframe tbody tr th {\n",
       "        vertical-align: top;\n",
       "    }\n",
       "\n",
       "    .dataframe thead th {\n",
       "        text-align: right;\n",
       "    }\n",
       "</style>\n",
       "<table border=\"1\" class=\"dataframe\">\n",
       "  <thead>\n",
       "    <tr style=\"text-align: right;\">\n",
       "      <th></th>\n",
       "      <th>Sepal_Length</th>\n",
       "      <th>Sepal_Width</th>\n",
       "      <th>Petal_Length</th>\n",
       "      <th>Petal_Width</th>\n",
       "      <th>Class</th>\n",
       "    </tr>\n",
       "  </thead>\n",
       "  <tbody>\n",
       "    <tr>\n",
       "      <th>0</th>\n",
       "      <td>5.1</td>\n",
       "      <td>3.5</td>\n",
       "      <td>1.4</td>\n",
       "      <td>0.2</td>\n",
       "      <td>Iris-setosa</td>\n",
       "    </tr>\n",
       "    <tr>\n",
       "      <th>1</th>\n",
       "      <td>4.9</td>\n",
       "      <td>3.0</td>\n",
       "      <td>1.4</td>\n",
       "      <td>0.2</td>\n",
       "      <td>Iris-setosa</td>\n",
       "    </tr>\n",
       "    <tr>\n",
       "      <th>2</th>\n",
       "      <td>4.7</td>\n",
       "      <td>3.2</td>\n",
       "      <td>1.3</td>\n",
       "      <td>0.2</td>\n",
       "      <td>Iris-setosa</td>\n",
       "    </tr>\n",
       "    <tr>\n",
       "      <th>3</th>\n",
       "      <td>4.6</td>\n",
       "      <td>3.1</td>\n",
       "      <td>1.5</td>\n",
       "      <td>0.2</td>\n",
       "      <td>Iris-setosa</td>\n",
       "    </tr>\n",
       "    <tr>\n",
       "      <th>4</th>\n",
       "      <td>5.0</td>\n",
       "      <td>3.6</td>\n",
       "      <td>1.4</td>\n",
       "      <td>0.2</td>\n",
       "      <td>Iris-setosa</td>\n",
       "    </tr>\n",
       "    <tr>\n",
       "      <th>...</th>\n",
       "      <td>...</td>\n",
       "      <td>...</td>\n",
       "      <td>...</td>\n",
       "      <td>...</td>\n",
       "      <td>...</td>\n",
       "    </tr>\n",
       "    <tr>\n",
       "      <th>145</th>\n",
       "      <td>6.7</td>\n",
       "      <td>3.0</td>\n",
       "      <td>5.2</td>\n",
       "      <td>2.3</td>\n",
       "      <td>Iris-virginica</td>\n",
       "    </tr>\n",
       "    <tr>\n",
       "      <th>146</th>\n",
       "      <td>6.3</td>\n",
       "      <td>2.5</td>\n",
       "      <td>5.0</td>\n",
       "      <td>1.9</td>\n",
       "      <td>Iris-virginica</td>\n",
       "    </tr>\n",
       "    <tr>\n",
       "      <th>147</th>\n",
       "      <td>6.5</td>\n",
       "      <td>3.0</td>\n",
       "      <td>5.2</td>\n",
       "      <td>2.0</td>\n",
       "      <td>Iris-virginica</td>\n",
       "    </tr>\n",
       "    <tr>\n",
       "      <th>148</th>\n",
       "      <td>6.2</td>\n",
       "      <td>3.4</td>\n",
       "      <td>5.4</td>\n",
       "      <td>2.3</td>\n",
       "      <td>Iris-virginica</td>\n",
       "    </tr>\n",
       "    <tr>\n",
       "      <th>149</th>\n",
       "      <td>5.9</td>\n",
       "      <td>3.0</td>\n",
       "      <td>5.1</td>\n",
       "      <td>1.8</td>\n",
       "      <td>Iris-virginica</td>\n",
       "    </tr>\n",
       "  </tbody>\n",
       "</table>\n",
       "<p>150 rows × 5 columns</p>\n",
       "</div>"
      ],
      "text/plain": [
       "     Sepal_Length  Sepal_Width  Petal_Length  Petal_Width           Class\n",
       "0             5.1          3.5           1.4          0.2     Iris-setosa\n",
       "1             4.9          3.0           1.4          0.2     Iris-setosa\n",
       "2             4.7          3.2           1.3          0.2     Iris-setosa\n",
       "3             4.6          3.1           1.5          0.2     Iris-setosa\n",
       "4             5.0          3.6           1.4          0.2     Iris-setosa\n",
       "..            ...          ...           ...          ...             ...\n",
       "145           6.7          3.0           5.2          2.3  Iris-virginica\n",
       "146           6.3          2.5           5.0          1.9  Iris-virginica\n",
       "147           6.5          3.0           5.2          2.0  Iris-virginica\n",
       "148           6.2          3.4           5.4          2.3  Iris-virginica\n",
       "149           5.9          3.0           5.1          1.8  Iris-virginica\n",
       "\n",
       "[150 rows x 5 columns]"
      ]
     },
     "execution_count": 3,
     "metadata": {},
     "output_type": "execute_result"
    }
   ],
   "source": [
    "PATH_TO_DATA = r\"C:\\Users\\Reza\\Iris.csv\"\n",
    "df = pd.read_csv(PATH_TO_DATA)\n",
    "df\n",
    "#Data=df.values"
   ]
  },
  {
   "cell_type": "code",
   "execution_count": 4,
   "id": "841e72b4",
   "metadata": {},
   "outputs": [
    {
     "data": {
      "text/html": [
       "<div>\n",
       "<style scoped>\n",
       "    .dataframe tbody tr th:only-of-type {\n",
       "        vertical-align: middle;\n",
       "    }\n",
       "\n",
       "    .dataframe tbody tr th {\n",
       "        vertical-align: top;\n",
       "    }\n",
       "\n",
       "    .dataframe thead th {\n",
       "        text-align: right;\n",
       "    }\n",
       "</style>\n",
       "<table border=\"1\" class=\"dataframe\">\n",
       "  <thead>\n",
       "    <tr style=\"text-align: right;\">\n",
       "      <th></th>\n",
       "      <th>Sepal_Length</th>\n",
       "      <th>Sepal_Width</th>\n",
       "      <th>Petal_Length</th>\n",
       "      <th>Petal_Width</th>\n",
       "      <th>Class</th>\n",
       "    </tr>\n",
       "  </thead>\n",
       "  <tbody>\n",
       "    <tr>\n",
       "      <th>0</th>\n",
       "      <td>5.1</td>\n",
       "      <td>3.5</td>\n",
       "      <td>1.4</td>\n",
       "      <td>0.2</td>\n",
       "      <td>0</td>\n",
       "    </tr>\n",
       "    <tr>\n",
       "      <th>1</th>\n",
       "      <td>4.9</td>\n",
       "      <td>3.0</td>\n",
       "      <td>1.4</td>\n",
       "      <td>0.2</td>\n",
       "      <td>0</td>\n",
       "    </tr>\n",
       "    <tr>\n",
       "      <th>2</th>\n",
       "      <td>4.7</td>\n",
       "      <td>3.2</td>\n",
       "      <td>1.3</td>\n",
       "      <td>0.2</td>\n",
       "      <td>0</td>\n",
       "    </tr>\n",
       "    <tr>\n",
       "      <th>3</th>\n",
       "      <td>4.6</td>\n",
       "      <td>3.1</td>\n",
       "      <td>1.5</td>\n",
       "      <td>0.2</td>\n",
       "      <td>0</td>\n",
       "    </tr>\n",
       "    <tr>\n",
       "      <th>4</th>\n",
       "      <td>5.0</td>\n",
       "      <td>3.6</td>\n",
       "      <td>1.4</td>\n",
       "      <td>0.2</td>\n",
       "      <td>0</td>\n",
       "    </tr>\n",
       "    <tr>\n",
       "      <th>...</th>\n",
       "      <td>...</td>\n",
       "      <td>...</td>\n",
       "      <td>...</td>\n",
       "      <td>...</td>\n",
       "      <td>...</td>\n",
       "    </tr>\n",
       "    <tr>\n",
       "      <th>145</th>\n",
       "      <td>6.7</td>\n",
       "      <td>3.0</td>\n",
       "      <td>5.2</td>\n",
       "      <td>2.3</td>\n",
       "      <td>2</td>\n",
       "    </tr>\n",
       "    <tr>\n",
       "      <th>146</th>\n",
       "      <td>6.3</td>\n",
       "      <td>2.5</td>\n",
       "      <td>5.0</td>\n",
       "      <td>1.9</td>\n",
       "      <td>2</td>\n",
       "    </tr>\n",
       "    <tr>\n",
       "      <th>147</th>\n",
       "      <td>6.5</td>\n",
       "      <td>3.0</td>\n",
       "      <td>5.2</td>\n",
       "      <td>2.0</td>\n",
       "      <td>2</td>\n",
       "    </tr>\n",
       "    <tr>\n",
       "      <th>148</th>\n",
       "      <td>6.2</td>\n",
       "      <td>3.4</td>\n",
       "      <td>5.4</td>\n",
       "      <td>2.3</td>\n",
       "      <td>2</td>\n",
       "    </tr>\n",
       "    <tr>\n",
       "      <th>149</th>\n",
       "      <td>5.9</td>\n",
       "      <td>3.0</td>\n",
       "      <td>5.1</td>\n",
       "      <td>1.8</td>\n",
       "      <td>2</td>\n",
       "    </tr>\n",
       "  </tbody>\n",
       "</table>\n",
       "<p>150 rows × 5 columns</p>\n",
       "</div>"
      ],
      "text/plain": [
       "     Sepal_Length  Sepal_Width  Petal_Length  Petal_Width  Class\n",
       "0             5.1          3.5           1.4          0.2      0\n",
       "1             4.9          3.0           1.4          0.2      0\n",
       "2             4.7          3.2           1.3          0.2      0\n",
       "3             4.6          3.1           1.5          0.2      0\n",
       "4             5.0          3.6           1.4          0.2      0\n",
       "..            ...          ...           ...          ...    ...\n",
       "145           6.7          3.0           5.2          2.3      2\n",
       "146           6.3          2.5           5.0          1.9      2\n",
       "147           6.5          3.0           5.2          2.0      2\n",
       "148           6.2          3.4           5.4          2.3      2\n",
       "149           5.9          3.0           5.1          1.8      2\n",
       "\n",
       "[150 rows x 5 columns]"
      ]
     },
     "execution_count": 4,
     "metadata": {},
     "output_type": "execute_result"
    }
   ],
   "source": [
    "cat_columns = df.select_dtypes(['O']).columns\n",
    "for cat in cat_columns: \n",
    "  df[cat] = df[cat].astype('category')\n",
    "df[cat_columns] = df[cat_columns].apply(lambda x: x.cat.codes)\n",
    "Data=df.values\n",
    "df"
   ]
  },
  {
   "cell_type": "markdown",
   "id": "980ceb32",
   "metadata": {},
   "source": [
    "# Plotting Part A\n"
   ]
  },
  {
   "cell_type": "code",
   "execution_count": 5,
   "id": "f77f44b8",
   "metadata": {},
   "outputs": [
    {
     "data": {
      "text/plain": [
       "Text(0.5, 0, 'Petal_Length')"
      ]
     },
     "execution_count": 5,
     "metadata": {},
     "output_type": "execute_result"
    },
    {
     "data": {
      "image/png": "[encoded data removed]",
      "text/plain": [
       "<Figure size 432x288 with 1 Axes>"
      ]
     },
     "metadata": {
      "needs_background": "light"
     },
     "output_type": "display_data"
    },
    {
     "data": {
      "image/png": "[encoded data removed]",
      "text/plain": [
       "<Figure size 432x288 with 1 Axes>"
      ]
     },
     "metadata": {
      "needs_background": "light"
     },
     "output_type": "display_data"
    },
    {
     "data": {
      "image/png": "[encoded data removed]",
      "text/plain": [
       "<Figure size 432x288 with 1 Axes>"
      ]
     },
     "metadata": {
      "needs_background": "light"
     },
     "output_type": "display_data"
    },
    {
     "data": {
      "image/png": "[encoded data removed]",
      "text/plain": [
       "<Figure size 432x288 with 1 Axes>"
      ]
     },
     "metadata": {
      "needs_background": "light"
     },
     "output_type": "display_data"
    },
    {
     "data": {
      "image/png": "[encoded data removed]",
      "text/plain": [
       "<Figure size 432x288 with 1 Axes>"
      ]
     },
     "metadata": {
      "needs_background": "light"
     },
     "output_type": "display_data"
    },
    {
     "data": {
      "image/png": "[encoded data removed]",
      "text/plain": [
       "<Figure size 432x288 with 1 Axes>"
      ]
     },
     "metadata": {
      "needs_background": "light"
     },
     "output_type": "display_data"
    }
   ],
   "source": [
    "x0=Data[:,0] #Sepal_Length\n",
    "x1=Data[:,1] #Sepal_Width\n",
    "x2=Data[:,2] #Petal_Length\n",
    "x3=Data[:,3] #Petal_Width\n",
    "Class=Data[:,-1] #Class Iris sentosa :0 ,Iris-versicolor:1 , Iris-virginica:2 \n",
    "\n",
    "#first figure\n",
    "plt.figure()\n",
    "for i in range(len(x0)):\n",
    "    if (Class[i]==0):\n",
    "        plt.plot(x0[i],x1[i],'ro') \n",
    "    elif (Class[i]==1):\n",
    "        plt.plot(x0[i],x1[i],'go') \n",
    "    elif (Class[i]==2):\n",
    "        plt.plot(x0[i],x1[i],'bo')\n",
    "  \n",
    "plt.ylabel('Septal width')\n",
    "plt.xlabel('Sepal_Length')\n",
    "# plt.grid()  \n",
    "\n",
    "#second figure\n",
    "plt.figure()\n",
    "for i in range(len(x0)):\n",
    "    if (Class[i]==0):\n",
    "        plt.plot(x0[i],x2[i],'ro') \n",
    "    elif (Class[i]==1):\n",
    "        plt.plot(x0[i],x2[i],'go') \n",
    "    elif (Class[i]==2):\n",
    "        plt.plot(x0[i],x2[i],'bo')\n",
    "  \n",
    "plt.ylabel('Petal_Length')\n",
    "plt.xlabel('Sepal_Length')\n",
    "# plt.grid()  \n",
    "\n",
    "#third figure\n",
    "plt.figure()\n",
    "for i in range(len(x0)):\n",
    "    if (Class[i]==0):\n",
    "        plt.plot(x0[i],x3[i],'ro') \n",
    "    elif (Class[i]==1):\n",
    "        plt.plot(x0[i],x3[i],'go') \n",
    "    elif (Class[i]==2):\n",
    "        plt.plot(x0[i],x3[i],'bo')\n",
    "  \n",
    "plt.ylabel('Petal_Width')\n",
    "plt.xlabel('Sepal_Length')\n",
    "\n",
    "\n",
    "#4th figure\n",
    "plt.figure()\n",
    "for i in range(len(x0)):\n",
    "    if (Class[i]==0):\n",
    "        plt.plot(x1[i],x2[i],'ro') \n",
    "    elif (Class[i]==1):\n",
    "        plt.plot(x1[i],x2[i],'go') \n",
    "    elif (Class[i]==2):\n",
    "        plt.plot(x1[i],x2[i],'bo')\n",
    "  \n",
    "plt.ylabel('Petal_Length')\n",
    "plt.xlabel('Sepal_Width')\n",
    "\n",
    "#5th figure\n",
    "plt.figure()\n",
    "for i in range(len(x0)):\n",
    "    if (Class[i]==0):\n",
    "        plt.plot(x1[i],x3[i],'ro') \n",
    "    elif (Class[i]==1):\n",
    "        plt.plot(x1[i],x3[i],'go') \n",
    "    elif (Class[i]==2):\n",
    "        plt.plot(x1[i],x3[i],'bo')\n",
    "  \n",
    "plt.ylabel('Petal_Width')\n",
    "plt.xlabel('Sepal_Width')\n",
    "\n",
    "#5th figure\n",
    "plt.figure()\n",
    "for i in range(len(x0)):\n",
    "    if (Class[i]==0):\n",
    "        plt.plot(x2[i],x3[i],'ro') \n",
    "    elif (Class[i]==1):\n",
    "        plt.plot(x2[i],x3[i],'go') \n",
    "    elif (Class[i]==2):\n",
    "        plt.plot(x2[i],x3[i],'bo')\n",
    "  \n",
    "plt.ylabel('Petal_Width')\n",
    "plt.xlabel('Petal_Length')\n"
   ]
  },
  {
   "cell_type": "markdown",
   "id": "1715b5cd",
   "metadata": {},
   "source": [
    "# Part B : Implemention\n"
   ]
  },
  {
   "cell_type": "code",
   "execution_count": 6,
   "id": "a26a0ca7",
   "metadata": {},
   "outputs": [],
   "source": [
    "# Shuffle your dataset \n",
    "shuffle_df = df.sample(frac=1)\n",
    "\n",
    "# Define a size for your train set \n",
    "train_size = int(0.75 * len(df))   # 75 percent Train and 25% test\n",
    "\n",
    "# Split your dataset \n",
    "train_set = shuffle_df[:train_size].values\n",
    "test_set = shuffle_df[train_size:].values"
   ]
  },
  {
   "cell_type": "code",
   "execution_count": 7,
   "id": "dbcc6b68",
   "metadata": {},
   "outputs": [],
   "source": [
    "b=train_set.shape[0]\n",
    "c=test_set.shape[0]"
   ]
  },
  {
   "cell_type": "code",
   "execution_count": 8,
   "id": "acc5c728",
   "metadata": {
    "scrolled": true
   },
   "outputs": [],
   "source": [
    "mean_class0=np.zeros((4,1))\n",
    "mean_class1=np.zeros((4,1))\n",
    "mean_class2=np.zeros((4,1))\n",
    "counter0=0\n",
    "counter1=0\n",
    "counter2=0\n",
    "features=['Sepal_Length','Sepal_Width','Petal_Length','Petal_Width']\n",
    "\n",
    "for i in range (b):\n",
    "    if (train_set[i,-1]==0):\n",
    "        counter0+=1\n",
    "        mean_class0[:,0]=train_set[i,:4]+mean_class0[:,0]\n",
    "    elif (train_set[i,-1]==1):\n",
    "        counter1+=1\n",
    "        mean_class1[:,0]=train_set[i,:4]+mean_class1[:,0]    \n",
    "    elif (train_set[i,-1]==2):\n",
    "        counter2+=1\n",
    "        mean_class2[:,0]=train_set[i,:4]+mean_class2[:,0] \n",
    "mean_class0=(mean_class0/counter0).reshape((1,4))\n",
    "mean_class1=(mean_class1/counter1).reshape((1,4))\n",
    "mean_class2=(mean_class2/counter2).reshape((1,4))\n"
   ]
  },
  {
   "cell_type": "code",
   "execution_count": 9,
   "id": "f3948691",
   "metadata": {},
   "outputs": [
    {
     "name": "stdout",
     "output_type": "stream",
     "text": [
      "Acurracy is : 0.8947368421052632\n",
      "Confusion Matrix\n",
      " [[ 8.  0.  0.]\n",
      " [ 0. 13.  2.]\n",
      " [ 0.  2. 13.]]\n",
      "f1_score for each class is: 1.0 0.8666666666666667 0.8666666666666667\n"
     ]
    }
   ],
   "source": [
    "from numpy import linalg as LA\n",
    "class_pred=np.zeros((c,1))\n",
    "for j in range (c):\n",
    "    error0=LA.norm(test_set[j,:-1]-mean_class0)\n",
    "    error1=LA.norm(test_set[j,:-1]-mean_class1)\n",
    "    error2=LA.norm(test_set[j,:-1]-mean_class2)\n",
    "    if (min(error0,error1,error2)==error0):\n",
    "        class_pred[j]=0\n",
    "    elif (min(error0,error1,error2)==error1):\n",
    "        class_pred[j]=1    \n",
    "    elif (min(error0,error1,error2)==error2):\n",
    "        class_pred[j]=2 \n",
    "        \n",
    "\n",
    "\n",
    "xx=class_pred[:,0]-test_set[:,-1]  \n",
    "class_names=['setosa', 'versicolor', 'virginica']\n",
    "confusion_mtx=np.zeros((3,3))\n",
    "\n",
    "\n",
    "for j in range (c):\n",
    "    k=int(class_pred[j,0])\n",
    "    if (xx[j]==0):\n",
    "        confusion_mtx[k,k]+=1\n",
    "    elif (xx[j]==1):\n",
    "        confusion_mtx[k,k-1]+=1\n",
    "    elif (xx[j]==2):\n",
    "        confusion_mtx[k,k+2]+=1\n",
    "    elif (xx[j]==-1):\n",
    "        confusion_mtx[k,k+1]+=1\n",
    "    elif (xx[j]==-2):\n",
    "        confusion_mtx[k,k+2]+=1\n",
    "\n",
    "accuracy=(confusion_mtx[0,0]+confusion_mtx[1,1]+confusion_mtx[2,2])/c\n",
    "print(\"Acurracy is :\",accuracy)\n",
    "print(\"Confusion Matrix\\n\",confusion_mtx)\n",
    "def f1_score(R,P):\n",
    "    f1_scoree=2*R*P/(R+P)\n",
    "    return f1_scoree\n",
    "    \n",
    "R0=confusion_mtx[0,0]/(confusion_mtx.sum(axis=1)[0])\n",
    "P0=confusion_mtx[0,0]/(confusion_mtx.sum(axis=0)[0])\n",
    "f1_score0=f1_score(R0,P0)\n",
    "\n",
    "R1=confusion_mtx[1,1]/(confusion_mtx.sum(axis=1)[1])\n",
    "P1=confusion_mtx[1,1]/(confusion_mtx.sum(axis=0)[1])\n",
    "f1_score1=f1_score(R1,P1)\n",
    "\n",
    "R2=confusion_mtx[2,2]/(confusion_mtx.sum(axis=1)[2])\n",
    "P2=confusion_mtx[2,2]/(confusion_mtx.sum(axis=0)[2])\n",
    "f1_score2=f1_score(R2,P2)\n",
    "print(\"f1_score for each class is:\",f1_score0,f1_score1,f1_score2)"
   ]
  },
  {
   "cell_type": "code",
   "execution_count": 10,
   "id": "1673cc9b",
   "metadata": {},
   "outputs": [],
   "source": [
    "import matplotlib.pyplot as plt\n",
    "import numpy as np\n",
    "import itertools\n",
    "\n",
    "def plot_confusion_matrix(cm, classes,\n",
    "                          normalize=False,\n",
    "                          title='Confusion matrix',\n",
    "                          cmap=plt.cm.Blues):\n",
    "    \"\"\"\n",
    "    This function prints and plots the confusion matrix.\n",
    "    Normalization can be applied by setting `normalize=True`.\n",
    "    \"\"\"\n",
    "    plt.figure(figsize = (5,5))\n",
    "    plt.imshow(cm, interpolation='nearest', cmap=cmap)\n",
    "    plt.title(title)\n",
    "    plt.colorbar()\n",
    "    tick_marks = np.arange(len(classes))\n",
    "    plt.xticks(tick_marks, classes, rotation=90)\n",
    "    plt.yticks(tick_marks, classes)\n",
    "    if normalize:\n",
    "        cm = cm.astype('float') / cm.sum(axis=1)[:, np.newaxis]\n",
    "\n",
    "    thresh = cm.max() / 2.\n",
    "    for i, j in itertools.product(range(cm.shape[0]), range(cm.shape[1])):\n",
    "        plt.text(j, i, cm[i, j],\n",
    "                 horizontalalignment=\"center\",\n",
    "                 color=\"white\" if cm[i, j] > thresh else \"black\")\n",
    "    plt.tight_layout()\n",
    "    plt.ylabel('True label')\n",
    "    plt.xlabel('Predicted label')"
   ]
  },
  {
   "cell_type": "code",
   "execution_count": 11,
   "id": "d40b19a0",
   "metadata": {},
   "outputs": [
    {
     "data": {
      "image/png": "[encoded data removed]",
      "text/plain": [
       "<Figure size 360x360 with 2 Axes>"
      ]
     },
     "metadata": {
      "needs_background": "light"
     },
     "output_type": "display_data"
    }
   ],
   "source": [
    "plot_confusion_matrix(confusion_mtx, class_names)"
   ]
  },
  {
   "cell_type": "markdown",
   "id": "8219f5e9",
   "metadata": {},
   "source": [
    "# Part C: Using SKLearn Libraries\n"
   ]
  },
  {
   "cell_type": "code",
   "execution_count": 12,
   "id": "2515c5cd",
   "metadata": {},
   "outputs": [
    {
     "name": "stdout",
     "output_type": "stream",
     "text": [
      "Training Set Score : 93.75 %\n",
      "Test Set Score : 89.47368421052632 %\n",
      "Model Classification Report : \n",
      "              precision    recall  f1-score   support\n",
      "\n",
      "         0.0       1.00      1.00      1.00        13\n",
      "         1.0       0.83      0.94      0.88        16\n",
      "         2.0       0.86      0.67      0.75         9\n",
      "\n",
      "    accuracy                           0.89        38\n",
      "   macro avg       0.90      0.87      0.88        38\n",
      "weighted avg       0.90      0.89      0.89        38\n",
      "\n"
     ]
    }
   ],
   "source": [
    "# Importing the required libraries\n",
    "from sklearn.neighbors import NearestCentroid\n",
    "from sklearn.metrics import classification_report\n",
    "from sklearn.model_selection import train_test_split\n",
    "import pandas as pd\n",
    " \n",
    "# Loading the dataset\n",
    "Data=df.values\n",
    "X=Data[:,:-1]\n",
    "y=Data[:,-1]\n",
    "\n",
    "# Splitting training and test data\n",
    "X_train, X_test, y_train, y_test = train_test_split(X, y, test_size = 0.25, shuffle = True, random_state = 0)\n",
    " \n",
    "# Creating the Nearest Centroid Classifier\n",
    "model = NearestCentroid()\n",
    "# Training the classifier\n",
    "\n",
    "# model.fit(X_train, y_train.values.ravel())  ## This has changed\n",
    "model.fit(X_train, y_train)  ## This has changed\n",
    "y_predict= model.predict(X_test)\n",
    "\n",
    "\n",
    "\n",
    "\n",
    "\n",
    "# Printing Accuracy on Training and Test sets\n",
    "print(f\"Training Set Score : {model.score(X_train, y_train) * 100} %\")\n",
    "print(f\"Test Set Score : {model.score(X_test, y_test) * 100} %\")\n",
    " \n",
    "# Printing classification report of classifier on the test set set data\n",
    "print(f\"Model Classification Report : \\n{classification_report(y_test,y_predict)}\")"
   ]
  },
  {
   "cell_type": "code",
   "execution_count": 22,
   "id": "4ecf0c22",
   "metadata": {},
   "outputs": [
    {
     "data": {
      "image/png": "[encoded data removed]",
      "text/plain": [
       "<Figure size 360x360 with 2 Axes>"
      ]
     },
     "metadata": {
      "needs_background": "light"
     },
     "output_type": "display_data"
    }
   ],
   "source": [
    "from sklearn.metrics import confusion_matrix\n",
    "\n",
    "confusion_mtx1 = confusion_matrix(y_test, y_predict)\n",
    "plot_confusion_matrix(confusion_mtx1, class_names)"
   ]
  },
  {
   "cell_type": "markdown",
   "id": "7aa3af49",
   "metadata": {},
   "source": [
    "# ROC & AUC"
   ]
  },
  {
   "cell_type": "code",
   "execution_count": 17,
   "id": "f1e8d469",
   "metadata": {
    "scrolled": true
   },
   "outputs": [
    {
     "data": {
      "image/png": "[encoded data removed]",
      "text/plain": [
       "<Figure size 432x288 with 1 Axes>"
      ]
     },
     "metadata": {
      "needs_background": "light"
     },
     "output_type": "display_data"
    }
   ],
   "source": [
    "from sklearn import metrics\n",
    "v=np.arange(0,1.05,0.1)\n",
    "##Class1 ROC\n",
    "yt=np.zeros(len(y_test))\n",
    "yp=np.zeros(len(y_test))\n",
    "yt\n",
    "for i in range(len(y_test)):\n",
    "    if y_test[i]==0:\n",
    "        yt[i]=1\n",
    "    else:\n",
    "        yt[i]=0 \n",
    "    if y_predict[i]==0:\n",
    "        yp[i]=1\n",
    "    else:\n",
    "        yp[i]=0 \n",
    "fpr, tpr, _ = metrics.roc_curve(yt,  yp)\n",
    "auc = metrics.roc_auc_score(yt, yp)\n",
    "plt.figure()\n",
    "plt.plot(fpr,tpr,label=\"data 1, auc=\"+str(auc))\n",
    "plt.plot(v,v,'r--')\n",
    "plt.legend(loc=4)\n",
    "plt.title('ROC of Class 1')\n",
    "plt.xlabel('Hit')\n",
    "plt.ylabel('Fasle Alarm')\n",
    "plt.show()        "
   ]
  },
  {
   "cell_type": "code",
   "execution_count": 20,
   "id": "3a9fa0b1",
   "metadata": {},
   "outputs": [
    {
     "data": {
      "image/png": "[encoded data removed]",
      "text/plain": [
       "<Figure size 432x288 with 1 Axes>"
      ]
     },
     "metadata": {
      "needs_background": "light"
     },
     "output_type": "display_data"
    }
   ],
   "source": [
    "##Class1 ROC\n",
    "yt=np.zeros(len(y_test))\n",
    "yp=np.zeros(len(y_test))\n",
    "yt\n",
    "for i in range(len(y_test)):\n",
    "    if y_test[i]==1:\n",
    "        yt[i]=1\n",
    "    else:\n",
    "        yt[i]=0 \n",
    "    if y_predict[i]==1:\n",
    "        yp[i]=1\n",
    "    else:\n",
    "        yp[i]=0 \n",
    "fpr, tpr, _ = metrics.roc_curve(yt,yp)\n",
    "auc = metrics.roc_auc_score(yt, yp).astype(\"f\")\n",
    "plt.figure()\n",
    "plt.plot(fpr,tpr,label=\"data 1, auc=\"+str(auc))\n",
    "plt.plot(v,v,'r--')\n",
    "plt.legend(loc=4)\n",
    "plt.title('ROC of Class 2')\n",
    "plt.xlabel('Hit')\n",
    "plt.ylabel('Fasle Alarm')\n",
    "plt.show()       "
   ]
  },
  {
   "cell_type": "code",
   "execution_count": 21,
   "id": "a66a8f2a",
   "metadata": {},
   "outputs": [
    {
     "data": {
      "image/png": "[encoded data removed]",
      "text/plain": [
       "<Figure size 432x288 with 1 Axes>"
      ]
     },
     "metadata": {
      "needs_background": "light"
     },
     "output_type": "display_data"
    }
   ],
   "source": [
    "##Class1 ROC\n",
    "yt=np.zeros(len(y_test))\n",
    "yp=np.zeros(len(y_test))\n",
    "yt\n",
    "for i in range(len(y_test)):\n",
    "    if y_test[i]==2:\n",
    "        yt[i]=1\n",
    "    else:\n",
    "        yt[i]=0 \n",
    "    if y_predict[i]==2:\n",
    "        yp[i]=1\n",
    "    else:\n",
    "        yp[i]=0 \n",
    "fpr, tpr, _ = metrics.roc_curve(yt,yp)\n",
    "auc = metrics.roc_auc_score(yt, yp).astype(\"f\")\n",
    "plt.figure()\n",
    "plt.plot(fpr,tpr,label=\"data 1, auc=\"+str(auc))\n",
    "plt.plot(v,v,'r--')\n",
    "plt.legend(loc=4)\n",
    "plt.title('ROC of Class 3')\n",
    "plt.xlabel('Hit')\n",
    "plt.ylabel('Fasle Alarm')\n",
    "plt.show()   "
   ]
  }
 ],
 "metadata": {
  "kernelspec": {
   "display_name": "Python 3",
   "language": "python",
   "name": "python3"
  },
  "language_info": {
   "codemirror_mode": {
    "name": "ipython",
    "version": 3
   },
   "file_extension": ".py",
   "mimetype": "text/x-python",
   "name": "python",
   "nbconvert_exporter": "python",
   "pygments_lexer": "ipython3",
   "version": "3.7.10"
  }
 },
 "nbformat": 4,
 "nbformat_minor": 5
}
