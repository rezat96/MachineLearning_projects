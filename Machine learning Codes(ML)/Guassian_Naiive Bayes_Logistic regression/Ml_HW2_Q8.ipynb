{
 "cells": [
  {
   "cell_type": "code",
   "execution_count": 289,
   "id": "184b6341",
   "metadata": {},
   "outputs": [],
   "source": [
    "# Python ≥3.5 is required\n",
    "import sys\n",
    "assert sys.version_info >= (3, 5)\n",
    " \n",
    "# Scikit-Learn ≥0.20 is required\n",
    "import sklearn\n",
    "assert sklearn.__version__ >= \"0.20\"\n",
    " \n",
    "# Common imports\n",
    "import numpy as np\n",
    "import pandas as pd\n",
    "import os\n",
    "from sklearn.model_selection import train_test_split\n",
    "from sklearn.preprocessing import MinMaxScaler\n",
    "# to make this notebook's output stable across runs\n",
    "np.random.seed(42)\n",
    " \n",
    "# To plot pretty figures\n",
    "# %matplotlib inline\n",
    "import matplotlib as mpl\n",
    "import matplotlib.pyplot as plt\n",
    "mpl.rc('axes', labelsize=14)\n",
    "mpl.rc('xtick', labelsize=12)\n",
    "mpl.rc('ytick', labelsize=12)"
   ]
  },
  {
   "cell_type": "markdown",
   "id": "b8daf02d",
   "metadata": {},
   "source": [
    "# Preprocess"
   ]
  },
  {
   "cell_type": "code",
   "execution_count": 290,
   "id": "c46561b7",
   "metadata": {},
   "outputs": [
    {
     "data": {
      "text/plain": [
       "array([[ 5.12670000e-02,  6.99560000e-01,  2.62830529e-03, ...,\n",
       "         4.40352691e-04,  6.00879959e-03,  8.19926237e-02],\n",
       "       [-9.27420000e-02,  6.84940000e-01,  8.60107856e-03, ...,\n",
       "         1.29662850e-03, -9.57616530e-03,  7.07241450e-02],\n",
       "       [-2.13710000e-01,  6.92250000e-01,  4.56719641e-02, ...,\n",
       "         7.26046625e-03, -2.35181216e-02,  7.61799619e-02],\n",
       "       ...,\n",
       "       [-4.84450000e-01,  9.99270000e-01,  2.34691802e-01, ...,\n",
       "         2.33836427e-01, -4.82331978e-01,  9.94901177e-01],\n",
       "       [-6.33640000e-03,  9.99270000e-01,  4.01499650e-05, ...,\n",
       "         4.00036314e-05, -6.30869717e-03,  9.94901177e-01],\n",
       "       [ 6.32650000e-01, -3.06120000e-02,  4.00246023e-01, ...,\n",
       "        -1.07593379e-08,  5.20611480e-10, -2.51907984e-11]])"
      ]
     },
     "execution_count": 290,
     "metadata": {},
     "output_type": "execute_result"
    }
   ],
   "source": [
    "PATH_TO_DATA = r\"C:\\Users\\Reza\\quality_test.csv\"\n",
    "df= pd.read_csv(PATH_TO_DATA,header=None)\n",
    "Data=df.values\n",
    "x1=Data[:,0].reshape(-1,1)\n",
    "n=Data.shape[0]\n",
    "x2=Data[:,1].reshape(-1,1)\n",
    "y=Data[:,2].reshape(-1,1)\n",
    "\n",
    "\n",
    "# Defining the function\n",
    "def Fx(x1,x2):\n",
    "    fX=np.concatenate((x1,x2,x1*x1,x1*x2,x2*x2,x1*x1*x1,x1*x1*x2,x1*x2*x2,x2*x2*x2,x1*x1*x1*x1,x1*x1*x1*x2,x1*x1*x2*x2,x1*x2*x2*x2,x2*x2*x2*x2,x1*x1*x1*x1*x1,x1*x1*x1*x1*x2,x1*x1*x1*x2*x2,x1*x1*x2*x2*x2,x1*x2*x2*x2*x2,x2*x2*x2*x2*x2,x1*x1*x1*x1*x1*x1,x1*x1*x1*x1*x1*x2,x1*x1*x1*x1*x2*x2,x1*x1*x1*x2*x2*x2,x1*x1*x2*x2*x2*x2,x1*x2*x2*x2*x2*x2,x2*x2*x2*x2*x2*x2,x1*x1*x1*x1*x1*x1*x1,x1*x1*x1*x1*x1*x1*x2,x1*x1*x1*x1*x1*x2*x2,x1*x1*x1*x1*x2*x2*x2,x1*x1*x1*x2*x2*x2*x2,x1*x1*x2*x2*x2*x2*x2,x1*x2*x2*x2*x2*x2*x2,x2*x2*x2*x2*x2*x2*x2), axis=1)\n",
    "    return fX\n",
    "fX=Fx(x1,x2)\n",
    "fX"
   ]
  },
  {
   "cell_type": "code",
   "execution_count": 291,
   "id": "978294d7",
   "metadata": {},
   "outputs": [],
   "source": [
    "#Normalising The data\n",
    "xScaler = MinMaxScaler().fit(fX);        #This has changed\n",
    "X = xScaler.transform(fX)"
   ]
  },
  {
   "cell_type": "markdown",
   "id": "a680a9d2",
   "metadata": {},
   "source": [
    "# Logistic Regression"
   ]
  },
  {
   "cell_type": "code",
   "execution_count": 292,
   "id": "13da1d80",
   "metadata": {},
   "outputs": [],
   "source": [
    "from sklearn.linear_model import LogisticRegression\n",
    "clf = LogisticRegression(random_state=42).fit(X, y.ravel())"
   ]
  },
  {
   "cell_type": "code",
   "execution_count": 293,
   "id": "5c4f3ed5",
   "metadata": {},
   "outputs": [
    {
     "data": {
      "text/plain": [
       "array([[ 0.66021225,  1.27313601, -1.70424824, -0.8375114 , -1.179952  ,\n",
       "         0.1363854 ,  0.08281342, -0.19892954, -0.05974832, -1.23533471,\n",
       "        -0.06879853, -0.97460106, -0.24884005, -1.04634876, -0.17559794,\n",
       "        -0.09784644,  0.06836711, -0.22320867, -0.26995916, -0.41212846,\n",
       "        -0.8455278 ,  0.0711784 , -0.82899775,  0.0668097 , -0.72653501,\n",
       "        -0.12490843, -0.79757329, -0.27448561, -0.10480687, -0.02362927,\n",
       "        -0.23372   , -0.02356339, -0.28098039, -0.17746705, -0.47035075]])"
      ]
     },
     "execution_count": 293,
     "metadata": {},
     "output_type": "execute_result"
    }
   ],
   "source": [
    "y_pred = clf.predict(X)\n",
    "weight = clf.coef_ \n",
    "## Getting the Weights and bias in logistic Regression\n",
    "weight"
   ]
  },
  {
   "cell_type": "code",
   "execution_count": 294,
   "id": "c5f13d26",
   "metadata": {},
   "outputs": [
    {
     "name": "stdout",
     "output_type": "stream",
     "text": [
      "The accuracy of model is 0.81\n"
     ]
    }
   ],
   "source": [
    "from sklearn.metrics import accuracy_score\n",
    "print(\"The accuracy of model is {0:0.2f}\".format(accuracy_score(y, y_pred)))"
   ]
  },
  {
   "cell_type": "markdown",
   "id": "7808c954",
   "metadata": {},
   "source": [
    "#  Final Plot\n"
   ]
  },
  {
   "cell_type": "code",
   "execution_count": 295,
   "id": "f5ff58c7",
   "metadata": {},
   "outputs": [
    {
     "data": {
      "image/png": "[encoded data removed]",
      "text/plain": [
       "<Figure size 432x288 with 1 Axes>"
      ]
     },
     "metadata": {
      "needs_background": "light"
     },
     "output_type": "display_data"
    },
    {
     "name": "stdout",
     "output_type": "stream",
     "text": [
      "The accuracy of model is 0.81\n"
     ]
    }
   ],
   "source": [
    "for i in range (len(y_pred)):\n",
    "    if y[i]==1:\n",
    "        plt.plot(x1[i],x2[i],'bo')\n",
    "    else:\n",
    "        plt.plot(x1[i],x2[i], 'yo')\n",
    "        \n",
    "delta = 0.025\n",
    "xrange = np.arange(-1.5, 1.5, delta)\n",
    "yrange = np.arange(-1.5, 1.5, delta)\n",
    "X, Y = np.meshgrid(xrange,yrange)\n",
    "## Estimation by its first 15 Weights\n",
    "F=0.66*X+1.27*Y-1.74*X**2-0.84*X*Y-1.18*Y**2+0.13*(X**3)+0.08*X*X*Y-0.2*X*Y*Y-0.06*Y**3-1.23*X**4-0.07*X*X*X*Y-0.97*X*X*Y*Y+0.25*X*Y*Y*Y-1.05*Y**2+1.05\n",
    "plt.contour(X, Y, F, [0])\n",
    "plt.title(\"Logistic Reggression Result\")\n",
    "plt.xlabel(\"X1\")\n",
    "plt.ylabel(\"X2\")\n",
    "plt.show()   \n",
    "print(\"The accuracy of model is {0:0.2f}\".format(accuracy_score(y, y_pred)))"
   ]
  }
 ],
 "metadata": {
  "kernelspec": {
   "display_name": "Python 3",
   "language": "python",
   "name": "python3"
  },
  "language_info": {
   "codemirror_mode": {
    "name": "ipython",
    "version": 3
   },
   "file_extension": ".py",
   "mimetype": "text/x-python",
   "name": "python",
   "nbconvert_exporter": "python",
   "pygments_lexer": "ipython3",
   "version": "3.7.10"
  }
 },
 "nbformat": 4,
 "nbformat_minor": 5
}
