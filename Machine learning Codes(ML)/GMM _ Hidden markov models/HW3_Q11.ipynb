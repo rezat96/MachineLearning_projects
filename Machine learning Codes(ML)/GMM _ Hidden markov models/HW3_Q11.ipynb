{
 "cells": [
  {
   "cell_type": "code",
   "execution_count": 1,
   "id": "96609011",
   "metadata": {},
   "outputs": [],
   "source": [
    "import numpy as np\n",
    "from hmmlearn import hmm\n",
    "    \n",
    "states = [\"Sunny\", \"rainy\",'snowy']\n",
    "n_states = len(states)\n",
    "\n",
    "observations = [\"T_shirt\", \"Coat\", \"Umbrella\"]\n",
    "n_observations = len(observations)"
   ]
  },
  {
   "cell_type": "markdown",
   "id": "b501dfc0",
   "metadata": {},
   "source": [
    "# Part A"
   ]
  },
  {
   "cell_type": "code",
   "execution_count": 2,
   "id": "dd1ee5cb",
   "metadata": {},
   "outputs": [],
   "source": [
    "model = hmm.MultinomialHMM(n_components = n_states, init_params= \"\", params= \"\")\n",
    "\n",
    "model.startprob_ = np.array([0.33, 0.33,0.34])    #priors supposed equal\n",
    "\n",
    "\n",
    "#part A\n",
    "\n",
    "model.transmat_ = np.array([\n",
    "        [0.8,0.15,0.05], \n",
    "        [0.38,0.6,0.02],\n",
    "        [0.75,0.05,0.2]])   \n",
    "    \n",
    "model.emissionprob_ = np.array([\n",
    "        [0.6,0.3,0.1],\n",
    "        [0.05,0.3,0.65],\n",
    "        [0,0.5,0.5]\n",
    "        ])"
   ]
  },
  {
   "cell_type": "markdown",
   "id": "6e7bba39",
   "metadata": {},
   "source": [
    "# Part B"
   ]
  },
  {
   "cell_type": "markdown",
   "id": "45b38625",
   "metadata": {},
   "source": [
    "P(series)=p(sunny)*p(rainy/sunny)*p(rainy/rainy)*p(rainy/rainy)*p(sunny/rainy)p(sunny/sunny)=0.05"
   ]
  },
  {
   "cell_type": "code",
   "execution_count": 11,
   "id": "d1271b9a",
   "metadata": {},
   "outputs": [],
   "source": [
    "prior= np.array([0.33, 0.33,0.34])\n",
    "transmition= np.array([\n",
    "        [0.8,0.15,0.05], \n",
    "        [0.38,0.6,0.02],\n",
    "        [0.75,0.05,0.2]]) "
   ]
  },
  {
   "cell_type": "code",
   "execution_count": 42,
   "id": "9597eb00",
   "metadata": {
    "scrolled": true
   },
   "outputs": [
    {
     "name": "stdout",
     "output_type": "stream",
     "text": [
      "0.0495\n",
      "0.0297\n",
      "0.01782\n",
      "0.0067716\n",
      "0.00541728\n",
      "The calculated probability equals=0.0054:\n"
     ]
    }
   ],
   "source": [
    "series=np.array([0,1,1,1,0,0]) #for every delicate series of Q\n",
    "prob_a=prior[series[0]] #initial value0\n",
    "for k in range (len(series)-1):\n",
    "    j=series[k]\n",
    "    v=series[k+1]\n",
    "    prob_a=prob_a*transmition[j,v]\n",
    "    print(prob_a)\n",
    "print(\"The calculated probability equals=%.4f:\"% prob_a)\n",
    "\n",
    "# prob_a=prior[0]*transmition[0,1]*transmition[1,1]*transmition[1,1]*transmition[1,0]*transmition[0,0]\n",
    "# prob_a"
   ]
  },
  {
   "cell_type": "markdown",
   "id": "6b6ee382",
   "metadata": {},
   "source": [
    "# Part C"
   ]
  },
  {
   "cell_type": "code",
   "execution_count": 4,
   "id": "ec494ca9",
   "metadata": {},
   "outputs": [
    {
     "name": "stdout",
     "output_type": "stream",
     "text": [
      "Observation: [[1 1 2 2 0 2 1]]\n",
      "States: [1 1 1 1 0 0 0]\n",
      "Color of the shirt is: Coat, Coat, Umbrella, Umbrella, T_shirt, Umbrella, Coat\n",
      "States are: rainy, rainy, rainy, rainy, Sunny, Sunny, Sunny\n"
     ]
    }
   ],
   "source": [
    "# predict a sequence of hidden states based on visible states\n",
    "sto = np.array([[1,1,2,2,0,2,1]]).T\n",
    "\n",
    "model = model.fit(sto)\n",
    "logprob, hs = model.decode(sto, algorithm=\"viterbi\")\n",
    "print(\"Observation:\", sto.T)\n",
    "print(\"States:\", hs)\n",
    "\n",
    "print(\"Color of the shirt is:\", \", \".join(map(lambda x: observations[int(x)], sto)))\n",
    "print(\"States are:\", \", \".join(map(lambda x: states[int(x)], hs)))"
   ]
  }
 ],
 "metadata": {
  "kernelspec": {
   "display_name": "Python 3",
   "language": "python",
   "name": "python3"
  },
  "language_info": {
   "codemirror_mode": {
    "name": "ipython",
    "version": 3
   },
   "file_extension": ".py",
   "mimetype": "text/x-python",
   "name": "python",
   "nbconvert_exporter": "python",
   "pygments_lexer": "ipython3",
   "version": "3.7.10"
  }
 },
 "nbformat": 4,
 "nbformat_minor": 5
}
