{
 "cells": [
  {
   "cell_type": "code",
   "execution_count": 1,
   "id": "bb0cff42",
   "metadata": {
    "id": "bb0cff42"
   },
   "outputs": [],
   "source": [
    "import pandas as pd\n",
    "import numpy as np\n",
    "%matplotlib inline\n",
    "import matplotlib as mpl\n",
    "import matplotlib.pyplot as plt\n",
    "mpl.rc('axes', labelsize=14)\n",
    "mpl.rc('xtick', labelsize=12)\n",
    "mpl.rc('ytick', labelsize=12)\n",
    "import pickle5 as pickle\n",
    "import warnings\n",
    "warnings.filterwarnings(action=\"ignore\", message=\"^internal gelsd\")"
   ]
  },
  {
   "cell_type": "code",
   "execution_count": 2,
   "id": "8ca77613",
   "metadata": {
    "colab": {
     "base_uri": "https://localhost:8080/"
    },
    "id": "8ca77613",
    "outputId": "c12dfbc4-aa6a-41cb-c9da-3fe1baaee923"
   },
   "outputs": [
    {
     "name": "stdout",
     "output_type": "stream",
     "text": [
      "0.7.0\n"
     ]
    }
   ],
   "source": [
    "# check version number\n",
    "import imblearn\n",
    "print(imblearn.__version__)"
   ]
  },
  {
   "cell_type": "code",
   "execution_count": 3,
   "id": "9f5b8ac3",
   "metadata": {
    "id": "9f5b8ac3"
   },
   "outputs": [],
   "source": [
    "#Change to your path"
   ]
  },
  {
   "cell_type": "code",
   "execution_count": 4,
   "id": "x2lLw_G0x1kY",
   "metadata": {
    "colab": {
     "base_uri": "https://localhost:8080/"
    },
    "id": "x2lLw_G0x1kY",
    "outputId": "5e0df31c-2eaf-401c-8dcd-125f9e8b5b7b"
   },
   "outputs": [],
   "source": [
    "# !pip3 install pickle5\n",
    "# import pickle5 as pickle"
   ]
  },
  {
   "cell_type": "code",
   "execution_count": 5,
   "id": "J6Yw4apAUXRU",
   "metadata": {
    "colab": {
     "base_uri": "https://localhost:8080/"
    },
    "id": "J6Yw4apAUXRU",
    "outputId": "fd4f2910-e908-4ac7-fdf5-fdcee44affe1"
   },
   "outputs": [],
   "source": [
    "# from google.colab import drive\n",
    "# drive.mount('/content/drive')"
   ]
  },
  {
   "cell_type": "code",
   "execution_count": 6,
   "id": "c395a543",
   "metadata": {
    "id": "c395a543"
   },
   "outputs": [],
   "source": [
    "# path=r'/content/drive/MyDrive'\n",
    "path=r'E:\\University\\Tehran University_Arshad\\Terme 2\\Machine learning\\00Final Project'\n",
    "df=pickle.load(open(f\"{path}/ml_project_dataset.pkl\", \"rb\"))"
   ]
  },
  {
   "cell_type": "code",
   "execution_count": 7,
   "id": "d063fe0a",
   "metadata": {
    "id": "d063fe0a",
    "scrolled": true
   },
   "outputs": [],
   "source": [
    "Data=df.values\n",
    "# df"
   ]
  },
  {
   "cell_type": "code",
   "execution_count": 8,
   "id": "777ba150",
   "metadata": {
    "colab": {
     "base_uri": "https://localhost:8080/"
    },
    "id": "777ba150",
    "outputId": "b44bc0cf-f0ba-4782-bcb2-44ce12fbe67b",
    "scrolled": true
   },
   "outputs": [
    {
     "name": "stdout",
     "output_type": "stream",
     "text": [
      "512\n",
      "1536\n",
      "2304\n",
      "2560\n",
      "204\n"
     ]
    }
   ],
   "source": [
    "for i in range(5):\n",
    "    print(df['f'+str(i+1)][1000].shape[0])"
   ]
  },
  {
   "cell_type": "code",
   "execution_count": 9,
   "id": "UWQVxlfLyLu2",
   "metadata": {
    "colab": {
     "base_uri": "https://localhost:8080/"
    },
    "id": "UWQVxlfLyLu2",
    "outputId": "ceee635a-1804-4471-dfca-31da3f3b0f00"
   },
   "outputs": [
    {
     "name": "stdout",
     "output_type": "stream",
     "text": [
      "['F' 'Female' 'M' 'Male' 'female' 'm' 'male']\n",
      "['Female' 'Male']\n"
     ]
    }
   ],
   "source": [
    "#Arranging gender label\n",
    "print(np.unique(Data[ :,1]))\n",
    "Gender = Data[ : , 1]\n",
    "indices_f = [i for i, x in enumerate(Gender) if x == 'F' or x =='female' ]\n",
    "indices_m = [i for i, x in enumerate(Gender) if x == 'M' or x =='male' or x == 'm' ]\n",
    "\n",
    "for i in (indices_f): Gender[i] = 'Female'\n",
    "for i in (indices_m): Gender[i] = 'Male'\n",
    "Data[ : , 1] = Gender\n",
    "print(np.unique(Data[ : , 1]))  # Done"
   ]
  },
  {
   "cell_type": "code",
   "execution_count": 10,
   "id": "P2Zg21uHCHtx",
   "metadata": {
    "colab": {
     "base_uri": "https://localhost:8080/"
    },
    "id": "P2Zg21uHCHtx",
    "outputId": "1e7a29b0-b423-4174-fdbe-bf60126f3576",
    "scrolled": true
   },
   "outputs": [
    {
     "name": "stdout",
     "output_type": "stream",
     "text": [
      "['0040a40fde' '0041a40fde' '0042a40fde' '0043a40fde' '0044a40fde'\n",
      " '0045a40fde' '0046a40fde' '0047a40fde' '0048a40fde' '0049a40fde'\n",
      " '0050a40fde' '0051a40fde' '0052a40fde' '0053a40fde' '0054a40fde'\n",
      " '0d02ffb6f1' '0d02ffb6f10' '0d02ffb6f11' '0d02ffb6f12' '0d02ffb6f13'\n",
      " '0d02ffb6f14' '0d02ffb6f15' '0d02ffb6f2' '0d02ffb6f3' '0d02ffb6f4'\n",
      " '0d02ffb6f5' '0d02ffb6f6' '0d02ffb6f7' '0d02ffb6f8' '0d02ffb6f9'\n",
      " '597e0ee7bf' '598e0ee7bf' '599e0ee7bf' '600e0ee7bf' '601e0ee7bf'\n",
      " '602e0ee7bf' '603e0ee7bf' '604e0ee7bf' '605e0ee7bf' '606e0ee7bf'\n",
      " '607e0ee7bf' '608e0ee7bf' '609e0ee7bf' '610e0ee7bf' '611e0ee7bf'\n",
      " '77ae9e7a38' '77ae9e7a39' '77ae9e7a40' '77ae9e7a41' '77ae9e7a42'\n",
      " '77ae9e7a43' '77ae9e7a44' '77ae9e7a45' '77ae9e7a46' '77ae9e7a47'\n",
      " '77ae9e7a48' '77ae9e7a49' '77ae9e7a50' '77ae9e7a51' '77ae9e7a52' 'H'\n",
      " 'Happy' 'N' 'Neutral' 'Normal' 'S' 'Sad' 'happy' 'happy ' 'natural'\n",
      " 'neutral' 'sad']\n",
      "[18, 75, 126, 137, 148, 154, 185, 186, 209, 244, 254, 297, 327, 351, 355, 378, 380, 427, 452, 495, 562, 593, 621, 759, 764, 803, 815, 913, 956, 993, 1093, 1157, 1167, 1306, 1477, 1523, 1544, 1568, 1664, 1674, 1681, 1723, 1972, 1994, 2075, 2140, 2213, 2224, 2251, 2258, 2354, 2370, 2395, 2416, 2418, 2421, 2427, 2476, 2489, 2498]\n"
     ]
    }
   ],
   "source": [
    "#Arranging Status label\n",
    "print(np.unique(Data[ :,2]))\n",
    "status = Data[ : ,2]\n",
    "indices_S = [i for i, x in enumerate(status) if x == 'sad' or x =='S' ]\n",
    "indices_H = [i for i, x in enumerate(status) if x == 'H' or x =='happy' or x == 'happy ' ]\n",
    "indices_N = [i for i, x in enumerate(status) if x == 'N' or x =='Normal' or x =='natural'  or x=='neutral']\n",
    "\n",
    "for i in (indices_S): status[i] = 'Sad'\n",
    "for i in (indices_H): status[i] = 'Happy'\n",
    "for i in (indices_N): status[i] = 'Neutral'\n",
    "\n",
    "indices_fake =[i for i, x in enumerate(status) if x != 'Sad' and x !='Happy' and x!= 'Neutral' ]\n",
    "print(indices_fake)\n",
    "Data[ : , 2] = status"
   ]
  },
  {
   "cell_type": "code",
   "execution_count": 11,
   "id": "Jm3A1DvtWnv6",
   "metadata": {
    "id": "Jm3A1DvtWnv6"
   },
   "outputs": [],
   "source": [
    "#Removing fake datas\n",
    "Data = [Data[x , : ] for x in range(len(Data[: , 0])) if x not in (indices_fake)]\n",
    "Data = np.array(Data)"
   ]
  },
  {
   "cell_type": "code",
   "execution_count": 12,
   "id": "ApiXerCLSWcU",
   "metadata": {
    "colab": {
     "base_uri": "https://localhost:8080/"
    },
    "id": "ApiXerCLSWcU",
    "outputId": "0978ab23-1645-4e8e-e672-166864f35b52",
    "scrolled": true
   },
   "outputs": [
    {
     "name": "stdout",
     "output_type": "stream",
     "text": [
      "[5 6 7 8 9 10 11 12 14 16 17 18 19 20 21 22 23 24 25 26 27 28 29 30 31 32\n",
      " 33 34 35 38 40 44 46 47 49 50 51 52 54 55 56 57 58 59 60 62 82]\n",
      "['Female' 'Male']\n",
      "['Happy' 'Neutral' 'Sad']\n"
     ]
    }
   ],
   "source": [
    "print(np.unique(Data[ : , 0]))\n",
    "print(np.unique(Data[ : , 1]))\n",
    "print(np.unique(Data[ : , 2]))\n",
    "#All checked"
   ]
  },
  {
   "cell_type": "code",
   "execution_count": 13,
   "id": "6967611d",
   "metadata": {
    "id": "6967611d"
   },
   "outputs": [],
   "source": [
    "# Data.shape"
   ]
  },
  {
   "cell_type": "code",
   "execution_count": 14,
   "id": "n-l5fjLRaHHO",
   "metadata": {
    "colab": {
     "base_uri": "https://localhost:8080/"
    },
    "id": "n-l5fjLRaHHO",
    "outputId": "c78bec62-90ad-42f1-881c-0c5a76ce2ad0"
   },
   "outputs": [
    {
     "name": "stdout",
     "output_type": "stream",
     "text": [
      "846 851 848\n",
      "902 1643\n"
     ]
    }
   ],
   "source": [
    "#check biasing \n",
    "num_H = len( [i for i, x in enumerate(Data[ : , 2]) if x == 'Happy'])\n",
    "num_N = len( [i for i, x in enumerate(Data[ : , 2]) if x == 'Neutral'])\n",
    "num_S = len( [i for i, x in enumerate(Data[ : , 2]) if x == 'Sad'])\n",
    "print(num_H , num_N , num_S) # No need for upsampling\n",
    "\n",
    "num_f = len( [i for i, x in enumerate(Data[ : , 1]) if x == 'Female'])\n",
    "num_m = len( [i for i, x in enumerate(Data[ : , 1]) if x == 'Male'])\n",
    "print(num_f , num_m) #Need upsampling"
   ]
  },
  {
   "cell_type": "code",
   "execution_count": 15,
   "id": "ElAM_OrWfJ3S",
   "metadata": {
    "id": "ElAM_OrWfJ3S"
   },
   "outputs": [],
   "source": [
    "#Remove NANs\n",
    "f1 = list(Data[ : , 3])\n",
    "f2 = list(Data[ : , 4])\n",
    "f3 = list(Data[ : , 5])\n",
    "f4 = list(Data[ : , 6])\n",
    "f5 = list(Data[ : , 7])\n",
    "\n",
    "f1= np.array(f1)\n",
    "f2= np.array(f2)\n",
    "f3= np.array(f3)\n",
    "f4= np.array(f4)\n",
    "f5= np.array(f5)\n",
    "\n",
    "nan_f1 = np.argwhere(np.isnan(f1))\n",
    "nan_f2 = np.argwhere(np.isnan(f2))\n",
    "nan_f3 = np.argwhere(np.isnan(f3))\n",
    "nan_f4 = np.argwhere(np.isnan(f4))\n",
    "nan_f5 = np.argwhere(np.isnan(f5))\n",
    "\n",
    "#print(f1[ : , 2].shape)\n"
   ]
  },
  {
   "cell_type": "code",
   "execution_count": 16,
   "id": "7RM5uy7or3gl",
   "metadata": {
    "colab": {
     "base_uri": "https://localhost:8080/"
    },
    "id": "7RM5uy7or3gl",
    "outputId": "6e1bc04a-2944-4e38-e46b-bf3127bc7ede"
   },
   "outputs": [
    {
     "name": "stdout",
     "output_type": "stream",
     "text": [
      "[] [] [] [] []\n"
     ]
    }
   ],
   "source": [
    "col_meanf1 = np.nanmean(f1 , axis = 0)\n",
    "col_meanf2 = np.nanmean(f2 , axis = 0)\n",
    "col_meanf3 = np.nanmean(f3 , axis = 0)\n",
    "col_meanf4 = np.nanmean(f4 , axis = 0)\n",
    "col_meanf5 = np.nanmean(f5 , axis = 0)\n",
    "\n",
    "inds1 = np.where(np.isnan(f1))\n",
    "f1[inds1] = np.take(col_meanf1 , inds1[1])\n",
    "inds2 = np.where(np.isnan(f2))\n",
    "f2[inds2] = np.take(col_meanf2 , inds2[1])\n",
    "inds3 = np.where(np.isnan(f3))\n",
    "f3[inds3] = np.take(col_meanf3 , inds3[1])\n",
    "inds4 = np.where(np.isnan(f4))\n",
    "f4[inds4] = np.take(col_meanf4 , inds4[1])\n",
    "inds5 = np.where(np.isnan(f5))\n",
    "f5[inds5] = np.take(col_meanf5 , inds5[1])\n",
    "\n",
    "nan_f1 = np.argwhere(np.isnan(f1))\n",
    "nan_f2 = np.argwhere(np.isnan(f2))\n",
    "nan_f3 = np.argwhere(np.isnan(f3))\n",
    "nan_f4 = np.argwhere(np.isnan(f4))\n",
    "nan_f5 = np.argwhere(np.isnan(f5))\n",
    "\n",
    "print(nan_f1 , nan_f2 , nan_f3 , nan_f4 , nan_f5) #All checked     # Need to be more clean "
   ]
  },
  {
   "cell_type": "code",
   "execution_count": null,
   "id": "964bf471",
   "metadata": {
    "scrolled": true
   },
   "outputs": [],
   "source": [
    "# import seaborn as sns\n",
    "# df_new = pd.DataFrame(p[0],p[1]*10)\n",
    "# # df_new\n",
    "# sns.distplot(df_new[0], hist=True, kde=True, \n",
    "#              bins=int(180/15), color = 'darkblue', \n",
    "#              hist_kws={'edgecolor':'black'},\n",
    "#              kde_kws={'linewidth': 3})"
   ]
  },
  {
   "cell_type": "markdown",
   "id": "eeed2345",
   "metadata": {
    "id": "eeed2345"
   },
   "source": [
    "# Choose The Data"
   ]
  },
  {
   "cell_type": "code",
   "execution_count": 18,
   "id": "2753725d",
   "metadata": {},
   "outputs": [],
   "source": [
    "#inputsss\n",
    "inn=f3\n",
    "n_pc=6"
   ]
  },
  {
   "cell_type": "code",
   "execution_count": 19,
   "id": "cb687ca8",
   "metadata": {
    "colab": {
     "base_uri": "https://localhost:8080/"
    },
    "id": "cb687ca8",
    "outputId": "9e1e00c5-7792-4d09-e45e-c3fe31b264b8"
   },
   "outputs": [
    {
     "data": {
      "text/plain": [
       "((2545,), (2545, 2304))"
      ]
     },
     "execution_count": 19,
     "metadata": {},
     "output_type": "execute_result"
    }
   ],
   "source": [
    "x_data=inn.copy()\n",
    "y_data=Data[:,0].copy()         #Chnage this line to Gender & Status\n",
    "y_data.shape,x_data.shape"
   ]
  },
  {
   "cell_type": "code",
   "execution_count": 21,
   "id": "a17d76bb",
   "metadata": {
    "scrolled": false
   },
   "outputs": [
    {
     "data": {
      "text/plain": [
       "Text(0.5, 1.0, 'Age Distribution over the Dataset')"
      ]
     },
     "execution_count": 21,
     "metadata": {},
     "output_type": "execute_result"
    },
    {
     "data": {
      "image/png": "[encoded data removed]",
      "text/plain": [
       "<Figure size 720x504 with 1 Axes>"
      ]
     },
     "metadata": {
      "needs_background": "light"
     },
     "output_type": "display_data"
    }
   ],
   "source": [
    "p=np.unique(y_data,return_counts=True)\n",
    "p[0].shape,p[1].shape\n",
    "plt.figure(figsize=(10,7))\n",
    "plt.bar(p[0],p[1]/2545)\n",
    "\n",
    "plt.xlabel('Age')\n",
    "plt.ylabel('Percentage')\n",
    "plt.title('Age Distribution over the Dataset')"
   ]
  },
  {
   "cell_type": "code",
   "execution_count": 22,
   "id": "dbff768a",
   "metadata": {
    "id": "dbff768a"
   },
   "outputs": [],
   "source": [
    "# split the dataset into train and test for \n",
    "from sklearn.model_selection import train_test_split\n",
    "x_train, x_test, y_train, y_test = train_test_split(x_data, y_data, test_size=0.25, random_state=40)"
   ]
  },
  {
   "cell_type": "code",
   "execution_count": 23,
   "id": "1f50bcbe",
   "metadata": {
    "id": "1f50bcbe"
   },
   "outputs": [],
   "source": [
    "y_true=y_test.copy()"
   ]
  },
  {
   "cell_type": "code",
   "execution_count": 24,
   "id": "695f73b7",
   "metadata": {
    "id": "695f73b7"
   },
   "outputs": [],
   "source": [
    "# normalize the dataset\n",
    "from sklearn.preprocessing import StandardScaler, MinMaxScaler\n",
    "sc = StandardScaler()\n",
    "# sc = MinMaxScaler()\n",
    "x_train = sc.fit_transform(x_train)\n",
    "x_test = sc.transform(x_test)"
   ]
  },
  {
   "cell_type": "code",
   "execution_count": 25,
   "id": "f4fbb01b",
   "metadata": {
    "id": "f4fbb01b"
   },
   "outputs": [],
   "source": [
    "# x_train,x_test"
   ]
  },
  {
   "cell_type": "code",
   "execution_count": 26,
   "id": "51c4a5a4",
   "metadata": {
    "id": "51c4a5a4"
   },
   "outputs": [],
   "source": [
    "scalar=MinMaxScaler()\n",
    "y_train=scalar.fit_transform(y_train.reshape(-1, 1))\n",
    "y_test=scalar.transform(y_test.reshape(-1, 1))"
   ]
  },
  {
   "cell_type": "markdown",
   "id": "8f10241a",
   "metadata": {
    "id": "8f10241a"
   },
   "source": [
    "# PCA\n"
   ]
  },
  {
   "cell_type": "code",
   "execution_count": 27,
   "id": "f9419d7c",
   "metadata": {
    "id": "f9419d7c",
    "scrolled": false
   },
   "outputs": [
    {
     "data": {
      "text/plain": [
       "<Figure size 432x288 with 0 Axes>"
      ]
     },
     "metadata": {},
     "output_type": "display_data"
    },
    {
     "data": {
      "image/png": "[encoded data removed]",
      "text/plain": [
       "<Figure size 576x504 with 1 Axes>"
      ]
     },
     "metadata": {
      "needs_background": "light"
     },
     "output_type": "display_data"
    },
    {
     "data": {
      "text/plain": [
       "0.9659676512051654"
      ]
     },
     "execution_count": 27,
     "metadata": {},
     "output_type": "execute_result"
    }
   ],
   "source": [
    "# for f3\n",
    "import matplotlib.pyplot as plt\n",
    "from sklearn.decomposition import PCA\n",
    "\n",
    "pca = PCA(n_components=100)\n",
    "principalComponentsf = pca.fit_transform(f3)\n",
    "\n",
    "xs = np.array(range(1,101))\n",
    "plt.figure()\n",
    "plt.figure(figsize=(8,7))\n",
    "plt.xticks(fontsize=12)\n",
    "plt.yticks(fontsize=14)\n",
    "plt.plot(xs, pca.explained_variance_ratio_) # to see principle ones    #####  50 is enough\n",
    "plt.xlabel('Principal Component',fontsize=15)\n",
    "plt.ylabel('Covered Variance by this PC',fontsize=15)\n",
    "plt.title(\"Explained variation per principal component f3\",fontsize=20)\n",
    "plt.show()\n",
    "np.sum(pca.explained_variance_ratio_[:40])"
   ]
  },
  {
   "cell_type": "code",
   "execution_count": 28,
   "id": "7462c3db",
   "metadata": {},
   "outputs": [],
   "source": [
    "# np.sum(pca.explained_variance_ratio_[:15])"
   ]
  },
  {
   "cell_type": "code",
   "execution_count": 29,
   "id": "0db072f6",
   "metadata": {
    "id": "0db072f6"
   },
   "outputs": [],
   "source": [
    "from sklearn.decomposition import PCA\n",
    "pca = PCA(n_components=n_pc)\n",
    "x_train = pca.fit_transform(x_train)\n",
    "x_test = pca.fit_transform(x_test)"
   ]
  },
  {
   "cell_type": "code",
   "execution_count": 30,
   "id": "1f080003",
   "metadata": {
    "colab": {
     "base_uri": "https://localhost:8080/"
    },
    "id": "1f080003",
    "outputId": "ecd905c7-a562-44ba-a1d5-74359b2e4ba5",
    "scrolled": true
   },
   "outputs": [
    {
     "data": {
      "text/plain": [
       "((1908, 6), (637, 6))"
      ]
     },
     "execution_count": 30,
     "metadata": {},
     "output_type": "execute_result"
    }
   ],
   "source": [
    "x_train.shape,x_test.shape"
   ]
  },
  {
   "cell_type": "markdown",
   "id": "aea93895",
   "metadata": {
    "id": "aea93895"
   },
   "source": [
    "# SVR With Gridseach"
   ]
  },
  {
   "cell_type": "code",
   "execution_count": 31,
   "id": "c_qL7bQq4HhJ",
   "metadata": {
    "colab": {
     "base_uri": "https://localhost:8080/"
    },
    "id": "c_qL7bQq4HhJ",
    "outputId": "9c8a7fae-6f28-4ea6-d3e9-e682ed6f77a0"
   },
   "outputs": [
    {
     "name": "stdout",
     "output_type": "stream",
     "text": [
      "R squared metric for the model is: 0.6371133626363061\n",
      "best parameters of the model are: {'SVM__C': 1, 'SVM__epsilon': 0.04, 'SVM__gamma': 0.1}\n"
     ]
    }
   ],
   "source": [
    "from sklearn.pipeline import Pipeline\n",
    "from sklearn import svm\n",
    "from sklearn.model_selection import GridSearchCV\n",
    "pipe_svr = Pipeline([('scaler', StandardScaler()), ('SVM', svm.SVR(kernel = 'rbf'))])  #StandardScaler\n",
    "parameteres_svr = {'SVM__C':[1], 'SVM__gamma':[0.1,0.15]\n",
    "              ,'SVM__epsilon':[0.04]}\n",
    "model_SVR = GridSearchCV(pipe_svr, param_grid=parameteres_svr, cv=2)\n",
    "model_SVR.fit(x_train, y_train.ravel())\n",
    "print ('R squared metric for the model is:',abs(model_SVR.score(x_test,y_test)))\n",
    "print ('best parameters of the model are:',model_SVR.best_params_)"
   ]
  },
  {
   "cell_type": "code",
   "execution_count": 32,
   "id": "a2ee3ba9",
   "metadata": {},
   "outputs": [],
   "source": [
    "h=np.where((y_true>65))[0].tolist()\n",
    "v=np.where((y_true<17))[0].tolist()\n",
    "gg=np.concatenate((h,v),axis=None).reshape(-1,1)\n",
    "\n",
    "x_test_new=np.delete(x_test, gg, 0)\n",
    "y_test_new=np.delete(y_test, gg, 0)\n",
    "y_true_new=np.delete(y_true, gg, 0)\n",
    "# x_test.shape"
   ]
  },
  {
   "cell_type": "code",
   "execution_count": 33,
   "id": "e45cd4be",
   "metadata": {},
   "outputs": [],
   "source": [
    "y_pred1=model_SVR.predict(x_test_new)             #check this line\n",
    "y_pred=scalar.inverse_transform(y_pred1.reshape(-1,1))"
   ]
  },
  {
   "cell_type": "code",
   "execution_count": 34,
   "id": "035524d5",
   "metadata": {
    "scrolled": true
   },
   "outputs": [
    {
     "name": "stdout",
     "output_type": "stream",
     "text": [
      "62.44873544704016\n",
      "5.015787391489767\n"
     ]
    }
   ],
   "source": [
    "from sklearn.metrics import mean_squared_error,mean_absolute_error\n",
    "print(mean_squared_error(y_true_new,y_pred))\n",
    "print(mean_absolute_error(y_true_new,y_pred))"
   ]
  },
  {
   "cell_type": "code",
   "execution_count": 35,
   "id": "2f454c7f",
   "metadata": {},
   "outputs": [
    {
     "data": {
      "text/plain": [
       "<matplotlib.legend.Legend at 0x28d480ddac8>"
      ]
     },
     "execution_count": 35,
     "metadata": {},
     "output_type": "execute_result"
    },
    {
     "data": {
      "image/png": "[encoded data removed]",
      "text/plain": [
       "<Figure size 792x360 with 1 Axes>"
      ]
     },
     "metadata": {
      "needs_background": "light"
     },
     "output_type": "display_data"
    }
   ],
   "source": [
    "plt.figure(figsize=(11,5))\n",
    "a=np.random.randint(1,500,20)   #generate 20 random test numbersto show\n",
    "plt.plot(y_true_new[a],'o',label='Real')\n",
    "plt.plot(abs(y_pred[a]),'^',label='Predicted')\n",
    "plt.title('Real and Predicted Age of 20 random data points')\n",
    "plt.ylabel('Age')\n",
    "plt.xlabel('Data points')\n",
    "plt.legend()"
   ]
  },
  {
   "cell_type": "markdown",
   "id": "7K3fGssDV1g-",
   "metadata": {
    "id": "7K3fGssDV1g-"
   },
   "source": [
    "# Polynomial"
   ]
  },
  {
   "cell_type": "code",
   "execution_count": 36,
   "id": "neyOygB2V0gK",
   "metadata": {
    "id": "neyOygB2V0gK"
   },
   "outputs": [
    {
     "name": "stdout",
     "output_type": "stream",
     "text": [
      "R squared metric for the model is: 0.593062402465392\n"
     ]
    }
   ],
   "source": [
    "from sklearn.preprocessing import PolynomialFeatures\n",
    "from sklearn.pipeline import make_pipeline\n",
    "from sklearn.linear_model import LinearRegression,SGDRegressor\n",
    "degree=3\n",
    "polyreg=make_pipeline(PolynomialFeatures(degree),LinearRegression())        #SGDRegressor\n",
    "polyreg.fit(x_train,y_train)\n",
    "print ('R squared metric for the model is:',polyreg.score(x_test,y_test))"
   ]
  },
  {
   "cell_type": "code",
   "execution_count": 37,
   "id": "W7J8TV6tV0dg",
   "metadata": {
    "id": "W7J8TV6tV0dg"
   },
   "outputs": [],
   "source": [
    "y_pred1=polyreg.predict(x_test)             #check this line\n",
    "y_pred=scalar.inverse_transform(y_pred1.reshape(-1,1))"
   ]
  },
  {
   "cell_type": "code",
   "execution_count": 38,
   "id": "84ac18d4",
   "metadata": {
    "colab": {
     "base_uri": "https://localhost:8080/"
    },
    "id": "84ac18d4",
    "outputId": "f3f81f02-d36b-4849-9d12-1808bfc4a895"
   },
   "outputs": [
    {
     "name": "stdout",
     "output_type": "stream",
     "text": [
      "90.87122775153487\n",
      "6.521419809101156\n"
     ]
    }
   ],
   "source": [
    "from sklearn.metrics import mean_squared_error,mean_absolute_error\n",
    "print(mean_squared_error(y_true,y_pred))\n",
    "print(mean_absolute_error(y_true,y_pred))"
   ]
  },
  {
   "cell_type": "code",
   "execution_count": 39,
   "id": "68303ee6",
   "metadata": {
    "colab": {
     "base_uri": "https://localhost:8080/",
     "height": 337
    },
    "id": "68303ee6",
    "outputId": "31388b44-0448-4f60-e419-33451aac7064",
    "scrolled": true
   },
   "outputs": [
    {
     "data": {
      "text/plain": [
       "<matplotlib.legend.Legend at 0x28d52fcbf08>"
      ]
     },
     "execution_count": 39,
     "metadata": {},
     "output_type": "execute_result"
    },
    {
     "data": {
      "image/png": "[encoded data removed]",
      "text/plain": [
       "<Figure size 792x360 with 1 Axes>"
      ]
     },
     "metadata": {
      "needs_background": "light"
     },
     "output_type": "display_data"
    }
   ],
   "source": [
    "plt.figure(figsize=(11,5))\n",
    "a=np.random.randint(1,500,20)   #generate 20 random test numbersto show\n",
    "plt.plot(y_true[a],'o',label='Real')\n",
    "plt.plot(abs(y_pred[a]),'^',label='Predicted')\n",
    "plt.title('Real and Predicted Age of 20 random data points')\n",
    "plt.ylabel('Age')\n",
    "plt.xlabel('Data points')\n",
    "plt.legend()"
   ]
  }
 ],
 "metadata": {
  "colab": {
   "collapsed_sections": [
    "d49fd9ab"
   ],
   "name": "Copy of ML_Project_Reggression_BestResult.ipynb",
   "provenance": []
  },
  "kernelspec": {
   "display_name": "Python 3",
   "language": "python",
   "name": "python3"
  },
  "language_info": {
   "codemirror_mode": {
    "name": "ipython",
    "version": 3
   },
   "file_extension": ".py",
   "mimetype": "text/x-python",
   "name": "python",
   "nbconvert_exporter": "python",
   "pygments_lexer": "ipython3",
   "version": "3.7.10"
  }
 },
 "nbformat": 4,
 "nbformat_minor": 5
}
