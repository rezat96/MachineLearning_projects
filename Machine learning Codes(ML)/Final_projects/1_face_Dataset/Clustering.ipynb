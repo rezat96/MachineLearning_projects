{
 "cells": [
  {
   "cell_type": "code",
   "execution_count": 1,
   "metadata": {
    "id": "W1VvpArCL7mr"
   },
   "outputs": [
    {
     "name": "stdout",
     "output_type": "stream",
     "text": [
      "Requirement already satisfied: pyclustertend in g:\\anaconda\\lib\\site-packages (1.4.9)\n"
     ]
    }
   ],
   "source": [
    "!pip install pyclustertend"
   ]
  },
  {
   "cell_type": "code",
   "execution_count": 2,
   "metadata": {
    "id": "hNbkncZnMkyZ"
   },
   "outputs": [
    {
     "name": "stdout",
     "output_type": "stream",
     "text": [
      "Requirement already satisfied: pickle5 in g:\\anaconda\\lib\\site-packages (0.0.11)\n"
     ]
    }
   ],
   "source": [
    "!pip install pickle5"
   ]
  },
  {
   "cell_type": "code",
   "execution_count": 3,
   "metadata": {
    "id": "Hl_xQ0lmMovj"
   },
   "outputs": [],
   "source": [
    "import pandas as pd\n",
    "import numpy as np\n",
    "from sklearn import metrics\n",
    "# To plot pretty figures\n",
    "%matplotlib inline\n",
    "import matplotlib as mpl\n",
    "import matplotlib.pyplot as plt\n",
    "mpl.rc('axes', labelsize=14)\n",
    "mpl.rc('xtick', labelsize=12)\n",
    "mpl.rc('ytick', labelsize=12)\n",
    "import pickle5 as pickle"
   ]
  },
  {
   "cell_type": "code",
   "execution_count": 4,
   "metadata": {
    "colab": {
     "base_uri": "https://localhost:8080/"
    },
    "id": "rGqFwOpCMr6q",
    "outputId": "a37fbb3a-0ede-4f31-c314-7145f67be150"
   },
   "outputs": [],
   "source": [
    "# from google.colab import drive\n",
    "# drive.mount('/content/drive')"
   ]
  },
  {
   "cell_type": "markdown",
   "metadata": {},
   "source": [
    "# Data & preprocessing"
   ]
  },
  {
   "cell_type": "code",
   "execution_count": 5,
   "metadata": {
    "id": "wOJ5Ep4VM0j7"
   },
   "outputs": [],
   "source": [
    "# path=r'/content/drive/MyDrive'\n",
    "path=r'E:\\University\\Tehran University_Arshad\\Terme 2\\Machine learning\\00Final Project'\n",
    "df=pickle.load(open(f\"{path}/ml_project_dataset.pkl\", \"rb\"))"
   ]
  },
  {
   "cell_type": "code",
   "execution_count": 6,
   "metadata": {
    "id": "KxOtDYexM4aU"
   },
   "outputs": [],
   "source": [
    "Data=df.values"
   ]
  },
  {
   "cell_type": "code",
   "execution_count": 7,
   "metadata": {
    "colab": {
     "base_uri": "https://localhost:8080/"
    },
    "id": "Ir29ncjDM8Ub",
    "outputId": "8dded78a-4cd8-43fd-a431-1de13e46a2e4"
   },
   "outputs": [
    {
     "name": "stdout",
     "output_type": "stream",
     "text": [
      "['F' 'Female' 'M' 'Male' 'female' 'm' 'male']\n",
      "['Female' 'Male']\n"
     ]
    }
   ],
   "source": [
    "#Arranging gender label\n",
    "print(np.unique(Data[ :,1]))\n",
    "Gender = Data[ : , 1]\n",
    "indices_f = [i for i, x in enumerate(Gender) if x == 'F' or x =='female' ]\n",
    "indices_m = [i for i, x in enumerate(Gender) if x == 'M' or x =='male' or x == 'm' ]\n",
    "\n",
    "for i in (indices_f): Gender[i] = 'Female'\n",
    "for i in (indices_m): Gender[i] = 'Male'\n",
    "Data[ : , 1] = Gender\n",
    "print(np.unique(Data[ : , 1]))  # Done"
   ]
  },
  {
   "cell_type": "code",
   "execution_count": 8,
   "metadata": {
    "id": "qjOF93K2NDs6"
   },
   "outputs": [
    {
     "name": "stdout",
     "output_type": "stream",
     "text": [
      "['0040a40fde' '0041a40fde' '0042a40fde' '0043a40fde' '0044a40fde'\n",
      " '0045a40fde' '0046a40fde' '0047a40fde' '0048a40fde' '0049a40fde'\n",
      " '0050a40fde' '0051a40fde' '0052a40fde' '0053a40fde' '0054a40fde'\n",
      " '0d02ffb6f1' '0d02ffb6f10' '0d02ffb6f11' '0d02ffb6f12' '0d02ffb6f13'\n",
      " '0d02ffb6f14' '0d02ffb6f15' '0d02ffb6f2' '0d02ffb6f3' '0d02ffb6f4'\n",
      " '0d02ffb6f5' '0d02ffb6f6' '0d02ffb6f7' '0d02ffb6f8' '0d02ffb6f9'\n",
      " '597e0ee7bf' '598e0ee7bf' '599e0ee7bf' '600e0ee7bf' '601e0ee7bf'\n",
      " '602e0ee7bf' '603e0ee7bf' '604e0ee7bf' '605e0ee7bf' '606e0ee7bf'\n",
      " '607e0ee7bf' '608e0ee7bf' '609e0ee7bf' '610e0ee7bf' '611e0ee7bf'\n",
      " '77ae9e7a38' '77ae9e7a39' '77ae9e7a40' '77ae9e7a41' '77ae9e7a42'\n",
      " '77ae9e7a43' '77ae9e7a44' '77ae9e7a45' '77ae9e7a46' '77ae9e7a47'\n",
      " '77ae9e7a48' '77ae9e7a49' '77ae9e7a50' '77ae9e7a51' '77ae9e7a52' 'H'\n",
      " 'Happy' 'N' 'Neutral' 'Normal' 'S' 'Sad' 'happy' 'happy ' 'natural'\n",
      " 'neutral' 'sad']\n",
      "[18, 75, 126, 137, 148, 154, 185, 186, 209, 244, 254, 297, 327, 351, 355, 378, 380, 427, 452, 495, 562, 593, 621, 759, 764, 803, 815, 913, 956, 993, 1093, 1157, 1167, 1306, 1477, 1523, 1544, 1568, 1664, 1674, 1681, 1723, 1972, 1994, 2075, 2140, 2213, 2224, 2251, 2258, 2354, 2370, 2395, 2416, 2418, 2421, 2427, 2476, 2489, 2498]\n"
     ]
    }
   ],
   "source": [
    "#Arranging Status label\n",
    "print(np.unique(Data[ :,2]))\n",
    "status = Data[ : ,2]\n",
    "indices_S = [i for i, x in enumerate(status) if x == 'sad' or x =='S' ]\n",
    "indices_H = [i for i, x in enumerate(status) if x == 'H' or x =='happy' or x == 'happy ' ]\n",
    "indices_N = [i for i, x in enumerate(status) if x == 'N' or x =='Normal' or x =='natural'  or x=='neutral']\n",
    "\n",
    "for i in (indices_S): status[i] = 'Sad'\n",
    "for i in (indices_H): status[i] = 'Happy'\n",
    "for i in (indices_N): status[i] = 'Neutral'\n",
    "\n",
    "indices_fake =[i for i, x in enumerate(status) if x != 'Sad' and x !='Happy' and x!= 'Neutral' ]\n",
    "print(indices_fake)\n",
    "Data[ : , 2] = status"
   ]
  },
  {
   "cell_type": "code",
   "execution_count": 9,
   "metadata": {
    "id": "9feKQwDANIB7"
   },
   "outputs": [],
   "source": [
    "#Removing fake datas\n",
    "Data = [Data[x , : ] for x in range(len(Data[: , 0])) if x not in (indices_fake)]\n",
    "Data = np.array(Data)"
   ]
  },
  {
   "cell_type": "code",
   "execution_count": 10,
   "metadata": {
    "colab": {
     "base_uri": "https://localhost:8080/"
    },
    "id": "YMvDyPZSNL6G",
    "outputId": "1595a94e-fc9f-4e34-b5cd-cfb2e3680cd9"
   },
   "outputs": [
    {
     "name": "stdout",
     "output_type": "stream",
     "text": [
      "[5 6 7 8 9 10 11 12 14 16 17 18 19 20 21 22 23 24 25 26 27 28 29 30 31 32\n",
      " 33 34 35 38 40 44 46 47 49 50 51 52 54 55 56 57 58 59 60 62 82]\n",
      "['Female' 'Male']\n",
      "['Happy' 'Neutral' 'Sad']\n"
     ]
    }
   ],
   "source": [
    "print(np.unique(Data[ : , 0]))\n",
    "print(np.unique(Data[ : , 1]))\n",
    "print(np.unique(Data[ : , 2]))\n",
    "#All checked"
   ]
  },
  {
   "cell_type": "code",
   "execution_count": 11,
   "metadata": {
    "colab": {
     "base_uri": "https://localhost:8080/"
    },
    "id": "_E-oifDeNSgh",
    "outputId": "0b355a34-097c-4ba7-f05d-a9dd0b7b8b9c"
   },
   "outputs": [
    {
     "name": "stdout",
     "output_type": "stream",
     "text": [
      "[] [] [] [] []\n"
     ]
    }
   ],
   "source": [
    "#Remove NANs\n",
    "f1 = list(Data[ : , 3])\n",
    "f2 = list(Data[ : , 4])\n",
    "f3 = list(Data[ : , 5])\n",
    "f4 = list(Data[ : , 6])\n",
    "f5 = list(Data[ : , 7])\n",
    "\n",
    "f1= np.array(f1)\n",
    "f2= np.array(f2)\n",
    "f3= np.array(f3)\n",
    "f4= np.array(f4)\n",
    "f5= np.array(f5)\n",
    "\n",
    "col_meanf1 = np.nanmean(f1 , axis = 0)\n",
    "col_meanf2 = np.nanmean(f2 , axis = 0)\n",
    "col_meanf3 = np.nanmean(f3 , axis = 0)\n",
    "col_meanf4 = np.nanmean(f4 , axis = 0)\n",
    "col_meanf5 = np.nanmean(f5 , axis = 0)\n",
    "\n",
    "inds1 = np.where(np.isnan(f1))\n",
    "f1[inds1] = np.take(col_meanf1 , inds1[1])\n",
    "inds2 = np.where(np.isnan(f2))\n",
    "f2[inds2] = np.take(col_meanf2 , inds2[1])\n",
    "inds3 = np.where(np.isnan(f3))\n",
    "f3[inds3] = np.take(col_meanf3 , inds3[1])\n",
    "inds4 = np.where(np.isnan(f4))\n",
    "f4[inds4] = np.take(col_meanf4 , inds4[1])\n",
    "inds5 = np.where(np.isnan(f5))\n",
    "f5[inds5] = np.take(col_meanf5 , inds5[1])\n",
    "\n",
    "nan_f1 = np.argwhere(np.isnan(f1))\n",
    "nan_f2 = np.argwhere(np.isnan(f2))\n",
    "nan_f3 = np.argwhere(np.isnan(f3))\n",
    "nan_f4 = np.argwhere(np.isnan(f4))\n",
    "nan_f5 = np.argwhere(np.isnan(f5))\n",
    "\n",
    "print(nan_f1 , nan_f2 , nan_f3 , nan_f4 , nan_f5)"
   ]
  },
  {
   "cell_type": "code",
   "execution_count": 12,
   "metadata": {
    "colab": {
     "base_uri": "https://localhost:8080/"
    },
    "id": "ctIjjxUuNaSL",
    "outputId": "f1642f8d-189f-4630-f223-2bcf361529e8"
   },
   "outputs": [
    {
     "name": "stdout",
     "output_type": "stream",
     "text": [
      "(2545, 1536) (2545,)\n"
     ]
    }
   ],
   "source": [
    "x_f1=f1.copy()\n",
    "x_f2=f2.copy()\n",
    "x_f3=f3.copy()\n",
    "x_f4=f4.copy()\n",
    "x_f5=f5.copy()\n",
    "\n",
    "y_G = Data[:,1].copy()\n",
    "y_S = Data[:,2].copy()\n",
    "\n",
    "labelG=y_G\n",
    "labelS=y_S\n",
    "\n",
    "indexm = [i for i, x in enumerate(labelG) if x == 'Male' ]\n",
    "for i in indexm: labelG[i]= 0\n",
    "indexf = [i for i, x in enumerate(labelG) if x == 'Female' ]\n",
    "for i in indexf: labelG[i]= 1\n",
    "\n",
    "indexs = [i for i, x in enumerate(labelS) if x == 'Sad' ]\n",
    "for i in indexs: labelS[i]= 2\n",
    "indexh = [i for i, x in enumerate(labelS) if x == 'Happy' ]\n",
    "for i in indexh: labelS[i]= 0\n",
    "indexn = [i for i, x in enumerate(labelS) if x == 'Neutral' ]\n",
    "for i in indexn: labelS[i]= 1\n",
    "print(x_f2.shape , labelG.shape)"
   ]
  },
  {
   "cell_type": "code",
   "execution_count": 13,
   "metadata": {},
   "outputs": [],
   "source": [
    "#Badly Handled\n",
    "y_GS=np.zeros(len(y_G))\n",
    "for i in range(len(y_G)):\n",
    "    if y_S[i]==0:\n",
    "        if y_G[i]==0:\n",
    "            y_GS[i]=0\n",
    "        else:\n",
    "            y_GS[i]=1\n",
    "    elif y_S[i]==1:\n",
    "        if y_G[i]==0:\n",
    "            y_GS[i]=2\n",
    "        else:\n",
    "            y_GS[i]=3\n",
    "    else:\n",
    "        if y_G[i]==0:\n",
    "            y_GS[i]=4\n",
    "        else:\n",
    "            y_GS[i]=5"
   ]
  },
  {
   "cell_type": "code",
   "execution_count": 14,
   "metadata": {
    "id": "L7ovIMYYNztf"
   },
   "outputs": [
    {
     "data": {
      "text/plain": [
       "'x_f1 = sc.fit_transform(x_f1)\\n\\nx_f2 = sc.fit_transform(x_f2)\\n\\nx_f3 = sc.fit_transform(x_f3)\\n\\nx_f4 = sc.fit_transform(x_f4)\\n\\nx_f5 = sc.fit_transform(x_f5)'"
      ]
     },
     "execution_count": 14,
     "metadata": {},
     "output_type": "execute_result"
    }
   ],
   "source": [
    "# normalize the dataset\n",
    "from sklearn.preprocessing import StandardScaler, MinMaxScaler\n",
    "sc = StandardScaler()\n",
    "\n",
    "'''x_f1 = sc.fit_transform(x_f1)\n",
    "\n",
    "x_f2 = sc.fit_transform(x_f2)\n",
    "\n",
    "x_f3 = sc.fit_transform(x_f3)\n",
    "\n",
    "x_f4 = sc.fit_transform(x_f4)\n",
    "\n",
    "x_f5 = sc.fit_transform(x_f5)'''"
   ]
  },
  {
   "cell_type": "markdown",
   "metadata": {},
   "source": [
    "# PCA"
   ]
  },
  {
   "cell_type": "code",
   "execution_count": 15,
   "metadata": {
    "id": "Aec9SIkNOCkP"
   },
   "outputs": [],
   "source": [
    "#Dimention Reduction to make data ready for k means algorithm\n",
    "from sklearn.decomposition import PCA\n",
    "pca = PCA(n_components=30)\n",
    "\n",
    "x_f1 = pca.fit(x_f1).transform(x_f1)\n",
    "\n",
    "x_f2 = pca.fit(x_f2).transform(x_f2)\n",
    "\n",
    "x_f3 = pca.fit(x_f3).transform(x_f3)\n",
    "\n",
    "x_f4 = pca.fit(x_f4).transform(x_f4)\n",
    "\n",
    "x_f5 = pca.fit(x_f5).transform(x_f5)\n"
   ]
  },
  {
   "cell_type": "code",
   "execution_count": 16,
   "metadata": {
    "colab": {
     "base_uri": "https://localhost:8080/"
    },
    "id": "UipWyiBHOSZg",
    "outputId": "c5a607c4-e022-4f8d-df09-94aaa676377a"
   },
   "outputs": [
    {
     "name": "stdout",
     "output_type": "stream",
     "text": [
      "The hopkins score of the f1 is: 0.153\n",
      "The hopkins score of the f2 is: 0.152\n",
      "The hopkins score of the f3 is: 0.091\n",
      "The hopkins score of the f4 is: 0.182\n",
      "The hopkins score of the f5 is: 0.101\n"
     ]
    }
   ],
   "source": [
    "from pyclustertend import hopkins\n",
    "\n",
    "print(\"The hopkins score of the f1 is: %.3f\" %hopkins(x_f1, len(x_f1)))\n",
    "print(\"The hopkins score of the f2 is: %.3f\" %hopkins(x_f2, len(x_f2)))\n",
    "print(\"The hopkins score of the f3 is: %.3f\" %hopkins(x_f3, len(x_f3)))\n",
    "print(\"The hopkins score of the f4 is: %.3f\" %hopkins(x_f4, len(x_f4)))\n",
    "print(\"The hopkins score of the f5 is: %.3f\" %hopkins(x_f5, len(x_f5)))   #All of them are less than 0.3 so we can have a good clustering :D\n"
   ]
  },
  {
   "cell_type": "markdown",
   "metadata": {},
   "source": [
    "# Model & Evaluate"
   ]
  },
  {
   "cell_type": "code",
   "execution_count": 17,
   "metadata": {
    "id": "O_nVCy_AOeXr"
   },
   "outputs": [],
   "source": [
    "from sklearn.cluster import KMeans\n",
    "from sklearn.cluster import AgglomerativeClustering\n",
    "from scipy.cluster.hierarchy import dendrogram\n",
    "from sklearn.cluster import DBSCAN\n",
    "from sklearn.mixture import GaussianMixture"
   ]
  },
  {
   "cell_type": "code",
   "execution_count": 18,
   "metadata": {},
   "outputs": [],
   "source": [
    "#Change f{i} & label     ########Important"
   ]
  },
  {
   "cell_type": "markdown",
   "metadata": {},
   "source": [
    "# Clusters=2"
   ]
  },
  {
   "cell_type": "code",
   "execution_count": 19,
   "metadata": {},
   "outputs": [],
   "source": [
    "x_in=x_f1.copy()"
   ]
  },
  {
   "cell_type": "code",
   "execution_count": 20,
   "metadata": {
    "colab": {
     "base_uri": "https://localhost:8080/"
    },
    "id": "kZokStjTOlP1",
    "outputId": "6b3dbea5-e543-422c-be17-030ded07f3d6"
   },
   "outputs": [
    {
     "name": "stdout",
     "output_type": "stream",
     "text": [
      "main Label :  [1 0 0 ... 1 0 0]\n",
      "K means Label Predict  [0 1 1 ... 0 1 1]\n",
      "DBSD Label Predict  [-60   1   0 ...   1 -23 -69]\n",
      "Guassian Label predict :  [1 0 0 ... 1 0 1]\n"
     ]
    }
   ],
   "source": [
    "print(\"main Label : \" ,y_G)\n",
    "model = KMeans(n_clusters= 2, random_state= 6)  #Gender clustering\n",
    "y_predkm2 = model.fit_predict(x_in)\n",
    "clusters = np.unique(y_predkm2)\n",
    "print(\"K means Label Predict \" ,y_predkm2)\n",
    "\n",
    "model = DBSCAN(eps= 0.5, min_samples= 10)\n",
    "y_predDB = model.fit_predict(x_in)\n",
    "clusters = np.unique(y_predDB)\n",
    "print(\"DBSD Label Predict \" , -y_predDB)\n",
    "\n",
    "model = GaussianMixture(n_components=2)\n",
    "y_predGM = model.fit_predict(x_in)\n",
    "clusters = np.unique(y_predGM)\n",
    "print(\"Guassian Label predict : \" , y_predGM)\n",
    "# print(np.unique(y_G + y_predf1 , return_counts=True))"
   ]
  },
  {
   "cell_type": "code",
   "execution_count": 21,
   "metadata": {},
   "outputs": [
    {
     "name": "stdout",
     "output_type": "stream",
     "text": [
      "Adjusted Rand Index is: 0.522\n",
      "0.41306747600837607\n",
      "0.4132416093136488\n",
      "0.42119923720026764\n",
      "0.40557908956455946\n",
      "0.4132416093136488\n"
     ]
    }
   ],
   "source": [
    "print(\"Adjusted Rand Index is: %.3f\" %metrics.adjusted_rand_score(y_G, y_predkm2))\n",
    "print(metrics.adjusted_mutual_info_score(y_G, y_predkm2))\n",
    "print(metrics.normalized_mutual_info_score(y_G, y_predkm2))\n",
    "print(metrics.homogeneity_score(y_G, y_predkm2))\n",
    "print(metrics.completeness_score(y_G, y_predkm2))\n",
    "print(metrics.v_measure_score(y_G, y_predkm2))"
   ]
  },
  {
   "cell_type": "code",
   "execution_count": 22,
   "metadata": {
    "scrolled": true
   },
   "outputs": [
    {
     "name": "stdout",
     "output_type": "stream",
     "text": [
      "Contingency Matrix:\n",
      "\n",
      "[[ 241 1402]\n",
      " [ 791  111]]\n"
     ]
    },
    {
     "data": {
      "text/plain": [
       "(array([0, 1], dtype=object), array([1643,  902], dtype=int64))"
      ]
     },
     "execution_count": 22,
     "metadata": {},
     "output_type": "execute_result"
    }
   ],
   "source": [
    "from sklearn import metrics\n",
    "print(\"Contingency Matrix:\\n\")\n",
    "print(metrics.cluster.contingency_matrix(y_G, y_predkm2))\n",
    "np.unique(y_G,return_counts=True)"
   ]
  },
  {
   "cell_type": "code",
   "execution_count": 23,
   "metadata": {},
   "outputs": [],
   "source": [
    "y_predkm2=y_predkm2.astype(int)\n",
    "y_G=y_G.astype(int)\n",
    "y_G1=-1*y_G+1"
   ]
  },
  {
   "cell_type": "code",
   "execution_count": 24,
   "metadata": {},
   "outputs": [
    {
     "name": "stdout",
     "output_type": "stream",
     "text": [
      "              precision    recall  f1-score   support\n",
      "\n",
      "      Female       0.77      0.88      0.82       902\n",
      "        Male       0.93      0.85      0.89      1643\n",
      "\n",
      "    accuracy                           0.86      2545\n",
      "   macro avg       0.85      0.87      0.85      2545\n",
      "weighted avg       0.87      0.86      0.86      2545\n",
      "\n"
     ]
    },
    {
     "data": {
      "text/plain": [
       "Text(0.5, 1.0, 'Real Classes / Clusters')"
      ]
     },
     "execution_count": 24,
     "metadata": {},
     "output_type": "execute_result"
    },
    {
     "data": {
      "image/png": "[encoded data removed]",
      "text/plain": [
       "<Figure size 432x288 with 2 Axes>"
      ]
     },
     "metadata": {
      "needs_background": "light"
     },
     "output_type": "display_data"
    }
   ],
   "source": [
    "from sklearn.metrics import confusion_matrix\n",
    "from sklearn.metrics import classification_report\n",
    "class_names=['Female','Male']\n",
    "class_names1=[0,1]\n",
    "\n",
    "\n",
    "print(classification_report(y_G1,y_predkm2,target_names=class_names)) #, target_names=class_names\n",
    "cf_matrix=confusion_matrix(y_G1,y_predkm2)\n",
    "import seaborn as sns\n",
    "x_axis_labels = class_names1\n",
    "y_axis_labels = class_names \n",
    "sns.heatmap(cf_matrix, annot=True,xticklabels=x_axis_labels, yticklabels=y_axis_labels,cmap='Blues')\n",
    "plt.title('Real Classes / Clusters')"
   ]
  },
  {
   "cell_type": "markdown",
   "metadata": {},
   "source": [
    "# Clusters=3"
   ]
  },
  {
   "cell_type": "code",
   "execution_count": 25,
   "metadata": {},
   "outputs": [
    {
     "name": "stdout",
     "output_type": "stream",
     "text": [
      "main Label :  [0 2 1 ... 0 0 0]\n",
      "K means Label Predict  [2 1 1 ... 2 1 0]\n",
      "DBSD Label Predict  [-60   1   0 ...   1 -23 -69]\n",
      "Guassian Label predict :  [1 0 0 ... 1 0 2]\n"
     ]
    }
   ],
   "source": [
    "print(\"main Label : \" ,y_S)\n",
    "model = KMeans(n_clusters= 3, random_state= 6)  #Gender clustering\n",
    "y_predkm = model.fit_predict(x_in)\n",
    "clusters = np.unique(y_predkm)\n",
    "print(\"K means Label Predict \" ,y_predkm)\n",
    "\n",
    "model = DBSCAN(eps= 0.5, min_samples= 10)\n",
    "y_predDB = model.fit_predict(x_in)\n",
    "clusters = np.unique(y_predDB)\n",
    "print(\"DBSD Label Predict \" , -y_predDB)\n",
    "\n",
    "model = GaussianMixture(n_components=3)         #Check?\n",
    "y_predGM = model.fit_predict(x_in)\n",
    "clusters = np.unique(y_predGM)\n",
    "print(\"Guassian Label predict : \" , y_predGM)"
   ]
  },
  {
   "cell_type": "code",
   "execution_count": 26,
   "metadata": {},
   "outputs": [
    {
     "name": "stdout",
     "output_type": "stream",
     "text": [
      "Contingency Matrix:\n",
      "\n",
      "[[166 271 409]\n",
      " [189 271 391]\n",
      " [168 268 412]]\n"
     ]
    },
    {
     "data": {
      "text/plain": [
       "(array([0, 1, 2], dtype=object), array([846, 851, 848], dtype=int64))"
      ]
     },
     "execution_count": 26,
     "metadata": {},
     "output_type": "execute_result"
    }
   ],
   "source": [
    "from sklearn import metrics\n",
    "print(\"Contingency Matrix:\\n\")\n",
    "print(metrics.cluster.contingency_matrix(y_S, y_predkm))\n",
    "np.unique(y_S,return_counts=True)"
   ]
  },
  {
   "cell_type": "code",
   "execution_count": 27,
   "metadata": {},
   "outputs": [
    {
     "name": "stdout",
     "output_type": "stream",
     "text": [
      "Adjusted Rand Index is: -0.000\n",
      "-0.000278577127766668\n",
      "0.00045645467633202903\n",
      "0.0004448674141280365\n",
      "0.000468661697575469\n",
      "0.000456454676332029\n"
     ]
    }
   ],
   "source": [
    "print(\"Adjusted Rand Index is: %.3f\" %metrics.adjusted_rand_score(y_S, y_predkm))\n",
    "print(metrics.adjusted_mutual_info_score(y_S, y_predkm))\n",
    "print(metrics.normalized_mutual_info_score(y_S, y_predkm))\n",
    "print(metrics.homogeneity_score(y_S, y_predkm))\n",
    "print(metrics.completeness_score(y_S, y_predkm))\n",
    "print(metrics.v_measure_score(y_S, y_predkm))"
   ]
  },
  {
   "cell_type": "markdown",
   "metadata": {},
   "source": [
    "# Clusters=6"
   ]
  },
  {
   "cell_type": "code",
   "execution_count": 28,
   "metadata": {
    "scrolled": true
   },
   "outputs": [
    {
     "name": "stdout",
     "output_type": "stream",
     "text": [
      "main Label :  [1. 4. 2. ... 1. 0. 0.]\n",
      "K means Label Predict  [5 3 0 ... 5 3 4]\n",
      "DBSD Label Predict  [-60   1   0 ...   1 -23 -69]\n",
      "Guassian Label predict :  [1 0 4 ... 1 4 5]\n"
     ]
    }
   ],
   "source": [
    "print(\"main Label : \" ,y_GS)\n",
    "model = KMeans(n_clusters= 6, random_state= 6)  #Gender clustering\n",
    "y_predkm = model.fit_predict(x_in)\n",
    "clusters = np.unique(y_predkm)\n",
    "print(\"K means Label Predict \" ,y_predkm)\n",
    "\n",
    "model = DBSCAN(eps= 0.5, min_samples= 10)\n",
    "y_predDB = model.fit_predict(x_in)\n",
    "clusters = np.unique(y_predDB)\n",
    "print(\"DBSD Label Predict \" , -y_predDB)\n",
    "\n",
    "model = GaussianMixture(n_components=6)         #Check?\n",
    "y_predGM = model.fit_predict(x_in)\n",
    "clusters = np.unique(y_predGM)\n",
    "print(\"Guassian Label predict : \" , y_predGM)\n",
    "# print(np.unique(y_G + y_predf1 , return_counts=True))"
   ]
  },
  {
   "cell_type": "code",
   "execution_count": 29,
   "metadata": {},
   "outputs": [
    {
     "name": "stdout",
     "output_type": "stream",
     "text": [
      "Contingency Matrix:\n",
      "\n",
      "[[145 120 109   0 128  44]\n",
      " [  1 186   0  83   0  30]\n",
      " [135 112 124   0 126  54]\n",
      " [  6 180   0  81   0  33]\n",
      " [142 124 113   0 122  45]\n",
      " [  1 181   0  84   1  35]]\n"
     ]
    },
    {
     "data": {
      "text/plain": [
       "(array([0., 1., 2., 3., 4., 5.]),\n",
       " array([546, 300, 551, 300, 546, 302], dtype=int64))"
      ]
     },
     "execution_count": 29,
     "metadata": {},
     "output_type": "execute_result"
    }
   ],
   "source": [
    "from sklearn import metrics\n",
    "print(\"Contingency Matrix:\\n\")\n",
    "print(metrics.cluster.contingency_matrix(y_GS, y_predGM))\n",
    "np.unique(y_GS,return_counts=True)"
   ]
  },
  {
   "cell_type": "code",
   "execution_count": 30,
   "metadata": {},
   "outputs": [
    {
     "name": "stdout",
     "output_type": "stream",
     "text": [
      "Adjusted Rand Index is: 0.115\n",
      "0.2206382720459083\n",
      "0.22286200450797045\n",
      "0.22030824374664695\n",
      "0.22547566478490128\n",
      "0.22286200450797042\n"
     ]
    }
   ],
   "source": [
    "print(\"Adjusted Rand Index is: %.3f\" %metrics.adjusted_rand_score(y_GS, y_predkm))\n",
    "print(metrics.adjusted_mutual_info_score(y_GS, y_predkm))\n",
    "print(metrics.normalized_mutual_info_score(y_GS, y_predkm))\n",
    "print(metrics.homogeneity_score(y_GS, y_predkm))\n",
    "print(metrics.completeness_score(y_GS, y_predkm))\n",
    "print(metrics.v_measure_score(y_GS, y_predkm))"
   ]
  },
  {
   "cell_type": "markdown",
   "metadata": {},
   "source": [
    "# Elbow Method"
   ]
  },
  {
   "cell_type": "code",
   "execution_count": 31,
   "metadata": {},
   "outputs": [
    {
     "data": {
      "text/plain": [
       "Text(0, 0.5, 'WCSS')"
      ]
     },
     "execution_count": 31,
     "metadata": {},
     "output_type": "execute_result"
    },
    {
     "data": {
      "image/png": "[encoded data removed]",
      "text/plain": [
       "<Figure size 432x288 with 1 Axes>"
      ]
     },
     "metadata": {
      "needs_background": "light"
     },
     "output_type": "display_data"
    }
   ],
   "source": [
    "wcss = []\n",
    "for K in range(1, 10):\n",
    "    model = KMeans(n_clusters=K)\n",
    "    model.fit(x_f1)\n",
    "    wcss.append(model.inertia_)\n",
    "    \n",
    "plt.plot(np.linspace(1,9,9), wcss)\n",
    "plt.grid()\n",
    "plt.title('the sum squared distance between each datapoint and its cluster centroid',color='b')\n",
    "plt.xlabel('N_clusters')\n",
    "plt.ylabel('WCSS')"
   ]
  }
 ],
 "metadata": {
  "colab": {
   "name": "Cluster_Edit.ipynb",
   "provenance": []
  },
  "kernelspec": {
   "display_name": "Python 3",
   "language": "python",
   "name": "python3"
  },
  "language_info": {
   "codemirror_mode": {
    "name": "ipython",
    "version": 3
   },
   "file_extension": ".py",
   "mimetype": "text/x-python",
   "name": "python",
   "nbconvert_exporter": "python",
   "pygments_lexer": "ipython3",
   "version": "3.7.10"
  }
 },
 "nbformat": 4,
 "nbformat_minor": 1
}
