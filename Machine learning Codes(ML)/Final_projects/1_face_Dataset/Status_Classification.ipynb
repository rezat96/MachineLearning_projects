{
  "nbformat": 4,
  "nbformat_minor": 5,
  "metadata": {
    "accelerator": "GPU",
    "colab": {
      "name": "ML_Project_Status_classifier.ipynb",
      "provenance": []
    },
    "kernelspec": {
      "display_name": "Python 3",
      "language": "python",
      "name": "python3"
    },
    "language_info": {
      "codemirror_mode": {
        "name": "ipython",
        "version": 3
      },
      "file_extension": ".py",
      "mimetype": "text/x-python",
      "name": "python",
      "nbconvert_exporter": "python",
      "pygments_lexer": "ipython3",
      "version": "3.7.10"
    }
  },
  "cells": [
    {
      "cell_type": "code",
      "metadata": {
        "id": "bb0cff42"
      },
      "source": [
        "import pandas as pd\n",
        "import numpy as np\n",
        "import matplotlib.pyplot as plt\n",
        "import pickle5 as pickle"
      ],
      "id": "bb0cff42",
      "execution_count": 61,
      "outputs": []
    },
    {
      "cell_type": "code",
      "metadata": {
        "colab": {
          "base_uri": "https://localhost:8080/"
        },
        "id": "akzZLsxuwDbc",
        "outputId": "955b018b-29d0-4574-a9e8-5f20a63e2838"
      },
      "source": [
        "from google.colab import drive\n",
        "drive.mount('/content/drive')"
      ],
      "id": "akzZLsxuwDbc",
      "execution_count": 1,
      "outputs": [
        {
          "output_type": "stream",
          "text": [
            "Mounted at /content/drive\n"
          ],
          "name": "stdout"
        }
      ]
    },
    {
      "cell_type": "code",
      "metadata": {
        "id": "x2lLw_G0x1kY"
      },
      "source": [
        "!pip3 install pickle5"
      ],
      "id": "x2lLw_G0x1kY",
      "execution_count": null,
      "outputs": []
    },
    {
      "cell_type": "code",
      "metadata": {
        "id": "c395a543"
      },
      "source": [
        "path=r'/content/drive/MyDrive'\n",
        "df=pickle.load(open(f\"{path}/ml_project_dataset.pkl\", \"rb\"))"
      ],
      "id": "c395a543",
      "execution_count": 62,
      "outputs": []
    },
    {
      "cell_type": "code",
      "metadata": {
        "id": "d063fe0a",
        "scrolled": true
      },
      "source": [
        "Data=df.values"
      ],
      "id": "d063fe0a",
      "execution_count": 63,
      "outputs": []
    },
    {
      "cell_type": "code",
      "metadata": {
        "colab": {
          "base_uri": "https://localhost:8080/"
        },
        "id": "P2Zg21uHCHtx",
        "scrolled": true,
        "outputId": "4770cc36-c45e-4bf6-e0aa-0207ce0dc5e8"
      },
      "source": [
        "#Arranging Status label\n",
        "print(np.unique(Data[ :,2]))\n",
        "status = Data[ : ,2]\n",
        "indices_S = [i for i, x in enumerate(status) if x == 'sad' or x =='S' ]\n",
        "indices_H = [i for i, x in enumerate(status) if x == 'H' or x =='happy' or x == 'happy ' ]\n",
        "indices_N = [i for i, x in enumerate(status) if x == 'N' or x =='Normal' or x =='natural'  or x=='neutral']\n",
        "\n",
        "for i in (indices_S): status[i] = 'Sad'\n",
        "for i in (indices_H): status[i] = 'Happy'\n",
        "for i in (indices_N): status[i] = 'Neutral'\n",
        "\n",
        "indices_fake =[i for i, x in enumerate(status) if x != 'Sad' and x !='Happy' and x!= 'Neutral' ]\n",
        "print(indices_fake)\n",
        "Data[ : , 2] = status"
      ],
      "id": "P2Zg21uHCHtx",
      "execution_count": 64,
      "outputs": [
        {
          "output_type": "stream",
          "text": [
            "['0040a40fde' '0041a40fde' '0042a40fde' '0043a40fde' '0044a40fde'\n",
            " '0045a40fde' '0046a40fde' '0047a40fde' '0048a40fde' '0049a40fde'\n",
            " '0050a40fde' '0051a40fde' '0052a40fde' '0053a40fde' '0054a40fde'\n",
            " '0d02ffb6f1' '0d02ffb6f10' '0d02ffb6f11' '0d02ffb6f12' '0d02ffb6f13'\n",
            " '0d02ffb6f14' '0d02ffb6f15' '0d02ffb6f2' '0d02ffb6f3' '0d02ffb6f4'\n",
            " '0d02ffb6f5' '0d02ffb6f6' '0d02ffb6f7' '0d02ffb6f8' '0d02ffb6f9'\n",
            " '597e0ee7bf' '598e0ee7bf' '599e0ee7bf' '600e0ee7bf' '601e0ee7bf'\n",
            " '602e0ee7bf' '603e0ee7bf' '604e0ee7bf' '605e0ee7bf' '606e0ee7bf'\n",
            " '607e0ee7bf' '608e0ee7bf' '609e0ee7bf' '610e0ee7bf' '611e0ee7bf'\n",
            " '77ae9e7a38' '77ae9e7a39' '77ae9e7a40' '77ae9e7a41' '77ae9e7a42'\n",
            " '77ae9e7a43' '77ae9e7a44' '77ae9e7a45' '77ae9e7a46' '77ae9e7a47'\n",
            " '77ae9e7a48' '77ae9e7a49' '77ae9e7a50' '77ae9e7a51' '77ae9e7a52' 'H'\n",
            " 'Happy' 'N' 'Neutral' 'Normal' 'S' 'Sad' 'happy' 'happy ' 'natural'\n",
            " 'neutral' 'sad']\n",
            "[18, 75, 126, 137, 148, 154, 185, 186, 209, 244, 254, 297, 327, 351, 355, 378, 380, 427, 452, 495, 562, 593, 621, 759, 764, 803, 815, 913, 956, 993, 1093, 1157, 1167, 1306, 1477, 1523, 1544, 1568, 1664, 1674, 1681, 1723, 1972, 1994, 2075, 2140, 2213, 2224, 2251, 2258, 2354, 2370, 2395, 2416, 2418, 2421, 2427, 2476, 2489, 2498]\n"
          ],
          "name": "stdout"
        }
      ]
    },
    {
      "cell_type": "code",
      "metadata": {
        "id": "Jm3A1DvtWnv6"
      },
      "source": [
        "#Removing fake datas\n",
        "Data = [Data[x , : ] for x in range(len(Data[: , 0])) if x not in (indices_fake)]\n",
        "Data = np.array(Data)"
      ],
      "id": "Jm3A1DvtWnv6",
      "execution_count": 65,
      "outputs": []
    },
    {
      "cell_type": "code",
      "metadata": {
        "colab": {
          "base_uri": "https://localhost:8080/"
        },
        "id": "n-l5fjLRaHHO",
        "outputId": "0410800b-51a6-4553-eaa2-539790ce06f8"
      },
      "source": [
        "#check biasing \n",
        "num_H = len( [i for i, x in enumerate(Data[ : , 2]) if x == 'Happy'])\n",
        "num_N = len( [i for i, x in enumerate(Data[ : , 2]) if x == 'Neutral'])\n",
        "num_S = len( [i for i, x in enumerate(Data[ : , 2]) if x == 'Sad'])\n",
        "print(num_H , num_N , num_S) # No need for upsampling\n"
      ],
      "id": "n-l5fjLRaHHO",
      "execution_count": 66,
      "outputs": [
        {
          "output_type": "stream",
          "text": [
            "846 851 848\n"
          ],
          "name": "stdout"
        }
      ]
    },
    {
      "cell_type": "code",
      "metadata": {
        "colab": {
          "base_uri": "https://localhost:8080/",
          "height": 334
        },
        "id": "3sEx75wh4wuj",
        "outputId": "9472a88b-274b-4696-ddce-de39e4e42db4"
      },
      "source": [
        "dataS = {'Sad':num_S, 'Happy':num_H , 'Neutral':num_N}\n",
        "Status = list(dataS.keys())\n",
        "valuesS = list(dataS.values())\n",
        "  \n",
        "fig = plt.figure(figsize = (9, 5))\n",
        "\n",
        "plt.bar(Status, valuesS, color ='purple',width = 0.3)\n",
        " \n",
        "plt.xlabel(\"Status\")\n",
        "plt.ylabel(\"Number of samples\")\n",
        "plt.show()"
      ],
      "id": "3sEx75wh4wuj",
      "execution_count": 67,
      "outputs": [
        {
          "output_type": "display_data",
          "data": {
            "image/png": "[encoded data removed]",
            "text/plain": [
              "<Figure size 648x360 with 1 Axes>"
            ]
          },
          "metadata": {
            "tags": [],
            "needs_background": "light"
          }
        }
      ]
    },
    {
      "cell_type": "code",
      "metadata": {
        "id": "ElAM_OrWfJ3S"
      },
      "source": [
        "#Remove NANs\n",
        "f1 = list(Data[ : , 3])\n",
        "f2 = list(Data[ : , 4])\n",
        "f3 = list(Data[ : , 5])\n",
        "f4 = list(Data[ : , 6])\n",
        "f5 = list(Data[ : , 7])\n",
        "\n",
        "f1= np.array(f1)\n",
        "f2= np.array(f2)\n",
        "f3= np.array(f3)\n",
        "f4= np.array(f4)\n",
        "f5= np.array(f5)\n",
        "\n",
        "nan_f1 = np.argwhere(np.isnan(f1))\n",
        "nan_f2 = np.argwhere(np.isnan(f2))\n",
        "nan_f3 = np.argwhere(np.isnan(f3))\n",
        "nan_f4 = np.argwhere(np.isnan(f4))\n",
        "nan_f5 = np.argwhere(np.isnan(f5))"
      ],
      "id": "ElAM_OrWfJ3S",
      "execution_count": 68,
      "outputs": []
    },
    {
      "cell_type": "code",
      "metadata": {
        "colab": {
          "base_uri": "https://localhost:8080/"
        },
        "id": "7RM5uy7or3gl",
        "outputId": "4a24765d-4675-4bfa-f9ff-58c7f3564604"
      },
      "source": [
        "col_meanf1 = np.nanmean(f1 , axis = 0)\n",
        "col_meanf2 = np.nanmean(f2 , axis = 0)\n",
        "col_meanf3 = np.nanmean(f3 , axis = 0)\n",
        "col_meanf4 = np.nanmean(f4 , axis = 0)\n",
        "col_meanf5 = np.nanmean(f5 , axis = 0)\n",
        "\n",
        "inds1 = np.where(np.isnan(f1))\n",
        "f1[inds1] = np.take(col_meanf1 , inds1[1])\n",
        "inds2 = np.where(np.isnan(f2))\n",
        "f2[inds2] = np.take(col_meanf2 , inds2[1])\n",
        "inds3 = np.where(np.isnan(f3))\n",
        "f3[inds3] = np.take(col_meanf3 , inds3[1])\n",
        "inds4 = np.where(np.isnan(f4))\n",
        "f4[inds4] = np.take(col_meanf4 , inds4[1])\n",
        "inds5 = np.where(np.isnan(f5))\n",
        "f5[inds5] = np.take(col_meanf5 , inds5[1])\n",
        "\n",
        "nan_f1 = np.argwhere(np.isnan(f1))\n",
        "nan_f2 = np.argwhere(np.isnan(f2))\n",
        "nan_f3 = np.argwhere(np.isnan(f3))\n",
        "nan_f4 = np.argwhere(np.isnan(f4))\n",
        "nan_f5 = np.argwhere(np.isnan(f5))\n",
        "\n",
        "print(nan_f1 , nan_f2 , nan_f3 , nan_f4 , nan_f5) #All checked     # Need to be more clean "
      ],
      "id": "7RM5uy7or3gl",
      "execution_count": 69,
      "outputs": [
        {
          "output_type": "stream",
          "text": [
            "[] [] [] [] []\n"
          ],
          "name": "stdout"
        }
      ]
    },
    {
      "cell_type": "markdown",
      "metadata": {
        "id": "0e04d1b9"
      },
      "source": [
        "# Choose The Data"
      ],
      "id": "0e04d1b9"
    },
    {
      "cell_type": "code",
      "metadata": {
        "id": "8fde0358"
      },
      "source": [
        "x_f1=f1.copy()\n",
        "x_f2=f2.copy()\n",
        "x_f3=f3.copy()\n",
        "x_f4=f4.copy()\n",
        "x_f5=f5.copy()\n",
        "\n",
        "y_S = Data[:,2].copy()   "
      ],
      "id": "8fde0358",
      "execution_count": 70,
      "outputs": []
    },
    {
      "cell_type": "code",
      "metadata": {
        "colab": {
          "base_uri": "https://localhost:8080/"
        },
        "id": "roVPBx5Ouy9r",
        "outputId": "1eacb740-f8a8-41a2-fd98-fd6d115c6d04"
      },
      "source": [
        "np.unique(y_S,return_counts=True)"
      ],
      "id": "roVPBx5Ouy9r",
      "execution_count": 71,
      "outputs": [
        {
          "output_type": "execute_result",
          "data": {
            "text/plain": [
              "(array(['Happy', 'Neutral', 'Sad'], dtype=object), array([846, 851, 848]))"
            ]
          },
          "metadata": {
            "tags": []
          },
          "execution_count": 71
        }
      ]
    },
    {
      "cell_type": "code",
      "metadata": {
        "id": "9032e38f"
      },
      "source": [
        "from sklearn.model_selection import train_test_split\n",
        "# split the dataset into train and test for f1\n",
        "xtrain_f1, xtest_f1, ytrain_f1, ytest_f1 = train_test_split(x_f1, y_S, test_size=0.2, random_state=40)\n",
        "\n",
        "# split the dataset into train and test for f2\n",
        "xtrain_f2, xtest_f2, ytrain_f2, ytest_f2 = train_test_split(x_f2, y_S, test_size=0.2, random_state=40)\n",
        "\n",
        "# split the dataset into train and test for f3\n",
        "xtrain_f3, xtest_f3, ytrain_f3, ytest_f3 = train_test_split(x_f3, y_S, test_size=0.2, random_state=40)\n",
        "\n",
        "# split the dataset into train and test for f4\n",
        "xtrain_f4, xtest_f4, ytrain_f4, ytest_f4 = train_test_split(x_f4, y_S, test_size=0.2, random_state=40)\n",
        "\n",
        "# split the dataset into train and test for f5\n",
        "xtrain_f5, xtest_f5, ytrain_f5, ytest_f5 = train_test_split(x_f5, y_S, test_size=0.2, random_state=40)"
      ],
      "id": "9032e38f",
      "execution_count": 72,
      "outputs": []
    },
    {
      "cell_type": "code",
      "metadata": {
        "id": "70086744"
      },
      "source": [
        "# normalize the dataset\n",
        "from sklearn.preprocessing import StandardScaler, MinMaxScaler\n",
        "sc = StandardScaler()\n",
        "\n",
        "xtrain_f1 = sc.fit_transform(xtrain_f1)\n",
        "xtest_f1 = sc.transform(xtest_f1)\n",
        "\n",
        "xtrain_f2 = sc.fit_transform(xtrain_f2)\n",
        "xtest_f2 = sc.transform(xtest_f2)\n",
        "\n",
        "xtrain_f3 = sc.fit_transform(xtrain_f3)\n",
        "xtest_f3 = sc.transform(xtest_f3)\n",
        "\n",
        "xtrain_f4 = sc.fit_transform(xtrain_f4)\n",
        "xtest_f4 = sc.transform(xtest_f4)\n",
        "\n",
        "xtrain_f5 = sc.fit_transform(xtrain_f5)\n",
        "xtest_f5 = sc.transform(xtest_f5)"
      ],
      "id": "70086744",
      "execution_count": 73,
      "outputs": []
    },
    {
      "cell_type": "markdown",
      "metadata": {
        "id": "8c4b6b2b"
      },
      "source": [
        "# LDA"
      ],
      "id": "8c4b6b2b"
    },
    {
      "cell_type": "code",
      "metadata": {
        "id": "4870f83c"
      },
      "source": [
        "from sklearn.discriminant_analysis import LinearDiscriminantAnalysis"
      ],
      "id": "4870f83c",
      "execution_count": 74,
      "outputs": []
    },
    {
      "cell_type": "code",
      "metadata": {
        "scrolled": true,
        "id": "ec537583"
      },
      "source": [
        "lda = LinearDiscriminantAnalysis(n_components=1)\n",
        "\n",
        "xtrain_f1 = lda.fit(xtrain_f1, ytrain_f1).transform(xtrain_f1)\n",
        "xtest_f1=lda.transform(xtest_f1)\n",
        "\n",
        "xtrain_f2 = lda.fit(xtrain_f2, ytrain_f2).transform(xtrain_f2)\n",
        "xtest_f2=lda.transform(xtest_f2)\n",
        "\n",
        "xtrain_f3 = lda.fit(xtrain_f3, ytrain_f3).transform(xtrain_f3)\n",
        "xtest_f3=lda.transform(xtest_f3)\n",
        "\n",
        "xtrain_f4 = lda.fit(xtrain_f4, ytrain_f4).transform(xtrain_f4)\n",
        "xtest_f4=lda.transform(xtest_f4)\n",
        "\n",
        "xtrain_f5 = lda.fit(xtrain_f5, ytrain_f5).transform(xtrain_f5)\n",
        "xtest_f5=lda.transform(xtest_f5)"
      ],
      "id": "ec537583",
      "execution_count": 75,
      "outputs": []
    },
    {
      "cell_type": "code",
      "metadata": {
        "id": "f47df4b7"
      },
      "source": [
        "class_names=['Happy','Neutral','Sad']"
      ],
      "id": "f47df4b7",
      "execution_count": 76,
      "outputs": []
    },
    {
      "cell_type": "markdown",
      "metadata": {
        "id": "d4818bc2"
      },
      "source": [
        "# All Classifiers"
      ],
      "id": "d4818bc2"
    },
    {
      "cell_type": "code",
      "metadata": {
        "id": "8589f1ae"
      },
      "source": [
        "from sklearn.metrics import accuracy_score, confusion_matrix\n",
        "from sklearn.ensemble import RandomForestClassifier\n",
        "from sklearn import svm, tree\n",
        "from sklearn.ensemble import GradientBoostingClassifier\n",
        "from sklearn.pipeline import Pipeline\n",
        "from sklearn.pipeline import make_pipeline\n",
        "from sklearn.naive_bayes import GaussianNB   "
      ],
      "id": "8589f1ae",
      "execution_count": 77,
      "outputs": []
    },
    {
      "cell_type": "code",
      "metadata": {
        "id": "f40ee227"
      },
      "source": [
        "classifiers=[]\n",
        "model1 = GradientBoostingClassifier(n_estimators=100, learning_rate=1.0,max_depth=1, random_state=0)\n",
        "classifiers.append(model1)\n",
        "model2 = svm.SVC()\n",
        "classifiers.append(model2)\n",
        "model3 =make_pipeline(StandardScaler(), svm.SVC(gamma='auto'))\n",
        "classifiers.append(model3)\n",
        "model4 = tree.DecisionTreeClassifier()\n",
        "classifiers.append(model4)\n",
        "model5 = RandomForestClassifier()\n",
        "classifiers.append(model5)\n",
        "model6 = GaussianNB()\n",
        "classifiers.append(model6)"
      ],
      "id": "f40ee227",
      "execution_count": 78,
      "outputs": []
    },
    {
      "cell_type": "code",
      "metadata": {
        "scrolled": true,
        "id": "342d5844",
        "colab": {
          "base_uri": "https://localhost:8080/"
        },
        "outputId": "21e71699-2433-4db7-fdf8-d467943a3715"
      },
      "source": [
        "accuracy_f1=[]\n",
        "for clf in classifiers:\n",
        "    clf.fit(xtrain_f1, ytrain_f1)\n",
        "    ypred_f1= clf.predict(xtest_f1)\n",
        "    acc = accuracy_score(ytest_f1, ypred_f1)\n",
        "    accuracy_f1.append(acc)\n",
        "\n",
        "print(\"Accuracy of GradientBoostingClassifier for F1 : \",accuracy_f1[0])\n",
        "print(\"Accuracy of SVC for F1 : \",accuracy_f1[1])\n",
        "print(\"Accuracy of Pipeline for F1 : \",accuracy_f1[2])\n",
        "print(\"Accuracy of DecisionTreeClassifier for F1 : \",accuracy_f1[3])\n",
        "print(\"Accuracy of RandomForestClassifier for F1 : \",accuracy_f1[4])\n",
        "print(\"Accuracy of GaussianNB for F1 : \",accuracy_f1[5])\n"
      ],
      "id": "342d5844",
      "execution_count": 79,
      "outputs": [
        {
          "output_type": "stream",
          "text": [
            "Accuracy of GradientBoostingClassifier for F1 :  0.5383104125736738\n",
            "Accuracy of SVC for F1 :  0.5442043222003929\n",
            "Accuracy of Pipeline for F1 :  0.5442043222003929\n",
            "Accuracy of DecisionTreeClassifier for F1 :  0.5088408644400786\n",
            "Accuracy of RandomForestClassifier for F1 :  0.5068762278978389\n",
            "Accuracy of GaussianNB for F1 :  0.5422396856581533\n"
          ],
          "name": "stdout"
        }
      ]
    },
    {
      "cell_type": "code",
      "metadata": {
        "id": "rtMyfV3ywJ07",
        "colab": {
          "base_uri": "https://localhost:8080/"
        },
        "outputId": "978c8a3e-d194-452a-c3a4-817384aad0e1"
      },
      "source": [
        "accuracy_f2=[]\n",
        "for clf in classifiers:      #####   f2\n",
        "    clf.fit(xtrain_f2, ytrain_f2)\n",
        "    ypred_f2= clf.predict(xtest_f2)\n",
        "    acc = accuracy_score(ytest_f2, ypred_f2)\n",
        "    accuracy_f2.append(acc)\n",
        "\n",
        "print(\"Accuracy of GradientBoostingClassifier for F2 : \",accuracy_f2[0])\n",
        "print(\"Accuracy of SVC for F2 : \",accuracy_f2[1])\n",
        "print(\"Accuracy of Pipeline for F2 : \",accuracy_f2[2])\n",
        "print(\"Accuracy of DecisionTreeClassifier for F2 : \",accuracy_f2[3])\n",
        "print(\"Accuracy of RandomForestClassifier for F2 : \",accuracy_f2[4])\n",
        "print(\"Accuracy of GaussianNB for F2 : \",accuracy_f2[5])"
      ],
      "id": "rtMyfV3ywJ07",
      "execution_count": 80,
      "outputs": [
        {
          "output_type": "stream",
          "text": [
            "Accuracy of GradientBoostingClassifier for F2 :  0.3929273084479371\n",
            "Accuracy of SVC for F2 :  0.38703339882121807\n",
            "Accuracy of Pipeline for F2 :  0.38703339882121807\n",
            "Accuracy of DecisionTreeClassifier for F2 :  0.3988212180746562\n",
            "Accuracy of RandomForestClassifier for F2 :  0.3968565815324165\n",
            "Accuracy of GaussianNB for F2 :  0.39096267190569745\n"
          ],
          "name": "stdout"
        }
      ]
    },
    {
      "cell_type": "code",
      "metadata": {
        "id": "mQVRqnljwPOm",
        "colab": {
          "base_uri": "https://localhost:8080/"
        },
        "outputId": "bd3eb5fe-665d-4a95-f656-7839a26de128"
      },
      "source": [
        "accuracy_f3=[]\n",
        "for clf in classifiers:     #####  f3\n",
        "    clf.fit(xtrain_f3, ytrain_f3)\n",
        "    ypred_f3= clf.predict(xtest_f3)\n",
        "    acc = accuracy_score(ytest_f3, ypred_f3)\n",
        "    accuracy_f3.append(acc)\n",
        "\n",
        "\n",
        "print(\"Accuracy of GradientBoostingClassifier for F3 : \",accuracy_f3[0])\n",
        "print(\"Accuracy of SVC for F3 : \",accuracy_f3[1])\n",
        "print(\"Accuracy of Pipeline for F3 : \",accuracy_f3[2])\n",
        "print(\"Accuracy of DecisionTreeClassifier for F3 : \",accuracy_f3[3])\n",
        "print(\"Accuracy of RandomForestClassifier for F3 : \",accuracy_f3[4])\n",
        "print(\"Accuracy of GaussianNB for F3 : \",accuracy_f3[5])"
      ],
      "id": "mQVRqnljwPOm",
      "execution_count": 81,
      "outputs": [
        {
          "output_type": "stream",
          "text": [
            "Accuracy of GradientBoostingClassifier for F3 :  0.4263261296660118\n",
            "Accuracy of SVC for F3 :  0.4027504911591356\n",
            "Accuracy of Pipeline for F3 :  0.4027504911591356\n",
            "Accuracy of DecisionTreeClassifier for F3 :  0.4518664047151277\n",
            "Accuracy of RandomForestClassifier for F3 :  0.4361493123772102\n",
            "Accuracy of GaussianNB for F3 :  0.4302554027504912\n"
          ],
          "name": "stdout"
        }
      ]
    },
    {
      "cell_type": "code",
      "metadata": {
        "id": "OtrLMkVCwRvy",
        "colab": {
          "base_uri": "https://localhost:8080/"
        },
        "outputId": "1c0ba344-086a-4e56-c37a-b8cef76ac36b"
      },
      "source": [
        "accuracy_f4=[]\n",
        "for clf in classifiers:    #####  f4\n",
        "    clf.fit(xtrain_f4, ytrain_f4)\n",
        "    ypred_f4= clf.predict(xtest_f4)\n",
        "    acc = accuracy_score(ytest_f4, ypred_f4)\n",
        "    accuracy_f4.append(acc)\n",
        "\n",
        "print(\"Accuracy of GradientBoostingClassifier for F4 : \",accuracy_f4[0])\n",
        "print(\"Accuracy of SVC for F4 : \",accuracy_f4[1])\n",
        "print(\"Accuracy of Pipeline for F4 : \",accuracy_f4[2])\n",
        "print(\"Accuracy of DecisionTreeClassifier for F4 : \",accuracy_f4[3])\n",
        "print(\"Accuracy of RandomForestClassifier for F4 : \",accuracy_f4[4])\n",
        "print(\"Accuracy of GaussianNB for F4 : \",accuracy_f4[5])"
      ],
      "id": "OtrLMkVCwRvy",
      "execution_count": 82,
      "outputs": [
        {
          "output_type": "stream",
          "text": [
            "Accuracy of GradientBoostingClassifier for F4 :  0.34577603143418467\n",
            "Accuracy of SVC for F4 :  0.3477406679764244\n",
            "Accuracy of Pipeline for F4 :  0.3477406679764244\n",
            "Accuracy of DecisionTreeClassifier for F4 :  0.3575638506876228\n",
            "Accuracy of RandomForestClassifier for F4 :  0.3555992141453831\n",
            "Accuracy of GaussianNB for F4 :  0.3654223968565815\n"
          ],
          "name": "stdout"
        }
      ]
    },
    {
      "cell_type": "code",
      "metadata": {
        "id": "bsti4l5DwY2n",
        "colab": {
          "base_uri": "https://localhost:8080/"
        },
        "outputId": "d650b3b4-f3d7-42af-9b94-8d8b9ec1738b"
      },
      "source": [
        "accuracy_f5=[]\n",
        "for clf in classifiers:   ##### f5\n",
        "    clf.fit(xtrain_f5, ytrain_f5)\n",
        "    ypred_f5= clf.predict(xtest_f5)\n",
        "    acc = accuracy_score(ytest_f5, ypred_f5)\n",
        "    accuracy_f5.append(acc)\n",
        "\n",
        "print(\"Accuracy of GradientBoostingClassifier for F5 : \",accuracy_f5[0])\n",
        "print(\"Accuracy of SVC for F5 : \",accuracy_f5[1])\n",
        "print(\"Accuracy of Pipeline for F5 : \",accuracy_f5[2])\n",
        "print(\"Accuracy of DecisionTreeClassifier for F5 : \",accuracy_f5[3])\n",
        "print(\"Accuracy of RandomForestClassifier for F5 : \",accuracy_f5[4])\n",
        "print(\"Accuracy of GaussianNB for F5 : \",accuracy_f5[5])"
      ],
      "id": "bsti4l5DwY2n",
      "execution_count": 83,
      "outputs": [
        {
          "output_type": "stream",
          "text": [
            "Accuracy of GradientBoostingClassifier for F5 :  0.41453831041257366\n",
            "Accuracy of SVC for F5 :  0.42829076620825146\n",
            "Accuracy of Pipeline for F5 :  0.42829076620825146\n",
            "Accuracy of DecisionTreeClassifier for F5 :  0.37721021611001965\n",
            "Accuracy of RandomForestClassifier for F5 :  0.37328094302554027\n",
            "Accuracy of GaussianNB for F5 :  0.4243614931237721\n"
          ],
          "name": "stdout"
        }
      ]
    },
    {
      "cell_type": "code",
      "metadata": {
        "id": "IIl6DEngwfsM"
      },
      "source": [
        "from statistics import mean\n",
        "Status_score = []\n",
        "Status_score.append(mean(accuracy_f1))\n",
        "Status_score.append(mean(accuracy_f2))\n",
        "Status_score.append(mean(accuracy_f3))\n",
        "Status_score.append(mean(accuracy_f4))\n",
        "Status_score.append(mean(accuracy_f5))\n"
      ],
      "id": "IIl6DEngwfsM",
      "execution_count": 85,
      "outputs": []
    },
    {
      "cell_type": "code",
      "metadata": {
        "colab": {
          "base_uri": "https://localhost:8080/"
        },
        "id": "nejG67uvw2nd",
        "outputId": "7b76421c-731a-43d9-bbda-4be1778ed553"
      },
      "source": [
        "Status_score"
      ],
      "id": "nejG67uvw2nd",
      "execution_count": 86,
      "outputs": [
        {
          "output_type": "execute_result",
          "data": {
            "text/plain": [
              "[0.5307793058284218,\n",
              " 0.3922724296005239,\n",
              " 0.42501637197118536,\n",
              " 0.3533071381794368,\n",
              " 0.4076620825147348]"
            ]
          },
          "metadata": {
            "tags": []
          },
          "execution_count": 86
        }
      ]
    },
    {
      "cell_type": "code",
      "metadata": {
        "colab": {
          "base_uri": "https://localhost:8080/",
          "height": 295
        },
        "id": "5ldLm_2Jw9SP",
        "outputId": "8f5bed32-dfa2-4785-f5d8-4192d8bcd94e"
      },
      "source": [
        "plt.scatter( 1 , Status_score[0]*100 , label=\"F1\",linewidth=8)\n",
        "plt.scatter( 2 , Status_score[2]*100 , label=\"F3\",linewidth=8)\n",
        "plt.scatter( 3 , Status_score[4]*100 , label=\"F5\",linewidth=8)\n",
        "plt.scatter( 4 , Status_score[1]*100 , label=\"F2\",linewidth=8)\n",
        "plt.scatter( 5 , Status_score[3]*100 , label=\"F4\",linewidth=8)\n",
        "plt.ylabel(\"Mean accuracy percentage\")\n",
        "plt.xlabel(\"Each set of features\")\n",
        "plt.title(\"Status Label\")\n",
        "plt.legend()\n",
        "plt.show()"
      ],
      "id": "5ldLm_2Jw9SP",
      "execution_count": 87,
      "outputs": [
        {
          "output_type": "display_data",
          "data": {
            "image/png": "[encoded data removed]",
            "text/plain": [
              "<Figure size 432x288 with 1 Axes>"
            ]
          },
          "metadata": {
            "tags": [],
            "needs_background": "light"
          }
        }
      ]
    },
    {
      "cell_type": "markdown",
      "metadata": {
        "id": "3K5l_ZpQHEdO"
      },
      "source": [
        "***Design the Classifier***"
      ],
      "id": "3K5l_ZpQHEdO"
    },
    {
      "cell_type": "code",
      "metadata": {
        "id": "zJgWl4e1HDjV"
      },
      "source": [
        "FirstModel = GaussianNB()\n",
        "FirstModel.fit(xtrain_f1, ytrain_f1)\n",
        "ypred_f1= FirstModel.predict(xtest_f1)\n",
        "acc = accuracy_score(ytest_f1, ypred_f1)"
      ],
      "id": "zJgWl4e1HDjV",
      "execution_count": 88,
      "outputs": []
    },
    {
      "cell_type": "code",
      "metadata": {
        "colab": {
          "base_uri": "https://localhost:8080/"
        },
        "id": "Cio54z0ZHi_-",
        "outputId": "7b27bc27-4c6a-436d-fc3e-8011e5ff169d"
      },
      "source": [
        "print(\"Accuracy of First Classifier  is : %0.2f\"%(acc*100) )"
      ],
      "id": "Cio54z0ZHi_-",
      "execution_count": 89,
      "outputs": [
        {
          "output_type": "stream",
          "text": [
            "Accuracy of First Classifier  is : 54.22\n"
          ],
          "name": "stdout"
        }
      ]
    },
    {
      "cell_type": "code",
      "metadata": {
        "colab": {
          "base_uri": "https://localhost:8080/",
          "height": 459
        },
        "id": "S9mvEf1cIOTB",
        "outputId": "8eafcf66-fe5a-4830-f169-a72560df83bb"
      },
      "source": [
        "from sklearn.metrics import confusion_matrix\n",
        "from sklearn.metrics import classification_report\n",
        "\n",
        "print(classification_report(ytest_f1, FirstModel.predict(xtest_f1),target_names=class_names)) \n",
        "cf_matrix=confusion_matrix(ytest_f1, FirstModel.predict(xtest_f1))\n",
        "import seaborn as sns\n",
        "x_axis_labels = class_names \n",
        "y_axis_labels = class_names \n",
        "sns.heatmap(cf_matrix, annot=True,xticklabels=x_axis_labels, yticklabels=y_axis_labels,cmap='Blues')"
      ],
      "id": "S9mvEf1cIOTB",
      "execution_count": 90,
      "outputs": [
        {
          "output_type": "stream",
          "text": [
            "              precision    recall  f1-score   support\n",
            "\n",
            "       Happy       0.71      0.60      0.65       168\n",
            "     Neutral       0.44      0.49      0.46       175\n",
            "         Sad       0.52      0.54      0.53       166\n",
            "\n",
            "    accuracy                           0.54       509\n",
            "   macro avg       0.56      0.54      0.55       509\n",
            "weighted avg       0.56      0.54      0.55       509\n",
            "\n"
          ],
          "name": "stdout"
        },
        {
          "output_type": "execute_result",
          "data": {
            "text/plain": [
              "<matplotlib.axes._subplots.AxesSubplot at 0x7f1fecf5d3d0>"
            ]
          },
          "metadata": {
            "tags": []
          },
          "execution_count": 90
        },
        {
          "output_type": "display_data",
          "data": {
            "image/png": "[encoded data removed]",
            "text/plain": [
              "<Figure size 432x288 with 2 Axes>"
            ]
          },
          "metadata": {
            "tags": [],
            "needs_background": "light"
          }
        }
      ]
    }
  ]
}