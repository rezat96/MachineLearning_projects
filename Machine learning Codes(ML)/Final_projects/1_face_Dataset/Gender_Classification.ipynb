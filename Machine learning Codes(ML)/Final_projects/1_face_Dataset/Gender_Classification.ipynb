{
  "nbformat": 4,
  "nbformat_minor": 5,
  "metadata": {
    "accelerator": "GPU",
    "colab": {
      "name": "ML_Project_Gender.ipynb",
      "provenance": []
    },
    "kernelspec": {
      "display_name": "Python 3",
      "language": "python",
      "name": "python3"
    },
    "language_info": {
      "codemirror_mode": {
        "name": "ipython",
        "version": 3
      },
      "file_extension": ".py",
      "mimetype": "text/x-python",
      "name": "python",
      "nbconvert_exporter": "python",
      "pygments_lexer": "ipython3",
      "version": "3.7.10"
    }
  },
  "cells": [
    {
      "cell_type": "code",
      "metadata": {
        "id": "bb0cff42"
      },
      "source": [
        "import pandas as pd\n",
        "import numpy as np\n",
        "import matplotlib.pyplot as plt\n",
        "import pickle5 as pickle"
      ],
      "id": "bb0cff42",
      "execution_count": 182,
      "outputs": []
    },
    {
      "cell_type": "code",
      "metadata": {
        "id": "akzZLsxuwDbc",
        "colab": {
          "base_uri": "https://localhost:8080/"
        },
        "outputId": "98023ce7-acd5-44dd-c0a7-bf25360133d0"
      },
      "source": [
        "from google.colab import drive\n",
        "drive.mount('/content/drive')"
      ],
      "id": "akzZLsxuwDbc",
      "execution_count": 214,
      "outputs": [
        {
          "output_type": "stream",
          "text": [
            "Drive already mounted at /content/drive; to attempt to forcibly remount, call drive.mount(\"/content/drive\", force_remount=True).\n"
          ],
          "name": "stdout"
        }
      ]
    },
    {
      "cell_type": "code",
      "metadata": {
        "id": "x2lLw_G0x1kY"
      },
      "source": [
        "!pip3 install pickle5"
      ],
      "id": "x2lLw_G0x1kY",
      "execution_count": null,
      "outputs": []
    },
    {
      "cell_type": "code",
      "metadata": {
        "id": "c395a543"
      },
      "source": [
        "path=r'/content/drive/MyDrive'\n",
        "#path=r'E:\\University\\Tehran University_Arshad\\Terme 2\\Machine learning\\00Final Project'\n",
        "df=pickle.load(open(f\"{path}/ml_project_dataset.pkl\", \"rb\"))"
      ],
      "id": "c395a543",
      "execution_count": 215,
      "outputs": []
    },
    {
      "cell_type": "code",
      "metadata": {
        "id": "d063fe0a",
        "scrolled": true
      },
      "source": [
        "Data=df.values"
      ],
      "id": "d063fe0a",
      "execution_count": 216,
      "outputs": []
    },
    {
      "cell_type": "code",
      "metadata": {
        "colab": {
          "base_uri": "https://localhost:8080/"
        },
        "id": "777ba150",
        "scrolled": true,
        "outputId": "55032b70-2274-432e-ef45-fa36550a3baa"
      },
      "source": [
        "for i in range(5):\n",
        "    print(\"Number of features for each sample of f{} : \".format(i+1) ,df['f'+str(i+1)][1000].shape[0])"
      ],
      "id": "777ba150",
      "execution_count": 217,
      "outputs": [
        {
          "output_type": "stream",
          "text": [
            "Number of features for each sample of f1 :  512\n",
            "Number of features for each sample of f2 :  1536\n",
            "Number of features for each sample of f3 :  2304\n",
            "Number of features for each sample of f4 :  2560\n",
            "Number of features for each sample of f5 :  204\n"
          ],
          "name": "stdout"
        }
      ]
    },
    {
      "cell_type": "code",
      "metadata": {
        "colab": {
          "base_uri": "https://localhost:8080/"
        },
        "id": "UWQVxlfLyLu2",
        "outputId": "08a2d8a2-a6f9-41ad-97b8-08a276c399c6"
      },
      "source": [
        "#Arranging gender label\n",
        "print(\"All types in Gender Label : \" , np.unique(Data[ :,1]))\n",
        "Gender = Data[ : , 1]\n",
        "indices_f = [i for i, x in enumerate(Gender) if x == 'F' or x =='female' ]\n",
        "indices_m = [i for i, x in enumerate(Gender) if x == 'M' or x =='male' or x == 'm' ]\n",
        "\n",
        "for i in (indices_f): Gender[i] = 'Female'\n",
        "for i in (indices_m): Gender[i] = 'Male'\n",
        "Data[ : , 1] = Gender\n",
        "print(\"Final Labels : \" ,np.unique(Data[ : , 1]))  # Done"
      ],
      "id": "UWQVxlfLyLu2",
      "execution_count": 218,
      "outputs": [
        {
          "output_type": "stream",
          "text": [
            "All types in Gender Label :  ['F' 'Female' 'M' 'Male' 'female' 'm' 'male']\n",
            "Final Labels :  ['Female' 'Male']\n"
          ],
          "name": "stdout"
        }
      ]
    },
    {
      "cell_type": "code",
      "metadata": {
        "id": "VIsIEzoXJx8Q"
      },
      "source": [
        "#Arranging Status label\n",
        "print(np.unique(Data[ :,2]))\n",
        "status = Data[ : ,2]\n",
        "indices_S = [i for i, x in enumerate(status) if x == 'sad' or x =='S' ]\n",
        "indices_H = [i for i, x in enumerate(status) if x == 'H' or x =='happy' or x == 'happy ' ]\n",
        "indices_N = [i for i, x in enumerate(status) if x == 'N' or x =='Normal' or x =='natural'  or x=='neutral']\n",
        "\n",
        "for i in (indices_S): status[i] = 'Sad'\n",
        "for i in (indices_H): status[i] = 'Happy'\n",
        "for i in (indices_N): status[i] = 'Neutral'\n",
        "\n",
        "indices_fake =[i for i, x in enumerate(status) if x != 'Sad' and x !='Happy' and x!= 'Neutral' ]\n",
        "print(indices_fake)\n",
        "Data[ : , 2] = status"
      ],
      "id": "VIsIEzoXJx8Q",
      "execution_count": null,
      "outputs": []
    },
    {
      "cell_type": "code",
      "metadata": {
        "id": "6h26OH9OJ2on"
      },
      "source": [
        "#Removing fake datas\n",
        "Data = [Data[x , : ] for x in range(len(Data[: , 0])) if x not in (indices_fake)]\n",
        "Data = np.array(Data)"
      ],
      "id": "6h26OH9OJ2on",
      "execution_count": 224,
      "outputs": []
    },
    {
      "cell_type": "code",
      "metadata": {
        "colab": {
          "base_uri": "https://localhost:8080/"
        },
        "id": "ApiXerCLSWcU",
        "scrolled": true,
        "outputId": "88557ed2-f652-443e-e523-174f14ee7c9e"
      },
      "source": [
        "print(\"Age : \" ,np.unique(Data[ : , 0]))\n",
        "print(\"Gender Label : \" ,np.unique(Data[ : , 1]))\n",
        "print(\"Status Label : \" ,np.unique(Data[ : , 2]))\n",
        "#All checked"
      ],
      "id": "ApiXerCLSWcU",
      "execution_count": 225,
      "outputs": [
        {
          "output_type": "stream",
          "text": [
            "Age :  [5 6 7 8 9 10 11 12 14 16 17 18 19 20 21 22 23 24 25 26 27 28 29 30 31 32\n",
            " 33 34 35 38 40 44 46 47 49 50 51 52 54 55 56 57 58 59 60 62 82]\n",
            "Gender Label :  ['Female' 'Male']\n",
            "Status Label :  ['Happy' 'Neutral' 'Sad']\n"
          ],
          "name": "stdout"
        }
      ]
    },
    {
      "cell_type": "code",
      "metadata": {
        "id": "n-l5fjLRaHHO"
      },
      "source": [
        "num_f = len( [i for i, x in enumerate(Data[ : , 1]) if x == 'Female'])\n",
        "num_m = len( [i for i, x in enumerate(Data[ : , 1]) if x == 'Male'])\n",
        "print(num_f , num_m) #Need upsampling\n",
        "\n",
        "dataG = {'Female':num_f, 'Male':num_m}\n",
        "Gender = list(dataG.keys())\n",
        "valuesG = list(dataG.values())\n",
        "  \n",
        "fig = plt.figure(figsize = (9, 5))\n",
        "\n",
        "plt.bar(Gender, valuesG, color ='mediumorchid',width = 0.3)\n",
        " \n",
        "plt.xlabel(\"Gender\")\n",
        "plt.ylabel(\"number of samples\")\n",
        "plt.show()"
      ],
      "id": "n-l5fjLRaHHO",
      "execution_count": null,
      "outputs": []
    },
    {
      "cell_type": "code",
      "metadata": {
        "id": "ElAM_OrWfJ3S",
        "colab": {
          "base_uri": "https://localhost:8080/"
        },
        "outputId": "43913096-377b-45c2-bd94-232ce23349e7"
      },
      "source": [
        "#Remove NANs\n",
        "f1 = list(Data[ : , 3])\n",
        "f2 = list(Data[ : , 4])\n",
        "f3 = list(Data[ : , 5])\n",
        "f4 = list(Data[ : , 6])\n",
        "f5 = list(Data[ : , 7])\n",
        "\n",
        "f1= np.array(f1)\n",
        "f2= np.array(f2)\n",
        "f3= np.array(f3)\n",
        "f4= np.array(f4)\n",
        "f5= np.array(f5)\n",
        "\n",
        "nan_f1 = np.argwhere(np.isnan(f1))\n",
        "nan_f2 = np.argwhere(np.isnan(f2))\n",
        "nan_f3 = np.argwhere(np.isnan(f3))\n",
        "nan_f4 = np.argwhere(np.isnan(f4))\n",
        "nan_f5 = np.argwhere(np.isnan(f5))\n",
        "print(\"Shape of NAN in each feature set : \" ,nan_f1.shape , nan_f2.shape , nan_f3.shape , nan_f4.shape , nan_f5.shape)"
      ],
      "id": "ElAM_OrWfJ3S",
      "execution_count": 227,
      "outputs": [
        {
          "output_type": "stream",
          "text": [
            "Shape of NAN in each feature set :  (155136, 2) (402432, 2) (603648, 2) (0, 2) (178908, 2)\n"
          ],
          "name": "stdout"
        }
      ]
    },
    {
      "cell_type": "code",
      "metadata": {
        "colab": {
          "base_uri": "https://localhost:8080/"
        },
        "id": "7RM5uy7or3gl",
        "outputId": "96c91303-1243-4cbb-e1ca-8c27562f19c5"
      },
      "source": [
        "col_meanf1 = np.nanmean(f1 , axis = 0)\n",
        "col_meanf2 = np.nanmean(f2 , axis = 0)\n",
        "col_meanf3 = np.nanmean(f3 , axis = 0)\n",
        "col_meanf4 = np.nanmean(f4 , axis = 0)\n",
        "col_meanf5 = np.nanmean(f5 , axis = 0)\n",
        "\n",
        "inds1 = np.where(np.isnan(f1))\n",
        "f1[inds1] = np.take(col_meanf1 , inds1[1])\n",
        "inds2 = np.where(np.isnan(f2))\n",
        "f2[inds2] = np.take(col_meanf2 , inds2[1])\n",
        "inds3 = np.where(np.isnan(f3))\n",
        "f3[inds3] = np.take(col_meanf3 , inds3[1])\n",
        "inds4 = np.where(np.isnan(f4))\n",
        "f4[inds4] = np.take(col_meanf4 , inds4[1])\n",
        "inds5 = np.where(np.isnan(f5))\n",
        "f5[inds5] = np.take(col_meanf5 , inds5[1])\n",
        "\n",
        "nan_f1 = np.argwhere(np.isnan(f1))\n",
        "nan_f2 = np.argwhere(np.isnan(f2))\n",
        "nan_f3 = np.argwhere(np.isnan(f3))\n",
        "nan_f4 = np.argwhere(np.isnan(f4))\n",
        "nan_f5 = np.argwhere(np.isnan(f5))\n",
        "\n",
        "print(\"Shape of NAN in each feature set : \" ,nan_f1.shape , nan_f2.shape , nan_f3.shape , nan_f4.shape, nan_f5.shape) #All checked     # Need to be more clean "
      ],
      "id": "7RM5uy7or3gl",
      "execution_count": 228,
      "outputs": [
        {
          "output_type": "stream",
          "text": [
            "Shape of NAN in each feature set :  (0, 2) (0, 2) (0, 2) (0, 2) (0, 2)\n"
          ],
          "name": "stdout"
        }
      ]
    },
    {
      "cell_type": "markdown",
      "metadata": {
        "id": "eeed2345"
      },
      "source": [
        "# All feature sets for Gender Label"
      ],
      "id": "eeed2345"
    },
    {
      "cell_type": "code",
      "metadata": {
        "id": "FwleFKe70I88"
      },
      "source": [
        "from imblearn.over_sampling import SMOTE\n",
        "from imblearn.under_sampling import RandomUnderSampler"
      ],
      "id": "FwleFKe70I88",
      "execution_count": 230,
      "outputs": []
    },
    {
      "cell_type": "code",
      "metadata": {
        "id": "cb687ca8"
      },
      "source": [
        "x_f1=f1.copy()\n",
        "x_f2=f2.copy()\n",
        "x_f3=f3.copy()\n",
        "x_f4=f4.copy()\n",
        "x_f5=f5.copy()\n",
        "\n",
        "y_G = Data[:,1].copy()   "
      ],
      "id": "cb687ca8",
      "execution_count": 231,
      "outputs": []
    },
    {
      "cell_type": "code",
      "metadata": {
        "scrolled": true,
        "id": "a73be031",
        "colab": {
          "base_uri": "https://localhost:8080/"
        },
        "outputId": "01640cd5-0d76-4336-975c-ea7ea67133ea"
      },
      "source": [
        "np.unique(y_G,return_counts=True)"
      ],
      "id": "a73be031",
      "execution_count": 232,
      "outputs": [
        {
          "output_type": "execute_result",
          "data": {
            "text/plain": [
              "(array(['Female', 'Male'], dtype=object), array([ 902, 1643]))"
            ]
          },
          "metadata": {
            "tags": []
          },
          "execution_count": 232
        }
      ]
    },
    {
      "cell_type": "code",
      "metadata": {
        "id": "dbff768a"
      },
      "source": [
        "from sklearn.model_selection import train_test_split\n",
        "# split the dataset into train and test for f1\n",
        "xtrain_f1, xtest_f1, ytrain_f1, ytest_f1 = train_test_split(x_f1, y_G, test_size=0.2, random_state=40)\n",
        "\n",
        "# split the dataset into train and test for f2\n",
        "xtrain_f2, xtest_f2, ytrain_f2, ytest_f2 = train_test_split(x_f2, y_G, test_size=0.2, random_state=40)\n",
        "\n",
        "# split the dataset into train and test for f3\n",
        "xtrain_f3, xtest_f3, ytrain_f3, ytest_f3 = train_test_split(x_f3, y_G, test_size=0.2, random_state=40)\n",
        "\n",
        "# split the dataset into train and test for f4\n",
        "xtrain_f4, xtest_f4, ytrain_f4, ytest_f4 = train_test_split(x_f4, y_G, test_size=0.2, random_state=40)\n",
        "\n",
        "# split the dataset into train and test for f5\n",
        "xtrain_f5, xtest_f5, ytrain_f5, ytest_f5 = train_test_split(x_f5, y_G, test_size=0.2, random_state=40)"
      ],
      "id": "dbff768a",
      "execution_count": 233,
      "outputs": []
    },
    {
      "cell_type": "code",
      "metadata": {
        "colab": {
          "base_uri": "https://localhost:8080/",
          "height": 366
        },
        "id": "ine1iVIJ2u9x",
        "outputId": "b69ac40a-b1be-404f-c386-77a84fd649ca"
      },
      "source": [
        "num_f = len( [i for i, x in enumerate(ytest_f1) if x == 'Female'])\n",
        "num_m = len( [i for i, x in enumerate(ytest_f1) if x == 'Male'])\n",
        "print(num_f , num_m) #Need upsampling\n",
        "\n",
        "dataG = {'Female':num_f, 'Male':num_m}\n",
        "Gender = list(dataG.keys())\n",
        "valuesG = list(dataG.values())\n",
        "  \n",
        "fig = plt.figure(figsize = (9, 5))\n",
        "\n",
        "plt.bar(Gender, valuesG, color ='mediumorchid',width = 0.3)\n",
        " \n",
        "plt.xlabel(\"Gender\")\n",
        "plt.ylabel(\"Number of samples\")\n",
        "plt.title(\"Disturbution of data in Test set for Gender Label before Upsampling\")\n",
        "plt.show()"
      ],
      "id": "ine1iVIJ2u9x",
      "execution_count": 234,
      "outputs": [
        {
          "output_type": "stream",
          "text": [
            "176 333\n"
          ],
          "name": "stdout"
        },
        {
          "output_type": "display_data",
          "data": {
            "image/png": "[encoded data removed]",
            "text/plain": [
              "<Figure size 648x360 with 1 Axes>"
            ]
          },
          "metadata": {
            "tags": [],
            "needs_background": "light"
          }
        }
      ]
    },
    {
      "cell_type": "code",
      "metadata": {
        "id": "51bb2462",
        "colab": {
          "base_uri": "https://localhost:8080/"
        },
        "outputId": "de897003-6376-4b77-c9fa-f6b0e8119ff2"
      },
      "source": [
        "oversample = SMOTE()\n",
        "xtrain_f1, ytrain_f1 = oversample.fit_resample(xtrain_f1, ytrain_f1)\n",
        "\n",
        "xtrain_f2, ytrain_f2 = oversample.fit_resample(xtrain_f2, ytrain_f2)\n",
        "\n",
        "xtrain_f3, ytrain_f3 = oversample.fit_resample(xtrain_f3, ytrain_f3)\n",
        "\n",
        "xtrain_f4, ytrain_f4 = oversample.fit_resample(xtrain_f4, ytrain_f4)\n",
        "\n",
        "xtrain_f5, ytrain_f5 = oversample.fit_resample(xtrain_f5, ytrain_f5)"
      ],
      "id": "51bb2462",
      "execution_count": 235,
      "outputs": [
        {
          "output_type": "stream",
          "text": [
            "/usr/local/lib/python3.7/dist-packages/sklearn/utils/deprecation.py:87: FutureWarning: Function safe_indexing is deprecated; safe_indexing is deprecated in version 0.22 and will be removed in version 0.24.\n",
            "  warnings.warn(msg, category=FutureWarning)\n",
            "/usr/local/lib/python3.7/dist-packages/sklearn/utils/deprecation.py:87: FutureWarning: Function safe_indexing is deprecated; safe_indexing is deprecated in version 0.22 and will be removed in version 0.24.\n",
            "  warnings.warn(msg, category=FutureWarning)\n",
            "/usr/local/lib/python3.7/dist-packages/sklearn/utils/deprecation.py:87: FutureWarning: Function safe_indexing is deprecated; safe_indexing is deprecated in version 0.22 and will be removed in version 0.24.\n",
            "  warnings.warn(msg, category=FutureWarning)\n",
            "/usr/local/lib/python3.7/dist-packages/sklearn/utils/deprecation.py:87: FutureWarning: Function safe_indexing is deprecated; safe_indexing is deprecated in version 0.22 and will be removed in version 0.24.\n",
            "  warnings.warn(msg, category=FutureWarning)\n",
            "/usr/local/lib/python3.7/dist-packages/sklearn/utils/deprecation.py:87: FutureWarning: Function safe_indexing is deprecated; safe_indexing is deprecated in version 0.22 and will be removed in version 0.24.\n",
            "  warnings.warn(msg, category=FutureWarning)\n"
          ],
          "name": "stderr"
        }
      ]
    },
    {
      "cell_type": "code",
      "metadata": {
        "colab": {
          "base_uri": "https://localhost:8080/",
          "height": 366
        },
        "id": "LYvr-InU5yJS",
        "outputId": "32781a8a-7cf5-4f91-b643-f00e87f19dce"
      },
      "source": [
        "num_f = len( [i for i, x in enumerate(ytrain_f1) if x == 'Female'])\n",
        "num_m = len( [i for i, x in enumerate(ytrain_f1) if x == 'Male'])\n",
        "print(num_f , num_m) #Need upsampling\n",
        "\n",
        "dataG = {'Female':num_f, 'Male':num_m}\n",
        "Gender = list(dataG.keys())\n",
        "valuesG = list(dataG.values())\n",
        "  \n",
        "fig = plt.figure(figsize = (9, 5))\n",
        "\n",
        "plt.bar(Gender, valuesG, color ='mediumorchid',width = 0.3)\n",
        " \n",
        "plt.xlabel(\"Gender\")\n",
        "plt.ylabel(\"Number of samples\")\n",
        "plt.title(\"Disturbution of data in Train set for Gender Label after Upsampling\")\n",
        "plt.show()"
      ],
      "id": "LYvr-InU5yJS",
      "execution_count": 236,
      "outputs": [
        {
          "output_type": "stream",
          "text": [
            "1310 1310\n"
          ],
          "name": "stdout"
        },
        {
          "output_type": "display_data",
          "data": {
            "image/png": "[encoded data removed]",
            "text/plain": [
              "<Figure size 648x360 with 1 Axes>"
            ]
          },
          "metadata": {
            "tags": [],
            "needs_background": "light"
          }
        }
      ]
    },
    {
      "cell_type": "code",
      "metadata": {
        "id": "695f73b7"
      },
      "source": [
        "# normalize the dataset\n",
        "from sklearn.preprocessing import StandardScaler, MinMaxScaler\n",
        "sc = StandardScaler()\n",
        "\n",
        "xtrain_f1 = sc.fit_transform(xtrain_f1)\n",
        "xtest_f1 = sc.transform(xtest_f1)\n",
        "\n",
        "xtrain_f2 = sc.fit_transform(xtrain_f2)\n",
        "xtest_f2 = sc.transform(xtest_f2)\n",
        "\n",
        "xtrain_f3 = sc.fit_transform(xtrain_f3)\n",
        "xtest_f3 = sc.transform(xtest_f3)\n",
        "\n",
        "xtrain_f4 = sc.fit_transform(xtrain_f4)\n",
        "xtest_f4 = sc.transform(xtest_f4)\n",
        "\n",
        "xtrain_f5 = sc.fit_transform(xtrain_f5)\n",
        "xtest_f5 = sc.transform(xtest_f5)"
      ],
      "id": "695f73b7",
      "execution_count": 237,
      "outputs": []
    },
    {
      "cell_type": "markdown",
      "metadata": {
        "id": "8f10241a"
      },
      "source": [
        "# LDA"
      ],
      "id": "8f10241a"
    },
    {
      "cell_type": "code",
      "metadata": {
        "id": "dde50ddb"
      },
      "source": [
        "from sklearn.discriminant_analysis import LinearDiscriminantAnalysis"
      ],
      "id": "dde50ddb",
      "execution_count": 238,
      "outputs": []
    },
    {
      "cell_type": "code",
      "metadata": {
        "scrolled": true,
        "id": "3d6b35d4"
      },
      "source": [
        "lda = LinearDiscriminantAnalysis(n_components=1)\n",
        "\n",
        "xtrain_f1 = lda.fit(xtrain_f1, ytrain_f1).transform(xtrain_f1)\n",
        "xtest_f1=lda.transform(xtest_f1)\n",
        "\n",
        "xtrain_f2 = lda.fit(xtrain_f2, ytrain_f2).transform(xtrain_f2)\n",
        "xtest_f2=lda.transform(xtest_f2)\n",
        "\n",
        "xtrain_f3 = lda.fit(xtrain_f3, ytrain_f3).transform(xtrain_f3)\n",
        "xtest_f3=lda.transform(xtest_f3)\n",
        "\n",
        "xtrain_f4 = lda.fit(xtrain_f4, ytrain_f4).transform(xtrain_f4)\n",
        "xtest_f4=lda.transform(xtest_f4)\n",
        "\n",
        "xtrain_f5 = lda.fit(xtrain_f5, ytrain_f5).transform(xtrain_f5)\n",
        "xtest_f5=lda.transform(xtest_f5)"
      ],
      "id": "3d6b35d4",
      "execution_count": 239,
      "outputs": []
    },
    {
      "cell_type": "code",
      "metadata": {
        "id": "2d157e5e"
      },
      "source": [
        "class_names=['Female','Male']"
      ],
      "id": "2d157e5e",
      "execution_count": 240,
      "outputs": []
    },
    {
      "cell_type": "markdown",
      "metadata": {
        "id": "f4350177"
      },
      "source": [
        "# All Classifiers"
      ],
      "id": "f4350177"
    },
    {
      "cell_type": "code",
      "metadata": {
        "id": "107b318e"
      },
      "source": [
        "from sklearn.metrics import accuracy_score, confusion_matrix\n",
        "from sklearn.ensemble import RandomForestClassifier\n",
        "from sklearn import svm, tree\n",
        "from sklearn.ensemble import GradientBoostingClassifier\n",
        "from sklearn.pipeline import Pipeline\n",
        "from sklearn.pipeline import make_pipeline\n",
        "from sklearn.naive_bayes import GaussianNB   "
      ],
      "id": "107b318e",
      "execution_count": 241,
      "outputs": []
    },
    {
      "cell_type": "code",
      "metadata": {
        "id": "45704bed"
      },
      "source": [
        "classifiers=[]\n",
        "model1 = GradientBoostingClassifier(n_estimators=100, learning_rate=1.0,max_depth=1, random_state=0)\n",
        "classifiers.append(model1)\n",
        "model2 = svm.SVC()\n",
        "classifiers.append(model2)\n",
        "model3 =make_pipeline(StandardScaler(), svm.SVC(gamma='auto'))\n",
        "classifiers.append(model3)\n",
        "model4 = tree.DecisionTreeClassifier()\n",
        "classifiers.append(model4)\n",
        "model5 = RandomForestClassifier()\n",
        "classifiers.append(model5)\n",
        "model6 = GaussianNB()\n",
        "classifiers.append(model6)"
      ],
      "id": "45704bed",
      "execution_count": 243,
      "outputs": []
    },
    {
      "cell_type": "code",
      "metadata": {
        "scrolled": true,
        "id": "552df3ac",
        "colab": {
          "base_uri": "https://localhost:8080/"
        },
        "outputId": "9d268e90-e1b9-42b8-b922-ca1d9400af8b"
      },
      "source": [
        "accuracy_f1=[]\n",
        "for clf in classifiers:\n",
        "  clf.fit(xtrain_f1, ytrain_f1)\n",
        "  ypred_f1= clf.predict(xtest_f1)\n",
        "  acc = accuracy_score(ytest_f1, ypred_f1)\n",
        "  accuracy_f1.append(acc)\n",
        "   \n",
        "print(\"Accuracy of GradientBoostingClassifier for F1 : \",accuracy_f1[0])\n",
        "print(\"Accuracy of SVC for F1 : \",accuracy_f1[1])\n",
        "print(\"Accuracy of Pipeline for F1 : \",accuracy_f1[2])\n",
        "print(\"Accuracy of DecisionTreeClassifier for F1 : \",accuracy_f1[3])\n",
        "print(\"Accuracy of RandomForestClassifier for F1 : \",accuracy_f1[4])\n",
        "print(\"Accuracy of GaussianNB for F1 : \",accuracy_f1[5])\n"
      ],
      "id": "552df3ac",
      "execution_count": 244,
      "outputs": [
        {
          "output_type": "stream",
          "text": [
            "Accuracy of GradientBoostingClassifier for F1 :  0.9351669941060904\n",
            "Accuracy of SVC for F1 :  0.93713163064833\n",
            "Accuracy of Pipeline for F1 :  0.93713163064833\n",
            "Accuracy of DecisionTreeClassifier for F1 :  0.9233791748526523\n",
            "Accuracy of RandomForestClassifier for F1 :  0.9214145383104125\n",
            "Accuracy of GaussianNB for F1 :  0.9351669941060904\n"
          ],
          "name": "stdout"
        }
      ]
    },
    {
      "cell_type": "code",
      "metadata": {
        "id": "WmC_xm8a_Pgx",
        "colab": {
          "base_uri": "https://localhost:8080/"
        },
        "outputId": "c6443cfc-154f-403b-936e-12bc8f8d8831"
      },
      "source": [
        "accuracy_f2=[]\n",
        "for clf in classifiers:      #####   f2\n",
        "    clf.fit(xtrain_f2, ytrain_f2)\n",
        "    ypred_f2= clf.predict(xtest_f2)\n",
        "    acc = accuracy_score(ytest_f2, ypred_f2)\n",
        "    accuracy_f2.append(acc)\n",
        "    print(\"Accuracy of %s is %0.2f\"%(clf, acc*100))\n",
        "print(\"Accuracy of GradientBoostingClassifier for F2 : \",accuracy_f2[0])\n",
        "print(\"Accuracy of SVC for F2 : \",accuracy_f2[1])\n",
        "print(\"Accuracy of Pipeline for F2 : \",accuracy_f2[2])\n",
        "print(\"Accuracy of DecisionTreeClassifier for F2 : \",accuracy_f2[3])\n",
        "print(\"Accuracy of RandomForestClassifier for F2 : \",accuracy_f2[4])\n",
        "print(\"Accuracy of GaussianNB for F2 : \",accuracy_f2[5])"
      ],
      "id": "WmC_xm8a_Pgx",
      "execution_count": 245,
      "outputs": [
        {
          "output_type": "stream",
          "text": [
            "Accuracy of GradientBoostingClassifier(ccp_alpha=0.0, criterion='friedman_mse', init=None,\n",
            "                           learning_rate=1.0, loss='deviance', max_depth=1,\n",
            "                           max_features=None, max_leaf_nodes=None,\n",
            "                           min_impurity_decrease=0.0, min_impurity_split=None,\n",
            "                           min_samples_leaf=1, min_samples_split=2,\n",
            "                           min_weight_fraction_leaf=0.0, n_estimators=100,\n",
            "                           n_iter_no_change=None, presort='deprecated',\n",
            "                           random_state=0, subsample=1.0, tol=0.0001,\n",
            "                           validation_fraction=0.1, verbose=0,\n",
            "                           warm_start=False) is 79.96\n",
            "Accuracy of SVC(C=1.0, break_ties=False, cache_size=200, class_weight=None, coef0=0.0,\n",
            "    decision_function_shape='ovr', degree=3, gamma='scale', kernel='rbf',\n",
            "    max_iter=-1, probability=False, random_state=None, shrinking=True,\n",
            "    tol=0.001, verbose=False) is 77.80\n",
            "Accuracy of Pipeline(memory=None,\n",
            "         steps=[('standardscaler',\n",
            "                 StandardScaler(copy=True, with_mean=True, with_std=True)),\n",
            "                ('svc',\n",
            "                 SVC(C=1.0, break_ties=False, cache_size=200, class_weight=None,\n",
            "                     coef0=0.0, decision_function_shape='ovr', degree=3,\n",
            "                     gamma='auto', kernel='rbf', max_iter=-1, probability=False,\n",
            "                     random_state=None, shrinking=True, tol=0.001,\n",
            "                     verbose=False))],\n",
            "         verbose=False) is 77.80\n",
            "Accuracy of DecisionTreeClassifier(ccp_alpha=0.0, class_weight=None, criterion='gini',\n",
            "                       max_depth=None, max_features=None, max_leaf_nodes=None,\n",
            "                       min_impurity_decrease=0.0, min_impurity_split=None,\n",
            "                       min_samples_leaf=1, min_samples_split=2,\n",
            "                       min_weight_fraction_leaf=0.0, presort='deprecated',\n",
            "                       random_state=None, splitter='best') is 80.94\n",
            "Accuracy of RandomForestClassifier(bootstrap=True, ccp_alpha=0.0, class_weight=None,\n",
            "                       criterion='gini', max_depth=None, max_features='auto',\n",
            "                       max_leaf_nodes=None, max_samples=None,\n",
            "                       min_impurity_decrease=0.0, min_impurity_split=None,\n",
            "                       min_samples_leaf=1, min_samples_split=2,\n",
            "                       min_weight_fraction_leaf=0.0, n_estimators=100,\n",
            "                       n_jobs=None, oob_score=False, random_state=None,\n",
            "                       verbose=0, warm_start=False) is 81.34\n",
            "Accuracy of GaussianNB(priors=None, var_smoothing=1e-09) is 80.94\n",
            "Accuracy of GradientBoostingClassifier for F2 :  0.7996070726915521\n",
            "Accuracy of SVC for F2 :  0.7779960707269156\n",
            "Accuracy of Pipeline for F2 :  0.7779960707269156\n",
            "Accuracy of DecisionTreeClassifier for F2 :  0.8094302554027505\n",
            "Accuracy of RandomForestClassifier for F2 :  0.8133595284872298\n",
            "Accuracy of GaussianNB for F2 :  0.8094302554027505\n"
          ],
          "name": "stdout"
        }
      ]
    },
    {
      "cell_type": "code",
      "metadata": {
        "id": "E-uF0jCb_dea",
        "colab": {
          "base_uri": "https://localhost:8080/"
        },
        "outputId": "0e2b6483-c25c-4ce6-b5a0-bbe013a55dd9"
      },
      "source": [
        "accuracy_f3=[]\n",
        "for clf in classifiers:     #####  f3\n",
        "  clf.fit(xtrain_f3, ytrain_f3)\n",
        "  ypred_f3= clf.predict(xtest_f3)\n",
        "  acc = accuracy_score(ytest_f3, ypred_f3)\n",
        "  accuracy_f3.append(acc)\n",
        "  print(\"Accuracy of %s is %0.2f\"%(clf, acc*100))\n",
        "\n",
        "print(\"Accuracy of GradientBoostingClassifier for F3 : \",accuracy_f3[0])\n",
        "print(\"Accuracy of SVC for F3 : \",accuracy_f3[1])\n",
        "print(\"Accuracy of Pipeline for F3 : \",accuracy_f3[2])\n",
        "print(\"Accuracy of DecisionTreeClassifier for F3 : \",accuracy_f3[3])\n",
        "print(\"Accuracy of RandomForestClassifier for F3 : \",accuracy_f3[4])\n",
        "print(\"Accuracy of GaussianNB for F3 : \",accuracy_f3[5])"
      ],
      "id": "E-uF0jCb_dea",
      "execution_count": 246,
      "outputs": [
        {
          "output_type": "stream",
          "text": [
            "Accuracy of GradientBoostingClassifier(ccp_alpha=0.0, criterion='friedman_mse', init=None,\n",
            "                           learning_rate=1.0, loss='deviance', max_depth=1,\n",
            "                           max_features=None, max_leaf_nodes=None,\n",
            "                           min_impurity_decrease=0.0, min_impurity_split=None,\n",
            "                           min_samples_leaf=1, min_samples_split=2,\n",
            "                           min_weight_fraction_leaf=0.0, n_estimators=100,\n",
            "                           n_iter_no_change=None, presort='deprecated',\n",
            "                           random_state=0, subsample=1.0, tol=0.0001,\n",
            "                           validation_fraction=0.1, verbose=0,\n",
            "                           warm_start=False) is 85.66\n",
            "Accuracy of SVC(C=1.0, break_ties=False, cache_size=200, class_weight=None, coef0=0.0,\n",
            "    decision_function_shape='ovr', degree=3, gamma='scale', kernel='rbf',\n",
            "    max_iter=-1, probability=False, random_state=None, shrinking=True,\n",
            "    tol=0.001, verbose=False) is 83.30\n",
            "Accuracy of Pipeline(memory=None,\n",
            "         steps=[('standardscaler',\n",
            "                 StandardScaler(copy=True, with_mean=True, with_std=True)),\n",
            "                ('svc',\n",
            "                 SVC(C=1.0, break_ties=False, cache_size=200, class_weight=None,\n",
            "                     coef0=0.0, decision_function_shape='ovr', degree=3,\n",
            "                     gamma='auto', kernel='rbf', max_iter=-1, probability=False,\n",
            "                     random_state=None, shrinking=True, tol=0.001,\n",
            "                     verbose=False))],\n",
            "         verbose=False) is 83.30\n",
            "Accuracy of DecisionTreeClassifier(ccp_alpha=0.0, class_weight=None, criterion='gini',\n",
            "                       max_depth=None, max_features=None, max_leaf_nodes=None,\n",
            "                       min_impurity_decrease=0.0, min_impurity_split=None,\n",
            "                       min_samples_leaf=1, min_samples_split=2,\n",
            "                       min_weight_fraction_leaf=0.0, presort='deprecated',\n",
            "                       random_state=None, splitter='best') is 85.46\n",
            "Accuracy of RandomForestClassifier(bootstrap=True, ccp_alpha=0.0, class_weight=None,\n",
            "                       criterion='gini', max_depth=None, max_features='auto',\n",
            "                       max_leaf_nodes=None, max_samples=None,\n",
            "                       min_impurity_decrease=0.0, min_impurity_split=None,\n",
            "                       min_samples_leaf=1, min_samples_split=2,\n",
            "                       min_weight_fraction_leaf=0.0, n_estimators=100,\n",
            "                       n_jobs=None, oob_score=False, random_state=None,\n",
            "                       verbose=0, warm_start=False) is 86.05\n",
            "Accuracy of GaussianNB(priors=None, var_smoothing=1e-09) is 85.27\n",
            "Accuracy of GradientBoostingClassifier for F3 :  0.8565815324165029\n",
            "Accuracy of SVC for F3 :  0.8330058939096268\n",
            "Accuracy of Pipeline for F3 :  0.8330058939096268\n",
            "Accuracy of DecisionTreeClassifier for F3 :  0.8546168958742633\n",
            "Accuracy of RandomForestClassifier for F3 :  0.8605108055009824\n",
            "Accuracy of GaussianNB for F3 :  0.8526522593320236\n"
          ],
          "name": "stdout"
        }
      ]
    },
    {
      "cell_type": "code",
      "metadata": {
        "id": "vStzRhRE_ne8",
        "colab": {
          "base_uri": "https://localhost:8080/"
        },
        "outputId": "0e51f85a-d72e-4c32-a1c0-0562c0bb368c"
      },
      "source": [
        "accuracy_f4=[]\n",
        "for clf in classifiers:    #####  f4\n",
        "  clf.fit(xtrain_f4, ytrain_f4)\n",
        "  ypred_f4= clf.predict(xtest_f4)\n",
        "  acc = accuracy_score(ytest_f4, ypred_f4)\n",
        "  accuracy_f4.append(acc)\n",
        "  \n",
        "\n",
        "\n",
        "print(\"Accuracy of GradientBoostingClassifier for F4 : \",accuracy_f4[0])\n",
        "print(\"Accuracy of SVC for F4 : \",accuracy_f4[1])\n",
        "print(\"Accuracy of Pipeline for F4 : \",accuracy_f4[2])\n",
        "print(\"Accuracy of DecisionTreeClassifier for F4 : \",accuracy_f4[3])\n",
        "print(\"Accuracy of RandomForestClassifier for F4 : \",accuracy_f4[4])\n",
        "print(\"Accuracy of GaussianNB for F4 : \",accuracy_f4[5])"
      ],
      "id": "vStzRhRE_ne8",
      "execution_count": 247,
      "outputs": [
        {
          "output_type": "stream",
          "text": [
            "Accuracy of GradientBoostingClassifier for F4 :  0.581532416502947\n",
            "Accuracy of SVC for F4 :  0.6070726915520629\n",
            "Accuracy of Pipeline for F4 :  0.6070726915520629\n",
            "Accuracy of DecisionTreeClassifier for F4 :  0.5520628683693517\n",
            "Accuracy of RandomForestClassifier for F4 :  0.587426326129666\n",
            "Accuracy of GaussianNB for F4 :  0.5697445972495089\n"
          ],
          "name": "stdout"
        }
      ]
    },
    {
      "cell_type": "code",
      "metadata": {
        "id": "o48kqMkB_xWA",
        "colab": {
          "base_uri": "https://localhost:8080/"
        },
        "outputId": "401ce93e-40a0-4b14-b9c3-9d1f738915be"
      },
      "source": [
        "accuracy_f5=[]\n",
        "for clf in classifiers:   ##### f5\n",
        "    clf.fit(xtrain_f5, ytrain_f5)\n",
        "    ypred_f5= clf.predict(xtest_f5)\n",
        "    acc = accuracy_score(ytest_f5, ypred_f5)\n",
        "    accuracy_f5.append(acc)\n",
        "    print(\"Accuracy of %s is %0.2f\"%(clf, acc*100))\n",
        "\n",
        "print(\"Accuracy of GradientBoostingClassifier for F5 : \",accuracy_f5[0])\n",
        "print(\"Accuracy of SVC for F5 : \",accuracy_f5[1])\n",
        "print(\"Accuracy of Pipeline for F5 : \",accuracy_f5[2])\n",
        "print(\"Accuracy of DecisionTreeClassifier for F5 : \",accuracy_f5[3])\n",
        "print(\"Accuracy of RandomForestClassifier for F5 : \",accuracy_f5[4])\n",
        "print(\"Accuracy of GaussianNB for F5 : \",accuracy_f5[5])"
      ],
      "id": "o48kqMkB_xWA",
      "execution_count": 248,
      "outputs": [
        {
          "output_type": "stream",
          "text": [
            "Accuracy of GradientBoostingClassifier(ccp_alpha=0.0, criterion='friedman_mse', init=None,\n",
            "                           learning_rate=1.0, loss='deviance', max_depth=1,\n",
            "                           max_features=None, max_leaf_nodes=None,\n",
            "                           min_impurity_decrease=0.0, min_impurity_split=None,\n",
            "                           min_samples_leaf=1, min_samples_split=2,\n",
            "                           min_weight_fraction_leaf=0.0, n_estimators=100,\n",
            "                           n_iter_no_change=None, presort='deprecated',\n",
            "                           random_state=0, subsample=1.0, tol=0.0001,\n",
            "                           validation_fraction=0.1, verbose=0,\n",
            "                           warm_start=False) is 62.87\n",
            "Accuracy of SVC(C=1.0, break_ties=False, cache_size=200, class_weight=None, coef0=0.0,\n",
            "    decision_function_shape='ovr', degree=3, gamma='scale', kernel='rbf',\n",
            "    max_iter=-1, probability=False, random_state=None, shrinking=True,\n",
            "    tol=0.001, verbose=False) is 66.80\n",
            "Accuracy of Pipeline(memory=None,\n",
            "         steps=[('standardscaler',\n",
            "                 StandardScaler(copy=True, with_mean=True, with_std=True)),\n",
            "                ('svc',\n",
            "                 SVC(C=1.0, break_ties=False, cache_size=200, class_weight=None,\n",
            "                     coef0=0.0, decision_function_shape='ovr', degree=3,\n",
            "                     gamma='auto', kernel='rbf', max_iter=-1, probability=False,\n",
            "                     random_state=None, shrinking=True, tol=0.001,\n",
            "                     verbose=False))],\n",
            "         verbose=False) is 66.80\n",
            "Accuracy of DecisionTreeClassifier(ccp_alpha=0.0, class_weight=None, criterion='gini',\n",
            "                       max_depth=None, max_features=None, max_leaf_nodes=None,\n",
            "                       min_impurity_decrease=0.0, min_impurity_split=None,\n",
            "                       min_samples_leaf=1, min_samples_split=2,\n",
            "                       min_weight_fraction_leaf=0.0, presort='deprecated',\n",
            "                       random_state=None, splitter='best') is 59.33\n",
            "Accuracy of RandomForestClassifier(bootstrap=True, ccp_alpha=0.0, class_weight=None,\n",
            "                       criterion='gini', max_depth=None, max_features='auto',\n",
            "                       max_leaf_nodes=None, max_samples=None,\n",
            "                       min_impurity_decrease=0.0, min_impurity_split=None,\n",
            "                       min_samples_leaf=1, min_samples_split=2,\n",
            "                       min_weight_fraction_leaf=0.0, n_estimators=100,\n",
            "                       n_jobs=None, oob_score=False, random_state=None,\n",
            "                       verbose=0, warm_start=False) is 60.12\n",
            "Accuracy of GaussianNB(priors=None, var_smoothing=1e-09) is 62.28\n",
            "Accuracy of GradientBoostingClassifier for F5 :  0.6286836935166994\n",
            "Accuracy of SVC for F5 :  0.6679764243614931\n",
            "Accuracy of Pipeline for F5 :  0.6679764243614931\n",
            "Accuracy of DecisionTreeClassifier for F5 :  0.593320235756385\n",
            "Accuracy of RandomForestClassifier for F5 :  0.6011787819253438\n",
            "Accuracy of GaussianNB for F5 :  0.6227897838899804\n"
          ],
          "name": "stdout"
        }
      ]
    },
    {
      "cell_type": "code",
      "metadata": {
        "id": "OVWQP9WYIS_0"
      },
      "source": [
        "from statistics import mean\n",
        "Gender_score = []\n",
        "Gender_score.append(mean(accuracy_f1))\n",
        "Gender_score.append(mean(accuracy_f2))\n",
        "Gender_score.append(mean(accuracy_f3))\n",
        "Gender_score.append(mean(accuracy_f4))\n",
        "Gender_score.append(mean(accuracy_f5))\n"
      ],
      "id": "OVWQP9WYIS_0",
      "execution_count": 249,
      "outputs": []
    },
    {
      "cell_type": "code",
      "metadata": {
        "colab": {
          "base_uri": "https://localhost:8080/",
          "height": 295
        },
        "id": "nBjbUxPCjPjF",
        "outputId": "4b16fdda-04db-4440-feb2-2560bb9ecab2"
      },
      "source": [
        "plt.scatter( 1 , Gender_score[0]*100 , label=\"F1\",linewidth=8)\n",
        "plt.scatter( 2 , Gender_score[2]*100 , label=\"F3\",linewidth=8)\n",
        "plt.scatter( 3 , Gender_score[1]*100 , label=\"F2\",linewidth=8)\n",
        "plt.scatter( 4 , Gender_score[4]*100 , label=\"F5\",linewidth=8)\n",
        "plt.scatter( 5 , Gender_score[3]*100 , label=\"F4\",linewidth=8)\n",
        "plt.ylabel(\"Mean accuracy percentage\")\n",
        "plt.xlabel(\"Each set of features\")\n",
        "plt.title(\"Mean Accuracy of each feature set for Gender Label\")\n",
        "plt.legend()\n",
        "plt.show()"
      ],
      "id": "nBjbUxPCjPjF",
      "execution_count": 254,
      "outputs": [
        {
          "output_type": "display_data",
          "data": {
            "image/png": "[encoded data removed]",
            "text/plain": [
              "<Figure size 432x288 with 1 Axes>"
            ]
          },
          "metadata": {
            "tags": [],
            "needs_background": "light"
          }
        }
      ]
    },
    {
      "cell_type": "markdown",
      "metadata": {
        "id": "n8qIzSK1Xdl_"
      },
      "source": [
        "# Design the classifier"
      ],
      "id": "n8qIzSK1Xdl_"
    },
    {
      "cell_type": "code",
      "metadata": {
        "id": "AGOdYzCmYFk2"
      },
      "source": [
        "model1 =svm.SVC()\n",
        "model1.fit(xtrain_f1, ytrain_f1)\n",
        "ypred_f1= model1.predict(xtest_f1)\n",
        "acc = accuracy_score(ytest_f1, ypred_f1)"
      ],
      "id": "AGOdYzCmYFk2",
      "execution_count": 255,
      "outputs": []
    },
    {
      "cell_type": "code",
      "metadata": {
        "colab": {
          "base_uri": "https://localhost:8080/"
        },
        "id": "g8ZDgVtGZQwz",
        "outputId": "82e58873-8123-4b54-f159-b16562db32f1"
      },
      "source": [
        "print(\"Accuracy of Classifier  is : %0.2f\"%(acc*100) )"
      ],
      "id": "g8ZDgVtGZQwz",
      "execution_count": 256,
      "outputs": [
        {
          "output_type": "stream",
          "text": [
            "Accuracy of Classifier  is : 93.71\n"
          ],
          "name": "stdout"
        }
      ]
    },
    {
      "cell_type": "code",
      "metadata": {
        "colab": {
          "base_uri": "https://localhost:8080/",
          "height": 438
        },
        "id": "_7a2hhjBaO5E",
        "outputId": "c3b756de-3585-42ad-b1d8-5da6cb5722d1"
      },
      "source": [
        "from sklearn.metrics import confusion_matrix\n",
        "from sklearn.metrics import classification_report\n",
        "\n",
        "print(classification_report(ytest_f1, model.predict(xtest_f1),target_names=class_names)) \n",
        "cf_matrix=confusion_matrix(ytest_f1, model.predict(xtest_f1))\n",
        "import seaborn as sns\n",
        "x_axis_labels = class_names \n",
        "y_axis_labels = class_names \n",
        "sns.heatmap(cf_matrix, annot=True,xticklabels=x_axis_labels, yticklabels=y_axis_labels,cmap='Blues')"
      ],
      "id": "_7a2hhjBaO5E",
      "execution_count": 257,
      "outputs": [
        {
          "output_type": "stream",
          "text": [
            "              precision    recall  f1-score   support\n",
            "\n",
            "      Female       0.95      0.88      0.91       176\n",
            "        Male       0.94      0.98      0.96       333\n",
            "\n",
            "    accuracy                           0.94       509\n",
            "   macro avg       0.94      0.93      0.93       509\n",
            "weighted avg       0.94      0.94      0.94       509\n",
            "\n"
          ],
          "name": "stdout"
        },
        {
          "output_type": "execute_result",
          "data": {
            "text/plain": [
              "<matplotlib.axes._subplots.AxesSubplot at 0x7f5244f0b610>"
            ]
          },
          "metadata": {
            "tags": []
          },
          "execution_count": 257
        },
        {
          "output_type": "display_data",
          "data": {
            "image/png": "[encoded data removed]",
            "text/plain": [
              "<Figure size 432x288 with 2 Axes>"
            ]
          },
          "metadata": {
            "tags": [],
            "needs_background": "light"
          }
        }
      ]
    }
  ]
}