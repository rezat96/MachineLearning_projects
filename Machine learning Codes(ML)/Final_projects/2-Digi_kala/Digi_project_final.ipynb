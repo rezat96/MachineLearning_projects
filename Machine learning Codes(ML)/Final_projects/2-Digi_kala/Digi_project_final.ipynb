{
 "cells": [
  {
   "cell_type": "code",
   "execution_count": 1,
   "metadata": {
    "id": "jwRnewP_UzPm"
   },
   "outputs": [],
   "source": [
    "import numpy as np\n",
    "import pandas as pd\n",
    "%matplotlib inline\n",
    "import matplotlib as mpl\n",
    "import matplotlib.pyplot as plt\n",
    "mpl.rc('axes', labelsize=14)\n",
    "mpl.rc('xtick', labelsize=12)\n",
    "mpl.rc('ytick', labelsize=12)"
   ]
  },
  {
   "cell_type": "code",
   "execution_count": 2,
   "metadata": {
    "colab": {
     "base_uri": "https://localhost:8080/"
    },
    "id": "kJGYchNtWaWo",
    "outputId": "68bb656a-e7cb-459a-fff0-784fcc9f4102"
   },
   "outputs": [],
   "source": [
    "# from google.colab import drive\n",
    "# drive.mount('/content/drive')"
   ]
  },
  {
   "cell_type": "code",
   "execution_count": 3,
   "metadata": {
    "id": "4aMaqqDVVXTQ"
   },
   "outputs": [],
   "source": [
    "# df=pd.read_csv('/content/drive/MyDrive/Data/Digi/DIGIKALA_TRAIN_DATASET.csv')\n",
    "# df1=pd.read_csv('/content/drive/MyDrive/Data/Digi/DIGIKALA_TEST_DATASET.csv')"
   ]
  },
  {
   "cell_type": "code",
   "execution_count": 4,
   "metadata": {},
   "outputs": [],
   "source": [
    "df=pd.read_csv('DIGIKALA_TRAIN_DATASET.csv')\n",
    "df1=pd.read_csv('DIGIKALA_TEST_DATASET.csv')"
   ]
  },
  {
   "cell_type": "code",
   "execution_count": 5,
   "metadata": {
    "colab": {
     "base_uri": "https://localhost:8080/"
    },
    "id": "goLjpZ6i2ItT",
    "outputId": "01a6ae7f-c16f-4a1b-93e2-df9b9afb303d"
   },
   "outputs": [
    {
     "name": "stdout",
     "output_type": "stream",
     "text": [
      "<class 'pandas.core.frame.DataFrame'>\n",
      "RangeIndex: 235483 entries, 0 to 235482\n",
      "Data columns (total 30 columns):\n",
      " #   Column                     Non-Null Count   Dtype  \n",
      "---  ------                     --------------   -----  \n",
      " 0   Unnamed: 0                 235483 non-null  int64  \n",
      " 1   day                        235483 non-null  int64  \n",
      " 2   product_id                 235483 non-null  int64  \n",
      " 3   cat_name                   235483 non-null  object \n",
      " 4   leaf_cat_id                235483 non-null  int64  \n",
      " 5   live_rate                  235483 non-null  float64\n",
      " 6   product_sat_score          227919 non-null  float64\n",
      " 7   product_sat_count          235483 non-null  float64\n",
      " 8   amazing_day_rate           5030 non-null    float64\n",
      " 9   amazing_price_segment      5030 non-null    float64\n",
      " 10  amazing_discount           5030 non-null    float64\n",
      " 11  amazing_order_limit        5027 non-null    float64\n",
      " 12  amazing_proposed_stock     5030 non-null    float64\n",
      " 13  promotion_day_rate         49543 non-null   float64\n",
      " 14  promotion_price_segment    49543 non-null   float64\n",
      " 15  promotion_discount         49543 non-null   float64\n",
      " 16  promotion_order_limit      49183 non-null   float64\n",
      " 17  promotion_proposed_stock   49543 non-null   float64\n",
      " 18  comments_counts_7          147929 non-null  float64\n",
      " 19  rec_comments_count_7       147929 non-null  float64\n",
      " 20  dkp_amazing_notif_count_7  14555 non-null   float64\n",
      " 21  normal_order_limit         68209 non-null   float64\n",
      " 22  normal_price_segment       68209 non-null   float64\n",
      " 23  normal_discount            68209 non-null   float64\n",
      " 24  holiday                    235483 non-null  float64\n",
      " 25  warehouse1_share           99216 non-null   float64\n",
      " 26  warehouse2_share           99216 non-null   float64\n",
      " 27  amazing_sold_count         4424 non-null    float64\n",
      " 28  promotion_sold_count       27649 non-null   float64\n",
      " 29  normal_sold_count          68209 non-null   float64\n",
      "dtypes: float64(25), int64(4), object(1)\n",
      "memory usage: 53.9+ MB\n"
     ]
    }
   ],
   "source": [
    "df.info()"
   ]
  },
  {
   "cell_type": "code",
   "execution_count": 6,
   "metadata": {
    "colab": {
     "base_uri": "https://localhost:8080/"
    },
    "id": "s4wsZVURYrWi",
    "outputId": "ee48828e-3f16-473e-e4f6-ac52043108e8"
   },
   "outputs": [
    {
     "data": {
      "text/plain": [
       "Unnamed: 0                       1\n",
       "day                              0\n",
       "product_id                       0\n",
       "cat_name                         0\n",
       "leaf_cat_id                      0\n",
       "live_rate                        0\n",
       "product_sat_score                0\n",
       "product_sat_count             7564\n",
       "amazing_day_rate                 0\n",
       "amazing_price_segment            0\n",
       "amazing_discount                 0\n",
       "amazing_order_limit              0\n",
       "amazing_proposed_stock           0\n",
       "promotion_day_rate            3470\n",
       "promotion_price_segment       3470\n",
       "promotion_discount            3470\n",
       "promotion_order_limit         3470\n",
       "promotion_proposed_stock      3612\n",
       "comments_counts_7                0\n",
       "rec_comments_count_7         10557\n",
       "dkp_amazing_notif_count_7        0\n",
       "normal_order_limit             234\n",
       "normal_price_segment             0\n",
       "normal_discount              68209\n",
       "holiday                          0\n",
       "warehouse1_share             50174\n",
       "warehouse2_share             22605\n",
       "amazing_sold_count               0\n",
       "promotion_sold_count             0\n",
       "normal_sold_count                0\n",
       "dtype: int64"
      ]
     },
     "execution_count": 6,
     "metadata": {},
     "output_type": "execute_result"
    }
   ],
   "source": [
    "(df == 0).sum(axis=0)"
   ]
  },
  {
   "cell_type": "markdown",
   "metadata": {
    "id": "xy02X5xd2N0a"
   },
   "source": [
    "# Preproccessing"
   ]
  },
  {
   "cell_type": "code",
   "execution_count": 7,
   "metadata": {
    "id": "EAWQm5kL2P6R"
   },
   "outputs": [],
   "source": [
    "df_train=df.drop(['Unnamed: 0'], axis=1)\n",
    "# df_test=df1.drop(['Unnamed: 0'], axis=1)"
   ]
  },
  {
   "cell_type": "code",
   "execution_count": 8,
   "metadata": {
    "colab": {
     "base_uri": "https://localhost:8080/",
     "height": 440
    },
    "id": "o39KY4XiaSkn",
    "outputId": "a3c662e4-728d-40a3-9446-170ab4014873"
   },
   "outputs": [],
   "source": [
    "lis=df_train.columns\n",
    "df_train[lis[7:]] = df_train[lis[7:]].fillna(0)\n",
    "# df_train"
   ]
  },
  {
   "cell_type": "code",
   "execution_count": 9,
   "metadata": {
    "id": "owYRsEDLeAh8"
   },
   "outputs": [],
   "source": [
    "df_train['product_sat_count'] = df_train['product_sat_count'].replace({ 0:np.nan})"
   ]
  },
  {
   "cell_type": "code",
   "execution_count": 10,
   "metadata": {
    "id": "vHNDdEYkZM1Y"
   },
   "outputs": [],
   "source": [
    "df_train.fillna(df_train.mean(),inplace=True)       #Change this part to better"
   ]
  },
  {
   "cell_type": "code",
   "execution_count": 11,
   "metadata": {
    "id": "0wG0pQnp3nj6"
   },
   "outputs": [],
   "source": [
    "train_sorted = df_train.sort_values(by=[\"product_id\",\"day\"], ascending=True)    #Bara test ham bokon\n",
    "# train_sorted"
   ]
  },
  {
   "cell_type": "code",
   "execution_count": 12,
   "metadata": {
    "id": "m0Vih4RAWz5k"
   },
   "outputs": [],
   "source": [
    "y = pd.get_dummies(train_sorted.cat_name, prefix='Cat')\n",
    "listt={'Cat_CB','Cat_CH',\t'Cat_CP',\t'Cat_FD',\t'Cat_FF'}"
   ]
  },
  {
   "cell_type": "code",
   "execution_count": 13,
   "metadata": {
    "id": "m-J2QOfVWn_s"
   },
   "outputs": [],
   "source": [
    "train_sorted.drop(['cat_name'], axis=1,inplace=True)"
   ]
  },
  {
   "cell_type": "code",
   "execution_count": 14,
   "metadata": {},
   "outputs": [],
   "source": [
    "cat1_columns = train_sorted.select_dtypes(['int64']).columns\n",
    "for cat1 in cat1_columns: \n",
    "  train_sorted[cat1] = train_sorted[cat1].astype('float64')"
   ]
  },
  {
   "cell_type": "code",
   "execution_count": 15,
   "metadata": {
    "id": "uIYCYkMzvMFL"
   },
   "outputs": [],
   "source": [
    "count=0\n",
    "for l in listt:\n",
    "  # print(l)\n",
    "  train_sorted.insert(2+count,l,y.values[:,count])\n",
    "  count+=1"
   ]
  },
  {
   "cell_type": "code",
   "execution_count": 16,
   "metadata": {},
   "outputs": [],
   "source": [
    "cat2_columns = train_sorted.select_dtypes(['uint8']).columns\n",
    "for cat2 in cat2_columns: \n",
    "  train_sorted[cat2] = train_sorted[cat2].astype('float64')"
   ]
  },
  {
   "cell_type": "code",
   "execution_count": 17,
   "metadata": {},
   "outputs": [],
   "source": [
    "# train_sorted.info()"
   ]
  },
  {
   "cell_type": "markdown",
   "metadata": {},
   "source": [
    "# Specify Target"
   ]
  },
  {
   "cell_type": "code",
   "execution_count": 18,
   "metadata": {},
   "outputs": [],
   "source": [
    "tt=['warehouse1_share','warehouse2_share','amazing_sold_count','promotion_sold_count','normal_sold_count']\n",
    "target_number=4\n",
    "target=tt[target_number]  \n",
    "l_input=10################cahnged"
   ]
  },
  {
   "cell_type": "code",
   "execution_count": 19,
   "metadata": {},
   "outputs": [
    {
     "data": {
      "text/plain": [
       "'normal_sold_count'"
      ]
     },
     "execution_count": 19,
     "metadata": {},
     "output_type": "execute_result"
    }
   ],
   "source": [
    "target"
   ]
  },
  {
   "cell_type": "code",
   "execution_count": 20,
   "metadata": {
    "id": "5WvV8YlI7G7p"
   },
   "outputs": [],
   "source": [
    "Data_train=train_sorted.values\n",
    "y_train=train_sorted[target].values\n",
    "x_train=Data_train[:,:28]"
   ]
  },
  {
   "cell_type": "code",
   "execution_count": 21,
   "metadata": {
    "id": "h43fyKyv-po5"
   },
   "outputs": [],
   "source": [
    "observe1=np.zeros((len(y_train),l_input))"
   ]
  },
  {
   "cell_type": "code",
   "execution_count": 22,
   "metadata": {
    "colab": {
     "base_uri": "https://localhost:8080/"
    },
    "id": "DNMBTuMcCYdq",
    "outputId": "2c1670ae-32b0-4a71-fbc5-cc0e47b1a7ea"
   },
   "outputs": [
    {
     "data": {
      "text/plain": [
       "((235483, 28), 235483)"
      ]
     },
     "execution_count": 22,
     "metadata": {},
     "output_type": "execute_result"
    }
   ],
   "source": [
    "x_train.shape,len(y_train)"
   ]
  },
  {
   "cell_type": "code",
   "execution_count": 23,
   "metadata": {
    "id": "-jVkY6g87G0D"
   },
   "outputs": [],
   "source": [
    "def lag_obv(X,y,l_input):\n",
    "  lis=np.unique(X[:,1])\n",
    "  counter=0\n",
    "  flag=1\n",
    "  ff=0\n",
    "  gg=0\n",
    "  obs=np.zeros((len(y),l_input))\n",
    "  for l in range(len(lis)):\n",
    "    # ff=0\n",
    "    while (X[counter,1]==lis[l] and flag==1):\n",
    "      if(ff>1):\n",
    "        # print('hi')\n",
    "        gg=y[counter-1]-y[counter-2]\n",
    "        obs[counter,:]=np.append(obs[counter-1,:],gg)[1:l_input+1]\n",
    "      else:\n",
    "        ff+=1\n",
    "      #Chek the condition\n",
    "      if(counter<len(y)-1):\n",
    "        counter+=1\n",
    "      else:\n",
    "        flag=0\n",
    "    return obs"
   ]
  },
  {
   "cell_type": "code",
   "execution_count": 24,
   "metadata": {
    "id": "Pa_EiI9YN-LG"
   },
   "outputs": [],
   "source": [
    "observe1=lag_obv(x_train,y_train,l_input)"
   ]
  },
  {
   "cell_type": "code",
   "execution_count": 25,
   "metadata": {},
   "outputs": [
    {
     "data": {
      "text/plain": [
       "(235483, 10)"
      ]
     },
     "execution_count": 25,
     "metadata": {},
     "output_type": "execute_result"
    }
   ],
   "source": [
    "observe1.shape"
   ]
  },
  {
   "cell_type": "code",
   "execution_count": 26,
   "metadata": {
    "id": "A6WWX9fAOHDW"
   },
   "outputs": [],
   "source": [
    "X_train1=np.concatenate((x_train, observe1), axis=1)\n"
   ]
  },
  {
   "cell_type": "code",
   "execution_count": 27,
   "metadata": {
    "colab": {
     "base_uri": "https://localhost:8080/"
    },
    "id": "unxclBlLa50Z",
    "outputId": "aa4b04cb-502b-4109-9583-4c1becd487f4"
   },
   "outputs": [
    {
     "data": {
      "text/plain": [
       "(235483, 38)"
      ]
     },
     "execution_count": 27,
     "metadata": {},
     "output_type": "execute_result"
    }
   ],
   "source": [
    "X_train1.shape"
   ]
  },
  {
   "cell_type": "markdown",
   "metadata": {
    "id": "FM_LwTsH3nvn"
   },
   "source": [
    "# Test Preparing"
   ]
  },
  {
   "cell_type": "code",
   "execution_count": 28,
   "metadata": {},
   "outputs": [],
   "source": [
    "# df_test=df1.drop(['Unnamed: 0'], axis=1)\n",
    "df_test=df1.copy()"
   ]
  },
  {
   "cell_type": "code",
   "execution_count": 29,
   "metadata": {
    "id": "JgtmeuvLYJC8"
   },
   "outputs": [],
   "source": [
    "lis=df_test.columns\n",
    "df_test[lis[8:]] = df_test[lis[8:]].fillna(0) ##Changed\n",
    "##\n",
    "df_test['product_sat_count'] = df_test['product_sat_count'].replace({ 0:np.nan})\n",
    "\n",
    "df_test.fillna(df_test.mean(),inplace=True)       #Change this part to better\n",
    "test_sorted1 = df_test.sort_values(by=[\"product_id\",\"day\"], ascending=True)    #Bara test ham bokon\n",
    "\n",
    "index_save=test_sorted1['Unnamed: 0'].values   ####For knowing the index\n",
    "\n",
    "test_sorted=test_sorted1.drop(['Unnamed: 0'], axis=1)\n",
    "\n",
    "y = pd.get_dummies(test_sorted.cat_name, prefix='Cat')\n",
    "listt={'Cat_CB','Cat_CH',\t'Cat_CP',\t'Cat_FD',\t'Cat_FF'}\n",
    "test_sorted=test_sorted.drop(['cat_name'], axis=1)\n",
    "##\n",
    "\n",
    "cat1_columns = test_sorted.select_dtypes(['int64']).columns\n",
    "for cat1 in cat1_columns: \n",
    "  test_sorted[cat1] = test_sorted[cat1].astype('float64')\n",
    "count=0\n",
    "for l in listt:\n",
    "  # print(l)\n",
    "  test_sorted.insert(2+count,l,y.values[:,count])  ##Changed\n",
    "  count+=1\n",
    "\n",
    "cat2_columns = test_sorted.select_dtypes(['uint8']).columns\n",
    "for cat2 in cat2_columns: \n",
    "  test_sorted[cat2] = test_sorted[cat2].astype('float64')\n",
    "\n",
    "##\n",
    "Data_test=test_sorted.values\n",
    "y_test=test_sorted[target].values\n",
    "x_test=Data_test[:,:28]\n",
    "\n",
    "obs_test=lag_obv(x_test,y_test,l_input)\n",
    "X_test1=np.concatenate((x_test, obs_test), axis=1)"
   ]
  },
  {
   "cell_type": "code",
   "execution_count": 30,
   "metadata": {},
   "outputs": [],
   "source": [
    "# test_sorted.info()"
   ]
  },
  {
   "cell_type": "code",
   "execution_count": 31,
   "metadata": {
    "colab": {
     "base_uri": "https://localhost:8080/"
    },
    "id": "c1AXr5OqcPuv",
    "outputId": "d83f5a4a-401f-4ee1-f2f3-b5661da8cef8",
    "scrolled": true
   },
   "outputs": [
    {
     "data": {
      "text/plain": [
       "((100396, 38), (100396,))"
      ]
     },
     "execution_count": 31,
     "metadata": {},
     "output_type": "execute_result"
    }
   ],
   "source": [
    "X_test1.shape,y_test.shape"
   ]
  },
  {
   "cell_type": "markdown",
   "metadata": {
    "id": "VdCHu6kHEUUj"
   },
   "source": [
    "# PCA And model"
   ]
  },
  {
   "cell_type": "code",
   "execution_count": 32,
   "metadata": {},
   "outputs": [],
   "source": [
    "# split the dataset into train and test for \n",
    "from sklearn.model_selection import train_test_split\n",
    "X_t, X_Val, y_t, y_Val = train_test_split(X_train1, y_train, test_size=0.25, random_state=40)"
   ]
  },
  {
   "cell_type": "code",
   "execution_count": 33,
   "metadata": {
    "id": "HPNPPbKI0I8J"
   },
   "outputs": [],
   "source": [
    "from sklearn.decomposition import PCA\n",
    "pca = PCA(n_components=15)\n",
    "X_train2 = pca.fit_transform(X_t)      \n",
    "X_Val1 = pca.transform(X_Val)       #Changed"
   ]
  },
  {
   "cell_type": "code",
   "execution_count": 35,
   "metadata": {
    "id": "UqQUJCTELLUK"
   },
   "outputs": [],
   "source": [
    "X_train_f = X_train2.copy()\n",
    "X_Val_f = X_Val1.copy()"
   ]
  },
  {
   "cell_type": "code",
   "execution_count": 36,
   "metadata": {
    "id": "45w_XIiSmmv6"
   },
   "outputs": [],
   "source": [
    "from sklearn.preprocessing import StandardScaler, MinMaxScaler\n",
    "scalar=MinMaxScaler()\n",
    "y_t=scalar.fit_transform(y_t.reshape(-1, 1))\n",
    "y_Val=scalar.transform(y_Val.reshape(-1, 1))\n"
   ]
  },
  {
   "cell_type": "code",
   "execution_count": 37,
   "metadata": {
    "colab": {
     "base_uri": "https://localhost:8080/"
    },
    "id": "axsn3cRgyaam",
    "outputId": "54278225-e3f1-4832-f537-b91f031b05c0"
   },
   "outputs": [
    {
     "name": "stdout",
     "output_type": "stream",
     "text": [
      "(176612, 15) (176612, 1)\n",
      "(58871, 15) (58871, 1)\n"
     ]
    }
   ],
   "source": [
    "print(X_train_f.shape,y_t.shape)\n",
    "print(X_Val_f.shape,y_Val.shape)"
   ]
  },
  {
   "cell_type": "code",
   "execution_count": 38,
   "metadata": {
    "id": "BJnbsT9ze8RM"
   },
   "outputs": [],
   "source": [
    "y_Val_check=scalar.inverse_transform(y_Val.reshape(-1,1))  ####Changedddd\n"
   ]
  },
  {
   "cell_type": "markdown",
   "metadata": {
    "id": "L3y8yCRgE0GA"
   },
   "source": [
    "# Model"
   ]
  },
  {
   "cell_type": "code",
   "execution_count": 39,
   "metadata": {
    "id": "Y3z34aPYvzsp",
    "scrolled": true
   },
   "outputs": [
    {
     "data": {
      "text/plain": [
       "Pipeline(steps=[('standardscaler', StandardScaler()),\n",
       "                ('randomforestregressor', RandomForestRegressor(max_depth=10))])"
      ]
     },
     "execution_count": 39,
     "metadata": {},
     "output_type": "execute_result"
    }
   ],
   "source": [
    "#Without gridseach\n",
    "from sklearn.ensemble import  RandomForestRegressor\n",
    "from sklearn.linear_model import LinearRegression\n",
    "from sklearn.svm import SVR\n",
    "from sklearn.pipeline import make_pipeline\n",
    "from sklearn.preprocessing import StandardScaler, MinMaxScaler\n",
    "regr = make_pipeline(StandardScaler(),RandomForestRegressor(max_depth=10))\n",
    "regr.fit(X_train_f, y_t.ravel())\n"
   ]
  },
  {
   "cell_type": "code",
   "execution_count": 40,
   "metadata": {
    "id": "Up8u7eMm0Ixm"
   },
   "outputs": [],
   "source": [
    "y_pred1=regr.predict(X_Val_f)             #check this line\n",
    "y_pred=scalar.inverse_transform(y_pred1.reshape(-1,1))"
   ]
  },
  {
   "cell_type": "code",
   "execution_count": 41,
   "metadata": {},
   "outputs": [],
   "source": [
    "if target_number>1 :\n",
    "    y_pred=np.round(y_pred)\n",
    "else:\n",
    "    y_pred=y_pred"
   ]
  },
  {
   "cell_type": "code",
   "execution_count": 42,
   "metadata": {},
   "outputs": [
    {
     "data": {
      "text/plain": [
       "array([[7.],\n",
       "       [0.],\n",
       "       [3.],\n",
       "       ...,\n",
       "       [0.],\n",
       "       [0.],\n",
       "       [0.]])"
      ]
     },
     "execution_count": 42,
     "metadata": {},
     "output_type": "execute_result"
    }
   ],
   "source": [
    "y_pred"
   ]
  },
  {
   "cell_type": "code",
   "execution_count": 43,
   "metadata": {
    "id": "0kbe4jvZpu_6"
   },
   "outputs": [
    {
     "name": "stdout",
     "output_type": "stream",
     "text": [
      "MSE for the model is:23.22\n",
      "MAE for the model is:1.03\n",
      "R squared metric for the model is:0.85\n"
     ]
    }
   ],
   "source": [
    "from sklearn.metrics import mean_squared_error,mean_absolute_error\n",
    "print('MSE for the model is:%0.2f'%mean_squared_error(y_Val_check,y_pred))\n",
    "print('MAE for the model is:%0.2f'%mean_absolute_error(y_Val_check,y_pred))\n",
    "print ('R squared metric for the model is:%0.2f'%regr.score(X_Val_f,y_Val))"
   ]
  },
  {
   "cell_type": "code",
   "execution_count": 44,
   "metadata": {
    "scrolled": true
   },
   "outputs": [
    {
     "data": {
      "text/plain": [
       "<matplotlib.legend.Legend at 0x1cba1a4a488>"
      ]
     },
     "execution_count": 44,
     "metadata": {},
     "output_type": "execute_result"
    },
    {
     "data": {
      "image/png": "[encoded data removed]",
      "text/plain": [
       "<Figure size 792x360 with 1 Axes>"
      ]
     },
     "metadata": {
      "needs_background": "light"
     },
     "output_type": "display_data"
    }
   ],
   "source": [
    "plt.figure(figsize=(11,5))\n",
    "a_indices=np.random.randint(1,10000,20)   #generate 20 random test numbersto show\n",
    "plt.plot(y_Val_check[a_indices],'o',label='Real Value')\n",
    "plt.plot(y_pred[a_indices],'^',label='Predicted Value')\n",
    "plt.title('Real and Predicted Value'+target+' of 20 random data points')\n",
    "plt.ylabel(target)\n",
    "plt.xlabel('Data points')\n",
    "plt.legend()"
   ]
  },
  {
   "cell_type": "markdown",
   "metadata": {},
   "source": [
    "# Feature Importance"
   ]
  },
  {
   "cell_type": "code",
   "execution_count": 45,
   "metadata": {},
   "outputs": [],
   "source": [
    "# # plot the 7 most important features  ???????\n",
    "# plt.figure(figsize=(10,7))\n",
    "# feat_importances = pd.Series(regr.feature_importances_, index = train_x.columns)\n",
    "# feat_importances.nlargest(7).plot(kind='barh');"
   ]
  },
  {
   "cell_type": "code",
   "execution_count": 46,
   "metadata": {},
   "outputs": [],
   "source": [
    "# v_list=train_sorted.columns\n",
    "# pp=list(range(30))\n",
    "# vv=v_list.append(pp)"
   ]
  },
  {
   "cell_type": "code",
   "execution_count": 47,
   "metadata": {},
   "outputs": [],
   "source": [
    "###Run Above"
   ]
  },
  {
   "cell_type": "markdown",
   "metadata": {},
   "source": [
    "# Final Test"
   ]
  },
  {
   "cell_type": "code",
   "execution_count": 48,
   "metadata": {},
   "outputs": [
    {
     "data": {
      "text/plain": [
       "(100396,)"
      ]
     },
     "execution_count": 48,
     "metadata": {},
     "output_type": "execute_result"
    }
   ],
   "source": [
    "index_save.shape"
   ]
  },
  {
   "cell_type": "code",
   "execution_count": 49,
   "metadata": {
    "scrolled": false
   },
   "outputs": [],
   "source": [
    "counter=0\n",
    "hh=np.where(y_test==-1)[0]\n",
    "y_predict=np.zeros(len(hh))\n",
    "for i in hh:\n",
    "    \n",
    "    X_test_f = pca.transform(X_test1[i,:].reshape(1, -1)) \n",
    "    y_predict[counter]=regr.predict(X_test_f)\n",
    "    day_list=np.where(X_test1[:,1]==X_test1[i,1])[0]\n",
    "    for d in day_list:\n",
    "        delta=d-i\n",
    "        if( delta>0 and delta<l_input):\n",
    "            ind=28+l_input-delta\n",
    "            X_test1[d,ind]=y_predict[counter]\n",
    "            \n",
    "    counter=counter+1      \n",
    "            "
   ]
  },
  {
   "cell_type": "code",
   "execution_count": 50,
   "metadata": {},
   "outputs": [],
   "source": [
    "y_predict_f=scalar.inverse_transform(y_predict.reshape(-1,1))"
   ]
  },
  {
   "cell_type": "code",
   "execution_count": 51,
   "metadata": {},
   "outputs": [],
   "source": [
    "if target_number>1 :\n",
    "    y_predict_f=np.round(y_predict_f)\n",
    "else:\n",
    "    y_predict_f=y_predict_f\n"
   ]
  },
  {
   "cell_type": "code",
   "execution_count": 52,
   "metadata": {
    "scrolled": true
   },
   "outputs": [
    {
     "data": {
      "text/plain": [
       "array([[2.],\n",
       "       [0.],\n",
       "       [0.],\n",
       "       ...,\n",
       "       [0.],\n",
       "       [0.],\n",
       "       [0.]])"
      ]
     },
     "execution_count": 52,
     "metadata": {},
     "output_type": "execute_result"
    }
   ],
   "source": [
    "y_predict_f"
   ]
  },
  {
   "cell_type": "code",
   "execution_count": 65,
   "metadata": {
    "scrolled": true
   },
   "outputs": [
    {
     "data": {
      "text/plain": [
       "<matplotlib.legend.Legend at 0x1cbc0554988>"
      ]
     },
     "execution_count": 65,
     "metadata": {},
     "output_type": "execute_result"
    },
    {
     "data": {
      "image/png": "[encoded data removed]",
      "text/plain": [
       "<Figure size 792x360 with 1 Axes>"
      ]
     },
     "metadata": {
      "needs_background": "light"
     },
     "output_type": "display_data"
    }
   ],
   "source": [
    "plt.figure(figsize=(11,5))\n",
    "a_indices=np.random.randint(1,500,20)   #generate 20 random test numbersto show\n",
    "plt.plot(y_predict_f[a_indices],'o',label='Predicted Values')\n",
    "plt.ylabel(target)\n",
    "plt.xlabel('Data points')\n",
    "plt.legend()"
   ]
  },
  {
   "cell_type": "markdown",
   "metadata": {},
   "source": [
    "# Saving the Values"
   ]
  },
  {
   "cell_type": "code",
   "execution_count": 54,
   "metadata": {},
   "outputs": [],
   "source": [
    "# y_final=y_test.copy().reshape(-1,1)\n",
    "# y_final[hh]=y_predict_f\n",
    "\n"
   ]
  },
  {
   "cell_type": "code",
   "execution_count": 55,
   "metadata": {
    "scrolled": true
   },
   "outputs": [],
   "source": [
    "# data={'index':index_save,'col2':y_final.reshape(len(y_final)) }\n",
    "# nn= pd.DataFrame(data,columns = ['index','col2'])"
   ]
  },
  {
   "cell_type": "code",
   "execution_count": 56,
   "metadata": {},
   "outputs": [],
   "source": [
    "# final = nn.sort_values(by=[\"index\"], ascending=True)\n",
    "# # final"
   ]
  },
  {
   "cell_type": "code",
   "execution_count": 57,
   "metadata": {},
   "outputs": [],
   "source": [
    "# jj=final.values"
   ]
  },
  {
   "cell_type": "code",
   "execution_count": 58,
   "metadata": {},
   "outputs": [],
   "source": [
    "# # output=np.zeros((48306,5))\n",
    "# output[:,target_number]=jj[52090:,1].copy()"
   ]
  },
  {
   "cell_type": "code",
   "execution_count": 59,
   "metadata": {
    "scrolled": true
   },
   "outputs": [],
   "source": [
    "# output"
   ]
  },
  {
   "cell_type": "code",
   "execution_count": 60,
   "metadata": {},
   "outputs": [],
   "source": [
    "# day=df1['day'].values[52090:]\n",
    "# product_id=df1['product_id'].values[52090:]\n",
    "# Dataa={'day':day,'product_id': product_id ,tt[0] :output[:,0],tt[1] : output[:,1],tt[2] :output[:,2],tt[3] :output[:,3],tt[4] :output[:,4] }\n",
    "# df_final= pd.DataFrame(Dataa)\n",
    "# df_final.to_csv('Reza2_Output.csv',index = False)"
   ]
  },
  {
   "cell_type": "code",
   "execution_count": 61,
   "metadata": {},
   "outputs": [],
   "source": [
    "# df12['amazing_sold_count']=output[:,2].copy()\n",
    "# df12['promotion_sold_count']=output[:,3].copy()\n",
    "# df12.to_csv('RezaTalakoob_Output.csv',index = False)"
   ]
  },
  {
   "cell_type": "code",
   "execution_count": 62,
   "metadata": {},
   "outputs": [
    {
     "data": {
      "text/html": [
       "<div>\n",
       "<style scoped>\n",
       "    .dataframe tbody tr th:only-of-type {\n",
       "        vertical-align: middle;\n",
       "    }\n",
       "\n",
       "    .dataframe tbody tr th {\n",
       "        vertical-align: top;\n",
       "    }\n",
       "\n",
       "    .dataframe thead th {\n",
       "        text-align: right;\n",
       "    }\n",
       "</style>\n",
       "<table border=\"1\" class=\"dataframe\">\n",
       "  <thead>\n",
       "    <tr style=\"text-align: right;\">\n",
       "      <th></th>\n",
       "      <th>day</th>\n",
       "      <th>product_id</th>\n",
       "      <th>warehouse1_share</th>\n",
       "      <th>warehouse2_share</th>\n",
       "      <th>amazing_sold_count</th>\n",
       "      <th>promotion_sold_count</th>\n",
       "      <th>normal_sold_count</th>\n",
       "    </tr>\n",
       "  </thead>\n",
       "  <tbody>\n",
       "    <tr>\n",
       "      <th>0</th>\n",
       "      <td>31</td>\n",
       "      <td>10900769</td>\n",
       "      <td>0.470108</td>\n",
       "      <td>0.499598</td>\n",
       "      <td>0.0</td>\n",
       "      <td>0.0</td>\n",
       "      <td>23.0</td>\n",
       "    </tr>\n",
       "    <tr>\n",
       "      <th>1</th>\n",
       "      <td>31</td>\n",
       "      <td>1187493</td>\n",
       "      <td>0.195143</td>\n",
       "      <td>0.777945</td>\n",
       "      <td>0.0</td>\n",
       "      <td>0.0</td>\n",
       "      <td>0.0</td>\n",
       "    </tr>\n",
       "    <tr>\n",
       "      <th>2</th>\n",
       "      <td>31</td>\n",
       "      <td>389475</td>\n",
       "      <td>0.001966</td>\n",
       "      <td>0.000538</td>\n",
       "      <td>0.0</td>\n",
       "      <td>0.0</td>\n",
       "      <td>0.0</td>\n",
       "    </tr>\n",
       "    <tr>\n",
       "      <th>3</th>\n",
       "      <td>31</td>\n",
       "      <td>6928982</td>\n",
       "      <td>0.000820</td>\n",
       "      <td>0.002639</td>\n",
       "      <td>0.0</td>\n",
       "      <td>0.0</td>\n",
       "      <td>0.0</td>\n",
       "    </tr>\n",
       "    <tr>\n",
       "      <th>4</th>\n",
       "      <td>31</td>\n",
       "      <td>4797857</td>\n",
       "      <td>0.007657</td>\n",
       "      <td>0.997510</td>\n",
       "      <td>0.0</td>\n",
       "      <td>0.0</td>\n",
       "      <td>41.0</td>\n",
       "    </tr>\n",
       "    <tr>\n",
       "      <th>...</th>\n",
       "      <td>...</td>\n",
       "      <td>...</td>\n",
       "      <td>...</td>\n",
       "      <td>...</td>\n",
       "      <td>...</td>\n",
       "      <td>...</td>\n",
       "      <td>...</td>\n",
       "    </tr>\n",
       "    <tr>\n",
       "      <th>48301</th>\n",
       "      <td>60</td>\n",
       "      <td>3947123</td>\n",
       "      <td>0.001292</td>\n",
       "      <td>0.001089</td>\n",
       "      <td>0.0</td>\n",
       "      <td>0.0</td>\n",
       "      <td>0.0</td>\n",
       "    </tr>\n",
       "    <tr>\n",
       "      <th>48302</th>\n",
       "      <td>60</td>\n",
       "      <td>1187256</td>\n",
       "      <td>0.000705</td>\n",
       "      <td>0.001026</td>\n",
       "      <td>0.0</td>\n",
       "      <td>0.0</td>\n",
       "      <td>0.0</td>\n",
       "    </tr>\n",
       "    <tr>\n",
       "      <th>48303</th>\n",
       "      <td>60</td>\n",
       "      <td>6707891</td>\n",
       "      <td>0.246540</td>\n",
       "      <td>0.741991</td>\n",
       "      <td>0.0</td>\n",
       "      <td>0.0</td>\n",
       "      <td>7.0</td>\n",
       "    </tr>\n",
       "    <tr>\n",
       "      <th>48304</th>\n",
       "      <td>60</td>\n",
       "      <td>3990159</td>\n",
       "      <td>0.000751</td>\n",
       "      <td>0.001204</td>\n",
       "      <td>0.0</td>\n",
       "      <td>0.0</td>\n",
       "      <td>0.0</td>\n",
       "    </tr>\n",
       "    <tr>\n",
       "      <th>48305</th>\n",
       "      <td>60</td>\n",
       "      <td>4694547</td>\n",
       "      <td>0.000566</td>\n",
       "      <td>0.000467</td>\n",
       "      <td>0.0</td>\n",
       "      <td>0.0</td>\n",
       "      <td>0.0</td>\n",
       "    </tr>\n",
       "  </tbody>\n",
       "</table>\n",
       "<p>48306 rows × 7 columns</p>\n",
       "</div>"
      ],
      "text/plain": [
       "       day  product_id  warehouse1_share  warehouse2_share  \\\n",
       "0       31    10900769          0.470108          0.499598   \n",
       "1       31     1187493          0.195143          0.777945   \n",
       "2       31      389475          0.001966          0.000538   \n",
       "3       31     6928982          0.000820          0.002639   \n",
       "4       31     4797857          0.007657          0.997510   \n",
       "...    ...         ...               ...               ...   \n",
       "48301   60     3947123          0.001292          0.001089   \n",
       "48302   60     1187256          0.000705          0.001026   \n",
       "48303   60     6707891          0.246540          0.741991   \n",
       "48304   60     3990159          0.000751          0.001204   \n",
       "48305   60     4694547          0.000566          0.000467   \n",
       "\n",
       "       amazing_sold_count  promotion_sold_count  normal_sold_count  \n",
       "0                     0.0                   0.0               23.0  \n",
       "1                     0.0                   0.0                0.0  \n",
       "2                     0.0                   0.0                0.0  \n",
       "3                     0.0                   0.0                0.0  \n",
       "4                     0.0                   0.0               41.0  \n",
       "...                   ...                   ...                ...  \n",
       "48301                 0.0                   0.0                0.0  \n",
       "48302                 0.0                   0.0                0.0  \n",
       "48303                 0.0                   0.0                7.0  \n",
       "48304                 0.0                   0.0                0.0  \n",
       "48305                 0.0                   0.0                0.0  \n",
       "\n",
       "[48306 rows x 7 columns]"
      ]
     },
     "execution_count": 62,
     "metadata": {},
     "output_type": "execute_result"
    }
   ],
   "source": [
    "Final_regression=pd.read_csv('RezaTalakoob_Output.csv')\n",
    "Final_regression"
   ]
  }
 ],
 "metadata": {
  "colab": {
   "collapsed_sections": [],
   "name": "Untitled4_backup.ipynb",
   "provenance": []
  },
  "kernelspec": {
   "display_name": "Python 3",
   "language": "python",
   "name": "python3"
  },
  "language_info": {
   "codemirror_mode": {
    "name": "ipython",
    "version": 3
   },
   "file_extension": ".py",
   "mimetype": "text/x-python",
   "name": "python",
   "nbconvert_exporter": "python",
   "pygments_lexer": "ipython3",
   "version": "3.7.10"
  }
 },
 "nbformat": 4,
 "nbformat_minor": 1
}
