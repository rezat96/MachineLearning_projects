{
 "cells": [
  {
   "cell_type": "code",
   "execution_count": 1,
   "id": "468b4179",
   "metadata": {},
   "outputs": [],
   "source": [
    "import numpy as np\n",
    "import matplotlib.pyplot as plt"
   ]
  },
  {
   "cell_type": "code",
   "execution_count": 2,
   "id": "5b7d75e9",
   "metadata": {},
   "outputs": [],
   "source": [
    "import pandas as pd\n",
    "train_data = pd.read_csv(r'E:\\University\\Tehran University_Arshad\\Terme 2\\Machine learning\\0 Hws\\4\\Hw4\\Fashion-MNIST-CSV\\Fashion-MNIST/trainData.csv').values\n",
    "train_labels =pd.read_csv(r'E:\\University\\Tehran University_Arshad\\Terme 2\\Machine learning\\0 Hws\\4\\Hw4\\Fashion-MNIST-CSV\\Fashion-MNIST/trainLabels.csv').values\n",
    "test_data = pd.read_csv(r'E:\\University\\Tehran University_Arshad\\Terme 2\\Machine learning\\0 Hws\\4\\Hw4\\Fashion-MNIST-CSV\\Fashion-MNIST/testData.csv').values\n",
    "test_labels = pd.read_csv(r'E:\\University\\Tehran University_Arshad\\Terme 2\\Machine learning\\0 Hws\\4\\Hw4\\Fashion-MNIST-CSV\\Fashion-MNIST/testLabels.csv').values\n",
    "\n",
    "class_names = ['0', '1', '2', '3', '4', '5', '6', '7', '8', '9']\n"
   ]
  },
  {
   "cell_type": "markdown",
   "id": "e4042b5d",
   "metadata": {},
   "source": [
    "# Part A"
   ]
  },
  {
   "cell_type": "code",
   "execution_count": 3,
   "id": "00e02295",
   "metadata": {
    "scrolled": true
   },
   "outputs": [],
   "source": [
    "c=10\n",
    "m=np.zeros((c,784))  #Mean of each class\n",
    "for i in range(c):\n",
    "    a=np.where(train_labels==i)[0]\n",
    "    m[i]=np.mean(train_data[a], axis=0)"
   ]
  },
  {
   "cell_type": "code",
   "execution_count": 4,
   "id": "11d72e8e",
   "metadata": {},
   "outputs": [],
   "source": [
    "Sw=np.zeros((784,784))\n",
    "for i in range(10):\n",
    "    S = np.zeros((784,784))  # each class' scatter matrix\n",
    "    for row in train_data[np.where(train_labels==i)[0]]:\n",
    "        row, mv = row.reshape(-1, 1), m[i].reshape(-1, 1)  # column vectors\n",
    "        S += (row - mv).dot((row - mv).T)\n",
    "    Sw += S  # sum class scatter matrices"
   ]
  },
  {
   "cell_type": "code",
   "execution_count": 5,
   "id": "17c6a63a",
   "metadata": {},
   "outputs": [],
   "source": [
    "M=np.mean(train_data, axis=0) #Total mean All the Dataset\n",
    "Sb=np.zeros((784,784))\n",
    "M1=M.reshape(-1, 1) # column vectors \n",
    "for i in range(10):\n",
    "    mv=m[i].reshape(-1, 1)  # column vectors\n",
    "    a=np.where(train_labels==i)[0]\n",
    "    Sb += ((mv - M1).dot((mv - M1).T))*len(train_data[a]) # between class scatter m"
   ]
  },
  {
   "cell_type": "code",
   "execution_count": 6,
   "id": "626045d2",
   "metadata": {},
   "outputs": [],
   "source": [
    "eig_vals, eig_vecs = np.linalg.eig(np.linalg.inv(Sw).dot(Sb))"
   ]
  },
  {
   "cell_type": "code",
   "execution_count": 7,
   "id": "4b399bb3",
   "metadata": {},
   "outputs": [],
   "source": [
    "eigs=np.sort(np.real(np.round(eig_vals, 3)))[::-1]"
   ]
  },
  {
   "cell_type": "code",
   "execution_count": 8,
   "id": "0b1adcb0",
   "metadata": {
    "scrolled": true
   },
   "outputs": [
    {
     "data": {
      "image/png": "[encoded data removed]",
      "text/plain": [
       "<Figure size 432x288 with 1 Axes>"
      ]
     },
     "metadata": {
      "needs_background": "light"
     },
     "output_type": "display_data"
    }
   ],
   "source": [
    "plt.plot(range(784),eigs)\n",
    "plt.xlabel('Number of Eigen values')\n",
    "plt.ylabel('Eigen values')\n",
    "plt.xlim([0,20])\n",
    "plt.show()"
   ]
  },
  {
   "cell_type": "markdown",
   "id": "ea69458c",
   "metadata": {},
   "source": [
    "# Part B: trace_seperability measure"
   ]
  },
  {
   "cell_type": "code",
   "execution_count": 9,
   "id": "4204969e",
   "metadata": {},
   "outputs": [
    {
     "data": {
      "text/plain": [
       "29.208"
      ]
     },
     "execution_count": 9,
     "metadata": {},
     "output_type": "execute_result"
    }
   ],
   "source": [
    "np.trace(np.linalg.inv(Sw).dot(Sb))\n",
    "np.sum(eigs[:7])"
   ]
  },
  {
   "cell_type": "code",
   "execution_count": 10,
   "id": "4705ea86",
   "metadata": {},
   "outputs": [
    {
     "data": {
      "image/png": "[encoded data removed]",
      "text/plain": [
       "<Figure size 432x288 with 1 Axes>"
      ]
     },
     "metadata": {
      "needs_background": "light"
     },
     "output_type": "display_data"
    }
   ],
   "source": [
    "sum_mem=np.zeros(784)\n",
    "for j in range(784):\n",
    "    sum_mem[j]=np.sum(eigs[:j])\n",
    "# sum_mem=sum_mem/np.max(sum_mem)*100    \n",
    "plt.plot(range(784),sum_mem)\n",
    "plt.xlabel('Number of Features')\n",
    "plt.ylabel('Trace(M)')\n",
    "plt.title('The Trace(Sw^-1*SB) over features')\n",
    "plt.xlim([0,25])\n",
    "plt.show()"
   ]
  },
  {
   "cell_type": "code",
   "execution_count": 11,
   "id": "10ecfe49",
   "metadata": {},
   "outputs": [],
   "source": [
    "W=eig_vecs[np.real(np.round(eig_vals, 3))>0.1]\n",
    "Y=W.dot(train_data.T)\n",
    "Y=np.real(Y.T)\n",
    "Y_test=W.dot(test_data.T)\n",
    "Y_test=np.real(Y_test.T)"
   ]
  },
  {
   "cell_type": "code",
   "execution_count": 12,
   "id": "a8488354",
   "metadata": {},
   "outputs": [
    {
     "data": {
      "text/plain": [
       "(9, 784)"
      ]
     },
     "execution_count": 12,
     "metadata": {},
     "output_type": "execute_result"
    }
   ],
   "source": [
    "W.shape"
   ]
  },
  {
   "cell_type": "markdown",
   "id": "bba43e0e",
   "metadata": {},
   "source": [
    "# Part C"
   ]
  },
  {
   "cell_type": "code",
   "execution_count": 13,
   "id": "22862450",
   "metadata": {},
   "outputs": [],
   "source": [
    "from sklearn.naive_bayes import GaussianNB\n",
    "from sklearn.metrics import classification_report\n",
    "from sklearn.metrics import precision_score"
   ]
  },
  {
   "cell_type": "code",
   "execution_count": 14,
   "id": "9b0867b6",
   "metadata": {
    "scrolled": false
   },
   "outputs": [
    {
     "data": {
      "text/plain": [
       "GaussianNB()"
      ]
     },
     "execution_count": 14,
     "metadata": {},
     "output_type": "execute_result"
    }
   ],
   "source": [
    "clf = GaussianNB()\n",
    "clf.fit(Y, train_labels.ravel())"
   ]
  },
  {
   "cell_type": "code",
   "execution_count": 15,
   "id": "d7002e3a",
   "metadata": {},
   "outputs": [
    {
     "name": "stdout",
     "output_type": "stream",
     "text": [
      "              precision    recall  f1-score   support\n",
      "\n",
      "           0       0.70      0.55      0.62      1000\n",
      "           1       0.81      0.84      0.83      1000\n",
      "           2       0.47      0.28      0.35      1000\n",
      "           3       0.60      0.63      0.62      1000\n",
      "           4       0.44      0.61      0.51      1000\n",
      "           5       0.46      0.69      0.55      1000\n",
      "           6       0.31      0.14      0.19      1000\n",
      "           7       0.68      0.84      0.75      1000\n",
      "           8       0.67      0.65      0.66      1000\n",
      "           9       0.68      0.68      0.68       999\n",
      "\n",
      "    accuracy                           0.59      9999\n",
      "   macro avg       0.58      0.59      0.58      9999\n",
      "weighted avg       0.58      0.59      0.58      9999\n",
      "\n"
     ]
    }
   ],
   "source": [
    "print(classification_report(test_labels, clf.predict(Y_test), target_names=class_names))"
   ]
  },
  {
   "cell_type": "code",
   "execution_count": 16,
   "id": "43fdf4f7",
   "metadata": {},
   "outputs": [
    {
     "data": {
      "text/plain": [
       "<AxesSubplot:>"
      ]
     },
     "execution_count": 16,
     "metadata": {},
     "output_type": "execute_result"
    },
    {
     "data": {
      "image/png": "[encoded data removed]",
      "text/plain": [
       "<Figure size 432x288 with 2 Axes>"
      ]
     },
     "metadata": {
      "needs_background": "light"
     },
     "output_type": "display_data"
    }
   ],
   "source": [
    "from sklearn.metrics import confusion_matrix\n",
    "cf_matrix=confusion_matrix(test_labels, clf.predict(Y_test))\n",
    "import seaborn as sns\n",
    "sns.heatmap(cf_matrix, annot=True,cmap='Blues')"
   ]
  },
  {
   "cell_type": "markdown",
   "id": "00939935",
   "metadata": {},
   "source": [
    "# Part D"
   ]
  },
  {
   "cell_type": "code",
   "execution_count": 17,
   "id": "bea91c5e",
   "metadata": {
    "scrolled": true
   },
   "outputs": [
    {
     "data": {
      "text/plain": [
       "GaussianNB()"
      ]
     },
     "execution_count": 17,
     "metadata": {},
     "output_type": "execute_result"
    }
   ],
   "source": [
    "clf1 = GaussianNB()\n",
    "clf1.fit(train_data, train_labels.ravel())"
   ]
  },
  {
   "cell_type": "code",
   "execution_count": 18,
   "id": "d0f7fc83",
   "metadata": {},
   "outputs": [
    {
     "name": "stdout",
     "output_type": "stream",
     "text": [
      "              precision    recall  f1-score   support\n",
      "\n",
      "           0       0.81      0.59      0.68      1000\n",
      "           1       0.64      0.94      0.76      1000\n",
      "           2       0.59      0.32      0.42      1000\n",
      "           3       0.44      0.55      0.49      1000\n",
      "           4       0.38      0.78      0.51      1000\n",
      "           5       0.93      0.28      0.43      1000\n",
      "           6       0.32      0.04      0.07      1000\n",
      "           7       0.51      0.99      0.67      1000\n",
      "           8       0.83      0.71      0.77      1000\n",
      "           9       0.91      0.67      0.77       999\n",
      "\n",
      "    accuracy                           0.59      9999\n",
      "   macro avg       0.64      0.59      0.56      9999\n",
      "weighted avg       0.64      0.59      0.56      9999\n",
      "\n"
     ]
    }
   ],
   "source": [
    "print(classification_report(test_labels, clf1.predict(test_data), target_names=class_names))"
   ]
  }
 ],
 "metadata": {
  "kernelspec": {
   "display_name": "Python 3",
   "language": "python",
   "name": "python3"
  },
  "language_info": {
   "codemirror_mode": {
    "name": "ipython",
    "version": 3
   },
   "file_extension": ".py",
   "mimetype": "text/x-python",
   "name": "python",
   "nbconvert_exporter": "python",
   "pygments_lexer": "ipython3",
   "version": "3.7.10"
  }
 },
 "nbformat": 4,
 "nbformat_minor": 5
}
