{
 "cells": [
  {
   "cell_type": "code",
   "execution_count": 1,
   "id": "f63c9b38",
   "metadata": {},
   "outputs": [],
   "source": [
    "import numpy as np\n",
    "import matplotlib.pyplot as plt"
   ]
  },
  {
   "cell_type": "code",
   "execution_count": 2,
   "id": "9e0053a7",
   "metadata": {},
   "outputs": [],
   "source": [
    "import pandas as pd\n",
    "train_data = pd.read_csv(r'E:\\University\\Tehran University_Arshad\\Terme 2\\Machine learning\\0 Hws\\4\\Hw4\\Reduced Fashion-MNIST\\Reduced Fashion-MNIST/Train_Data.csv').values\n",
    "train_labels =pd.read_csv(r'E:\\University\\Tehran University_Arshad\\Terme 2\\Machine learning\\0 Hws\\4\\Hw4\\Reduced Fashion-MNIST\\Reduced Fashion-MNIST/Train_Labels.csv').values\n",
    "test_data = pd.read_csv(r'E:\\University\\Tehran University_Arshad\\Terme 2\\Machine learning\\0 Hws\\4\\Hw4\\Reduced Fashion-MNIST\\Reduced Fashion-MNIST/Test_Data.csv').values\n",
    "test_labels = pd.read_csv(r'E:\\University\\Tehran University_Arshad\\Terme 2\\Machine learning\\0 Hws\\4\\Hw4\\Reduced Fashion-MNIST\\Reduced Fashion-MNIST/test_Labels.csv').values\n",
    "\n",
    "class_names = ['0', '1', '2', '3', '4', '5', '6', '7', '8', '9']"
   ]
  },
  {
   "cell_type": "code",
   "execution_count": 3,
   "id": "1704d7e2",
   "metadata": {},
   "outputs": [],
   "source": [
    "n=9999\n",
    "X=train_data.copy()"
   ]
  },
  {
   "cell_type": "code",
   "execution_count": 4,
   "id": "8f0a0eae",
   "metadata": {},
   "outputs": [],
   "source": [
    "def center(X):\n",
    "    X = np.array(X)\n",
    "    \n",
    "    mean = X.mean(axis=1, keepdims=True)\n",
    "    \n",
    "    return X- mean"
   ]
  },
  {
   "cell_type": "code",
   "execution_count": 5,
   "id": "42a255af",
   "metadata": {},
   "outputs": [],
   "source": [
    "X=center(X)\n",
    "cov = np.cov(X.T)"
   ]
  },
  {
   "cell_type": "code",
   "execution_count": 6,
   "id": "b23883d1",
   "metadata": {},
   "outputs": [],
   "source": [
    "eig_vals, eig_vecs = np.linalg.eig(cov)"
   ]
  },
  {
   "cell_type": "code",
   "execution_count": 7,
   "id": "4af2b579",
   "metadata": {},
   "outputs": [],
   "source": [
    "eigs=np.sort(np.real(np.round(eig_vals, 3)))[::-1]"
   ]
  },
  {
   "cell_type": "code",
   "execution_count": 8,
   "id": "67d95e1b",
   "metadata": {
    "scrolled": false
   },
   "outputs": [
    {
     "data": {
      "text/plain": [
       "(0.0, 20.0)"
      ]
     },
     "execution_count": 8,
     "metadata": {},
     "output_type": "execute_result"
    },
    {
     "data": {
      "image/png": "[encoded data removed]",
      "text/plain": [
       "<Figure size 432x288 with 1 Axes>"
      ]
     },
     "metadata": {
      "needs_background": "light"
     },
     "output_type": "display_data"
    }
   ],
   "source": [
    "v=eigs/np.sum(eigs)*100\n",
    "plt.plot(range(182),v)\n",
    "plt.xlabel('number of component')\n",
    "plt.ylabel('Eigen Values')\n",
    "plt.title(\"Eigen values percentage with Descending order\")\n",
    "plt.xlim([0,20])"
   ]
  },
  {
   "cell_type": "code",
   "execution_count": 9,
   "id": "1eff11c2",
   "metadata": {},
   "outputs": [
    {
     "name": "stdout",
     "output_type": "stream",
     "text": [
      " Optimal Number of components: 16\n"
     ]
    }
   ],
   "source": [
    "for i in range(182):\n",
    "    a=np.sum(v[:i])\n",
    "    if(a>80):\n",
    "        print(' Optimal Number of components:',i+1)   \n",
    "        break"
   ]
  },
  {
   "cell_type": "markdown",
   "id": "2447aa90",
   "metadata": {},
   "source": [
    "# Error _Number of components"
   ]
  },
  {
   "cell_type": "code",
   "execution_count": 10,
   "id": "105586db",
   "metadata": {},
   "outputs": [],
   "source": [
    "from sklearn.naive_bayes import GaussianNB\n",
    "from sklearn.metrics import classification_report\n",
    "from sklearn.metrics import precision_score\n",
    "from sklearn.metrics import accuracy_score\n",
    "clf = GaussianNB()"
   ]
  },
  {
   "cell_type": "code",
   "execution_count": 11,
   "id": "3b5753e3",
   "metadata": {},
   "outputs": [],
   "source": [
    "X_test=test_data.copy()\n",
    "X_test=center(X_test)\n",
    "CCR=np.zeros(182)\n",
    "for k in range(182):\n",
    "#     X_test=test_data.copy()\n",
    "    pca_components=k+1 \n",
    "    X_new=X.dot(eig_vecs[0:pca_components].T)\n",
    "    Y_test=X_test.dot(eig_vecs[0:pca_components].T)\n",
    "    clf.fit(X_new, train_labels.ravel())\n",
    "    CCR[k]=accuracy_score(test_labels, clf.predict(Y_test))\n",
    "# CCR"
   ]
  },
  {
   "cell_type": "code",
   "execution_count": 12,
   "id": "eaaf9b89",
   "metadata": {
    "scrolled": false
   },
   "outputs": [
    {
     "data": {
      "text/plain": [
       "(0.0, 150.0)"
      ]
     },
     "execution_count": 12,
     "metadata": {},
     "output_type": "execute_result"
    },
    {
     "data": {
      "image/png": "[encoded data removed]",
      "text/plain": [
       "<Figure size 432x288 with 1 Axes>"
      ]
     },
     "metadata": {
      "needs_background": "light"
     },
     "output_type": "display_data"
    }
   ],
   "source": [
    "plt.plot(range(182),CCR*100)\n",
    "plt.title('Accuracy Percentage')\n",
    "plt.xlabel('number of component')\n",
    "plt.ylabel('Accuracy')\n",
    "plt.xlim([0,150])"
   ]
  },
  {
   "cell_type": "markdown",
   "id": "f393b2fb",
   "metadata": {},
   "source": [
    "# Optimal Number of PCs"
   ]
  },
  {
   "cell_type": "code",
   "execution_count": 13,
   "id": "9995cc3a",
   "metadata": {
    "scrolled": true
   },
   "outputs": [],
   "source": [
    "pca_components=16"
   ]
  },
  {
   "cell_type": "code",
   "execution_count": 14,
   "id": "122c0859",
   "metadata": {},
   "outputs": [],
   "source": [
    "X_new=X.dot(eig_vecs[0:pca_components].T)"
   ]
  },
  {
   "cell_type": "code",
   "execution_count": 15,
   "id": "7c8f37f3",
   "metadata": {},
   "outputs": [],
   "source": [
    "X_test=test_data.copy()\n",
    "X_test=center(X_test)\n",
    "X_test=X_test.dot(eig_vecs[0:pca_components].T)"
   ]
  },
  {
   "cell_type": "code",
   "execution_count": 16,
   "id": "e605e582",
   "metadata": {},
   "outputs": [
    {
     "data": {
      "text/plain": [
       "GaussianNB()"
      ]
     },
     "execution_count": 16,
     "metadata": {},
     "output_type": "execute_result"
    }
   ],
   "source": [
    "from sklearn.naive_bayes import GaussianNB\n",
    "from sklearn.metrics import classification_report\n",
    "clf = GaussianNB()\n",
    "clf.fit(X_new, train_labels.ravel())"
   ]
  },
  {
   "cell_type": "code",
   "execution_count": 17,
   "id": "de6c7d39",
   "metadata": {
    "scrolled": true
   },
   "outputs": [
    {
     "name": "stdout",
     "output_type": "stream",
     "text": [
      "              precision    recall  f1-score   support\n",
      "\n",
      "           0       0.68      0.74      0.71       329\n",
      "           1       1.00      0.84      0.91       346\n",
      "           2       0.61      0.56      0.58       367\n",
      "           3       0.71      0.79      0.75       375\n",
      "           4       0.64      0.62      0.63       365\n",
      "           5       0.70      0.73      0.72       350\n",
      "           6       0.37      0.32      0.34       322\n",
      "           7       0.79      0.83      0.81       331\n",
      "           8       0.86      0.86      0.86       369\n",
      "           9       0.85      0.92      0.88       345\n",
      "\n",
      "    accuracy                           0.72      3499\n",
      "   macro avg       0.72      0.72      0.72      3499\n",
      "weighted avg       0.72      0.72      0.72      3499\n",
      "\n"
     ]
    }
   ],
   "source": [
    "print(classification_report(test_labels, clf.predict(X_test), target_names=class_names))"
   ]
  },
  {
   "cell_type": "code",
   "execution_count": 18,
   "id": "ba610322",
   "metadata": {},
   "outputs": [
    {
     "data": {
      "text/plain": [
       "<AxesSubplot:>"
      ]
     },
     "execution_count": 18,
     "metadata": {},
     "output_type": "execute_result"
    },
    {
     "data": {
      "image/png": "[encoded data removed]",
      "text/plain": [
       "<Figure size 432x288 with 2 Axes>"
      ]
     },
     "metadata": {
      "needs_background": "light"
     },
     "output_type": "display_data"
    }
   ],
   "source": [
    "from sklearn.metrics import confusion_matrix\n",
    "cf_matrix=confusion_matrix(test_labels, clf.predict(X_test))\n",
    "import seaborn as sns\n",
    "sns.heatmap(cf_matrix, annot=True,cmap='Blues')"
   ]
  }
 ],
 "metadata": {
  "kernelspec": {
   "display_name": "Python 3",
   "language": "python",
   "name": "python3"
  },
  "language_info": {
   "codemirror_mode": {
    "name": "ipython",
    "version": 3
   },
   "file_extension": ".py",
   "mimetype": "text/x-python",
   "name": "python",
   "nbconvert_exporter": "python",
   "pygments_lexer": "ipython3",
   "version": "3.7.10"
  }
 },
 "nbformat": 4,
 "nbformat_minor": 5
}
