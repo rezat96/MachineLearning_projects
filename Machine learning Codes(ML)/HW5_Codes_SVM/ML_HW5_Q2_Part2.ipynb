{
  "nbformat": 4,
  "nbformat_minor": 5,
  "metadata": {
    "colab": {
      "name": "ML_HW5_Q2_Part2.ipynb",
      "provenance": [],
      "collapsed_sections": []
    },
    "kernelspec": {
      "display_name": "Python 3",
      "language": "python",
      "name": "python3"
    },
    "language_info": {
      "codemirror_mode": {
        "name": "ipython",
        "version": 3
      },
      "file_extension": ".py",
      "mimetype": "text/x-python",
      "name": "python",
      "nbconvert_exporter": "python",
      "pygments_lexer": "ipython3",
      "version": "3.7.10"
    }
  },
  "cells": [
    {
      "cell_type": "code",
      "metadata": {
        "id": "8aacb4e2"
      },
      "source": [
        "import pandas as pd\n",
        "import numpy as np\n",
        "from sklearn import svm\n",
        "from sklearn.svm import SVR\n",
        "import matplotlib as mpl\n",
        "import matplotlib.pyplot as plt\n",
        "mpl.rc('axes', labelsize=14)\n",
        "mpl.rc('xtick', labelsize=12)\n",
        "mpl.rc('ytick', labelsize=12)"
      ],
      "id": "8aacb4e2",
      "execution_count": 1,
      "outputs": []
    },
    {
      "cell_type": "code",
      "metadata": {
        "colab": {
          "base_uri": "https://localhost:8080/"
        },
        "id": "ERp7iOhFeSee",
        "outputId": "4c2b4265-5a1b-4524-8b0c-2e7e34de6572"
      },
      "source": [
        "from google.colab import drive\n",
        "drive.mount('/content/drive')"
      ],
      "id": "ERp7iOhFeSee",
      "execution_count": 2,
      "outputs": [
        {
          "output_type": "stream",
          "text": [
            "Drive already mounted at /content/drive; to attempt to forcibly remount, call drive.mount(\"/content/drive\", force_remount=True).\n"
          ],
          "name": "stdout"
        }
      ]
    },
    {
      "cell_type": "code",
      "metadata": {
        "id": "bf8gsc3ceg4i"
      },
      "source": [
        "#Google_Colab root\n",
        "path='/content/drive/MyDrive/Hotle'\n",
        "train=pd.read_csv(f\"{path}/H1.csv\")\n",
        "test=pd.read_csv(f\"{path}/H2.csv\")"
      ],
      "id": "bf8gsc3ceg4i",
      "execution_count": 3,
      "outputs": []
    },
    {
      "cell_type": "code",
      "metadata": {
        "id": "730bd2cf"
      },
      "source": [
        "#Local_Root\n",
        "# train=pd.read_csv(r'E:\\University\\Tehran University_Arshad\\Terme 2\\Machine learning\\0 Hws\\5\\Hw5\\Hotle\\Hotle\\H1.csv')\n",
        "# test=pd.read_csv(r'E:\\University\\Tehran University_Arshad\\Terme 2\\Machine learning\\0 Hws\\5\\Hw5\\Hotle\\Hotle\\H2.csv')\n"
      ],
      "id": "730bd2cf",
      "execution_count": 4,
      "outputs": []
    },
    {
      "cell_type": "markdown",
      "metadata": {
        "id": "5jDfihYBFNhN"
      },
      "source": [
        "# Preproccess Data"
      ],
      "id": "5jDfihYBFNhN"
    },
    {
      "cell_type": "code",
      "metadata": {
        "colab": {
          "base_uri": "https://localhost:8080/"
        },
        "id": "6dfc4452",
        "outputId": "6c38b6a7-f390-4dc3-e5dc-e52aed604f9f"
      },
      "source": [
        "train.dropna(inplace=True)\n",
        "test.dropna(inplace=True)\n",
        "train.shape, test.shape"
      ],
      "id": "6dfc4452",
      "execution_count": 5,
      "outputs": [
        {
          "output_type": "execute_result",
          "data": {
            "text/plain": [
              "((39596, 28), (79302, 28))"
            ]
          },
          "metadata": {
            "tags": []
          },
          "execution_count": 5
        }
      ]
    },
    {
      "cell_type": "code",
      "metadata": {
        "id": "9c585140"
      },
      "source": [
        "# test.info()"
      ],
      "id": "9c585140",
      "execution_count": 6,
      "outputs": []
    },
    {
      "cell_type": "code",
      "metadata": {
        "id": "123e6976"
      },
      "source": [
        "trainLen = len(train)\n",
        "x = pd.concat([train, test])\n",
        "y = x['ADR']\n",
        "x.drop('ADR', axis='columns', inplace=True);"
      ],
      "id": "123e6976",
      "execution_count": 7,
      "outputs": []
    },
    {
      "cell_type": "code",
      "metadata": {
        "id": "93565e30"
      },
      "source": [
        "catCols = ['ArrivalDateMonth', 'AssignedRoomType', 'ReservedRoomType',\n",
        "               'CustomerType', 'DistributionChannel', 'ReservationStatus',\n",
        "               'MarketSegment', 'Meal', 'DepositType', 'Country']\n",
        "\n",
        "cMap = {}\n",
        "for col in catCols:\n",
        "  cMap[col] = {v: k for k, v in \n",
        "             dict(enumerate(train[col].astype('category').cat.categories)).items()}\n",
        "  x[col] = x[col].astype('category').cat.codes"
      ],
      "id": "93565e30",
      "execution_count": 8,
      "outputs": []
    },
    {
      "cell_type": "code",
      "metadata": {
        "colab": {
          "base_uri": "https://localhost:8080/"
        },
        "id": "82a17a83",
        "outputId": "2e92c093-8c63-4c76-bb14-440f4ac82e84"
      },
      "source": [
        "xTrain, xTest = x[:trainLen], x[trainLen:]\n",
        "yTrain, yTest = y[:trainLen], y[trainLen:]\n",
        "\n",
        "xTrain.shape, xTest.shape"
      ],
      "id": "82a17a83",
      "execution_count": 9,
      "outputs": [
        {
          "output_type": "execute_result",
          "data": {
            "text/plain": [
              "((39596, 27), (79302, 27))"
            ]
          },
          "metadata": {
            "tags": []
          },
          "execution_count": 9
        }
      ]
    },
    {
      "cell_type": "code",
      "metadata": {
        "id": "ba25b5a4"
      },
      "source": [
        "x_train=xTrain.to_numpy()\n",
        "y_train=yTrain.to_numpy()\n",
        "x_test=xTest.to_numpy()\n",
        "y_test=yTest.to_numpy()"
      ],
      "id": "ba25b5a4",
      "execution_count": 10,
      "outputs": []
    },
    {
      "cell_type": "code",
      "metadata": {
        "id": "cdddaf83"
      },
      "source": [
        "y_true=yTest.to_numpy()"
      ],
      "id": "cdddaf83",
      "execution_count": 11,
      "outputs": []
    },
    {
      "cell_type": "code",
      "metadata": {
        "id": "02c148a3"
      },
      "source": [
        "# normalize the dataset\n",
        "from sklearn.preprocessing import StandardScaler, MinMaxScaler\n",
        "sc = StandardScaler()\n",
        "# sc = MinMaxScaler()\n",
        "x_train = sc.fit_transform(x_train)\n",
        "x_test = sc.transform(x_test)"
      ],
      "id": "02c148a3",
      "execution_count": 12,
      "outputs": []
    },
    {
      "cell_type": "code",
      "metadata": {
        "colab": {
          "base_uri": "https://localhost:8080/"
        },
        "id": "a9314e5f",
        "outputId": "24a6697e-931c-4db5-9487-0374c511d033"
      },
      "source": [
        "y_test"
      ],
      "id": "a9314e5f",
      "execution_count": 13,
      "outputs": [
        {
          "output_type": "execute_result",
          "data": {
            "text/plain": [
              "array([  0.  ,  76.5 ,  68.  , ..., 157.71, 104.4 , 151.2 ])"
            ]
          },
          "metadata": {
            "tags": []
          },
          "execution_count": 13
        }
      ]
    },
    {
      "cell_type": "code",
      "metadata": {
        "id": "6a8e0364"
      },
      "source": [
        "scalar=MinMaxScaler()\n",
        "y_train=scalar.fit_transform(y_train.reshape(-1, 1))\n",
        "y_test=scalar.transform(y_test.reshape(-1, 1))"
      ],
      "id": "6a8e0364",
      "execution_count": 14,
      "outputs": []
    },
    {
      "cell_type": "code",
      "metadata": {
        "id": "29d31796"
      },
      "source": [
        "from sklearn.decomposition import PCA\n",
        "pca = PCA(n_components=5)\n",
        "x_train = pca.fit_transform(x_train)\n",
        "x_test = pca.fit_transform(x_test)"
      ],
      "id": "29d31796",
      "execution_count": 15,
      "outputs": []
    },
    {
      "cell_type": "code",
      "metadata": {
        "id": "3600b504"
      },
      "source": [
        "# x_test,x_train.shape"
      ],
      "id": "3600b504",
      "execution_count": 16,
      "outputs": []
    },
    {
      "cell_type": "markdown",
      "metadata": {
        "id": "26c76cf4"
      },
      "source": [
        "# Model"
      ],
      "id": "26c76cf4"
    },
    {
      "cell_type": "code",
      "metadata": {
        "id": "5a24180b"
      },
      "source": [
        "from sklearn.model_selection import GridSearchCV\n",
        "from sklearn.pipeline import Pipeline\n",
        "from sklearn.preprocessing import StandardScaler, MinMaxScaler\n"
      ],
      "id": "5a24180b",
      "execution_count": 17,
      "outputs": []
    },
    {
      "cell_type": "code",
      "metadata": {
        "id": "41a749c5"
      },
      "source": [
        "# #using Support vector regression\n",
        "\n",
        "# pipe_svr = Pipeline([('scaler', StandardScaler()), ('SVM', svm.SVR(kernel = 'rbf'))]) \n",
        "# parameteres_svr = {'SVM__C':[0.1], 'SVM__gamma':[0.1]\n",
        "#               ,'SVM__epsilon':[0.01]}\n",
        "# model_SVR = GridSearchCV(pipe_svr, param_grid=parameteres_svr, cv=2)\n",
        "\n",
        "# model_SVR.fit(x_train, y_train.ravel())\n",
        "\n",
        "# print ('R squared metric for the model is:',model_SVR.score(x_test,y_test.ravel()))\n",
        "# print ('best parameters of the model are:',model_SVR.best_params_)"
      ],
      "id": "41a749c5",
      "execution_count": 18,
      "outputs": []
    },
    {
      "cell_type": "code",
      "metadata": {
        "id": "dYK5hBL293MD"
      },
      "source": [
        "model_SVR=Pipeline([('scaler', StandardScaler()), ('SVM', svm.SVR(kernel = 'rbf', C = 10, epsilon= 0.01, gamma = 'auto' ) )])\n",
        "model_SVR.fit(x_train, y_train.ravel())\n",
        "print ('R squared metric for the model is:',model_SVR.score(x_test,y_test.ravel()))\n",
        "# print ('best parameters of the model are:',model_SVR.best_params_)"
      ],
      "id": "dYK5hBL293MD",
      "execution_count": null,
      "outputs": []
    },
    {
      "cell_type": "code",
      "metadata": {
        "colab": {
          "base_uri": "https://localhost:8080/"
        },
        "id": "665fb1d1",
        "outputId": "fc2b68df-ada7-4f82-85c0-fe279711bd61"
      },
      "source": [
        "y_pred2=model_SVR.predict(x_test)\n",
        "y_pred3=scalar.inverse_transform(y_pred2.reshape(-1,1))\n",
        "from sklearn.metrics import mean_squared_error,mean_absolute_error\n",
        "\n",
        "print(mean_squared_error(y_true,y_pred3))"
      ],
      "id": "665fb1d1",
      "execution_count": 21,
      "outputs": [
        {
          "output_type": "stream",
          "text": [
            "5292.582324877447\n"
          ],
          "name": "stdout"
        }
      ]
    },
    {
      "cell_type": "code",
      "metadata": {
        "colab": {
          "base_uri": "https://localhost:8080/",
          "height": 318
        },
        "id": "e9187baf",
        "outputId": "f77b2225-6f83-4883-a143-1513c6aad9f5"
      },
      "source": [
        "a=np.random.randint(1,500,20)   #generate 20 random test numbersto show\n",
        "plt.figure()\n",
        "plt.plot(y_true[a],'o',label='Real')\n",
        "plt.plot(y_pred3[a],'^',label='Predicted')\n",
        "plt.title('Real and Predicted values')\n",
        "plt.ylabel('Salary')\n",
        "plt.xlabel('Levels')\n",
        "plt.legend()"
      ],
      "id": "e9187baf",
      "execution_count": 29,
      "outputs": [
        {
          "output_type": "execute_result",
          "data": {
            "text/plain": [
              "<matplotlib.legend.Legend at 0x7f6191e1f210>"
            ]
          },
          "metadata": {
            "tags": []
          },
          "execution_count": 29
        },
        {
          "output_type": "display_data",
          "data": {
            "image/png": "[encoded data removed]",
            "text/plain": [
              "<Figure size 432x288 with 1 Axes>"
            ]
          },
          "metadata": {
            "tags": [],
            "needs_background": "light"
          }
        }
      ]
    },
    {
      "cell_type": "code",
      "metadata": {
        "id": "3g1nl8YhKBC0"
      },
      "source": [
        "y_true=y_true.reshape(-1,1)\n",
        "delta=y_true-y_pred3\n",
        "Y=np.concatenate((y_true,y_pred3,delta),axis=1)"
      ],
      "id": "3g1nl8YhKBC0",
      "execution_count": 41,
      "outputs": []
    },
    {
      "cell_type": "code",
      "metadata": {
        "colab": {
          "base_uri": "https://localhost:8080/"
        },
        "id": "2gWMmq9jOQ89",
        "outputId": "e15c4ca0-d043-4750-f4a4-aed6706cf2da"
      },
      "source": [
        "Y.shape"
      ],
      "id": "2gWMmq9jOQ89",
      "execution_count": 42,
      "outputs": [
        {
          "output_type": "execute_result",
          "data": {
            "text/plain": [
              "(79302, 3)"
            ]
          },
          "metadata": {
            "tags": []
          },
          "execution_count": 42
        }
      ]
    },
    {
      "cell_type": "code",
      "metadata": {
        "id": "30JvUlcBMocW"
      },
      "source": [
        "import pandas\n",
        "column_values = ['Real', 'Predicted', 'delta']\n",
        "df_new=pd.DataFrame(data = Y,  \n",
        "                  columns = column_values)\n",
        "df_new.to_csv('FinalResult.csv')"
      ],
      "id": "30JvUlcBMocW",
      "execution_count": 46,
      "outputs": []
    },
    {
      "cell_type": "code",
      "metadata": {
        "colab": {
          "base_uri": "https://localhost:8080/",
          "height": 197
        },
        "id": "DdJH3COkPPpM",
        "outputId": "2114562d-acce-484f-d7e2-4951d96a219d"
      },
      "source": [
        "# df_new.to_csv('/content/drive/dd/FinalResult.csv')\n",
        "with open('/content/drive/dd/FinalResult.csv', 'w') as f:\n",
        "  df_new.to_csv(f)"
      ],
      "id": "DdJH3COkPPpM",
      "execution_count": 51,
      "outputs": [
        {
          "output_type": "error",
          "ename": "FileNotFoundError",
          "evalue": "ignored",
          "traceback": [
            "\u001b[0;31m---------------------------------------------------------------------------\u001b[0m",
            "\u001b[0;31mFileNotFoundError\u001b[0m                         Traceback (most recent call last)",
            "\u001b[0;32m<ipython-input-51-97b8afc4d03d>\u001b[0m in \u001b[0;36m<module>\u001b[0;34m()\u001b[0m\n\u001b[1;32m      1\u001b[0m \u001b[0;31m# df_new.to_csv('/content/drive/dd/FinalResult.csv')\u001b[0m\u001b[0;34m\u001b[0m\u001b[0;34m\u001b[0m\u001b[0;34m\u001b[0m\u001b[0m\n\u001b[0;32m----> 2\u001b[0;31m \u001b[0;32mwith\u001b[0m \u001b[0mopen\u001b[0m\u001b[0;34m(\u001b[0m\u001b[0;34m'/content/drive/dd/FinalResult.csv'\u001b[0m\u001b[0;34m,\u001b[0m \u001b[0;34m'w'\u001b[0m\u001b[0;34m)\u001b[0m \u001b[0;32mas\u001b[0m \u001b[0mf\u001b[0m\u001b[0;34m:\u001b[0m\u001b[0;34m\u001b[0m\u001b[0;34m\u001b[0m\u001b[0m\n\u001b[0m\u001b[1;32m      3\u001b[0m   \u001b[0mdf_new\u001b[0m\u001b[0;34m.\u001b[0m\u001b[0mto_csv\u001b[0m\u001b[0;34m(\u001b[0m\u001b[0mf\u001b[0m\u001b[0;34m)\u001b[0m\u001b[0;34m\u001b[0m\u001b[0;34m\u001b[0m\u001b[0m\n",
            "\u001b[0;31mFileNotFoundError\u001b[0m: [Errno 2] No such file or directory: '/content/drive/dd/FinalResult.csv'"
          ]
        }
      ]
    },
    {
      "cell_type": "code",
      "metadata": {
        "colab": {
          "base_uri": "https://localhost:8080/",
          "height": 420
        },
        "id": "gfAdKLdlOcHE",
        "outputId": "a1e62f73-2433-4786-af9f-f6765decae90"
      },
      "source": [
        "df_new"
      ],
      "id": "gfAdKLdlOcHE",
      "execution_count": 44,
      "outputs": [
        {
          "output_type": "execute_result",
          "data": {
            "text/html": [
              "<div>\n",
              "<style scoped>\n",
              "    .dataframe tbody tr th:only-of-type {\n",
              "        vertical-align: middle;\n",
              "    }\n",
              "\n",
              "    .dataframe tbody tr th {\n",
              "        vertical-align: top;\n",
              "    }\n",
              "\n",
              "    .dataframe thead th {\n",
              "        text-align: right;\n",
              "    }\n",
              "</style>\n",
              "<table border=\"1\" class=\"dataframe\">\n",
              "  <thead>\n",
              "    <tr style=\"text-align: right;\">\n",
              "      <th></th>\n",
              "      <th>Real</th>\n",
              "      <th>Predicted</th>\n",
              "      <th>delta</th>\n",
              "    </tr>\n",
              "  </thead>\n",
              "  <tbody>\n",
              "    <tr>\n",
              "      <th>0</th>\n",
              "      <td>0.00</td>\n",
              "      <td>63.167423</td>\n",
              "      <td>-63.167423</td>\n",
              "    </tr>\n",
              "    <tr>\n",
              "      <th>1</th>\n",
              "      <td>76.50</td>\n",
              "      <td>72.958949</td>\n",
              "      <td>3.541051</td>\n",
              "    </tr>\n",
              "    <tr>\n",
              "      <th>2</th>\n",
              "      <td>68.00</td>\n",
              "      <td>59.105333</td>\n",
              "      <td>8.894667</td>\n",
              "    </tr>\n",
              "    <tr>\n",
              "      <th>3</th>\n",
              "      <td>76.50</td>\n",
              "      <td>93.900016</td>\n",
              "      <td>-17.400016</td>\n",
              "    </tr>\n",
              "    <tr>\n",
              "      <th>4</th>\n",
              "      <td>76.50</td>\n",
              "      <td>69.409174</td>\n",
              "      <td>7.090826</td>\n",
              "    </tr>\n",
              "    <tr>\n",
              "      <th>...</th>\n",
              "      <td>...</td>\n",
              "      <td>...</td>\n",
              "      <td>...</td>\n",
              "    </tr>\n",
              "    <tr>\n",
              "      <th>79297</th>\n",
              "      <td>96.14</td>\n",
              "      <td>127.775730</td>\n",
              "      <td>-31.635730</td>\n",
              "    </tr>\n",
              "    <tr>\n",
              "      <th>79298</th>\n",
              "      <td>225.43</td>\n",
              "      <td>80.897635</td>\n",
              "      <td>144.532365</td>\n",
              "    </tr>\n",
              "    <tr>\n",
              "      <th>79299</th>\n",
              "      <td>157.71</td>\n",
              "      <td>37.242293</td>\n",
              "      <td>120.467707</td>\n",
              "    </tr>\n",
              "    <tr>\n",
              "      <th>79300</th>\n",
              "      <td>104.40</td>\n",
              "      <td>151.474885</td>\n",
              "      <td>-47.074885</td>\n",
              "    </tr>\n",
              "    <tr>\n",
              "      <th>79301</th>\n",
              "      <td>151.20</td>\n",
              "      <td>104.869286</td>\n",
              "      <td>46.330714</td>\n",
              "    </tr>\n",
              "  </tbody>\n",
              "</table>\n",
              "<p>79302 rows × 3 columns</p>\n",
              "</div>"
            ],
            "text/plain": [
              "         Real   Predicted       delta\n",
              "0        0.00   63.167423  -63.167423\n",
              "1       76.50   72.958949    3.541051\n",
              "2       68.00   59.105333    8.894667\n",
              "3       76.50   93.900016  -17.400016\n",
              "4       76.50   69.409174    7.090826\n",
              "...       ...         ...         ...\n",
              "79297   96.14  127.775730  -31.635730\n",
              "79298  225.43   80.897635  144.532365\n",
              "79299  157.71   37.242293  120.467707\n",
              "79300  104.40  151.474885  -47.074885\n",
              "79301  151.20  104.869286   46.330714\n",
              "\n",
              "[79302 rows x 3 columns]"
            ]
          },
          "metadata": {
            "tags": []
          },
          "execution_count": 44
        }
      ]
    }
  ]
}