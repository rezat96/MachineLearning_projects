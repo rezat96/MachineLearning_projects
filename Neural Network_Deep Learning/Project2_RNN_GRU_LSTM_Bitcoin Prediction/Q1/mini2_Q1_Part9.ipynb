{
  "nbformat": 4,
  "nbformat_minor": 0,
  "metadata": {
    "colab": {
      "name": "mini2_Q1_Part9.ipynb",
      "provenance": [],
      "collapsed_sections": []
    },
    "kernelspec": {
      "name": "python3",
      "display_name": "Python 3"
    },
    "language_info": {
      "name": "python"
    },
    "accelerator": "GPU"
  },
  "cells": [
    {
      "cell_type": "code",
      "metadata": {
        "id": "_kHhWtPLwtGk"
      },
      "source": [
        "import numpy as np\n",
        "np.random.seed(42)\n",
        "# To plot pretty figures\n",
        "%matplotlib inline\n",
        "import matplotlib as mpl\n",
        "import matplotlib.pyplot as plt\n",
        "mpl.rc('axes', labelsize=14)\n",
        "mpl.rc('xtick', labelsize=12)\n",
        "mpl.rc('ytick', labelsize=12)\n",
        "import time"
      ],
      "execution_count": null,
      "outputs": []
    },
    {
      "cell_type": "code",
      "metadata": {
        "id": "KtmtRXNjygCh"
      },
      "source": [
        "from keras.models import Sequential\n",
        "from keras.layers import Dense, SimpleRNN,LSTM,GRU,Dropout,Conv1D,AveragePooling1D\n",
        "from sklearn.preprocessing import MinMaxScaler   #change this part to diffrent Methods asked in 11"
      ],
      "execution_count": null,
      "outputs": []
    },
    {
      "cell_type": "code",
      "metadata": {
        "id": "aOK8L3yTygAR"
      },
      "source": [
        "import pandas as pd\n",
        "import datetime\n",
        "import pandas_datareader as pdr\n",
        "from pandas import Series,DataFrame\n",
        "start=datetime.datetime(2014,9,20)\n",
        "end=datetime.datetime(2021,5,20)\n",
        "df=pdr.get_data_yahoo(['BTC-USD'],start=start,end=end)\n",
        "df.drop('Adj Close', inplace=True, axis=1)"
      ],
      "execution_count": null,
      "outputs": []
    },
    {
      "cell_type": "code",
      "metadata": {
        "id": "zrkxJbU92sYk"
      },
      "source": [
        "# df"
      ],
      "execution_count": null,
      "outputs": []
    },
    {
      "cell_type": "markdown",
      "metadata": {
        "id": "Nr9xEoD2Bc_E"
      },
      "source": [
        "# Specify inputs"
      ]
    },
    {
      "cell_type": "code",
      "metadata": {
        "id": "Y_CC9l41BZxN"
      },
      "source": [
        "seq=27   #Set from 24_28\n",
        "tt=0"
      ],
      "execution_count": null,
      "outputs": []
    },
    {
      "cell_type": "markdown",
      "metadata": {
        "id": "fH8-8A4FUOgO"
      },
      "source": [
        "# Data & Preprocessing"
      ]
    },
    {
      "cell_type": "code",
      "metadata": {
        "id": "GXYB_4bFyl8Q"
      },
      "source": [
        "# list1=['Close','High','Low','Open','Volume']   #Change it:List of desired X Features\n",
        "list1=['Close','Open','Low']   #Change it:List of desired X Features\n",
        "df1=df[list1]\n",
        "data=df1.values"
      ],
      "execution_count": null,
      "outputs": []
    },
    {
      "cell_type": "code",
      "metadata": {
        "id": "KluBrHM4JtEF"
      },
      "source": [
        "hh=len(list1)   #feature dimension      #Changedddd"
      ],
      "execution_count": null,
      "outputs": []
    },
    {
      "cell_type": "code",
      "metadata": {
        "id": "wGsSRyy71EBO"
      },
      "source": [
        "training_data=data[:2000,:]\n",
        "data_test=data[2000:,:]"
      ],
      "execution_count": null,
      "outputs": []
    },
    {
      "cell_type": "code",
      "metadata": {
        "id": "qLoHmdfh21Hr"
      },
      "source": [
        "scaler = MinMaxScaler()\n",
        "training_data = scaler.fit_transform(training_data)\n",
        "# training_data"
      ],
      "execution_count": null,
      "outputs": []
    },
    {
      "cell_type": "code",
      "metadata": {
        "id": "gN91nM8929oi"
      },
      "source": [
        "X_train = [] \n",
        "Y_train = []\n",
        "for i in range(seq, training_data.shape[0]):\n",
        "   X_train.append(training_data[i-seq:i,:])            #Changedddd\n",
        "   Y_train.append(training_data[i,0])\n",
        "X_train, Y_train = np.array(X_train), np.array(Y_train)"
      ],
      "execution_count": null,
      "outputs": []
    },
    {
      "cell_type": "code",
      "metadata": {
        "id": "UMH8SooZRX5u"
      },
      "source": [
        "scaler = MinMaxScaler()\n",
        "data_test = scaler.fit_transform(data_test)\n",
        "# data_test\n",
        "X_test = []\n",
        "Y_test = []\n",
        "for i in range (seq, data_test.shape[0]):\n",
        "  X_test.append(data_test[i-seq:i,:])                 #Changedddd\n",
        "  Y_test.append(data_test[i, 0])\n",
        "X_test, Y_test = np.array(X_test), np.array(Y_test)\n",
        "# X_test.shape,Y_test.shape"
      ],
      "execution_count": null,
      "outputs": []
    },
    {
      "cell_type": "code",
      "metadata": {
        "id": "bH_09txhfro0"
      },
      "source": [
        "# from keras.layers.convolutional_recurrent import ConvLSTM2D\n",
        "from keras.layers.normalization import BatchNormalization"
      ],
      "execution_count": null,
      "outputs": []
    },
    {
      "cell_type": "markdown",
      "metadata": {
        "id": "3U9gdI8GQiHH"
      },
      "source": [
        "# Build The Model"
      ]
    },
    {
      "cell_type": "code",
      "metadata": {
        "colab": {
          "base_uri": "https://localhost:8080/"
        },
        "id": "49LgpK_vZhYG",
        "outputId": "45ea8340-f829-4265-8a71-09361d0632de"
      },
      "source": [
        "model = Sequential() \n",
        "model.add(Conv1D(filters=32, kernel_size=3,strides=1, padding=\"same\", activation=\"relu\",input_shape = (seq, hh)))\n",
        "model.add(BatchNormalization())\n",
        "model.add(AveragePooling1D(pool_size=2, strides=1, padding='same'))\n",
        "\n",
        "model.add(LSTM(units = seq , activation = 'tanh'))    #return_sequences = True\n",
        "model.add(Dense(10, activation=\"relu\")) \n",
        "model.add(Dense(1))\n",
        "\n",
        "\n",
        "\n",
        "model.compile(loss='MSE', optimizer='Adam')\n",
        "model.summary()\n",
        "\n",
        "\n",
        "\n",
        "# history= model.fit(X_train, Y_train, epochs = 20, batch_size =30, validation_split=0.2)\n"
      ],
      "execution_count": null,
      "outputs": [
        {
          "output_type": "stream",
          "text": [
            "Model: \"sequential_1\"\n",
            "_________________________________________________________________\n",
            "Layer (type)                 Output Shape              Param #   \n",
            "=================================================================\n",
            "conv1d_1 (Conv1D)            (None, 27, 32)            320       \n",
            "_________________________________________________________________\n",
            "batch_normalization_1 (Batch (None, 27, 32)            128       \n",
            "_________________________________________________________________\n",
            "average_pooling1d_1 (Average (None, 27, 32)            0         \n",
            "_________________________________________________________________\n",
            "lstm_1 (LSTM)                (None, 27)                6480      \n",
            "_________________________________________________________________\n",
            "dense_2 (Dense)              (None, 10)                280       \n",
            "_________________________________________________________________\n",
            "dense_3 (Dense)              (None, 1)                 11        \n",
            "=================================================================\n",
            "Total params: 7,219\n",
            "Trainable params: 7,155\n",
            "Non-trainable params: 64\n",
            "_________________________________________________________________\n"
          ],
          "name": "stdout"
        }
      ]
    },
    {
      "cell_type": "markdown",
      "metadata": {
        "id": "l_FLd2bEQmPP"
      },
      "source": [
        "# Fit the model on our data"
      ]
    },
    {
      "cell_type": "code",
      "metadata": {
        "colab": {
          "base_uri": "https://localhost:8080/"
        },
        "id": "BY_tV933Qp3H",
        "outputId": "1f9cb7ea-5bc0-46d1-c2f4-88ad86d04674"
      },
      "source": [
        "start=time.time()\n",
        "history= model.fit(X_train, Y_train, epochs = 25, batch_size =30, validation_split=0.2)\n",
        "print(\"The test results for loss is\")\n",
        "model.evaluate(X_test, Y_test, batch_size=10, verbose=1)\n",
        "end=time.time()\n",
        "tt=end-start\n",
        "print('The fitting and evaluation time is:  ',tt,'Seconds')\n"
      ],
      "execution_count": null,
      "outputs": [
        {
          "output_type": "stream",
          "text": [
            "Epoch 1/25\n",
            "53/53 [==============================] - 3s 15ms/step - loss: 0.0102 - val_loss: 0.1365\n",
            "Epoch 2/25\n",
            "53/53 [==============================] - 0s 5ms/step - loss: 9.7583e-04 - val_loss: 0.1515\n",
            "Epoch 3/25\n",
            "53/53 [==============================] - 0s 6ms/step - loss: 7.1365e-04 - val_loss: 0.1505\n",
            "Epoch 4/25\n",
            "53/53 [==============================] - 0s 5ms/step - loss: 4.8583e-04 - val_loss: 0.1395\n",
            "Epoch 5/25\n",
            "53/53 [==============================] - 0s 5ms/step - loss: 4.2087e-04 - val_loss: 0.1282\n",
            "Epoch 6/25\n",
            "53/53 [==============================] - 0s 5ms/step - loss: 4.2327e-04 - val_loss: 0.1126\n",
            "Epoch 7/25\n",
            "53/53 [==============================] - 0s 5ms/step - loss: 5.7402e-04 - val_loss: 0.0942\n",
            "Epoch 8/25\n",
            "53/53 [==============================] - 0s 5ms/step - loss: 3.7189e-04 - val_loss: 0.0833\n",
            "Epoch 9/25\n",
            "53/53 [==============================] - 0s 6ms/step - loss: 5.2659e-04 - val_loss: 0.0637\n",
            "Epoch 10/25\n",
            "53/53 [==============================] - 0s 5ms/step - loss: 4.9160e-04 - val_loss: 0.0317\n",
            "Epoch 11/25\n",
            "53/53 [==============================] - 0s 5ms/step - loss: 3.2881e-04 - val_loss: 0.0336\n",
            "Epoch 12/25\n",
            "53/53 [==============================] - 0s 5ms/step - loss: 3.1589e-04 - val_loss: 0.0334\n",
            "Epoch 13/25\n",
            "53/53 [==============================] - 0s 5ms/step - loss: 2.9724e-04 - val_loss: 0.0243\n",
            "Epoch 14/25\n",
            "53/53 [==============================] - 0s 5ms/step - loss: 3.4844e-04 - val_loss: 0.0079\n",
            "Epoch 15/25\n",
            "53/53 [==============================] - 0s 5ms/step - loss: 2.6646e-04 - val_loss: 0.0055\n",
            "Epoch 16/25\n",
            "53/53 [==============================] - 0s 5ms/step - loss: 3.5967e-04 - val_loss: 5.9537e-04\n",
            "Epoch 17/25\n",
            "53/53 [==============================] - 0s 5ms/step - loss: 5.2208e-04 - val_loss: 6.0688e-04\n",
            "Epoch 18/25\n",
            "53/53 [==============================] - 0s 5ms/step - loss: 3.1228e-04 - val_loss: 0.0014\n",
            "Epoch 19/25\n",
            "53/53 [==============================] - 0s 6ms/step - loss: 2.5098e-04 - val_loss: 0.0060\n",
            "Epoch 20/25\n",
            "53/53 [==============================] - 0s 5ms/step - loss: 2.4802e-04 - val_loss: 5.1397e-04\n",
            "Epoch 21/25\n",
            "53/53 [==============================] - 0s 5ms/step - loss: 4.2554e-04 - val_loss: 0.0011\n",
            "Epoch 22/25\n",
            "53/53 [==============================] - 0s 6ms/step - loss: 3.6138e-04 - val_loss: 4.7042e-04\n",
            "Epoch 23/25\n",
            "53/53 [==============================] - 0s 5ms/step - loss: 2.7164e-04 - val_loss: 8.0475e-04\n",
            "Epoch 24/25\n",
            "53/53 [==============================] - 0s 6ms/step - loss: 3.0556e-04 - val_loss: 0.0011\n",
            "Epoch 25/25\n",
            "53/53 [==============================] - 0s 5ms/step - loss: 3.1428e-04 - val_loss: 5.5104e-04\n",
            "The test results for loss is\n",
            "41/41 [==============================] - 0s 2ms/step - loss: 9.2771e-04\n",
            "The fitting and evaluation time is:   9.80224871635437 Seconds\n"
          ],
          "name": "stdout"
        }
      ]
    },
    {
      "cell_type": "code",
      "metadata": {
        "colab": {
          "base_uri": "https://localhost:8080/",
          "height": 302
        },
        "id": "SdBpRDEYVmWh",
        "outputId": "1c9b0be5-bba4-4480-fc4c-d8ac16b58c2d"
      },
      "source": [
        "# summarize history for loss\n",
        "plt.plot(history.history['loss'])\n",
        "plt.plot(history.history['val_loss'])\n",
        "plt.title('Model loss for CNN_LSTM module')\n",
        "plt.ylabel('loss')\n",
        "plt.xlabel('epoch')\n",
        "# plt.ylim([0,0.005])\n",
        "plt.legend(['train', 'Validation'], loc='upper right')\n",
        "plt.show()"
      ],
      "execution_count": null,
      "outputs": [
        {
          "output_type": "display_data",
          "data": {
            "image/png": "[encoded data removed]",
            "text/plain": [
              "<Figure size 432x288 with 1 Axes>"
            ]
          },
          "metadata": {
            "tags": [],
            "needs_background": "light"
          }
        }
      ]
    },
    {
      "cell_type": "code",
      "metadata": {
        "id": "JDv3b_Xz_yDe"
      },
      "source": [
        "Y_pred = model.predict(X_test)\n",
        "scale = 1/scaler.scale_[0]\n",
        "Y_tt = Y_test*scale \n",
        "Y_ff = Y_pred*scale"
      ],
      "execution_count": null,
      "outputs": []
    },
    {
      "cell_type": "code",
      "metadata": {
        "colab": {
          "base_uri": "https://localhost:8080/"
        },
        "id": "9xkOokmgq6vO",
        "outputId": "a1fd6968-7d68-47ba-e5ef-5171b8c0a32a"
      },
      "source": [
        "scale"
      ],
      "execution_count": null,
      "outputs": [
        {
          "output_type": "execute_result",
          "data": {
            "text/plain": [
              "58532.6689453125"
            ]
          },
          "metadata": {
            "tags": []
          },
          "execution_count": 35
        }
      ]
    },
    {
      "cell_type": "code",
      "metadata": {
        "colab": {
          "base_uri": "https://localhost:8080/",
          "height": 357
        },
        "id": "qqn6Vt3hAKSH",
        "outputId": "9eb1c54f-2052-472f-9b52-b7b2d9ab190c"
      },
      "source": [
        "plt.figure(figsize=(14,5))\n",
        "plt.plot(range(2000+seq,2000+Y_test.shape[0]+seq),Y_tt, color = 'blue', label = 'Real Value')\n",
        "plt.plot(range(2000+seq,2000+Y_test.shape[0]+seq),Y_ff, color = 'red', label = 'Predicted Value')\n",
        "plt.title('Close Estimation using CNN_LSTM')\n",
        "plt.xlabel('Time')\n",
        "plt.ylabel('Price')\n",
        "# plt.xlim([2350,2400])\n",
        "# plt.ylim([40000,60000])\n",
        "plt.show()"
      ],
      "execution_count": null,
      "outputs": [
        {
          "output_type": "display_data",
          "data": {
            "image/png": "[encoded data removed]",
            "text/plain": [
              "<Figure size 1008x360 with 1 Axes>"
            ]
          },
          "metadata": {
            "tags": [],
            "needs_background": "light"
          }
        }
      ]
    }
  ]
}