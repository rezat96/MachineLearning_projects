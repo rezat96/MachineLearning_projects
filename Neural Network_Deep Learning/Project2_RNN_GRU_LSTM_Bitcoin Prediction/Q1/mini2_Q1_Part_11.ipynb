{
  "nbformat": 4,
  "nbformat_minor": 0,
  "metadata": {
    "colab": {
      "name": "mini2_Q1_Part 11.ipynb",
      "provenance": [],
      "collapsed_sections": []
    },
    "kernelspec": {
      "name": "python3",
      "display_name": "Python 3"
    },
    "language_info": {
      "name": "python"
    },
    "accelerator": "GPU"
  },
  "cells": [
    {
      "cell_type": "code",
      "metadata": {
        "id": "_kHhWtPLwtGk"
      },
      "source": [
        "import numpy as np\n",
        "np.random.seed(42)\n",
        "# To plot pretty figures\n",
        "%matplotlib inline\n",
        "import matplotlib as mpl\n",
        "import matplotlib.pyplot as plt\n",
        "mpl.rc('axes', labelsize=14)\n",
        "mpl.rc('xtick', labelsize=12)\n",
        "mpl.rc('ytick', labelsize=12)\n",
        "import time"
      ],
      "execution_count": null,
      "outputs": []
    },
    {
      "cell_type": "code",
      "metadata": {
        "id": "KtmtRXNjygCh"
      },
      "source": [
        "from keras.models import Sequential\n",
        "from keras.layers import Dense, SimpleRNN,LSTM,GRU,Dropout\n",
        "from sklearn.preprocessing import MinMaxScaler   #change this part to diffrent Methods asked in 11"
      ],
      "execution_count": null,
      "outputs": []
    },
    {
      "cell_type": "code",
      "metadata": {
        "id": "aOK8L3yTygAR"
      },
      "source": [
        "import pandas as pd\n",
        "import datetime\n",
        "import pandas_datareader as pdr\n",
        "from pandas import Series,DataFrame\n",
        "start=datetime.datetime(2014,9,20)\n",
        "end=datetime.datetime(2021,5,20)\n",
        "df=pdr.get_data_yahoo(['BTC-USD'],start=start,end=end)\n",
        "df.drop('Adj Close', inplace=True, axis=1)"
      ],
      "execution_count": null,
      "outputs": []
    },
    {
      "cell_type": "code",
      "metadata": {
        "id": "zrkxJbU92sYk"
      },
      "source": [
        "# df"
      ],
      "execution_count": null,
      "outputs": []
    },
    {
      "cell_type": "markdown",
      "metadata": {
        "id": "Nr9xEoD2Bc_E"
      },
      "source": [
        "# Specify inputs"
      ]
    },
    {
      "cell_type": "code",
      "metadata": {
        "id": "Y_CC9l41BZxN"
      },
      "source": [
        "seq=27   #Set from 24_28\n",
        "tt=0"
      ],
      "execution_count": null,
      "outputs": []
    },
    {
      "cell_type": "markdown",
      "metadata": {
        "id": "fH8-8A4FUOgO"
      },
      "source": [
        "# Data & Preprocessing"
      ]
    },
    {
      "cell_type": "code",
      "metadata": {
        "id": "GXYB_4bFyl8Q"
      },
      "source": [
        "# list1=['Close','High','Low','Open','Volume']   #Change it:List of desired X Features\n",
        "list1=['Close','Low','Open']   #Change it:List of desired X Features\n",
        "df1=df[list1]\n",
        "data=df1.values"
      ],
      "execution_count": null,
      "outputs": []
    },
    {
      "cell_type": "code",
      "metadata": {
        "id": "KluBrHM4JtEF"
      },
      "source": [
        "hh=len(list1)   #feature dimension"
      ],
      "execution_count": null,
      "outputs": []
    },
    {
      "cell_type": "code",
      "metadata": {
        "id": "wGsSRyy71EBO"
      },
      "source": [
        "training_data=data[:2000,:]\n",
        "data_test=data[2000:,:]"
      ],
      "execution_count": null,
      "outputs": []
    },
    {
      "cell_type": "code",
      "metadata": {
        "id": "qLoHmdfh21Hr"
      },
      "source": [
        "scaler = MinMaxScaler()\n",
        "training_data = scaler.fit_transform(training_data)\n",
        "# training_data"
      ],
      "execution_count": null,
      "outputs": []
    },
    {
      "cell_type": "code",
      "metadata": {
        "id": "gN91nM8929oi"
      },
      "source": [
        "X_train = [] \n",
        "Y_train = []\n",
        "for i in range(seq, training_data.shape[0]):\n",
        "   X_train.append(training_data[i-seq:i,:])\n",
        "   Y_train.append(training_data[i,0])\n",
        "X_train, Y_train = np.array(X_train), np.array(Y_train)"
      ],
      "execution_count": null,
      "outputs": []
    },
    {
      "cell_type": "code",
      "metadata": {
        "id": "UMH8SooZRX5u"
      },
      "source": [
        "scaler = MinMaxScaler()\n",
        "data_test = scaler.fit_transform(data_test)\n",
        "# data_test\n",
        "X_test = []\n",
        "Y_test = []\n",
        "for i in range (seq, data_test.shape[0]):\n",
        "  X_test.append(data_test[i-seq:i,:])\n",
        "  Y_test.append(data_test[i, 0])\n",
        "X_test, Y_test = np.array(X_test), np.array(Y_test)\n",
        "# X_test.shape,Y_test.shape"
      ],
      "execution_count": null,
      "outputs": []
    },
    {
      "cell_type": "code",
      "metadata": {
        "colab": {
          "base_uri": "https://localhost:8080/"
        },
        "id": "ByxOAGyxPniW",
        "outputId": "3ca1a056-f1ed-4dda-edbe-56e84d075dcb"
      },
      "source": [
        "X_train.shape"
      ],
      "execution_count": null,
      "outputs": [
        {
          "output_type": "execute_result",
          "data": {
            "text/plain": [
              "(1973, 27, 3)"
            ]
          },
          "metadata": {
            "tags": []
          },
          "execution_count": 12
        }
      ]
    },
    {
      "cell_type": "code",
      "metadata": {
        "id": "H2LXMUrMHhb-"
      },
      "source": [
        "#Change the following blocks,RNN,GRU,LSTM Also the activation Function"
      ],
      "execution_count": null,
      "outputs": []
    },
    {
      "cell_type": "markdown",
      "metadata": {
        "id": "3U9gdI8GQiHH"
      },
      "source": [
        "# Build The Model"
      ]
    },
    {
      "cell_type": "code",
      "metadata": {
        "colab": {
          "base_uri": "https://localhost:8080/"
        },
        "id": "49LgpK_vZhYG",
        "outputId": "163a1b50-b1a0-4efe-888d-bb906c310cb0"
      },
      "source": [
        "model = Sequential() \n",
        "model.add(GRU(units = seq , activation = 'tanh', input_shape = (seq, hh)))    #return_sequences = True\n",
        "# model.add(Dropout(0.2))\n",
        "model.add(Dense(10, activation=\"relu\")) \n",
        "model.add(Dense(1))\n",
        "model.compile(loss='MSE', optimizer='Adam')\n",
        "model.summary()\n",
        "\n",
        "\n",
        "\n",
        "# history= model.fit(X_train, Y_train, epochs = 20, batch_size =30, validation_split=0.2)\n"
      ],
      "execution_count": null,
      "outputs": [
        {
          "output_type": "stream",
          "text": [
            "Model: \"sequential\"\n",
            "_________________________________________________________________\n",
            "Layer (type)                 Output Shape              Param #   \n",
            "=================================================================\n",
            "gru (GRU)                    (None, 27)                2592      \n",
            "_________________________________________________________________\n",
            "dense (Dense)                (None, 10)                280       \n",
            "_________________________________________________________________\n",
            "dense_1 (Dense)              (None, 1)                 11        \n",
            "=================================================================\n",
            "Total params: 2,883\n",
            "Trainable params: 2,883\n",
            "Non-trainable params: 0\n",
            "_________________________________________________________________\n"
          ],
          "name": "stdout"
        }
      ]
    },
    {
      "cell_type": "markdown",
      "metadata": {
        "id": "l_FLd2bEQmPP"
      },
      "source": [
        "# Fit the model on our data"
      ]
    },
    {
      "cell_type": "code",
      "metadata": {
        "colab": {
          "base_uri": "https://localhost:8080/"
        },
        "id": "BY_tV933Qp3H",
        "outputId": "6789d79b-334e-476c-80e8-5ce86715f56f"
      },
      "source": [
        "start=time.time()\n",
        "history= model.fit(X_train, Y_train, epochs = 20, batch_size =30, validation_split=0.2)\n",
        "print(\"The test results for loss is\")\n",
        "model.evaluate(X_test, Y_test, batch_size=10, verbose=1)\n",
        "end=time.time()\n",
        "tt=end-start\n",
        "print('The fitting and evaluation time is:  ',tt,'Seconds')\n"
      ],
      "execution_count": null,
      "outputs": [
        {
          "output_type": "stream",
          "text": [
            "Epoch 1/20\n",
            "53/53 [==============================] - 22s 18ms/step - loss: 0.0482 - val_loss: 0.0044\n",
            "Epoch 2/20\n",
            "53/53 [==============================] - 0s 5ms/step - loss: 0.0012 - val_loss: 4.6959e-04\n",
            "Epoch 3/20\n",
            "53/53 [==============================] - 0s 4ms/step - loss: 2.8929e-04 - val_loss: 4.4802e-04\n",
            "Epoch 4/20\n",
            "53/53 [==============================] - 0s 5ms/step - loss: 3.2371e-04 - val_loss: 4.2249e-04\n",
            "Epoch 5/20\n",
            "53/53 [==============================] - 0s 4ms/step - loss: 3.1398e-04 - val_loss: 3.7414e-04\n",
            "Epoch 6/20\n",
            "53/53 [==============================] - 0s 4ms/step - loss: 3.3152e-04 - val_loss: 5.5103e-04\n",
            "Epoch 7/20\n",
            "53/53 [==============================] - 0s 4ms/step - loss: 2.6579e-04 - val_loss: 3.6518e-04\n",
            "Epoch 8/20\n",
            "53/53 [==============================] - 0s 5ms/step - loss: 3.0985e-04 - val_loss: 3.4697e-04\n",
            "Epoch 9/20\n",
            "53/53 [==============================] - 0s 4ms/step - loss: 3.4552e-04 - val_loss: 3.3743e-04\n",
            "Epoch 10/20\n",
            "53/53 [==============================] - 0s 5ms/step - loss: 2.1133e-04 - val_loss: 3.3860e-04\n",
            "Epoch 11/20\n",
            "53/53 [==============================] - 0s 4ms/step - loss: 2.5489e-04 - val_loss: 3.2710e-04\n",
            "Epoch 12/20\n",
            "53/53 [==============================] - 0s 4ms/step - loss: 2.3709e-04 - val_loss: 6.4055e-04\n",
            "Epoch 13/20\n",
            "53/53 [==============================] - 0s 4ms/step - loss: 4.4478e-04 - val_loss: 3.5685e-04\n",
            "Epoch 14/20\n",
            "53/53 [==============================] - 0s 4ms/step - loss: 2.1009e-04 - val_loss: 3.8736e-04\n",
            "Epoch 15/20\n",
            "53/53 [==============================] - 0s 5ms/step - loss: 3.0179e-04 - val_loss: 4.1554e-04\n",
            "Epoch 16/20\n",
            "53/53 [==============================] - 0s 4ms/step - loss: 3.0814e-04 - val_loss: 3.1328e-04\n",
            "Epoch 17/20\n",
            "53/53 [==============================] - 0s 5ms/step - loss: 3.2676e-04 - val_loss: 3.0260e-04\n",
            "Epoch 18/20\n",
            "53/53 [==============================] - 0s 5ms/step - loss: 2.6474e-04 - val_loss: 4.4066e-04\n",
            "Epoch 19/20\n",
            "53/53 [==============================] - 0s 5ms/step - loss: 2.8579e-04 - val_loss: 3.0820e-04\n",
            "Epoch 20/20\n",
            "53/53 [==============================] - 0s 4ms/step - loss: 1.8722e-04 - val_loss: 3.0623e-04\n",
            "The test results for loss is\n",
            "41/41 [==============================] - 0s 2ms/step - loss: 5.4772e-04\n",
            "The fitting and evaluation time is:   26.588253259658813 Seconds\n"
          ],
          "name": "stdout"
        }
      ]
    },
    {
      "cell_type": "code",
      "metadata": {
        "colab": {
          "base_uri": "https://localhost:8080/",
          "height": 302
        },
        "id": "SdBpRDEYVmWh",
        "outputId": "7c3c2d54-a68b-4dab-b806-6a224aba6035"
      },
      "source": [
        "# summarize history for loss\n",
        "plt.plot(history.history['loss'])\n",
        "plt.plot(history.history['val_loss'])\n",
        "plt.title('Model loss for LSTM module')\n",
        "plt.ylabel('loss')\n",
        "plt.xlabel('epoch')\n",
        "# plt.ylim([0,0.005])\n",
        "plt.legend(['train', 'Validation'], loc='upper right')\n",
        "plt.show()"
      ],
      "execution_count": null,
      "outputs": [
        {
          "output_type": "display_data",
          "data": {
            "image/png": "[encoded data removed]",
            "text/plain": [
              "<Figure size 432x288 with 1 Axes>"
            ]
          },
          "metadata": {
            "tags": [],
            "needs_background": "light"
          }
        }
      ]
    },
    {
      "cell_type": "markdown",
      "metadata": {
        "id": "emh0vKvIAClN"
      },
      "source": [
        "#Stack"
      ]
    },
    {
      "cell_type": "code",
      "metadata": {
        "id": "KUfMb5KxUnEm"
      },
      "source": [
        "set_num=0\n",
        "djp=7"
      ],
      "execution_count": null,
      "outputs": []
    },
    {
      "cell_type": "code",
      "metadata": {
        "id": "jgzOAXPFTJ5y"
      },
      "source": [
        "vv=X_test[set_num,:,:]\n",
        "testPredict1=np.zeros(djp)\n",
        "for i in range(djp):                ##Predict minimum for next seven days\n",
        "  j=i+1\n",
        "  testPredict1[i]= model.predict(vv.reshape((1,seq,hh)))\n",
        "  X_test[set_num+1,:,:][-j:,0]=np.flip(testPredict1[:j])\n",
        "  # print(X_test[set_num+1,:,:][-1][0],'2')\n",
        "  vv=X_test[set_num+1,:,:]"
      ],
      "execution_count": null,
      "outputs": []
    },
    {
      "cell_type": "code",
      "metadata": {
        "id": "Zn_Pg6oKUkzH"
      },
      "source": [
        "# vv=X_test[set_num,:,:]\n",
        "# testPredict1=np.zeros(djp)\n",
        "# for i in range(djp):                ##Predict minimum for next seven days\n",
        "\n",
        "#   testPredict1[i]= model.predict(vv.reshape((1,seq,hh)))\n",
        "#   X_test[set_num+1,:,:][-1][0]=testPredict1[i]\n",
        "#   # print(X_test[set_num+1,:,:][-1][0],'2')\n",
        "#   vv=X_test[set_num+1,:,:]"
      ],
      "execution_count": null,
      "outputs": []
    },
    {
      "cell_type": "code",
      "metadata": {
        "id": "7YKwW0PWLc3e",
        "colab": {
          "base_uri": "https://localhost:8080/"
        },
        "outputId": "1038d01e-e813-4413-a197-edb1e8377e8e"
      },
      "source": [
        "testPredict1"
      ],
      "execution_count": null,
      "outputs": [
        {
          "output_type": "execute_result",
          "data": {
            "text/plain": [
              "array([0.03645159, 0.03678226, 0.03664831, 0.03654142, 0.03656527,\n",
              "       0.03653936, 0.03648749])"
            ]
          },
          "metadata": {
            "tags": []
          },
          "execution_count": 45
        }
      ]
    },
    {
      "cell_type": "code",
      "metadata": {
        "id": "FxxyaA1lXlEM"
      },
      "source": [
        "scale = 1/scaler.scale_[0]\n",
        "d=testPredict1*scale"
      ],
      "execution_count": null,
      "outputs": []
    },
    {
      "cell_type": "code",
      "metadata": {
        "id": "O5cs6lgGJsEi"
      },
      "source": [
        "gg=model.predict(X_test[set_num:set_num+djp,:,:])"
      ],
      "execution_count": null,
      "outputs": []
    },
    {
      "cell_type": "code",
      "metadata": {
        "id": "eZTZqvCtJ6hb"
      },
      "source": [
        "# g=gg*scale\n",
        "# # g,d"
      ],
      "execution_count": null,
      "outputs": []
    },
    {
      "cell_type": "code",
      "metadata": {
        "id": "UOs4kE9wYRmE"
      },
      "source": [
        "Y_ff=Y_test[set_num:set_num+djp]*scale"
      ],
      "execution_count": null,
      "outputs": []
    },
    {
      "cell_type": "code",
      "metadata": {
        "colab": {
          "base_uri": "https://localhost:8080/",
          "height": 374
        },
        "id": "wWibxd5bUkRI",
        "outputId": "a4af2021-1aed-4418-dcff-e0619724cb1c"
      },
      "source": [
        "plt.figure(figsize=(14,5))\n",
        "plt.title(\"Estimation For Next seven Days\")\n",
        "Days=np.arange(djp)+2000+set_num+1\n",
        "plt.plot(Days,d,label=\"Estimated_signal\")\n",
        "plt.plot(Days,Y_ff,label=\"Real_signal\")\n",
        "plt.ylabel('Estimation')\n",
        "plt.xlabel('Days')\n",
        "plt.legend()\n",
        "# plt.ylim([40000,58000])\n",
        "plt.ylim([0,5000])\n",
        "# plt.legend(bbox_to_anchor=(1.05, 1), loc=2)"
      ],
      "execution_count": null,
      "outputs": [
        {
          "output_type": "execute_result",
          "data": {
            "text/plain": [
              "(0.0, 5000.0)"
            ]
          },
          "metadata": {
            "tags": []
          },
          "execution_count": 54
        },
        {
          "output_type": "display_data",
          "data": {
            "image/png": "[encoded data removed]",
            "text/plain": [
              "<Figure size 1008x360 with 1 Axes>"
            ]
          },
          "metadata": {
            "tags": [],
            "needs_background": "light"
          }
        }
      ]
    }
  ]
}