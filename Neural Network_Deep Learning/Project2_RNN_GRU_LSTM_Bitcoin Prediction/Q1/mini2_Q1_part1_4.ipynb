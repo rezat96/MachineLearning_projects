{
  "nbformat": 4,
  "nbformat_minor": 0,
  "metadata": {
    "colab": {
      "name": "mini2_Q1_part1-4.ipynb",
      "provenance": [],
      "collapsed_sections": []
    },
    "kernelspec": {
      "name": "python3",
      "display_name": "Python 3"
    },
    "language_info": {
      "name": "python"
    },
    "accelerator": "GPU"
  },
  "cells": [
    {
      "cell_type": "code",
      "metadata": {
        "id": "_kHhWtPLwtGk"
      },
      "source": [
        "import numpy as np\n",
        "np.random.seed(42)\n",
        "# To plot pretty figures\n",
        "%matplotlib inline\n",
        "import matplotlib as mpl\n",
        "import matplotlib.pyplot as plt\n",
        "mpl.rc('axes', labelsize=14)\n",
        "mpl.rc('xtick', labelsize=12)\n",
        "mpl.rc('ytick', labelsize=12)\n",
        "import time"
      ],
      "execution_count": null,
      "outputs": []
    },
    {
      "cell_type": "code",
      "metadata": {
        "id": "KtmtRXNjygCh"
      },
      "source": [
        "from keras.models import Sequential\n",
        "from keras.layers import Dense, SimpleRNN,LSTM,GRU,Dropout\n",
        "from sklearn.preprocessing import MinMaxScaler   #change this part to diffrent Methods asked in 11"
      ],
      "execution_count": null,
      "outputs": []
    },
    {
      "cell_type": "code",
      "metadata": {
        "id": "aOK8L3yTygAR"
      },
      "source": [
        "import pandas as pd\n",
        "import datetime\n",
        "import pandas_datareader as pdr\n",
        "from pandas import Series,DataFrame\n",
        "start=datetime.datetime(2014,9,20)\n",
        "end=datetime.datetime(2021,5,20)\n",
        "df=pdr.get_data_yahoo(['BTC-USD'],start=start,end=end)\n",
        "df.drop('Adj Close', inplace=True, axis=1)"
      ],
      "execution_count": null,
      "outputs": []
    },
    {
      "cell_type": "code",
      "metadata": {
        "id": "zrkxJbU92sYk"
      },
      "source": [
        "# df"
      ],
      "execution_count": null,
      "outputs": []
    },
    {
      "cell_type": "markdown",
      "metadata": {
        "id": "Nr9xEoD2Bc_E"
      },
      "source": [
        "# Specify inputs"
      ]
    },
    {
      "cell_type": "code",
      "metadata": {
        "id": "Y_CC9l41BZxN"
      },
      "source": [
        "seq=27   #Set from 24_28\n",
        "tt=0"
      ],
      "execution_count": null,
      "outputs": []
    },
    {
      "cell_type": "markdown",
      "metadata": {
        "id": "fH8-8A4FUOgO"
      },
      "source": [
        "# Data & Preprocessing"
      ]
    },
    {
      "cell_type": "code",
      "metadata": {
        "id": "GXYB_4bFyl8Q"
      },
      "source": [
        "# list1=['Close','High','Low','Open','Volume']   #Change it:List of desired X Features\n",
        "list1=['Close','Open','Low']   #Change it:List of desired X Features\n",
        "df1=df[list1]\n",
        "data=df1.values"
      ],
      "execution_count": null,
      "outputs": []
    },
    {
      "cell_type": "code",
      "metadata": {
        "id": "KluBrHM4JtEF"
      },
      "source": [
        "hh=len(list1)-1   #feature dimension"
      ],
      "execution_count": null,
      "outputs": []
    },
    {
      "cell_type": "code",
      "metadata": {
        "id": "wGsSRyy71EBO"
      },
      "source": [
        "training_data=data[:2000,:]\n",
        "data_test=data[2000:,:]"
      ],
      "execution_count": null,
      "outputs": []
    },
    {
      "cell_type": "code",
      "metadata": {
        "id": "qLoHmdfh21Hr"
      },
      "source": [
        "scaler = MinMaxScaler()\n",
        "training_data = scaler.fit_transform(training_data)\n",
        "# training_data"
      ],
      "execution_count": null,
      "outputs": []
    },
    {
      "cell_type": "code",
      "metadata": {
        "id": "gN91nM8929oi"
      },
      "source": [
        "X_train = [] \n",
        "Y_train = []\n",
        "for i in range(seq, training_data.shape[0]):\n",
        "   X_train.append(training_data[i-seq:i,1:])\n",
        "   Y_train.append(training_data[i,0])\n",
        "X_train, Y_train = np.array(X_train), np.array(Y_train)"
      ],
      "execution_count": null,
      "outputs": []
    },
    {
      "cell_type": "code",
      "metadata": {
        "id": "UMH8SooZRX5u"
      },
      "source": [
        "scaler = MinMaxScaler()\n",
        "data_test = scaler.fit_transform(data_test)\n",
        "# data_test\n",
        "X_test = []\n",
        "Y_test = []\n",
        "for i in range (seq, data_test.shape[0]):\n",
        "  X_test.append(data_test[i-seq:i,1:])\n",
        "  Y_test.append(data_test[i, 0])\n",
        "X_test, Y_test = np.array(X_test), np.array(Y_test)\n",
        "# X_test.shape,Y_test.shape"
      ],
      "execution_count": null,
      "outputs": []
    },
    {
      "cell_type": "code",
      "metadata": {
        "colab": {
          "base_uri": "https://localhost:8080/"
        },
        "id": "ByxOAGyxPniW",
        "outputId": "70370478-91a4-46f4-8a37-8df31c2b2a47"
      },
      "source": [
        "X_train.shape"
      ],
      "execution_count": null,
      "outputs": [
        {
          "output_type": "execute_result",
          "data": {
            "text/plain": [
              "(1973, 27, 2)"
            ]
          },
          "metadata": {
            "tags": []
          },
          "execution_count": 31
        }
      ]
    },
    {
      "cell_type": "code",
      "metadata": {
        "id": "H2LXMUrMHhb-"
      },
      "source": [
        "#Change the following blocks,RNN,GRU,LSTM Also the activation Function"
      ],
      "execution_count": null,
      "outputs": []
    },
    {
      "cell_type": "markdown",
      "metadata": {
        "id": "3U9gdI8GQiHH"
      },
      "source": [
        "# Build The Model"
      ]
    },
    {
      "cell_type": "code",
      "metadata": {
        "colab": {
          "base_uri": "https://localhost:8080/"
        },
        "id": "49LgpK_vZhYG",
        "outputId": "adb65064-6ee0-4bf9-a54b-271db8f2028b"
      },
      "source": [
        "model = Sequential() \n",
        "model.add(GRU(units = seq , activation = 'tanh', input_shape = (seq, hh)))    #return_sequences = True\n",
        "model.add(Dense(10, activation=\"relu\")) \n",
        "model.add(Dense(1))\n",
        "model.compile(loss='MSE', optimizer='Adam')\n",
        "model.summary()\n",
        "\n",
        "\n",
        "\n",
        "# history= model.fit(X_train, Y_train, epochs = 20, batch_size =30, validation_split=0.2)\n"
      ],
      "execution_count": null,
      "outputs": [
        {
          "output_type": "stream",
          "text": [
            "Model: \"sequential_1\"\n",
            "_________________________________________________________________\n",
            "Layer (type)                 Output Shape              Param #   \n",
            "=================================================================\n",
            "simple_rnn (SimpleRNN)       (None, 27)                810       \n",
            "_________________________________________________________________\n",
            "dense_2 (Dense)              (None, 10)                280       \n",
            "_________________________________________________________________\n",
            "dense_3 (Dense)              (None, 1)                 11        \n",
            "=================================================================\n",
            "Total params: 1,101\n",
            "Trainable params: 1,101\n",
            "Non-trainable params: 0\n",
            "_________________________________________________________________\n"
          ],
          "name": "stdout"
        }
      ]
    },
    {
      "cell_type": "markdown",
      "metadata": {
        "id": "l_FLd2bEQmPP"
      },
      "source": [
        "# Fit the model on our data"
      ]
    },
    {
      "cell_type": "code",
      "metadata": {
        "colab": {
          "base_uri": "https://localhost:8080/"
        },
        "id": "BY_tV933Qp3H",
        "outputId": "3bbe9626-8044-4d7a-bf2e-a532a6795cbc"
      },
      "source": [
        "start=time.time()\n",
        "history= model.fit(X_train, Y_train, epochs = 20, batch_size =30, validation_split=0.2)\n",
        "print(\"The test results for loss is\")\n",
        "model.evaluate(X_test, Y_test, batch_size=10, verbose=1)\n",
        "end=time.time()\n",
        "tt=end-start\n",
        "print('The fitting and evaluation time is:  ',tt,'Seconds')\n"
      ],
      "execution_count": null,
      "outputs": [
        {
          "output_type": "stream",
          "text": [
            "Epoch 1/20\n",
            "53/53 [==============================] - 4s 29ms/step - loss: 0.0215 - val_loss: 0.0010\n",
            "Epoch 2/20\n",
            "53/53 [==============================] - 1s 20ms/step - loss: 0.0041 - val_loss: 9.0642e-04\n",
            "Epoch 3/20\n",
            "53/53 [==============================] - 1s 20ms/step - loss: 0.0034 - val_loss: 9.8048e-04\n",
            "Epoch 4/20\n",
            "53/53 [==============================] - 1s 21ms/step - loss: 0.0025 - val_loss: 7.1333e-04\n",
            "Epoch 5/20\n",
            "53/53 [==============================] - 1s 20ms/step - loss: 0.0022 - val_loss: 8.2640e-04\n",
            "Epoch 6/20\n",
            "53/53 [==============================] - 1s 21ms/step - loss: 0.0018 - val_loss: 7.6804e-04\n",
            "Epoch 7/20\n",
            "53/53 [==============================] - 1s 21ms/step - loss: 0.0017 - val_loss: 0.0018\n",
            "Epoch 8/20\n",
            "53/53 [==============================] - 1s 21ms/step - loss: 0.0019 - val_loss: 0.0023\n",
            "Epoch 9/20\n",
            "53/53 [==============================] - 1s 21ms/step - loss: 0.0014 - val_loss: 0.0025\n",
            "Epoch 10/20\n",
            "53/53 [==============================] - 1s 20ms/step - loss: 0.0018 - val_loss: 0.0026\n",
            "Epoch 11/20\n",
            "53/53 [==============================] - 1s 21ms/step - loss: 0.0012 - val_loss: 0.0024\n",
            "Epoch 12/20\n",
            "53/53 [==============================] - 1s 20ms/step - loss: 0.0016 - val_loss: 8.9971e-04\n",
            "Epoch 13/20\n",
            "53/53 [==============================] - 1s 21ms/step - loss: 0.0015 - val_loss: 0.0027\n",
            "Epoch 14/20\n",
            "53/53 [==============================] - 1s 21ms/step - loss: 0.0011 - val_loss: 0.0019\n",
            "Epoch 15/20\n",
            "53/53 [==============================] - 1s 21ms/step - loss: 0.0016 - val_loss: 0.0011\n",
            "Epoch 16/20\n",
            "53/53 [==============================] - 1s 21ms/step - loss: 0.0012 - val_loss: 0.0012\n",
            "Epoch 17/20\n",
            "53/53 [==============================] - 1s 21ms/step - loss: 0.0012 - val_loss: 0.0026\n",
            "Epoch 18/20\n",
            "53/53 [==============================] - 1s 20ms/step - loss: 0.0010 - val_loss: 0.0017\n",
            "Epoch 19/20\n",
            "53/53 [==============================] - 1s 21ms/step - loss: 0.0014 - val_loss: 0.0017\n",
            "Epoch 20/20\n",
            "53/53 [==============================] - 1s 21ms/step - loss: 0.0011 - val_loss: 0.0031\n",
            "The test results for loss is\n",
            "41/41 [==============================] - 0s 3ms/step - loss: 0.0056\n",
            "The fitting and evaluation time is:   24.527119398117065 Seconds\n"
          ],
          "name": "stdout"
        }
      ]
    },
    {
      "cell_type": "code",
      "metadata": {
        "colab": {
          "base_uri": "https://localhost:8080/",
          "height": 302
        },
        "id": "SdBpRDEYVmWh",
        "outputId": "183e7d8b-58fa-4bb4-b472-2d4f92b446d8"
      },
      "source": [
        "# summarize history for loss\n",
        "plt.plot(history.history['loss'])\n",
        "plt.plot(history.history['val_loss'])\n",
        "plt.title('Model loss for LSTM module')\n",
        "plt.ylabel('loss')\n",
        "plt.xlabel('epoch')\n",
        "# plt.ylim([0,0.005])\n",
        "plt.legend(['train', 'Validation'], loc='upper right')\n",
        "plt.show()"
      ],
      "execution_count": null,
      "outputs": [
        {
          "output_type": "display_data",
          "data": {
            "image/png": "[encoded data removed]",
            "text/plain": [
              "<Figure size 432x288 with 1 Axes>"
            ]
          },
          "metadata": {
            "tags": [],
            "needs_background": "light"
          }
        }
      ]
    },
    {
      "cell_type": "code",
      "metadata": {
        "id": "JDv3b_Xz_yDe"
      },
      "source": [
        "Y_pred = model.predict(X_test)\n",
        "scale = 1/scaler.scale_[0]\n",
        "Y_test = Y_test*scale \n",
        "Y_pred = Y_pred*scale"
      ],
      "execution_count": null,
      "outputs": []
    },
    {
      "cell_type": "code",
      "metadata": {
        "id": "U1MxOHAHZElc"
      },
      "source": [
        "# Y_pred"
      ],
      "execution_count": null,
      "outputs": []
    },
    {
      "cell_type": "code",
      "metadata": {
        "colab": {
          "base_uri": "https://localhost:8080/",
          "height": 357
        },
        "id": "qqn6Vt3hAKSH",
        "outputId": "6a105791-6e51-44e1-837a-608032444134"
      },
      "source": [
        "plt.figure(figsize=(14,5))\n",
        "plt.plot(range(2000+seq,2000+Y_test.shape[0]+seq),Y_test, color = 'blue', label = 'Real Value')\n",
        "plt.plot(range(2000+seq,2000+Y_test.shape[0]+seq),Y_pred, color = 'red', label = 'Predicted Value')\n",
        "plt.title('Close Estimation using LSTM')\n",
        "plt.xlabel('Time')\n",
        "plt.ylabel('Price')\n",
        "# plt.xlim([2350,2400])\n",
        "# plt.ylim([40000,60000])\n",
        "plt.legend()\n",
        "plt.show()"
      ],
      "execution_count": null,
      "outputs": [
        {
          "output_type": "display_data",
          "data": {
            "image/png": "[encoded data removed]",
            "text/plain": [
              "<Figure size 1008x360 with 1 Axes>"
            ]
          },
          "metadata": {
            "tags": [],
            "needs_background": "light"
          }
        }
      ]
    }
  ]
}