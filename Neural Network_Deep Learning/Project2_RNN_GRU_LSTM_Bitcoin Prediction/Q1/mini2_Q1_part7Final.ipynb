{
  "nbformat": 4,
  "nbformat_minor": 0,
  "metadata": {
    "colab": {
      "name": "mini2_Q1_part7Final.ipynb",
      "provenance": [],
      "collapsed_sections": []
    },
    "kernelspec": {
      "name": "python3",
      "display_name": "Python 3"
    },
    "language_info": {
      "name": "python"
    },
    "accelerator": "GPU"
  },
  "cells": [
    {
      "cell_type": "code",
      "metadata": {
        "id": "_kHhWtPLwtGk"
      },
      "source": [
        "import numpy as np\n",
        "np.random.seed(42)\n",
        "# To plot pretty figures\n",
        "%matplotlib inline\n",
        "import matplotlib as mpl\n",
        "import matplotlib.pyplot as plt\n",
        "mpl.rc('axes', labelsize=14)\n",
        "mpl.rc('xtick', labelsize=12)\n",
        "mpl.rc('ytick', labelsize=12)\n",
        "import time"
      ],
      "execution_count": null,
      "outputs": []
    },
    {
      "cell_type": "code",
      "metadata": {
        "id": "KtmtRXNjygCh"
      },
      "source": [
        "from keras.models import Sequential\n",
        "from keras.layers import Dense, SimpleRNN,LSTM,GRU,Dropout\n",
        "from sklearn.preprocessing import MinMaxScaler   #change this part to diffrent Methods asked in 11"
      ],
      "execution_count": null,
      "outputs": []
    },
    {
      "cell_type": "code",
      "metadata": {
        "id": "aOK8L3yTygAR"
      },
      "source": [
        "import pandas as pd\n",
        "import datetime\n",
        "import pandas_datareader as pdr\n",
        "from pandas import Series,DataFrame\n",
        "start=datetime.datetime(2014,9,20)\n",
        "end=datetime.datetime(2021,5,20)\n",
        "df=pdr.get_data_yahoo(['BTC-USD'],start=start,end=end)\n",
        "df.drop('Adj Close', inplace=True, axis=1)"
      ],
      "execution_count": null,
      "outputs": []
    },
    {
      "cell_type": "code",
      "metadata": {
        "id": "zrkxJbU92sYk"
      },
      "source": [
        "# df"
      ],
      "execution_count": null,
      "outputs": []
    },
    {
      "cell_type": "markdown",
      "metadata": {
        "id": "Nr9xEoD2Bc_E"
      },
      "source": [
        "# Specify inputs"
      ]
    },
    {
      "cell_type": "code",
      "metadata": {
        "id": "Y_CC9l41BZxN"
      },
      "source": [
        "seq=27   #Set from 24_28\n",
        "tt=0"
      ],
      "execution_count": null,
      "outputs": []
    },
    {
      "cell_type": "markdown",
      "metadata": {
        "id": "fH8-8A4FUOgO"
      },
      "source": [
        "# Data & Preprocessing"
      ]
    },
    {
      "cell_type": "code",
      "metadata": {
        "id": "GXYB_4bFyl8Q"
      },
      "source": [
        "# list1=['Close','High','Low','Open','Volume']   #Change it:List of desired X Features\n",
        "list1=['Close','Open','Low']   #Change it:List of desired X Features\n",
        "df1=df[list1]\n",
        "data=df1.values"
      ],
      "execution_count": null,
      "outputs": []
    },
    {
      "cell_type": "code",
      "metadata": {
        "id": "KluBrHM4JtEF"
      },
      "source": [
        "hh=len(list1)-1   #feature dimension"
      ],
      "execution_count": null,
      "outputs": []
    },
    {
      "cell_type": "code",
      "metadata": {
        "id": "wGsSRyy71EBO"
      },
      "source": [
        "training_data=data[:2000,:]\n",
        "data_test=data[2000:,:]"
      ],
      "execution_count": null,
      "outputs": []
    },
    {
      "cell_type": "code",
      "metadata": {
        "id": "qLoHmdfh21Hr"
      },
      "source": [
        "scaler = MinMaxScaler()\n",
        "training_data = scaler.fit_transform(training_data)\n",
        "# training_data"
      ],
      "execution_count": null,
      "outputs": []
    },
    {
      "cell_type": "code",
      "metadata": {
        "id": "gN91nM8929oi"
      },
      "source": [
        "X_train = [] \n",
        "Y_train = []\n",
        "for i in range(seq, training_data.shape[0]):\n",
        "   X_train.append(training_data[i-seq:i,1:])\n",
        "   Y_train.append(training_data[i,0])\n",
        "X_train, Y_train = np.array(X_train), np.array(Y_train)"
      ],
      "execution_count": null,
      "outputs": []
    },
    {
      "cell_type": "code",
      "metadata": {
        "id": "UMH8SooZRX5u"
      },
      "source": [
        "scaler = MinMaxScaler()\n",
        "data_test = scaler.fit_transform(data_test)\n",
        "# data_test\n",
        "X_test = []\n",
        "Y_test = []\n",
        "for i in range (seq, data_test.shape[0]):\n",
        "  X_test.append(data_test[i-seq:i,1:])\n",
        "  Y_test.append(data_test[i, 0])\n",
        "X_test, Y_test = np.array(X_test), np.array(Y_test)\n",
        "# X_test.shape,Y_test.shape"
      ],
      "execution_count": null,
      "outputs": []
    },
    {
      "cell_type": "code",
      "metadata": {
        "colab": {
          "base_uri": "https://localhost:8080/"
        },
        "id": "ByxOAGyxPniW",
        "outputId": "a32f1295-9862-4f6f-9f1e-61fec64f3b34"
      },
      "source": [
        "X_train.shape"
      ],
      "execution_count": null,
      "outputs": [
        {
          "output_type": "execute_result",
          "data": {
            "text/plain": [
              "(1973, 27, 2)"
            ]
          },
          "metadata": {
            "tags": []
          },
          "execution_count": 12
        }
      ]
    },
    {
      "cell_type": "code",
      "metadata": {
        "id": "H2LXMUrMHhb-"
      },
      "source": [
        "#Change the following blocks,RNN,GRU,LSTM Also the activation Function"
      ],
      "execution_count": null,
      "outputs": []
    },
    {
      "cell_type": "markdown",
      "metadata": {
        "id": "3U9gdI8GQiHH"
      },
      "source": [
        "# Build The Model"
      ]
    },
    {
      "cell_type": "code",
      "metadata": {
        "colab": {
          "base_uri": "https://localhost:8080/"
        },
        "id": "kFk5Kc7wCjTJ",
        "outputId": "1f245aea-e5af-4d6e-b10b-16d318a975ec"
      },
      "source": [
        "model = Sequential() \n",
        "model.add(GRU(units = seq ,return_sequences = True, activation = 'tanh', input_shape = (seq, hh),recurrent_dropout=0.2))\n",
        "model.add(GRU(units = 60, activation = 'relu', return_sequences = True,recurrent_dropout=0.3))\n",
        "model.add(GRU(units = 80, activation = 'relu',recurrent_dropout=0.5))\n",
        "model.add(Dense(units =1))\n",
        "model.compile(loss='MSE', optimizer='Adam')\n",
        "model.summary()\n",
        "\n",
        "\n",
        "\n",
        "# history= model.fit(X_train, Y_train, epochs = 20, batch_size =30, validation_split=0.2)\n"
      ],
      "execution_count": null,
      "outputs": [
        {
          "output_type": "stream",
          "text": [
            "WARNING:tensorflow:Layer gru will not use cuDNN kernels since it doesn't meet the criteria. It will use a generic GPU kernel as fallback when running on GPU.\n",
            "WARNING:tensorflow:Layer gru_1 will not use cuDNN kernels since it doesn't meet the criteria. It will use a generic GPU kernel as fallback when running on GPU.\n",
            "WARNING:tensorflow:Layer gru_2 will not use cuDNN kernels since it doesn't meet the criteria. It will use a generic GPU kernel as fallback when running on GPU.\n",
            "Model: \"sequential\"\n",
            "_________________________________________________________________\n",
            "Layer (type)                 Output Shape              Param #   \n",
            "=================================================================\n",
            "gru (GRU)                    (None, 27, 27)            2511      \n",
            "_________________________________________________________________\n",
            "gru_1 (GRU)                  (None, 27, 60)            16020     \n",
            "_________________________________________________________________\n",
            "gru_2 (GRU)                  (None, 80)                34080     \n",
            "_________________________________________________________________\n",
            "dense (Dense)                (None, 1)                 81        \n",
            "=================================================================\n",
            "Total params: 52,692\n",
            "Trainable params: 52,692\n",
            "Non-trainable params: 0\n",
            "_________________________________________________________________\n"
          ],
          "name": "stdout"
        }
      ]
    },
    {
      "cell_type": "code",
      "metadata": {
        "id": "49LgpK_vZhYG"
      },
      "source": [
        "# model = Sequential() \n",
        "# model.add(GRU(units = seq ,return_sequences = True, activation = 'tanh', input_shape = (seq, hh)))    #return_sequences = True\n",
        "# model.add(Dropout(0.2))\n",
        "# model.add(GRU(units = 60, activation = 'relu', return_sequences = True))\n",
        "# model.add(Dropout(0.3))\n",
        "# model.add(GRU(units = 80, activation = 'relu', return_sequences = True))\n",
        "# model.add(Dropout(0.4)) \n",
        "# model.add(GRU(units = 120, activation = 'relu'))\n",
        "# model.add(Dropout(0.5)) \n",
        "# model.add(Dense(units =1))\n",
        "# model.compile(loss='MSE', optimizer='Adam')\n",
        "# model.summary()\n",
        "\n",
        "\n",
        "\n",
        "# # history= model.fit(X_train, Y_train, epochs = 20, batch_size =30, validation_split=0.2)\n"
      ],
      "execution_count": null,
      "outputs": []
    },
    {
      "cell_type": "markdown",
      "metadata": {
        "id": "l_FLd2bEQmPP"
      },
      "source": [
        "# Fit the model on our data"
      ]
    },
    {
      "cell_type": "code",
      "metadata": {
        "colab": {
          "base_uri": "https://localhost:8080/"
        },
        "id": "BY_tV933Qp3H",
        "outputId": "e279adf2-cdf0-4ece-ccbe-37847d12f0eb"
      },
      "source": [
        "start=time.time()\n",
        "history= model.fit(X_train, Y_train, epochs = 20, batch_size =30, validation_split=0.2)\n",
        "print(\"The test results for loss is\")\n",
        "model.evaluate(X_test, Y_test, batch_size=10, verbose=1)\n",
        "end=time.time()\n",
        "tt=end-start\n",
        "print('The fitting and evaluation time is:  ',tt,'Seconds')\n"
      ],
      "execution_count": null,
      "outputs": [
        {
          "output_type": "stream",
          "text": [
            "Epoch 1/20\n",
            "53/53 [==============================] - 38s 267ms/step - loss: 0.0186 - val_loss: 0.0020\n",
            "Epoch 2/20\n",
            "53/53 [==============================] - 12s 226ms/step - loss: 9.7121e-04 - val_loss: 0.0014\n",
            "Epoch 3/20\n",
            "53/53 [==============================] - 12s 225ms/step - loss: 9.7956e-04 - val_loss: 0.0010\n",
            "Epoch 4/20\n",
            "53/53 [==============================] - 12s 225ms/step - loss: 9.5917e-04 - val_loss: 9.9747e-04\n",
            "Epoch 5/20\n",
            "53/53 [==============================] - 12s 223ms/step - loss: 6.0636e-04 - val_loss: 0.0020\n",
            "Epoch 6/20\n",
            "53/53 [==============================] - 12s 224ms/step - loss: 6.3567e-04 - val_loss: 7.8917e-04\n",
            "Epoch 7/20\n",
            "53/53 [==============================] - 12s 225ms/step - loss: 7.9218e-04 - val_loss: 7.3189e-04\n",
            "Epoch 8/20\n",
            "53/53 [==============================] - 12s 226ms/step - loss: 5.5029e-04 - val_loss: 6.1817e-04\n",
            "Epoch 9/20\n",
            "53/53 [==============================] - 12s 225ms/step - loss: 5.7215e-04 - val_loss: 5.8701e-04\n",
            "Epoch 10/20\n",
            "53/53 [==============================] - 12s 228ms/step - loss: 6.1877e-04 - val_loss: 7.6509e-04\n",
            "Epoch 11/20\n",
            "53/53 [==============================] - 12s 224ms/step - loss: 6.3755e-04 - val_loss: 8.3623e-04\n",
            "Epoch 12/20\n",
            "53/53 [==============================] - 12s 226ms/step - loss: 5.4565e-04 - val_loss: 5.7103e-04\n",
            "Epoch 13/20\n",
            "53/53 [==============================] - 12s 223ms/step - loss: 4.9972e-04 - val_loss: 7.2015e-04\n",
            "Epoch 14/20\n",
            "53/53 [==============================] - 12s 223ms/step - loss: 3.9681e-04 - val_loss: 0.0012\n",
            "Epoch 15/20\n",
            "53/53 [==============================] - 12s 227ms/step - loss: 6.6164e-04 - val_loss: 6.4952e-04\n",
            "Epoch 16/20\n",
            "53/53 [==============================] - 12s 226ms/step - loss: 5.0443e-04 - val_loss: 7.2162e-04\n",
            "Epoch 17/20\n",
            "53/53 [==============================] - 12s 228ms/step - loss: 4.4051e-04 - val_loss: 4.8606e-04\n",
            "Epoch 18/20\n",
            "53/53 [==============================] - 12s 226ms/step - loss: 5.4813e-04 - val_loss: 5.7899e-04\n",
            "Epoch 19/20\n",
            "53/53 [==============================] - 12s 225ms/step - loss: 4.9251e-04 - val_loss: 4.9443e-04\n",
            "Epoch 20/20\n",
            "53/53 [==============================] - 12s 232ms/step - loss: 4.7026e-04 - val_loss: 6.2372e-04\n",
            "The test results for loss is\n",
            "41/41 [==============================] - 1s 21ms/step - loss: 9.0459e-04\n",
            "The fitting and evaluation time is:   286.0115270614624 Seconds\n"
          ],
          "name": "stdout"
        }
      ]
    },
    {
      "cell_type": "code",
      "metadata": {
        "colab": {
          "base_uri": "https://localhost:8080/",
          "height": 302
        },
        "id": "SdBpRDEYVmWh",
        "outputId": "f9ca3303-1fdd-4747-a7e7-305f11e5cd1f"
      },
      "source": [
        "# summarize history for loss\n",
        "plt.plot(history.history['loss'])\n",
        "plt.plot(history.history['val_loss'])\n",
        "plt.title('Model loss for   Multi Layer Gru')\n",
        "plt.ylabel('loss')\n",
        "plt.xlabel('epoch')\n",
        "# plt.ylim([0,0.005])\n",
        "plt.legend(['train', 'Validation'], loc='upper right')\n",
        "plt.show()"
      ],
      "execution_count": null,
      "outputs": [
        {
          "output_type": "display_data",
          "data": {
            "image/png": "[encoded data removed]",
            "text/plain": [
              "<Figure size 432x288 with 1 Axes>"
            ]
          },
          "metadata": {
            "tags": [],
            "needs_background": "light"
          }
        }
      ]
    },
    {
      "cell_type": "code",
      "metadata": {
        "id": "JDv3b_Xz_yDe"
      },
      "source": [
        "Y_pred = model.predict(X_test)\n",
        "scale = 1/scaler.scale_[0]\n",
        "Y_test = Y_test*scale \n",
        "Y_pred = Y_pred*scale"
      ],
      "execution_count": null,
      "outputs": []
    },
    {
      "cell_type": "code",
      "metadata": {
        "colab": {
          "base_uri": "https://localhost:8080/"
        },
        "id": "6fbaC-Yz-ZqO",
        "outputId": "eb90c21e-959e-47ae-8400-51231ef445de"
      },
      "source": [
        "Y_pred.shape"
      ],
      "execution_count": null,
      "outputs": [
        {
          "output_type": "execute_result",
          "data": {
            "text/plain": [
              "(405, 1)"
            ]
          },
          "metadata": {
            "tags": []
          },
          "execution_count": 19
        }
      ]
    },
    {
      "cell_type": "code",
      "metadata": {
        "colab": {
          "base_uri": "https://localhost:8080/",
          "height": 357
        },
        "id": "qqn6Vt3hAKSH",
        "outputId": "cb17dcc4-7a5d-485f-e00b-f9e4dfe3d573"
      },
      "source": [
        "plt.figure(figsize=(14,5))\n",
        "plt.plot(range(2000+seq,2000+Y_test.shape[0]+seq),Y_test, color = 'blue', label = 'Real Value')\n",
        "plt.plot(range(2000+seq,2000+Y_test.shape[0]+seq),Y_pred, color = 'red', label = 'Predicted Value')\n",
        "plt.title('Close Estimation using MLP')\n",
        "plt.xlabel('Time')\n",
        "plt.ylabel('Price')\n",
        "# plt.xlim([2350,2400])\n",
        "# plt.ylim([40000,60000])\n",
        "plt.legend()\n",
        "plt.show()"
      ],
      "execution_count": null,
      "outputs": [
        {
          "output_type": "display_data",
          "data": {
            "image/png": "[encoded data removed]",
            "text/plain": [
              "<Figure size 1008x360 with 1 Axes>"
            ]
          },
          "metadata": {
            "tags": [],
            "needs_background": "light"
          }
        }
      ]
    }
  ]
}