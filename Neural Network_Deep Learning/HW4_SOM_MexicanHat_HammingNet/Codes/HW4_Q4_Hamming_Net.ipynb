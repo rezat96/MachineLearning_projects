{
  "nbformat": 4,
  "nbformat_minor": 0,
  "metadata": {
    "colab": {
      "name": "HW4_Q4_Hamming_Net.ipynb",
      "provenance": [],
      "collapsed_sections": []
    },
    "kernelspec": {
      "name": "python3",
      "display_name": "Python 3"
    },
    "language_info": {
      "name": "python"
    }
  },
  "cells": [
    {
      "cell_type": "code",
      "metadata": {
        "id": "KhpEHlNzp2Wx"
      },
      "source": [
        "import numpy as np"
      ],
      "execution_count": 1,
      "outputs": []
    },
    {
      "cell_type": "markdown",
      "metadata": {
        "id": "TL13fqnKsMO7"
      },
      "source": [
        "# Part A & B"
      ]
    },
    {
      "cell_type": "code",
      "metadata": {
        "id": "xv7W9pFNqNuV"
      },
      "source": [
        "V=np.zeros((5,6))\n",
        "V[0,:]=np.array([1,1,1,1,1,1])\n",
        "V[1,:]=np.array([-1,1,-1,-1,1,1])\n",
        "V[2,:]=np.array([-1,-1,1,1,1,1])\n",
        "V[3,:]=np.array([-1,-1,1,1,-1,1])\n",
        "V[4,:]=np.array([-1,1,1,-1,-1,-1])"
      ],
      "execution_count": 2,
      "outputs": []
    },
    {
      "cell_type": "code",
      "metadata": {
        "id": "2m9FrliwqQc6"
      },
      "source": [
        "# input=np.array([-1,1,1,-1,-1,-1])    ###Change Vs\n",
        "# input=V[1,:].copy()"
      ],
      "execution_count": 3,
      "outputs": []
    },
    {
      "cell_type": "code",
      "metadata": {
        "id": "P3m-s3KAp9HV"
      },
      "source": [
        "e1=np.array([1,-1,1,-1,1,-1])\n",
        "e2=np.array([-1,1,-1,1,-1,-1])\n",
        "e3=np.array([1,1,1,-1,-1,-1])\n",
        "e_all=np.vstack((e1,e2,e3))"
      ],
      "execution_count": 4,
      "outputs": []
    },
    {
      "cell_type": "code",
      "metadata": {
        "id": "tfGx5RLisfpC"
      },
      "source": [
        "b=3\n",
        "W1=e1/2\n",
        "W2=e2/2\n",
        "W3=e3/2"
      ],
      "execution_count": 5,
      "outputs": []
    },
    {
      "cell_type": "code",
      "metadata": {
        "id": "9Kxwy7aDs1xR"
      },
      "source": [
        "# W1,W2,W3"
      ],
      "execution_count": 6,
      "outputs": []
    },
    {
      "cell_type": "code",
      "metadata": {
        "colab": {
          "base_uri": "https://localhost:8080/"
        },
        "id": "pfkufsgYuOk5",
        "outputId": "feb2b0b3-ea1f-4004-ddb0-8bb77a05b7a6"
      },
      "source": [
        "#Max_net\n",
        "epsilon=0.13\n",
        "W=-epsilon*np.ones((3,3))\n",
        "for i in range(3):\n",
        "  W[i,i]=1\n",
        "W"
      ],
      "execution_count": 7,
      "outputs": [
        {
          "output_type": "execute_result",
          "data": {
            "text/plain": [
              "array([[ 1.  , -0.13, -0.13],\n",
              "       [-0.13,  1.  , -0.13],\n",
              "       [-0.13, -0.13,  1.  ]])"
            ]
          },
          "metadata": {
            "tags": []
          },
          "execution_count": 7
        }
      ]
    },
    {
      "cell_type": "code",
      "metadata": {
        "id": "Oorqtyy-uWKg"
      },
      "source": [
        "def relu(x):\n",
        "  f=np.zeros(len(x))\n",
        "  for j in range(len(x)):\n",
        "    if x[j]>0:\n",
        "      f[j]=x[j]\n",
        "    else :\n",
        "      f[j]=0\n",
        "  return f"
      ],
      "execution_count": 8,
      "outputs": []
    },
    {
      "cell_type": "code",
      "metadata": {
        "id": "-MQWLdUMvcyX"
      },
      "source": [
        "def maxnet(gg):\n",
        "  a_old=gg.copy()\n",
        "  v=np.count_nonzero(gg)\n",
        "  counter=0\n",
        "  while(v>1):\n",
        "    counter+=1\n",
        "    # print(counter,v)\n",
        "    a_new=relu(np.matmul(W,a_old))\n",
        "    # print('New',a_new)\n",
        "    a_old=a_new.copy()\n",
        "    v=np.count_nonzero(a_new)\n",
        "  return a_new"
      ],
      "execution_count": 9,
      "outputs": []
    },
    {
      "cell_type": "code",
      "metadata": {
        "colab": {
          "base_uri": "https://localhost:8080/"
        },
        "id": "fuXjL1nsvRbn",
        "outputId": "376c0e88-7d82-479d-d81a-d90616e6f4fd"
      },
      "source": [
        "for k in range(5):\n",
        "  input=V[k,:].copy()\n",
        "  gg=np.array([np.sum(W1*input)+b,np.sum(W2*input)+b,np.sum(W3*input)+b])  #Dissimilarity Measure\n",
        "  a_new=maxnet(gg)\n",
        "  index=np.where(a_new!=0)[0]\n",
        "  x_max1=gg[index][0]\n",
        "  print(k+1,'st input result are:')\n",
        "  print('Maximum absolute Value of Similarities: ',gg,'is =',x_max1)\n",
        "  print('The input is :',input)\n",
        "  print('the output e{} is the nearest vector:'.format(index[0]),e_all[index[0],:])\n",
        "  print('\\n')"
      ],
      "execution_count": 10,
      "outputs": [
        {
          "output_type": "stream",
          "text": [
            "1 st input result are:\n",
            "Maximum absolute Value of Similarities:  [3. 2. 3.] is = 3.0\n",
            "The input is : [1. 1. 1. 1. 1. 1.]\n",
            "the output e0 is the nearest vector: [ 1 -1  1 -1  1 -1]\n",
            "\n",
            "\n",
            "2 st input result are:\n",
            "Maximum absolute Value of Similarities:  [2. 3. 2.] is = 3.0\n",
            "The input is : [-1.  1. -1. -1.  1.  1.]\n",
            "the output e1 is the nearest vector: [-1  1 -1  1 -1 -1]\n",
            "\n",
            "\n",
            "3 st input result are:\n",
            "Maximum absolute Value of Similarities:  [3. 2. 1.] is = 3.0\n",
            "The input is : [-1. -1.  1.  1.  1.  1.]\n",
            "the output e0 is the nearest vector: [ 1 -1  1 -1  1 -1]\n",
            "\n",
            "\n",
            "4 st input result are:\n",
            "Maximum absolute Value of Similarities:  [2. 3. 2.] is = 3.0\n",
            "The input is : [-1. -1.  1.  1. -1.  1.]\n",
            "the output e1 is the nearest vector: [-1  1 -1  1 -1 -1]\n",
            "\n",
            "\n",
            "5 st input result are:\n",
            "Maximum absolute Value of Similarities:  [3. 4. 5.] is = 5.0\n",
            "The input is : [-1.  1.  1. -1. -1. -1.]\n",
            "the output e2 is the nearest vector: [ 1  1  1 -1 -1 -1]\n",
            "\n",
            "\n"
          ],
          "name": "stdout"
        }
      ]
    }
  ]
}