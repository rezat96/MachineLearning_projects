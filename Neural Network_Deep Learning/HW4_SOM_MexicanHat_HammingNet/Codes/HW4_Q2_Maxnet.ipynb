{
  "nbformat": 4,
  "nbformat_minor": 0,
  "metadata": {
    "colab": {
      "name": "HW4_Q2_Maxnet.ipynb",
      "provenance": [],
      "collapsed_sections": []
    },
    "kernelspec": {
      "name": "python3",
      "display_name": "Python 3"
    },
    "language_info": {
      "name": "python"
    }
  },
  "cells": [
    {
      "cell_type": "code",
      "metadata": {
        "id": "5YQgdgmB7Ni1"
      },
      "source": [
        "import numpy as np\n",
        "np.set_printoptions(formatter={'float': lambda x: \"{0:0.2f}\".format(x)})"
      ],
      "execution_count": 1,
      "outputs": []
    },
    {
      "cell_type": "code",
      "metadata": {
        "id": "ivTsnADa7Wiv"
      },
      "source": [
        "#part A\n",
        "x_arr=np.array([1.2,1.1,0.5,1.5,1.13,+0.8]).reshape(-1,1)"
      ],
      "execution_count": 2,
      "outputs": []
    },
    {
      "cell_type": "code",
      "metadata": {
        "id": "oW16WqCUd5Pw"
      },
      "source": [
        "# print('X_arr=:',x_arr.reshape(1,-1))"
      ],
      "execution_count": 3,
      "outputs": []
    },
    {
      "cell_type": "code",
      "metadata": {
        "colab": {
          "base_uri": "https://localhost:8080/"
        },
        "id": "tLPh0n707ppv",
        "outputId": "411a6e2b-707d-48b0-9025-9baa57c5c378"
      },
      "source": [
        "epsilon=0.13\n",
        "W=-epsilon*np.ones((len(x_arr),len(x_arr)))\n",
        "for i in range(len(x_arr)):\n",
        "  W[i,i]=1\n",
        "W"
      ],
      "execution_count": 4,
      "outputs": [
        {
          "output_type": "execute_result",
          "data": {
            "text/plain": [
              "array([[1.00, -0.13, -0.13, -0.13, -0.13, -0.13],\n",
              "       [-0.13, 1.00, -0.13, -0.13, -0.13, -0.13],\n",
              "       [-0.13, -0.13, 1.00, -0.13, -0.13, -0.13],\n",
              "       [-0.13, -0.13, -0.13, 1.00, -0.13, -0.13],\n",
              "       [-0.13, -0.13, -0.13, -0.13, 1.00, -0.13],\n",
              "       [-0.13, -0.13, -0.13, -0.13, -0.13, 1.00]])"
            ]
          },
          "metadata": {
            "tags": []
          },
          "execution_count": 4
        }
      ]
    },
    {
      "cell_type": "code",
      "metadata": {
        "id": "vmcbIYsf8k7e"
      },
      "source": [
        "def relu(x):\n",
        "  f=np.zeros(len(x))\n",
        "  for j in range(len(x)):\n",
        "    if x[j]>0:\n",
        "      f[j]=x[j]\n",
        "    else :\n",
        "      f[j]=0\n",
        "  return f"
      ],
      "execution_count": 5,
      "outputs": []
    },
    {
      "cell_type": "markdown",
      "metadata": {
        "id": "BXTcf6T_CBbi"
      },
      "source": [
        "# Part 1"
      ]
    },
    {
      "cell_type": "code",
      "metadata": {
        "id": "LXiQMB6Z_Wbk"
      },
      "source": [
        "def Maxnet(x_arr,W):\n",
        "  a_old=x_arr.copy()\n",
        "  v=np.count_nonzero(x_arr)\n",
        "  counter=0\n",
        "  while(v>1):\n",
        "    counter+=1\n",
        "    # print(counter,v)\n",
        "    print(counter,'st iteration:')\n",
        "    a_new=relu(np.matmul(W,a_old))\n",
        "    print('New vector ',a_new)\n",
        "    a_old=a_new.copy()\n",
        "    v=np.count_nonzero(a_new)\n",
        "  return a_new"
      ],
      "execution_count": 6,
      "outputs": []
    },
    {
      "cell_type": "code",
      "metadata": {
        "colab": {
          "base_uri": "https://localhost:8080/"
        },
        "id": "o9y67WDvgfs0",
        "outputId": "2520710e-7fb5-49c8-a45e-42e256c40673"
      },
      "source": [
        "a_new=Maxnet(x_arr,W)"
      ],
      "execution_count": 7,
      "outputs": [
        {
          "output_type": "stream",
          "text": [
            "1 st iteration:\n",
            "New vector  [0.55 0.43 0.00 0.89 0.47 0.09]\n",
            "2 st iteration:\n",
            "New vector  [0.30 0.17 0.00 0.68 0.21 0.00]\n",
            "3 st iteration:\n",
            "New vector  [0.16 0.02 0.00 0.60 0.06 0.00]\n",
            "4 st iteration:\n",
            "New vector  [0.07 0.00 0.00 0.56 0.00 0.00]\n",
            "5 st iteration:\n",
            "New vector  [0.00 0.00 0.00 0.55 0.00 0.00]\n",
            "6 st iteration:\n",
            "New vector  [0.00 0.00 0.00 0.55 0.00 0.00]\n"
          ],
          "name": "stdout"
        }
      ]
    },
    {
      "cell_type": "code",
      "metadata": {
        "colab": {
          "base_uri": "https://localhost:8080/"
        },
        "id": "nxTDc-DRBF_V",
        "outputId": "551293d9-2165-46de-95dd-1ed983c8acd6"
      },
      "source": [
        "index=np.where(a_new!=0)[0]\n",
        "x_max1=x_arr[index][0]\n",
        "print('Maximum  Value of x_arr:\\n ',x_arr,'is =',x_max1)"
      ],
      "execution_count": 8,
      "outputs": [
        {
          "output_type": "stream",
          "text": [
            "Maximum  Value of x_arr:\n",
            "  [[1.20]\n",
            " [1.10]\n",
            " [0.50]\n",
            " [1.50]\n",
            " [1.13]\n",
            " [0.80]] is = [1.50]\n"
          ],
          "name": "stdout"
        }
      ]
    },
    {
      "cell_type": "markdown",
      "metadata": {
        "id": "ul64XKvEB8LC"
      },
      "source": [
        "# Part 2"
      ]
    },
    {
      "cell_type": "code",
      "metadata": {
        "id": "nTUdsGNfB9Bj"
      },
      "source": [
        "x_arr_new=[1.2,1.1,0.5,-1.5,1.13,-0.8]"
      ],
      "execution_count": 9,
      "outputs": []
    },
    {
      "cell_type": "code",
      "metadata": {
        "id": "gUUiQrLzeUC-"
      },
      "source": [
        "# print('X_arr=:',x_arr_new)"
      ],
      "execution_count": 10,
      "outputs": []
    },
    {
      "cell_type": "code",
      "metadata": {
        "colab": {
          "base_uri": "https://localhost:8080/"
        },
        "id": "lsgC62JfgrNj",
        "outputId": "a9d17515-dddb-4c80-8f65-5db6c1578b0b"
      },
      "source": [
        "a_new1=Maxnet(x_arr_new,W)        #for x"
      ],
      "execution_count": 11,
      "outputs": [
        {
          "output_type": "stream",
          "text": [
            "1 st iteration:\n",
            "New vector  [1.14 1.03 0.35 0.00 1.06 0.00]\n",
            "2 st iteration:\n",
            "New vector  [0.83 0.70 0.00 0.00 0.74 0.00]\n",
            "3 st iteration:\n",
            "New vector  [0.64 0.49 0.00 0.00 0.54 0.00]\n",
            "4 st iteration:\n",
            "New vector  [0.50 0.34 0.00 0.00 0.39 0.00]\n",
            "5 st iteration:\n",
            "New vector  [0.41 0.23 0.00 0.00 0.28 0.00]\n",
            "6 st iteration:\n",
            "New vector  [0.34 0.14 0.00 0.00 0.20 0.00]\n",
            "7 st iteration:\n",
            "New vector  [0.30 0.07 0.00 0.00 0.14 0.00]\n",
            "8 st iteration:\n",
            "New vector  [0.27 0.01 0.00 0.00 0.09 0.00]\n",
            "9 st iteration:\n",
            "New vector  [0.26 0.00 0.00 0.00 0.05 0.00]\n",
            "10 st iteration:\n",
            "New vector  [0.26 0.00 0.00 0.00 0.02 0.00]\n",
            "11 st iteration:\n",
            "New vector  [0.25 0.00 0.00 0.00 0.00 0.00]\n"
          ],
          "name": "stdout"
        }
      ]
    },
    {
      "cell_type": "code",
      "metadata": {
        "id": "_yLqN17MDgJp"
      },
      "source": [
        "index=np.where(a_new1!=0)[0]\n",
        "v_plus=x_arr_new[index[0]]"
      ],
      "execution_count": 12,
      "outputs": []
    },
    {
      "cell_type": "code",
      "metadata": {
        "colab": {
          "base_uri": "https://localhost:8080/"
        },
        "id": "-rxxI--nDn4A",
        "outputId": "9eabcde9-718d-4e36-b370-6494072f7e28"
      },
      "source": [
        "x_arr_new_prime=np.multiply(x_arr_new,-1)\n",
        "a_new2=Maxnet(x_arr_new_prime,W)  "
      ],
      "execution_count": 13,
      "outputs": [
        {
          "output_type": "stream",
          "text": [
            "1 st iteration:\n",
            "New vector  [0.00 0.00 0.00 1.91 0.00 1.12]\n",
            "2 st iteration:\n",
            "New vector  [0.00 0.00 0.00 1.76 0.00 0.87]\n",
            "3 st iteration:\n",
            "New vector  [0.00 0.00 0.00 1.65 0.00 0.64]\n",
            "4 st iteration:\n",
            "New vector  [0.00 0.00 0.00 1.57 0.00 0.42]\n",
            "5 st iteration:\n",
            "New vector  [0.00 0.00 0.00 1.51 0.00 0.22]\n",
            "6 st iteration:\n",
            "New vector  [0.00 0.00 0.00 1.48 0.00 0.02]\n",
            "7 st iteration:\n",
            "New vector  [0.00 0.00 0.00 1.48 0.00 0.00]\n"
          ],
          "name": "stdout"
        }
      ]
    },
    {
      "cell_type": "code",
      "metadata": {
        "id": "iURdjEj1GKNw"
      },
      "source": [
        "index=np.where(a_new2!=0)[0]\n",
        "v_minus=-x_arr_new[index[0]]"
      ],
      "execution_count": 14,
      "outputs": []
    },
    {
      "cell_type": "code",
      "metadata": {
        "id": "JMIHDoySGn2_"
      },
      "source": [
        "v=np.append(v_plus,v_minus)"
      ],
      "execution_count": 15,
      "outputs": []
    },
    {
      "cell_type": "code",
      "metadata": {
        "colab": {
          "base_uri": "https://localhost:8080/"
        },
        "id": "oaD7HPKmqJyS",
        "outputId": "5e0c7ba5-a110-4023-b48d-2173d04d8d71"
      },
      "source": [
        "w_2=np.array([1 ,-0.5,-0.5,1 ]).reshape((2,2))\n",
        "w_2"
      ],
      "execution_count": 16,
      "outputs": [
        {
          "output_type": "execute_result",
          "data": {
            "text/plain": [
              "array([[1.00, -0.50],\n",
              "       [-0.50, 1.00]])"
            ]
          },
          "metadata": {
            "tags": []
          },
          "execution_count": 16
        }
      ]
    },
    {
      "cell_type": "code",
      "metadata": {
        "colab": {
          "base_uri": "https://localhost:8080/"
        },
        "id": "7JREO6XHqgCz",
        "outputId": "4c8a7b42-4e1c-4fd7-b7eb-adb9840611a0"
      },
      "source": [
        "a_new_final=Maxnet(v,w_2)  "
      ],
      "execution_count": 17,
      "outputs": [
        {
          "output_type": "stream",
          "text": [
            "1 st iteration:\n",
            "New vector  [0.45 0.90]\n",
            "2 st iteration:\n",
            "New vector  [0.00 0.68]\n"
          ],
          "name": "stdout"
        }
      ]
    },
    {
      "cell_type": "code",
      "metadata": {
        "colab": {
          "base_uri": "https://localhost:8080/"
        },
        "id": "RW76VTBxqmpB",
        "outputId": "8e81a9ec-8099-40e6-9f35-e7f2303c9b76"
      },
      "source": [
        "index=np.where(a_new_final!=0)[0]\n",
        "x_max2=v[index][0]\n",
        "print('Maximum absolute Value of x_arr: ',x_arr_new,'is =',x_max2)"
      ],
      "execution_count": 18,
      "outputs": [
        {
          "output_type": "stream",
          "text": [
            "Maximum absolute Value of x_arr:  [1.2, 1.1, 0.5, -1.5, 1.13, -0.8] is = 1.5\n"
          ],
          "name": "stdout"
        }
      ]
    }
  ]
}