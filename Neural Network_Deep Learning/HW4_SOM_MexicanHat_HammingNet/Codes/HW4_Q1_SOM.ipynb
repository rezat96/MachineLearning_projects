{
  "nbformat": 4,
  "nbformat_minor": 0,
  "metadata": {
    "colab": {
      "name": "HW4_Q1_SOM.ipynb",
      "provenance": [],
      "collapsed_sections": []
    },
    "kernelspec": {
      "name": "python3",
      "display_name": "Python 3"
    },
    "language_info": {
      "name": "python"
    }
  },
  "cells": [
    {
      "cell_type": "code",
      "metadata": {
        "id": "1WlEFe7FA0Qz"
      },
      "source": [
        "import numpy as np\n",
        "from tensorflow import keras\n",
        "from tensorflow.keras import layers\n",
        "from matplotlib import pyplot as plt\n",
        "import random \n",
        "from numpy import linalg as LA"
      ],
      "execution_count": 34,
      "outputs": []
    },
    {
      "cell_type": "code",
      "metadata": {
        "id": "gGTP8mSjCXC5"
      },
      "source": [
        "(X_train, Y_train), (X_test, Y_test) = keras.datasets.mnist.load_data()"
      ],
      "execution_count": 68,
      "outputs": []
    },
    {
      "cell_type": "code",
      "metadata": {
        "id": "43VLgVQ7CmPB"
      },
      "source": [
        "t_list=np.random.choice(60000,2000)\n",
        "d_list=np.random.choice(10000,1000)\n",
        "x_train=X_train[t_list]\n",
        "y_train=Y_train[t_list].reshape(-1,1)\n",
        "x_test=X_test[d_list]\n",
        "y_test=Y_test[d_list].reshape(-1,1)"
      ],
      "execution_count": 69,
      "outputs": []
    },
    {
      "cell_type": "code",
      "metadata": {
        "id": "8ie1mQQZDCeR"
      },
      "source": [
        "#Normalising\n",
        "x_train = x_train.astype(\"float32\") / 255\n",
        "x_test = x_test.astype(\"float32\") / 255"
      ],
      "execution_count": 70,
      "outputs": []
    },
    {
      "cell_type": "code",
      "metadata": {
        "colab": {
          "base_uri": "https://localhost:8080/"
        },
        "id": "iXHJCLlDLOxO",
        "outputId": "948fb266-10da-4329-85a7-f1d4d70b08c1"
      },
      "source": [
        "x_train.shape,x_test.shape"
      ],
      "execution_count": 72,
      "outputs": [
        {
          "output_type": "execute_result",
          "data": {
            "text/plain": [
              "((2000, 28, 28), (1000, 28, 28))"
            ]
          },
          "metadata": {
            "tags": []
          },
          "execution_count": 72
        }
      ]
    },
    {
      "cell_type": "code",
      "metadata": {
        "id": "RvyKnMpl3jed"
      },
      "source": [
        "def display_digit(num):\n",
        "    label = y_train[num].argmax(axis=0)\n",
        "    image = x_train[num].reshape([28,28])\n",
        "    plt.title('Example: %d  Label: %d' % (num, label))\n",
        "    plt.imshow(image, cmap=plt.get_cmap('gray_r'))\n",
        "    plt.show()\n",
        "\n"
      ],
      "execution_count": 38,
      "outputs": []
    },
    {
      "cell_type": "code",
      "metadata": {
        "colab": {
          "base_uri": "https://localhost:8080/",
          "height": 297
        },
        "id": "p1rFDoUy6_hD",
        "outputId": "167cc23b-0cc9-4d80-cf67-69deda8182fc"
      },
      "source": [
        "h=random.randint(0, x_train.shape[0])\n",
        "display_digit(h)\n",
        "print(y_train[h])"
      ],
      "execution_count": 86,
      "outputs": [
        {
          "output_type": "display_data",
          "data": {
            "image/png": "[encoded data removed]",
            "text/plain": [
              "<Figure size 432x288 with 1 Axes>"
            ]
          },
          "metadata": {
            "tags": [],
            "needs_background": "light"
          }
        },
        {
          "output_type": "stream",
          "text": [
            "[6]\n"
          ],
          "name": "stdout"
        }
      ]
    },
    {
      "cell_type": "markdown",
      "metadata": {
        "id": "qrzxNhYd_Ih-"
      },
      "source": [
        "# Part A"
      ]
    },
    {
      "cell_type": "code",
      "metadata": {
        "id": "wXJ5BnH3B7m3"
      },
      "source": [
        "n,m=784,625\n",
        "W=np.random.random(size=(n,m))\n",
        "W_new=np.zeros((n,m))"
      ],
      "execution_count": 98,
      "outputs": []
    },
    {
      "cell_type": "code",
      "metadata": {
        "id": "HvPoHuukGvCg"
      },
      "source": [
        "# W=np.random.normal(0,1,size=(n,m))      #w = np.random.normal(0,2, (784,625))\n",
        "# from sklearn.preprocessing import  MinMaxScaler\n",
        "# scalar=MinMaxScaler()\n",
        "# W=scalar.fit_transform(W)"
      ],
      "execution_count": 41,
      "outputs": []
    },
    {
      "cell_type": "code",
      "metadata": {
        "colab": {
          "base_uri": "https://localhost:8080/"
        },
        "id": "xLOFK7vmDJtF",
        "outputId": "1bf6191a-ad26-4a45-ec47-aa8a3b53997a"
      },
      "source": [
        "W.shape"
      ],
      "execution_count": 99,
      "outputs": [
        {
          "output_type": "execute_result",
          "data": {
            "text/plain": [
              "(784, 625)"
            ]
          },
          "metadata": {
            "tags": []
          },
          "execution_count": 99
        }
      ]
    },
    {
      "cell_type": "markdown",
      "metadata": {
        "id": "KdnFlQVKsqp-"
      },
      "source": [
        "# Inputs"
      ]
    },
    {
      "cell_type": "code",
      "metadata": {
        "id": "K4bA8DsHssfM"
      },
      "source": [
        "Max_epoch=20\n",
        "alpha0=0.01"
      ],
      "execution_count": 43,
      "outputs": []
    },
    {
      "cell_type": "markdown",
      "metadata": {
        "id": "Iz3reVDupaXP"
      },
      "source": [
        "# R=0"
      ]
    },
    {
      "cell_type": "code",
      "metadata": {
        "colab": {
          "base_uri": "https://localhost:8080/"
        },
        "id": "_YV0wPMwYD5V",
        "outputId": "2f0878c7-ea4c-4578-aabc-d72673bb79b7"
      },
      "source": [
        "epoch=0\n",
        "W_old=W.copy()\n",
        "W_new1=W.copy()\n",
        "\n",
        "while(epoch<Max_epoch):\n",
        "  alpha=alpha0-epoch*0.0004          #Change ittt\n",
        "  epoch+=1\n",
        "  print(epoch)\n",
        "  alpha=alpha0-epoch*0.002\n",
        "  q=np.zeros(2000)\n",
        "  for k in range(2000):\n",
        "    D=np.zeros(m)\n",
        "    for j in range(m):\n",
        "      delta=W_old[:,j]-x_train.reshape((2000,784))[k]\n",
        "      D[j]=delta.dot(delta.T)\n",
        "    q[k]=np.argmin(D)\n",
        "    g=int(q[k])\n",
        "    W_new1[:,g] = W_old[:,g] + alpha * ( x_train.reshape((2000,784))[k] - W_old[ :,g ] )\n",
        "\n",
        "    \n",
        "    W_old=W_new1.copy()\n"
      ],
      "execution_count": 44,
      "outputs": [
        {
          "output_type": "stream",
          "text": [
            "1\n",
            "2\n",
            "3\n",
            "4\n",
            "5\n",
            "6\n",
            "7\n",
            "8\n",
            "9\n",
            "10\n",
            "11\n",
            "12\n",
            "13\n",
            "14\n",
            "15\n",
            "16\n",
            "17\n",
            "18\n",
            "19\n",
            "20\n"
          ],
          "name": "stdout"
        }
      ]
    },
    {
      "cell_type": "code",
      "metadata": {
        "colab": {
          "base_uri": "https://localhost:8080/"
        },
        "id": "ahUaQUSua-An",
        "outputId": "240b69f5-12e6-465a-899b-40d5fea418bf"
      },
      "source": [
        "W_final1=W_new1.copy()\n",
        "# print('iter',epoch)\n",
        "q1=np.zeros(len(y_test))\n",
        "for k in range(len(y_test)):\n",
        "  D=np.zeros(m)\n",
        "  for j in range(m):\n",
        "    delta=W_final1[:,j]-x_test.reshape((len(y_test),784))[k]\n",
        "    D[j]=delta.dot(delta.T)\n",
        "  q1[k]=np.argmin(D)\n",
        "  g=int(q1[k])\n",
        "  # print(g)\n",
        "pp1=np.unique(q1,return_counts=True)\n",
        "len(pp1[0])"
      ],
      "execution_count": 45,
      "outputs": [
        {
          "output_type": "execute_result",
          "data": {
            "text/plain": [
              "90"
            ]
          },
          "metadata": {
            "tags": []
          },
          "execution_count": 45
        }
      ]
    },
    {
      "cell_type": "code",
      "metadata": {
        "colab": {
          "base_uri": "https://localhost:8080/"
        },
        "id": "BH5X8ae5UhtA",
        "outputId": "ccce577c-d5f3-404a-9f8b-34f2a76f69c9"
      },
      "source": [
        "pp1"
      ],
      "execution_count": 135,
      "outputs": [
        {
          "output_type": "execute_result",
          "data": {
            "text/plain": [
              "(array([  3.,   6.,  13.,  16.,  28.,  40.,  44.,  47.,  60.,  78., 107.,\n",
              "        108., 120., 128., 130., 133., 137., 146., 157., 162., 166., 171.,\n",
              "        191., 200., 202., 210., 214., 225., 229., 232., 235., 238., 242.,\n",
              "        249., 263., 266., 267., 269., 272., 277., 278., 283., 284., 294.,\n",
              "        298., 299., 300., 307., 314., 321., 322., 323., 329., 345., 355.,\n",
              "        372., 373., 391., 392., 404., 406., 408., 411., 420., 424., 432.,\n",
              "        433., 439., 441., 453., 461., 462., 470., 474., 479., 481., 483.,\n",
              "        484., 496., 499., 514., 522., 528., 538., 542., 544., 574., 601.,\n",
              "        614., 615.]),\n",
              " array([ 8,  9,  6,  1,  9,  9,  1,  4,  2, 30,  6,  1,  1,  1,  7,  3, 20,\n",
              "        32,  4, 17,  1, 14, 39,  2,  5,  6, 13,  2,  1,  1,  3,  4,  2,  1,\n",
              "        15,  3, 37,  4,  1, 13,  6, 12,  3,  1, 12,  3,  3, 19,  6,  1, 11,\n",
              "        28, 11, 21, 70, 41,  1, 74,  1,  2,  1,  2, 10, 34, 40, 16,  5, 27,\n",
              "         2, 16,  5,  3,  1,  4,  1,  2, 41,  2, 26, 14,  5,  8,  3, 14,  1,\n",
              "         8,  7, 31,  6,  1]))"
            ]
          },
          "metadata": {
            "tags": []
          },
          "execution_count": 135
        }
      ]
    },
    {
      "cell_type": "code",
      "metadata": {
        "colab": {
          "base_uri": "https://localhost:8080/",
          "height": 553
        },
        "id": "M1lXdzTVen4M",
        "outputId": "15c9c721-57ef-4a76-b111-08992bd4ea68"
      },
      "source": [
        "print('The winners are #neurons :',np.where(pp1[1]>10)[0])\n",
        "from collections import Counter\n",
        "\n",
        "cnt = Counter(q1)\n",
        "plt.figure(figsize=(28, 8))\n",
        "plt.bar(range(len(cnt)), list(cnt.values()), align='center');\n",
        "# plt.xticks(range(len(cnt)), list(cnt.keys()), rotation='vertical');\n",
        "# plt.xlim(0-1, len(cnt))\n",
        "plt.title(f\"Linear layout creates {len(cnt)} non-empty clusters\");"
      ],
      "execution_count": 46,
      "outputs": [
        {
          "output_type": "stream",
          "text": [
            "The winners are #neurons : [ 9 16 17 19 21 22 26 34 36 39 41 44 47 50 51 52 53 54 55 57 63 64 65 67\n",
            " 69 76 78 79 83 87]\n"
          ],
          "name": "stdout"
        },
        {
          "output_type": "display_data",
          "data": {
            "image/png": "[encoded data removed]",
            "text/plain": [
              "<Figure size 2016x576 with 1 Axes>"
            ]
          },
          "metadata": {
            "tags": [],
            "needs_background": "light"
          }
        }
      ]
    },
    {
      "cell_type": "markdown",
      "metadata": {
        "id": "GsEviDsfYC4L"
      },
      "source": [
        "# Part B"
      ]
    },
    {
      "cell_type": "code",
      "metadata": {
        "colab": {
          "base_uri": "https://localhost:8080/"
        },
        "id": "keb1OKFwEdZN",
        "outputId": "611a9b69-46f4-40af-ac0d-2dc83762a658"
      },
      "source": [
        "epoch=0\n",
        "W_old=W.copy()\n",
        "W_new=W.copy()\n",
        "D=np.zeros(m)\n",
        "q=np.zeros(2000)\n",
        "\n",
        "while(epoch<Max_epoch):\n",
        "  alpha=alpha0-epoch*0.0004\n",
        "  epoch+=1\n",
        "  print(epoch)\n",
        "  q=np.zeros(2000)\n",
        "  for k in range(2000):\n",
        "    D=np.zeros(m)\n",
        "    for j in range(m):\n",
        "      delta=W_old[:,j]-x_train.reshape((2000,784))[k]\n",
        "      D[j]=delta.dot(delta.T)\n",
        "    q[k]=np.argmin(D)\n",
        "    g=int(q[k])\n",
        "    v=g+1\n",
        "    z=g-1\n",
        "\n",
        "    #updating W\n",
        "    W_new[:,g] = W_old[:,g] + alpha * ( x_train.reshape((2000,784))[k] - W_old[ :,g ] )\n",
        "    if (g>0 and g<(m-1)):\n",
        "        # W_new[:,g] = W_old[:,g] + alpha * ( x_train.reshape((2000,784))[k] - W_old[ :,g ] )\n",
        "        W_new[:,v] = W_old[:,v] + alpha * ( x_train.reshape((2000,784))[k] - W_old[ :, v ] )\n",
        "        W_new[:,z] = W_old[:,z] + alpha * ( x_train.reshape((2000,784))[k] - W_old[ :, z ] )\n",
        "    elif g==0: \n",
        "        # W_new[:,g] = W_old[:,g] + alpha * ( x_train.reshape((2000,784))[k] - W_old[ :,g ] )\n",
        "        W_new[:,v] = W_old[:,v] + alpha * ( x_train.reshape((2000,784))[k] - W_old[ :, v ] )\n",
        "    elif g==(m-1) :\n",
        "        # W_new[:,g] = W_old[:,g] + alpha * ( x_train.reshape((2000,784))[k] - W_old[ :,g ] )\n",
        "        W_new[:,z] = W_old[:,z] + alpha * ( x_train.reshape((2000,784))[k] - W_old[ :, z ] )\n",
        "\n",
        "    \n",
        "    v=g+2\n",
        "    z=g-2\n",
        "    if (g>0 and g<(m-1)):\n",
        "        W_new[:,v] = W_old[:,v] + alpha * ( x_train.reshape((2000,784))[k] - W_old[ :, v ] )\n",
        "        W_new[:,z] = W_old[:,z] + alpha * ( x_train.reshape((2000,784))[k] - W_old[ :, z ] )\n",
        "    elif g==0: \n",
        "        W_new[:,v] = W_old[:,v] + alpha * ( x_train.reshape((2000,784))[k] - W_old[ :, v ] )\n",
        "    elif g==(m-1) :\n",
        "        W_new[:,z] = W_old[:,z] + alpha * ( x_train.reshape((2000,784))[k] - W_old[ :, z ] )\n",
        "\n",
        "    W_old=W_new.copy()\n"
      ],
      "execution_count": 48,
      "outputs": [
        {
          "output_type": "stream",
          "text": [
            "1\n",
            "2\n",
            "3\n",
            "4\n",
            "5\n",
            "6\n",
            "7\n",
            "8\n",
            "9\n",
            "10\n",
            "11\n",
            "12\n",
            "13\n",
            "14\n",
            "15\n",
            "16\n",
            "17\n",
            "18\n",
            "19\n",
            "20\n"
          ],
          "name": "stdout"
        }
      ]
    },
    {
      "cell_type": "markdown",
      "metadata": {
        "id": "_H4Y713zQcQ8"
      },
      "source": [
        "# Test\n"
      ]
    },
    {
      "cell_type": "code",
      "metadata": {
        "colab": {
          "base_uri": "https://localhost:8080/"
        },
        "id": "nild7X7JTHPo",
        "outputId": "959e85b7-254a-4ff0-a192-acfaaa1312b5"
      },
      "source": [
        "W_old=W_new.copy()\n",
        "# print('iter',epoch)\n",
        "q2=np.zeros(len(y_test))\n",
        "for k in range(len(y_test)):\n",
        "  D=np.zeros(m)\n",
        "  for j in range(m):\n",
        "    delta=W_old[:,j]-x_test.reshape((len(y_test),784))[k]\n",
        "    D[j]=delta.dot(delta.T)\n",
        "  q2[k]=np.argmin(D)\n",
        "  g=int(q2[k])\n",
        "  # print(g)\n",
        "pp2=np.unique(q2,return_counts=True)\n",
        "len(pp2[0])"
      ],
      "execution_count": 49,
      "outputs": [
        {
          "output_type": "execute_result",
          "data": {
            "text/plain": [
              "38"
            ]
          },
          "metadata": {
            "tags": []
          },
          "execution_count": 49
        }
      ]
    },
    {
      "cell_type": "code",
      "metadata": {
        "colab": {
          "base_uri": "https://localhost:8080/",
          "height": 338
        },
        "id": "mDcPUmghrWlt",
        "outputId": "cb972274-0aff-4fe8-cc5b-1d1c278799a9"
      },
      "source": [
        "print('The winners are #neurons :',np.where(pp2[1]>10)[0])\n",
        "from collections import Counter\n",
        "\n",
        "cnt = Counter(q2)\n",
        "plt.figure(figsize=(28, 8))\n",
        "plt.bar(range(len(cnt)), list(cnt.values()), align='center');\n",
        "# plt.xticks(range(len(cnt)), list(cnt.keys()), rotation='vertical');\n",
        "# plt.xlim(0-1, len(cnt))\n",
        "plt.title(f\"Linear layout creates {len(cnt)} non-empty clusters\");"
      ],
      "execution_count": 136,
      "outputs": [
        {
          "output_type": "stream",
          "text": [
            "The winners are #neurons : [ 0  1  2  4  5  6  7  8  9 10 11 12 13 14 15 16 17 18 19 20 21 22 23 24\n",
            " 25 26 27 28 29 30 31 33 35]\n"
          ],
          "name": "stdout"
        },
        {
          "output_type": "display_data",
          "data": {
            "image/png": "[encoded data removed]",
            "text/plain": [
              "<Figure size 2016x576 with 1 Axes>"
            ]
          },
          "metadata": {
            "tags": [],
            "needs_background": "light"
          }
        }
      ]
    },
    {
      "cell_type": "markdown",
      "metadata": {
        "id": "Y2CzI5dn3snV"
      },
      "source": [
        "# Part C: Square with R=1"
      ]
    },
    {
      "cell_type": "code",
      "metadata": {
        "id": "w1GEYk-G3w6a"
      },
      "source": [
        "R         = 1\n",
        "alpha     = 0.9\n",
        "dim_ratio = 0.95\n",
        "Max_epoch=10"
      ],
      "execution_count": 108,
      "outputs": []
    },
    {
      "cell_type": "code",
      "metadata": {
        "id": "iP85tqftHsU7"
      },
      "source": [
        "def eval_D(W, x):\n",
        "  Dj = np.zeros((25, 25))\n",
        "  for row in range(25):\n",
        "    for col in range(25):\n",
        "      Wij = W[row][col]\n",
        "      tmp = (Wij - x.flatten()).reshape(1, -1)\n",
        "      Dj[row][col] = tmp.dot(tmp.T)\n",
        "  return Dj"
      ],
      "execution_count": 109,
      "outputs": []
    },
    {
      "cell_type": "code",
      "metadata": {
        "id": "StgSJpypHsSW"
      },
      "source": [
        "def eval_sq_neighborhood(ri, ci, R):\n",
        "  rl, rh = max(ri-R, 0), min(ri+R, 24)\n",
        "  cl, ch = max(ci-R, 0), min(ci+R, 24)\n",
        "  neighborhood = [list(range(rl, rh+1)), list(range(cl, ch+1))]\n",
        "  return neighborhood"
      ],
      "execution_count": 110,
      "outputs": []
    },
    {
      "cell_type": "code",
      "metadata": {
        "id": "JcNV0GWrHsQG"
      },
      "source": [
        "def update_W(W, x, ri, ci, neigh, alpha):\n",
        "  for row in neigh[0]:\n",
        "    for col in neigh[1]:\n",
        "      W[row][col] += (alpha*(x - W[row][col])).squeeze()\n",
        "  return W"
      ],
      "execution_count": 111,
      "outputs": []
    },
    {
      "cell_type": "code",
      "metadata": {
        "id": "USX3bH8dHv5W"
      },
      "source": [
        "# W = 1*np.random.random(25*25*28*28).reshape(25, 25, 28*28)\n",
        "W=W.reshape(25,25,28*28)\n",
        "for t in range(Max_epoch):\n",
        "  for i, x in enumerate(x_train):\n",
        "    # print(f\"\\rIteration: {t+1}, Image: {i+1}\", end=\"\")\n",
        "    Dj = eval_D(W, x)\n",
        "    ri, ci = np.unravel_index(np.argmin(Dj), Dj.shape)\n",
        "    neigh = eval_sq_neighborhood(ri, ci, R)\n",
        "    W = update_W(W, x.flatten(), ri, ci, neigh, alpha*dim_ratio**t)"
      ],
      "execution_count": 112,
      "outputs": []
    },
    {
      "cell_type": "code",
      "metadata": {
        "id": "dSX4SGnmHv2u"
      },
      "source": [
        "cluster = []\n",
        "for x in x_test:\n",
        "  D = eval_D(W, x)\n",
        "  cluster.append(np.argmin(D))"
      ],
      "execution_count": 113,
      "outputs": []
    },
    {
      "cell_type": "code",
      "metadata": {
        "colab": {
          "base_uri": "https://localhost:8080/",
          "height": 304
        },
        "id": "ZtjQWiGLH5_w",
        "outputId": "3616bd16-1dbe-416a-86b2-275e4b35c4c9"
      },
      "source": [
        "cnt = Counter(cluster)\n",
        "plt.figure(figsize=(28, 8))\n",
        "plt.bar(range(len(cnt)), list(cnt.values()), align='center');\n",
        "# plt.xticks(range(len(cnt)), list(cnt.keys()), rotation='vertical');\n",
        "# plt.xlim(0-1, len(cnt))\n",
        "plt.title(f\"Linear layout creates {len(cnt)} non-empty clusters\");"
      ],
      "execution_count": 114,
      "outputs": [
        {
          "output_type": "display_data",
          "data": {
            "image/png": "[encoded data removed]",
            "text/plain": [
              "<Figure size 2016x576 with 1 Axes>"
            ]
          },
          "metadata": {
            "tags": [],
            "needs_background": "light"
          }
        }
      ]
    },
    {
      "cell_type": "code",
      "metadata": {
        "id": "ctk8Nt9BLxF5"
      },
      "source": [
        "W_finalll=W.reshape((625,784))"
      ],
      "execution_count": 115,
      "outputs": []
    },
    {
      "cell_type": "code",
      "metadata": {
        "colab": {
          "base_uri": "https://localhost:8080/"
        },
        "id": "4vczUKV3LUwR",
        "outputId": "370b93be-4410-4858-b2d1-be5846602269"
      },
      "source": [
        "cnt"
      ],
      "execution_count": 134,
      "outputs": [
        {
          "output_type": "execute_result",
          "data": {
            "text/plain": [
              "Counter({0: 1,\n",
              "         2: 6,\n",
              "         3: 3,\n",
              "         4: 2,\n",
              "         5: 2,\n",
              "         7: 2,\n",
              "         8: 2,\n",
              "         9: 1,\n",
              "         10: 1,\n",
              "         11: 4,\n",
              "         12: 4,\n",
              "         13: 5,\n",
              "         14: 2,\n",
              "         15: 2,\n",
              "         19: 3,\n",
              "         20: 5,\n",
              "         21: 3,\n",
              "         24: 1,\n",
              "         30: 3,\n",
              "         31: 3,\n",
              "         32: 1,\n",
              "         34: 1,\n",
              "         35: 2,\n",
              "         36: 1,\n",
              "         38: 1,\n",
              "         41: 2,\n",
              "         42: 3,\n",
              "         43: 5,\n",
              "         44: 1,\n",
              "         45: 4,\n",
              "         48: 3,\n",
              "         49: 3,\n",
              "         50: 2,\n",
              "         51: 1,\n",
              "         54: 1,\n",
              "         56: 11,\n",
              "         57: 1,\n",
              "         58: 1,\n",
              "         60: 3,\n",
              "         61: 2,\n",
              "         63: 1,\n",
              "         66: 1,\n",
              "         67: 1,\n",
              "         69: 1,\n",
              "         71: 1,\n",
              "         73: 5,\n",
              "         76: 1,\n",
              "         78: 1,\n",
              "         79: 2,\n",
              "         83: 3,\n",
              "         84: 2,\n",
              "         89: 2,\n",
              "         92: 2,\n",
              "         93: 1,\n",
              "         95: 1,\n",
              "         96: 2,\n",
              "         97: 5,\n",
              "         98: 4,\n",
              "         99: 11,\n",
              "         102: 2,\n",
              "         104: 1,\n",
              "         106: 2,\n",
              "         109: 4,\n",
              "         110: 3,\n",
              "         112: 6,\n",
              "         113: 1,\n",
              "         115: 4,\n",
              "         116: 1,\n",
              "         117: 1,\n",
              "         118: 2,\n",
              "         119: 1,\n",
              "         120: 1,\n",
              "         121: 1,\n",
              "         123: 2,\n",
              "         124: 6,\n",
              "         129: 1,\n",
              "         131: 2,\n",
              "         133: 1,\n",
              "         134: 3,\n",
              "         135: 1,\n",
              "         137: 4,\n",
              "         141: 1,\n",
              "         145: 5,\n",
              "         146: 1,\n",
              "         149: 2,\n",
              "         156: 3,\n",
              "         158: 4,\n",
              "         159: 1,\n",
              "         161: 1,\n",
              "         162: 1,\n",
              "         163: 1,\n",
              "         167: 2,\n",
              "         168: 4,\n",
              "         169: 2,\n",
              "         170: 1,\n",
              "         174: 2,\n",
              "         175: 1,\n",
              "         176: 1,\n",
              "         177: 3,\n",
              "         183: 9,\n",
              "         184: 2,\n",
              "         187: 1,\n",
              "         188: 1,\n",
              "         193: 1,\n",
              "         194: 2,\n",
              "         197: 5,\n",
              "         198: 3,\n",
              "         202: 1,\n",
              "         207: 5,\n",
              "         208: 5,\n",
              "         211: 4,\n",
              "         212: 2,\n",
              "         213: 1,\n",
              "         214: 1,\n",
              "         215: 3,\n",
              "         217: 1,\n",
              "         218: 2,\n",
              "         222: 1,\n",
              "         223: 1,\n",
              "         224: 2,\n",
              "         228: 1,\n",
              "         229: 3,\n",
              "         230: 2,\n",
              "         232: 3,\n",
              "         235: 3,\n",
              "         239: 1,\n",
              "         240: 1,\n",
              "         241: 1,\n",
              "         243: 2,\n",
              "         244: 3,\n",
              "         245: 3,\n",
              "         248: 2,\n",
              "         249: 1,\n",
              "         250: 3,\n",
              "         252: 2,\n",
              "         254: 4,\n",
              "         255: 1,\n",
              "         257: 6,\n",
              "         258: 5,\n",
              "         259: 1,\n",
              "         261: 2,\n",
              "         264: 3,\n",
              "         266: 2,\n",
              "         268: 1,\n",
              "         269: 1,\n",
              "         272: 1,\n",
              "         273: 1,\n",
              "         275: 8,\n",
              "         278: 1,\n",
              "         281: 3,\n",
              "         282: 8,\n",
              "         283: 4,\n",
              "         284: 1,\n",
              "         285: 3,\n",
              "         286: 3,\n",
              "         287: 2,\n",
              "         288: 2,\n",
              "         293: 1,\n",
              "         294: 1,\n",
              "         298: 1,\n",
              "         299: 9,\n",
              "         300: 2,\n",
              "         301: 3,\n",
              "         302: 2,\n",
              "         303: 2,\n",
              "         304: 1,\n",
              "         305: 1,\n",
              "         306: 4,\n",
              "         309: 1,\n",
              "         310: 1,\n",
              "         311: 1,\n",
              "         312: 1,\n",
              "         314: 1,\n",
              "         317: 6,\n",
              "         318: 2,\n",
              "         319: 1,\n",
              "         321: 1,\n",
              "         323: 3,\n",
              "         324: 2,\n",
              "         325: 1,\n",
              "         326: 1,\n",
              "         327: 1,\n",
              "         328: 3,\n",
              "         332: 1,\n",
              "         335: 1,\n",
              "         337: 1,\n",
              "         338: 4,\n",
              "         340: 1,\n",
              "         341: 9,\n",
              "         344: 4,\n",
              "         345: 1,\n",
              "         348: 1,\n",
              "         349: 1,\n",
              "         351: 2,\n",
              "         352: 1,\n",
              "         353: 1,\n",
              "         354: 1,\n",
              "         355: 2,\n",
              "         357: 2,\n",
              "         358: 14,\n",
              "         359: 2,\n",
              "         362: 1,\n",
              "         363: 1,\n",
              "         364: 3,\n",
              "         366: 8,\n",
              "         368: 6,\n",
              "         369: 5,\n",
              "         372: 1,\n",
              "         374: 2,\n",
              "         377: 3,\n",
              "         378: 3,\n",
              "         379: 2,\n",
              "         380: 2,\n",
              "         381: 1,\n",
              "         382: 2,\n",
              "         385: 3,\n",
              "         387: 3,\n",
              "         388: 3,\n",
              "         389: 10,\n",
              "         390: 1,\n",
              "         393: 4,\n",
              "         397: 1,\n",
              "         399: 2,\n",
              "         401: 1,\n",
              "         405: 1,\n",
              "         410: 3,\n",
              "         411: 5,\n",
              "         412: 7,\n",
              "         414: 3,\n",
              "         415: 6,\n",
              "         417: 2,\n",
              "         418: 1,\n",
              "         419: 1,\n",
              "         420: 2,\n",
              "         421: 2,\n",
              "         424: 2,\n",
              "         425: 2,\n",
              "         428: 1,\n",
              "         431: 1,\n",
              "         432: 1,\n",
              "         435: 1,\n",
              "         436: 2,\n",
              "         437: 5,\n",
              "         438: 6,\n",
              "         439: 13,\n",
              "         441: 1,\n",
              "         442: 3,\n",
              "         443: 2,\n",
              "         445: 1,\n",
              "         446: 9,\n",
              "         447: 3,\n",
              "         450: 3,\n",
              "         454: 4,\n",
              "         455: 2,\n",
              "         456: 2,\n",
              "         457: 1,\n",
              "         460: 3,\n",
              "         461: 7,\n",
              "         462: 4,\n",
              "         463: 5,\n",
              "         464: 1,\n",
              "         465: 2,\n",
              "         466: 3,\n",
              "         467: 2,\n",
              "         469: 4,\n",
              "         471: 3,\n",
              "         472: 3,\n",
              "         474: 1,\n",
              "         475: 2,\n",
              "         476: 3,\n",
              "         477: 2,\n",
              "         483: 1,\n",
              "         485: 4,\n",
              "         486: 6,\n",
              "         487: 1,\n",
              "         488: 2,\n",
              "         489: 2,\n",
              "         490: 2,\n",
              "         491: 2,\n",
              "         492: 1,\n",
              "         494: 1,\n",
              "         496: 2,\n",
              "         500: 1,\n",
              "         502: 2,\n",
              "         503: 4,\n",
              "         504: 1,\n",
              "         506: 1,\n",
              "         508: 1,\n",
              "         509: 3,\n",
              "         510: 10,\n",
              "         513: 1,\n",
              "         514: 4,\n",
              "         515: 5,\n",
              "         516: 4,\n",
              "         517: 5,\n",
              "         518: 4,\n",
              "         520: 5,\n",
              "         521: 2,\n",
              "         522: 7,\n",
              "         523: 2,\n",
              "         525: 2,\n",
              "         526: 2,\n",
              "         527: 1,\n",
              "         528: 2,\n",
              "         529: 2,\n",
              "         532: 1,\n",
              "         534: 5,\n",
              "         535: 2,\n",
              "         536: 5,\n",
              "         537: 4,\n",
              "         538: 4,\n",
              "         539: 4,\n",
              "         541: 3,\n",
              "         543: 12,\n",
              "         547: 4,\n",
              "         548: 1,\n",
              "         549: 2,\n",
              "         550: 3,\n",
              "         551: 2,\n",
              "         552: 2,\n",
              "         555: 1,\n",
              "         556: 1,\n",
              "         557: 7,\n",
              "         558: 3,\n",
              "         559: 7,\n",
              "         561: 4,\n",
              "         562: 2,\n",
              "         563: 2,\n",
              "         564: 1,\n",
              "         565: 2,\n",
              "         566: 3,\n",
              "         567: 2,\n",
              "         568: 6,\n",
              "         570: 1,\n",
              "         572: 7,\n",
              "         573: 1,\n",
              "         578: 1,\n",
              "         579: 1,\n",
              "         581: 1,\n",
              "         582: 1,\n",
              "         584: 5,\n",
              "         585: 2,\n",
              "         586: 4,\n",
              "         590: 1,\n",
              "         592: 2,\n",
              "         594: 2,\n",
              "         595: 1,\n",
              "         596: 1,\n",
              "         597: 3,\n",
              "         598: 5,\n",
              "         599: 2,\n",
              "         601: 2,\n",
              "         602: 1,\n",
              "         603: 3,\n",
              "         604: 2,\n",
              "         605: 5,\n",
              "         606: 2,\n",
              "         607: 2,\n",
              "         608: 1,\n",
              "         609: 5,\n",
              "         610: 10,\n",
              "         612: 1,\n",
              "         613: 4,\n",
              "         614: 4,\n",
              "         616: 8,\n",
              "         617: 1,\n",
              "         618: 4,\n",
              "         619: 10,\n",
              "         620: 2,\n",
              "         621: 1,\n",
              "         623: 1,\n",
              "         624: 3})"
            ]
          },
          "metadata": {
            "tags": []
          },
          "execution_count": 134
        }
      ]
    },
    {
      "cell_type": "code",
      "metadata": {
        "colab": {
          "base_uri": "https://localhost:8080/",
          "height": 281
        },
        "id": "M5aslRXzRilb",
        "outputId": "cf1a4c88-9af7-453b-d3f9-d23bc6236e16"
      },
      "source": [
        "listk=[56,99,299,389,510,619]\n",
        "fig, axs = plt.subplots(2, 2)\n",
        "for ax in axs.flat:\n",
        "    ax.set(xlabel='x-label', ylabel='y-label')\n",
        "\n",
        "axs[0, 0].imshow(W_finalll[listk[0],:].reshape((28,28)),cmap='Greys')\n",
        "# axs[0, 0].set_title('Axis [0, 0]')\n",
        "axs[0, 1].imshow(W_finalll[listk[1],:].reshape((28,28)),cmap='Greys')\n",
        "# axs[0, 1].set_title('Axis [0, 1]')\n",
        "axs[1, 0].imshow(W_finalll[listk[2],:].reshape((28,28)),cmap='Greys')\n",
        "# axs[1, 0].set_title('Axis [1, 0]')\n",
        "axs[1, 1].imshow(W_finalll[listk[3],:].reshape((28,28)),cmap='Greys')\n",
        "# axs[1, 1].set_title('Axis [1, 1]')\n",
        "\n",
        "# Hide x labels and tick labels for top plots and y ticks for right plots.\n",
        "for ax in axs.flat:\n",
        "    ax.label_outer()"
      ],
      "execution_count": 131,
      "outputs": [
        {
          "output_type": "display_data",
          "data": {
            "image/png": "[encoded data removed]",
            "text/plain": [
              "<Figure size 432x288 with 4 Axes>"
            ]
          },
          "metadata": {
            "tags": [],
            "needs_background": "light"
          }
        }
      ]
    }
  ]
}