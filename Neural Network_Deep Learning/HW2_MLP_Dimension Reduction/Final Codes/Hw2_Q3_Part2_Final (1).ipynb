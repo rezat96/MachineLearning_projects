{
  "nbformat": 4,
  "nbformat_minor": 0,
  "metadata": {
    "colab": {
      "name": "Hw2_Q3_Part2_Final.ipynb",
      "provenance": [],
      "collapsed_sections": []
    },
    "kernelspec": {
      "name": "python3",
      "display_name": "Python 3"
    },
    "language_info": {
      "name": "python"
    }
  },
  "cells": [
    {
      "cell_type": "code",
      "metadata": {
        "id": "DZRVVEAEu7q6"
      },
      "source": [
        "# Python ≥3.5 is required\n",
        "import sys\n",
        "assert sys.version_info >= (3, 5)\n",
        " \n",
        "# Scikit-Learn ≥0.20 is required\n",
        "import sklearn\n",
        "assert sklearn.__version__ >= \"0.20\"\n",
        "from keras.models import Sequential\n",
        "from keras.layers import Dense\n",
        "# from keras.wrappers.scikit_learn import KerasClassifier\n",
        "# from sklearn.model_selection import cross_val_score\n",
        "# from sklearn.preprocessing import LabelEncoder\n",
        "# from sklearn.model_selection import StratifiedKFold\n",
        "# from sklearn.preprocessing import StandardScaler\n",
        "# from sklearn.pipeline import Pipeline\n",
        "from sklearn.preprocessing import LabelEncoder\n",
        "from sklearn.model_selection import train_test_split\n",
        "from sklearn.preprocessing import MinMaxScaler\n",
        "# Common imports\n",
        "import numpy as np\n",
        "import pandas as pd\n",
        "import os\n",
        "import time \n",
        "# to make this notebook's output stable across runs\n",
        "np.random.seed(42)\n",
        " \n",
        "# To plot pretty figures\n",
        "%matplotlib inline\n",
        "import matplotlib as mpl\n",
        "import matplotlib.pyplot as plt\n",
        "mpl.rc('axes', labelsize=14)\n",
        "mpl.rc('xtick', labelsize=12)\n",
        "mpl.rc('ytick', labelsize=12)"
      ],
      "execution_count": null,
      "outputs": []
    },
    {
      "cell_type": "code",
      "metadata": {
        "id": "GoNupIDpvYBN"
      },
      "source": [
        "#Reading The Data File\n",
        "PATH_TO_DATA ='/content/drive/MyDrive/Colab Notebooks/sonar.all-data'\n",
        "df = pd.read_csv(PATH_TO_DATA,header=None)\n",
        "Data=df.values\n",
        "n=Data.shape[1]\n",
        "# split into input (X) and output (Y) variables\n",
        "#X = Data[:,0:60].astype(float)\n",
        "X = Data[:,:n-1]\n",
        "Y = Data[:,-1]\n",
        "# encode class values as integers\n",
        "encoder = LabelEncoder()\n",
        "encoder.fit(Y)\n",
        "encoded_Y = encoder.transform(Y).astype(float)\n",
        "XScaler = MinMaxScaler().fit(X);\n",
        "X_new1  = XScaler.transform(X)"
      ],
      "execution_count": null,
      "outputs": []
    },
    {
      "cell_type": "code",
      "metadata": {
        "id": "NYo9EnVfx72S",
        "colab": {
          "base_uri": "https://localhost:8080/"
        },
        "outputId": "5d41527a-fa1b-4f2f-8f72-c822476a576d"
      },
      "source": [
        "from sklearn.decomposition import PCA\n",
        "imput_numb=30   #This should be set\n",
        "start1=time.time()\n",
        "pca = PCA(n_components=imput_numb)\n",
        "X_new=pca.fit_transform(X_new1)\n",
        "end1=time.time()\n",
        "PCA_time=end1-start1\n",
        "print(\"PCA Time is :\",PCA_time,'seconds')"
      ],
      "execution_count": null,
      "outputs": [
        {
          "output_type": "stream",
          "text": [
            "PCA Time is : 0.01316070556640625 seconds\n"
          ],
          "name": "stdout"
        }
      ]
    },
    {
      "cell_type": "markdown",
      "metadata": {
        "id": "-WEgvZgJ2iC3"
      },
      "source": [
        "# Evaluating"
      ]
    },
    {
      "cell_type": "code",
      "metadata": {
        "id": "BLPSejsASZxW"
      },
      "source": [
        "from sklearn import preprocessing\n",
        " #returns a numpy array\n",
        "min_max_scaler = preprocessing.MinMaxScaler()\n",
        "x_scaled = min_max_scaler.fit_transform(X_new1)\n",
        "df = pd.DataFrame(x_scaled)\n",
        "Data1=df.values\n",
        "# split into input (X) and output (Y) variables\n",
        "X1 = Data1[:,:60]\n",
        "y = encoded_Y.copy().reshape(-1,1)"
      ],
      "execution_count": null,
      "outputs": []
    },
    {
      "cell_type": "code",
      "metadata": {
        "colab": {
          "base_uri": "https://localhost:8080/",
          "height": 433
        },
        "id": "PmRwUdk3Soo9",
        "outputId": "6da932ae-6325-486b-9240-d7ab4a61f6c0"
      },
      "source": [
        "from sklearn.model_selection import KFold\n",
        "from tensorflow.keras.models import Sequential\n",
        "from tensorflow.keras.layers import Dense, Activation\n",
        "\n",
        "X, X_test, y, y_test = train_test_split(X1, y, test_size=0.25, random_state=42) # first split Test and train 20% test\n",
        "\n",
        "start2=time.time()\n",
        "# Cross-Validate\n",
        "kf = KFold(5, shuffle=True, random_state=42) # Use for KFold classification\n",
        "    \n",
        "# oos_y = []\n",
        "# oos_pred = []\n",
        "\n",
        "fold = 0\n",
        "for train, val in kf.split(X):\n",
        "    fold+=1\n",
        "    print(f\"Fold #{fold}\")\n",
        "        \n",
        "    x_train = X[train]\n",
        "    y_train = y[train]\n",
        "    x_val = X[val]\n",
        "    y_val = y[val]\n",
        "\n",
        "    # #tanh\n",
        "    # model = Sequential()\n",
        "    # model.add(Dense(20, activation='relu', input_shape=(60,)))\t#Hidden Layer 1\n",
        "    # model.add(Dense(512, activation='relu'))\t#Hidden Layer 2\n",
        "    # model.add(Dense(256, activation='relu'))\t#Hidden Layer 3\n",
        "    # model.add(Dense(1, activation='sigmoid')) #Last layer with one output per class\n",
        "    # model.summary()\n",
        "\n",
        "\n",
        "    \n",
        "    model = Sequential()\n",
        "    model.add(Dense(20, activation='relu', input_shape=(60,)))\t#Hidden Layer 1\n",
        "    model.add(Dense(256, activation='relu'))\t#Hidden Layer 2\n",
        "    model.add(Dense(1, activation='sigmoid')) #Last layer with one output per class\n",
        "    # # model.summary()\n",
        " \n",
        "    # model = Sequential()\n",
        "    # model.add(Dense(100, activation='relu', input_shape=(60,)))\t#Hidden Layer 1\n",
        "    # model.add(Dense(1024, activation='relu'))\t#Hidden Layer 2\n",
        "    # model.add(Dense(1, activation='sigmoid')) #Last layer with one output per class\n",
        "\n",
        "    opt='adam'\n",
        "    model.compile(loss='binary_crossentropy', optimizer=opt, metrics=['accuracy']) \n",
        "\n",
        "    history=model.fit(x_train,y_train,validation_data=(x_val,y_val),verbose=0 ,epochs=30,batch_size=32)  #32 64 128\n",
        "\n",
        "end2=time.time()\n",
        "training_time1=end2-start2\n",
        "print(\"training Time is :\",training_time1,'seconds')\n",
        "# Plotting Metrics\n",
        "# Plot the Accuracy Curves\n",
        "plt.figure(figsize=(16, 10))\n",
        "plt.subplot(231)\n",
        "plt.plot(history.history['accuracy'],'r')\n",
        "plt.plot(history.history['val_accuracy'],'b')\n",
        "plt.title('model accuracy')\n",
        "plt.ylabel('accuracy')\n",
        "plt.xlabel('epoch')\n",
        "plt.legend(['train', 'validation'], loc='lower right')\n",
        "plt.grid()\n",
        "\n",
        "# Plot the Loss Curves\n",
        "plt.subplot(232)\n",
        "plt.plot(history.history['loss'],'r')\n",
        "plt.plot(history.history['val_loss'],'b')\n",
        "plt.title('model loss')\n",
        "plt.ylabel('loss')\n",
        "plt.xlabel('epoch')\n",
        "plt.legend(['train', 'validation'], loc='upper right')\n",
        "plt.grid()"
      ],
      "execution_count": null,
      "outputs": [
        {
          "output_type": "stream",
          "text": [
            "Fold #1\n",
            "Fold #2\n",
            "Fold #3\n",
            "Fold #4\n",
            "Fold #5\n",
            "training Time is : 11.925499677658081 seconds\n"
          ],
          "name": "stdout"
        },
        {
          "output_type": "display_data",
          "data": {
            "image/png": "[encoded data removed]",
            "text/plain": [
              "<Figure size 1152x720 with 2 Axes>"
            ]
          },
          "metadata": {
            "tags": [],
            "needs_background": "light"
          }
        }
      ]
    },
    {
      "cell_type": "code",
      "metadata": {
        "colab": {
          "base_uri": "https://localhost:8080/",
          "height": 620
        },
        "id": "J27xz9Gk3cMA",
        "outputId": "59d7c1e6-6152-4d23-f813-419a59774fb4"
      },
      "source": [
        "# Prediction Labels\n",
        "Y_pred = model.predict(X_test)\n",
        "\n",
        "\n",
        "#Initial a threshhold for last layer\n",
        "y_pred=np.zeros(len(Y_pred))\n",
        "for i in range(len(y_pred)):\n",
        "  if Y_pred[i]>0.5:\n",
        "    y_pred[i]=1\n",
        "  else:\n",
        "    y_pred[i]=0\n",
        "\n",
        "\n",
        "# Evaluate the trained model\n",
        "[test_loss, test_acc] = model.evaluate(X_test, y_test)\n",
        "print(\"Test Loss\", test_loss)\n",
        "print(\"Test Accuracy\", test_acc)\n",
        "\n",
        "# correct_indices = np.nonzero(y_pred == y_test)[0]\n",
        "# incorrect_indices = np.nonzero(y_pred != y_test)[0]\n",
        "\n",
        "# print(\" classified correctly\", len(correct_indices))\n",
        "# print(\" classified incorrectly\", len(incorrect_indices))\n",
        "\n",
        "from sklearn.metrics import confusion_matrix , classification_report\n",
        "# Confusion Matrix\n",
        "class_names=[0,1]\n",
        "confusion_mtx = confusion_matrix(y_test, y_pred)\n",
        "print(\"confusion matrix=\\n\",confusion_mtx)\n",
        "\n",
        "import itertools\n",
        "def plot_confusion_matrix(cm, classes,\n",
        "                          normalize=False,\n",
        "                          title='Confusion matrix',\n",
        "                          cmap=plt.cm.Blues):\n",
        "    \"\"\"\n",
        "    This function prints and plots the confusion matrix.\n",
        "    Normalization can be applied by setting `normalize=True`.\n",
        "    \"\"\"\n",
        "    plt.figure(figsize = (5,5))\n",
        "    plt.imshow(cm, interpolation='nearest', cmap=cmap)\n",
        "    plt.title(title)\n",
        "    plt.colorbar()\n",
        "    tick_marks = np.arange(len(classes))\n",
        "    plt.xticks(tick_marks, classes)\n",
        "    plt.yticks(tick_marks, classes)\n",
        "    if normalize:\n",
        "        cm = cm.astype('float') / cm.sum(axis=1)[:, np.newaxis]\n",
        "\n",
        "    thresh = cm.max() / 2.\n",
        "    for i, j in itertools.product(range(cm.shape[0]), range(cm.shape[1])):\n",
        "        plt.text(j, i, cm[i, j],\n",
        "                 horizontalalignment=\"center\",\n",
        "                 color=\"white\" if cm[i, j] > thresh else \"black\")\n",
        "    plt.tight_layout()\n",
        "    plt.ylabel('True label')\n",
        "    plt.xlabel('Predicted label')\n",
        "    \n",
        "plot_confusion_matrix(confusion_mtx, class_names)    \n",
        "\n",
        "print(classification_report(y_test,y_pred))"
      ],
      "execution_count": null,
      "outputs": [
        {
          "output_type": "stream",
          "text": [
            "2/2 [==============================] - 0s 7ms/step - loss: 0.3427 - accuracy: 0.8462\n",
            "Test Loss 0.3427179455757141\n",
            "Test Accuracy 0.8461538553237915\n",
            "confusion matrix=\n",
            " [[24  6]\n",
            " [ 2 20]]\n",
            "              precision    recall  f1-score   support\n",
            "\n",
            "         0.0       0.92      0.80      0.86        30\n",
            "         1.0       0.77      0.91      0.83        22\n",
            "\n",
            "    accuracy                           0.85        52\n",
            "   macro avg       0.85      0.85      0.85        52\n",
            "weighted avg       0.86      0.85      0.85        52\n",
            "\n"
          ],
          "name": "stdout"
        },
        {
          "output_type": "display_data",
          "data": {
            "image/png": "[encoded data removed]",
            "text/plain": [
              "<Figure size 360x360 with 2 Axes>"
            ]
          },
          "metadata": {
            "tags": [],
            "needs_background": "light"
          }
        }
      ]
    },
    {
      "cell_type": "markdown",
      "metadata": {
        "id": "NLdQQ0g6-Wdq"
      },
      "source": [
        "# Auto Encoder"
      ]
    },
    {
      "cell_type": "code",
      "metadata": {
        "colab": {
          "base_uri": "https://localhost:8080/"
        },
        "id": "qW59_eXb-SvD",
        "outputId": "a1e44072-745e-4f84-8c89-a01d9e950ce3"
      },
      "source": [
        "X_train, X_test, y_train, y_test = train_test_split(X_new1, encoded_Y, test_size=0.2, random_state=42)\n",
        "X_train, X_val, y_train, y_val = train_test_split(X_train, y_train, test_size=0.2, random_state=42)\n",
        "#Normalising The data\n",
        "xScaler = MinMaxScaler().fit(X_train);\n",
        "yScaler = MinMaxScaler().fit(y_train.reshape(-1, 1));\n",
        "X_train = xScaler.transform(X_train)\n",
        "X_test  = xScaler.transform(X_test)\n",
        "X_val  = xScaler.transform(X_val)\n",
        "y_train=y_train.reshape(-1,1)\n",
        "y_test=y_test.reshape(-1,1)\n",
        "# y_val=y_val.reshape(-1,1)\n",
        "\n",
        "import keras\n",
        "from keras import layers\n",
        "\n",
        "encoding_dim = imput_numb      # 32 floats -> compression of factor 24.5, assuming the input is 784 floats\n",
        "\n",
        "# This is our input image\n",
        "encoder_input = keras.Input(shape=(60,))\n",
        "# \"encoded\" is the encoded representation of the input\n",
        "encoded = layers.Dense(50, activation='relu')(encoder_input)\n",
        "#Add a second hiden layer\n",
        "encoded = layers.Dense(encoding_dim, activation='relu')(encoded)\n",
        "# \"decoded\" is the lossy reconstruction of the input\n",
        "decoded = layers.Dense(60, activation='sigmoid')(encoded)\n",
        "\n",
        "# This model maps an input to its reconstruction\n",
        "autoencoder = keras.Model(encoder_input, decoded)\n",
        "encoder = keras.Model(encoder_input, encoded)\n",
        "\n",
        "# This is our encoded (32-dimensional) input\n",
        "encoded_input = keras.Input(shape=(encoding_dim,))\n",
        "# Retrieve the last layer of the autoencoder model\n",
        "decoder_layer = autoencoder.layers[-1]\n",
        "# Create the decoder model\n",
        "decoder = keras.Model(encoded_input, decoder_layer(encoded_input))\n",
        "\n",
        "autoencoder.compile(optimizer='adam', loss='binary_crossentropy',metrics=['accuracy'])\n",
        "#Trainig Time\n",
        "start3=time.time()\n",
        "autoencoder.fit(X_train, X_train,\n",
        "                epochs=25,\n",
        "                batch_size=50,\n",
        "                validation_data=(X_val, X_val))\n",
        "end3=time.time()\n",
        "Encoding_time=end3-start3\n",
        "print(\"Encoder Time is :\",Encoding_time,'seconds')"
      ],
      "execution_count": null,
      "outputs": [
        {
          "output_type": "stream",
          "text": [
            "Epoch 1/25\n",
            "3/3 [==============================] - 1s 109ms/step - loss: 0.6921 - accuracy: 0.0452 - val_loss: 0.6882 - val_accuracy: 0.0588\n",
            "Epoch 2/25\n",
            "3/3 [==============================] - 0s 31ms/step - loss: 0.6859 - accuracy: 0.0427 - val_loss: 0.6834 - val_accuracy: 0.0588\n",
            "Epoch 3/25\n",
            "3/3 [==============================] - 0s 30ms/step - loss: 0.6798 - accuracy: 0.0502 - val_loss: 0.6792 - val_accuracy: 0.0588\n",
            "Epoch 4/25\n",
            "3/3 [==============================] - 0s 30ms/step - loss: 0.6752 - accuracy: 0.0402 - val_loss: 0.6748 - val_accuracy: 0.0588\n",
            "Epoch 5/25\n",
            "3/3 [==============================] - 0s 29ms/step - loss: 0.6696 - accuracy: 0.0452 - val_loss: 0.6701 - val_accuracy: 0.0588\n",
            "Epoch 6/25\n",
            "3/3 [==============================] - 0s 29ms/step - loss: 0.6649 - accuracy: 0.0402 - val_loss: 0.6651 - val_accuracy: 0.0588\n",
            "Epoch 7/25\n",
            "3/3 [==============================] - 0s 31ms/step - loss: 0.6588 - accuracy: 0.0427 - val_loss: 0.6601 - val_accuracy: 0.0294\n",
            "Epoch 8/25\n",
            "3/3 [==============================] - 0s 29ms/step - loss: 0.6530 - accuracy: 0.0452 - val_loss: 0.6550 - val_accuracy: 0.0294\n",
            "Epoch 9/25\n",
            "3/3 [==============================] - 0s 31ms/step - loss: 0.6454 - accuracy: 0.0540 - val_loss: 0.6503 - val_accuracy: 0.0294\n",
            "Epoch 10/25\n",
            "3/3 [==============================] - 0s 35ms/step - loss: 0.6403 - accuracy: 0.0490 - val_loss: 0.6457 - val_accuracy: 0.0294\n",
            "Epoch 11/25\n",
            "3/3 [==============================] - 0s 30ms/step - loss: 0.6323 - accuracy: 0.0516 - val_loss: 0.6412 - val_accuracy: 0.0294\n",
            "Epoch 12/25\n",
            "3/3 [==============================] - 0s 34ms/step - loss: 0.6288 - accuracy: 0.0817 - val_loss: 0.6362 - val_accuracy: 0.0294\n",
            "Epoch 13/25\n",
            "3/3 [==============================] - 0s 28ms/step - loss: 0.6224 - accuracy: 0.0905 - val_loss: 0.6311 - val_accuracy: 0.0294\n",
            "Epoch 14/25\n",
            "3/3 [==============================] - 0s 32ms/step - loss: 0.6162 - accuracy: 0.0980 - val_loss: 0.6258 - val_accuracy: 0.0294\n",
            "Epoch 15/25\n",
            "3/3 [==============================] - 0s 28ms/step - loss: 0.6122 - accuracy: 0.0591 - val_loss: 0.6208 - val_accuracy: 0.0588\n",
            "Epoch 16/25\n",
            "3/3 [==============================] - 0s 28ms/step - loss: 0.6077 - accuracy: 0.0741 - val_loss: 0.6163 - val_accuracy: 0.0882\n",
            "Epoch 17/25\n",
            "3/3 [==============================] - 0s 28ms/step - loss: 0.6052 - accuracy: 0.0892 - val_loss: 0.6122 - val_accuracy: 0.1471\n",
            "Epoch 18/25\n",
            "3/3 [==============================] - 0s 32ms/step - loss: 0.6028 - accuracy: 0.1030 - val_loss: 0.6084 - val_accuracy: 0.1765\n",
            "Epoch 19/25\n",
            "3/3 [==============================] - 0s 31ms/step - loss: 0.6010 - accuracy: 0.0993 - val_loss: 0.6048 - val_accuracy: 0.1765\n",
            "Epoch 20/25\n",
            "3/3 [==============================] - 0s 30ms/step - loss: 0.5945 - accuracy: 0.1294 - val_loss: 0.6015 - val_accuracy: 0.1176\n",
            "Epoch 21/25\n",
            "3/3 [==============================] - 0s 31ms/step - loss: 0.5944 - accuracy: 0.1055 - val_loss: 0.5982 - val_accuracy: 0.1176\n",
            "Epoch 22/25\n",
            "3/3 [==============================] - 0s 29ms/step - loss: 0.5910 - accuracy: 0.0930 - val_loss: 0.5952 - val_accuracy: 0.1471\n",
            "Epoch 23/25\n",
            "3/3 [==============================] - 0s 34ms/step - loss: 0.5922 - accuracy: 0.1081 - val_loss: 0.5923 - val_accuracy: 0.1471\n",
            "Epoch 24/25\n",
            "3/3 [==============================] - 0s 35ms/step - loss: 0.5849 - accuracy: 0.1683 - val_loss: 0.5896 - val_accuracy: 0.1176\n",
            "Epoch 25/25\n",
            "3/3 [==============================] - 0s 32ms/step - loss: 0.5802 - accuracy: 0.1558 - val_loss: 0.5872 - val_accuracy: 0.0882\n",
            "Encoder Time is : 2.4604310989379883 seconds\n"
          ],
          "name": "stdout"
        }
      ]
    },
    {
      "cell_type": "code",
      "metadata": {
        "id": "nGGFsscwP6as"
      },
      "source": [
        "X_test = encoder.predict(X_test)\n",
        "X_train = encoder.predict(X_train)\n",
        "X1=np.concatenate((X_train.T,X_test.T), axis=1).T"
      ],
      "execution_count": null,
      "outputs": []
    },
    {
      "cell_type": "code",
      "metadata": {
        "id": "0kGQeSX6e7VI"
      },
      "source": [
        "# from sklearn.model_selection import KFold\n",
        "# from tensorflow.keras.models import Sequential\n",
        "# from tensorflow.keras.layers import Dense, Activation\n",
        "\n",
        "# X, X_test, y, y_test = train_test_split(X1, encoded_Y, test_size=0.25, random_state=42) # first split Test and train 25% test\n",
        "\n",
        "# start4=time.time()\n",
        "# # Cross-Validate\n",
        "# kf = KFold(5, shuffle=True, random_state=42) # Use for KFold classification\n",
        "    \n",
        "# # oos_y = []\n",
        "# # oos_pred = []\n",
        "\n",
        "# fold = 0\n",
        "# for train, val in kf.split(X):\n",
        "#     fold+=1\n",
        "#     print(f\"Fold #{fold}\")\n",
        "        \n",
        "#     x_train = X[train]\n",
        "#     y_train = y[train]\n",
        "#     x_val = X[val]\n",
        "#     y_val = y[val]\n",
        "\n",
        "\n",
        "    \n",
        "#     model = Sequential()\n",
        "#     model.add(Dense(20, activation='relu', input_shape=(30,)))\t#Hidden Layer 1\n",
        "#     model.add(Dense(256, activation='relu'))\t#Hidden Layer 2\n",
        "#     model.add(Dense(1, activation='sigmoid')) #Last layer with one output per class\n",
        "#     # # model.summary()\n",
        " \n",
        "\n",
        "#     opt='adam'\n",
        "#     model.compile(loss='binary_crossentropy', optimizer=opt, metrics=['accuracy']) \n",
        "\n",
        "#     history=model.fit(x_train,y_train,validation_data=(x_val,y_val),verbose=0 ,epochs=30,batch_size=32)  #32 64 128\n",
        "\n",
        "# end4=time.time()\n",
        "# training_time2=end4-start4\n",
        "# print(\"training Time is :\",training_time2,'seconds')\n",
        "# # Plotting Metrics\n",
        "# # Plot the Accuracy Curves\n",
        "# plt.figure(figsize=(16, 10))\n",
        "# plt.subplot(231)\n",
        "# plt.plot(history.history['accuracy'],'r')\n",
        "# plt.plot(history.history['val_accuracy'],'b')\n",
        "# plt.title('model accuracy')\n",
        "# plt.ylabel('accuracy')\n",
        "# plt.xlabel('epoch')\n",
        "# plt.legend(['train', 'validation'], loc='lower right')\n",
        "# plt.grid()\n",
        "\n",
        "# # Plot the Loss Curves\n",
        "# plt.subplot(232)\n",
        "# plt.plot(history.history['loss'],'r')\n",
        "# plt.plot(history.history['val_loss'],'b')\n",
        "# plt.title('model loss')\n",
        "# plt.ylabel('loss')\n",
        "# plt.xlabel('epoch')\n",
        "# plt.legend(['train', 'validation'], loc='upper right')\n",
        "# plt.grid()"
      ],
      "execution_count": null,
      "outputs": []
    },
    {
      "cell_type": "code",
      "metadata": {
        "colab": {
          "base_uri": "https://localhost:8080/"
        },
        "id": "sMAOlGiNWSMB",
        "outputId": "cfc49af0-170f-4e0e-c261-a43b4980a0c7"
      },
      "source": [
        "from keras.models import Sequential\n",
        "from keras.utils import np_utils\n",
        "from keras.layers.core import Dense\n",
        "\n",
        "model1 = Sequential()\n",
        "model1.add(Dense(imput_numb, activation='relu', input_shape=(imput_numb,)))\t#Hidden Layer 1\n",
        "model1.add(Dense(256, activation='relu'))\t#Hidden Layer 2\n",
        "model1.add(Dense(1, activation='sigmoid')) #Last layer with one output per class\n",
        "model1.summary()\n",
        "\n",
        "\n",
        "# Configure the Network\n",
        "model1.compile(loss='binary_crossentropy', optimizer='adam', metrics=['accuracy'])\n"
      ],
      "execution_count": null,
      "outputs": [
        {
          "output_type": "stream",
          "text": [
            "Model: \"sequential_66\"\n",
            "_________________________________________________________________\n",
            "Layer (type)                 Output Shape              Param #   \n",
            "=================================================================\n",
            "dense_231 (Dense)            (None, 30)                930       \n",
            "_________________________________________________________________\n",
            "dense_232 (Dense)            (None, 256)               7936      \n",
            "_________________________________________________________________\n",
            "dense_233 (Dense)            (None, 1)                 257       \n",
            "=================================================================\n",
            "Total params: 9,123\n",
            "Trainable params: 9,123\n",
            "Non-trainable params: 0\n",
            "_________________________________________________________________\n"
          ],
          "name": "stdout"
        }
      ]
    },
    {
      "cell_type": "code",
      "metadata": {
        "colab": {
          "base_uri": "https://localhost:8080/",
          "height": 774
        },
        "id": "ghCo5FMfVZ-x",
        "outputId": "b2770fc3-87df-4088-8f07-46e88ab810aa"
      },
      "source": [
        "start4=time.time()\n",
        "history = model1.fit(X_train, y_train, validation_data=(X_val,y_val) ,epochs=30, batch_size=32)\n",
        "end4=time.time()\n",
        "training_time2=end4-start4\n",
        "print(\"training Time is :\",training_time2,'seconds')\n",
        "\n",
        "test_loss, test_acc = model1.evaluate(X_test, y_test)\n",
        "print('Test accuracy:', test_acc)\n",
        "# Plotting Metrics\n",
        "# Plot the Accuracy Curves\n",
        "plt.figure(figsize=(16, 10))\n",
        "plt.subplot(231)\n",
        "plt.plot(history.history['accuracy'],'r')\n",
        "plt.plot(history.history['val_accuracy'],'b')\n",
        "plt.title('model accuracy')\n",
        "plt.ylabel('accuracy')\n",
        "plt.xlabel('epoch')\n",
        "plt.legend(['train', 'validation'], loc='lower right')\n",
        "plt.grid()\n",
        "\n",
        "# Plot the Loss Curves\n",
        "plt.subplot(232)\n",
        "plt.plot(history.history['loss'],'r')\n",
        "plt.plot(history.history['val_loss'],'b')\n",
        "plt.title('model loss')\n",
        "plt.ylabel('loss')\n",
        "plt.xlabel('epoch')\n",
        "plt.legend(['train', 'validation'], loc='upper right')\n",
        "plt.grid()"
      ],
      "execution_count": null,
      "outputs": [
        {
          "output_type": "stream",
          "text": [
            "Epoch 1/30\n",
            "1/5 [=====>........................] - ETA: 1s - loss: 0.7097 - accuracy: 0.5625"
          ],
          "name": "stdout"
        },
        {
          "output_type": "error",
          "ename": "ValueError",
          "evalue": "ignored",
          "traceback": [
            "\u001b[0;31m---------------------------------------------------------------------------\u001b[0m",
            "\u001b[0;31mValueError\u001b[0m                                Traceback (most recent call last)",
            "\u001b[0;32m<ipython-input-131-be3f179e46c9>\u001b[0m in \u001b[0;36m<module>\u001b[0;34m()\u001b[0m\n\u001b[1;32m      1\u001b[0m \u001b[0mstart4\u001b[0m\u001b[0;34m=\u001b[0m\u001b[0mtime\u001b[0m\u001b[0;34m.\u001b[0m\u001b[0mtime\u001b[0m\u001b[0;34m(\u001b[0m\u001b[0;34m)\u001b[0m\u001b[0;34m\u001b[0m\u001b[0;34m\u001b[0m\u001b[0m\n\u001b[0;32m----> 2\u001b[0;31m \u001b[0mhistory\u001b[0m \u001b[0;34m=\u001b[0m \u001b[0mmodel1\u001b[0m\u001b[0;34m.\u001b[0m\u001b[0mfit\u001b[0m\u001b[0;34m(\u001b[0m\u001b[0mX_train\u001b[0m\u001b[0;34m,\u001b[0m \u001b[0my_train\u001b[0m\u001b[0;34m,\u001b[0m \u001b[0mvalidation_data\u001b[0m\u001b[0;34m=\u001b[0m\u001b[0;34m(\u001b[0m\u001b[0mX_val\u001b[0m\u001b[0;34m,\u001b[0m\u001b[0my_val\u001b[0m\u001b[0;34m)\u001b[0m \u001b[0;34m,\u001b[0m\u001b[0mepochs\u001b[0m\u001b[0;34m=\u001b[0m\u001b[0;36m30\u001b[0m\u001b[0;34m,\u001b[0m \u001b[0mbatch_size\u001b[0m\u001b[0;34m=\u001b[0m\u001b[0;36m32\u001b[0m\u001b[0;34m)\u001b[0m\u001b[0;34m\u001b[0m\u001b[0;34m\u001b[0m\u001b[0m\n\u001b[0m\u001b[1;32m      3\u001b[0m \u001b[0mend4\u001b[0m\u001b[0;34m=\u001b[0m\u001b[0mtime\u001b[0m\u001b[0;34m.\u001b[0m\u001b[0mtime\u001b[0m\u001b[0;34m(\u001b[0m\u001b[0;34m)\u001b[0m\u001b[0;34m\u001b[0m\u001b[0;34m\u001b[0m\u001b[0m\n\u001b[1;32m      4\u001b[0m \u001b[0mtraining_time2\u001b[0m\u001b[0;34m=\u001b[0m\u001b[0mend4\u001b[0m\u001b[0;34m-\u001b[0m\u001b[0mstart4\u001b[0m\u001b[0;34m\u001b[0m\u001b[0;34m\u001b[0m\u001b[0m\n\u001b[1;32m      5\u001b[0m \u001b[0mprint\u001b[0m\u001b[0;34m(\u001b[0m\u001b[0;34m\"training Time is :\"\u001b[0m\u001b[0;34m,\u001b[0m\u001b[0mtraining_time2\u001b[0m\u001b[0;34m,\u001b[0m\u001b[0;34m'seconds'\u001b[0m\u001b[0;34m)\u001b[0m\u001b[0;34m\u001b[0m\u001b[0;34m\u001b[0m\u001b[0m\n",
            "\u001b[0;32m/usr/local/lib/python3.7/dist-packages/tensorflow/python/keras/engine/training.py\u001b[0m in \u001b[0;36mfit\u001b[0;34m(self, x, y, batch_size, epochs, verbose, callbacks, validation_split, validation_data, shuffle, class_weight, sample_weight, initial_epoch, steps_per_epoch, validation_steps, validation_batch_size, validation_freq, max_queue_size, workers, use_multiprocessing)\u001b[0m\n\u001b[1;32m   1139\u001b[0m               \u001b[0mworkers\u001b[0m\u001b[0;34m=\u001b[0m\u001b[0mworkers\u001b[0m\u001b[0;34m,\u001b[0m\u001b[0;34m\u001b[0m\u001b[0;34m\u001b[0m\u001b[0m\n\u001b[1;32m   1140\u001b[0m               \u001b[0muse_multiprocessing\u001b[0m\u001b[0;34m=\u001b[0m\u001b[0muse_multiprocessing\u001b[0m\u001b[0;34m,\u001b[0m\u001b[0;34m\u001b[0m\u001b[0;34m\u001b[0m\u001b[0m\n\u001b[0;32m-> 1141\u001b[0;31m               return_dict=True)\n\u001b[0m\u001b[1;32m   1142\u001b[0m           \u001b[0mval_logs\u001b[0m \u001b[0;34m=\u001b[0m \u001b[0;34m{\u001b[0m\u001b[0;34m'val_'\u001b[0m \u001b[0;34m+\u001b[0m \u001b[0mname\u001b[0m\u001b[0;34m:\u001b[0m \u001b[0mval\u001b[0m \u001b[0;32mfor\u001b[0m \u001b[0mname\u001b[0m\u001b[0;34m,\u001b[0m \u001b[0mval\u001b[0m \u001b[0;32min\u001b[0m \u001b[0mval_logs\u001b[0m\u001b[0;34m.\u001b[0m\u001b[0mitems\u001b[0m\u001b[0;34m(\u001b[0m\u001b[0;34m)\u001b[0m\u001b[0;34m}\u001b[0m\u001b[0;34m\u001b[0m\u001b[0;34m\u001b[0m\u001b[0m\n\u001b[1;32m   1143\u001b[0m           \u001b[0mepoch_logs\u001b[0m\u001b[0;34m.\u001b[0m\u001b[0mupdate\u001b[0m\u001b[0;34m(\u001b[0m\u001b[0mval_logs\u001b[0m\u001b[0;34m)\u001b[0m\u001b[0;34m\u001b[0m\u001b[0;34m\u001b[0m\u001b[0m\n",
            "\u001b[0;32m/usr/local/lib/python3.7/dist-packages/tensorflow/python/keras/engine/training.py\u001b[0m in \u001b[0;36mevaluate\u001b[0;34m(self, x, y, batch_size, verbose, sample_weight, steps, callbacks, max_queue_size, workers, use_multiprocessing, return_dict)\u001b[0m\n\u001b[1;32m   1387\u001b[0m             \u001b[0;32mwith\u001b[0m \u001b[0mtrace\u001b[0m\u001b[0;34m.\u001b[0m\u001b[0mTrace\u001b[0m\u001b[0;34m(\u001b[0m\u001b[0;34m'test'\u001b[0m\u001b[0;34m,\u001b[0m \u001b[0mstep_num\u001b[0m\u001b[0;34m=\u001b[0m\u001b[0mstep\u001b[0m\u001b[0;34m,\u001b[0m \u001b[0m_r\u001b[0m\u001b[0;34m=\u001b[0m\u001b[0;36m1\u001b[0m\u001b[0;34m)\u001b[0m\u001b[0;34m:\u001b[0m\u001b[0;34m\u001b[0m\u001b[0;34m\u001b[0m\u001b[0m\n\u001b[1;32m   1388\u001b[0m               \u001b[0mcallbacks\u001b[0m\u001b[0;34m.\u001b[0m\u001b[0mon_test_batch_begin\u001b[0m\u001b[0;34m(\u001b[0m\u001b[0mstep\u001b[0m\u001b[0;34m)\u001b[0m\u001b[0;34m\u001b[0m\u001b[0;34m\u001b[0m\u001b[0m\n\u001b[0;32m-> 1389\u001b[0;31m               \u001b[0mtmp_logs\u001b[0m \u001b[0;34m=\u001b[0m \u001b[0mself\u001b[0m\u001b[0;34m.\u001b[0m\u001b[0mtest_function\u001b[0m\u001b[0;34m(\u001b[0m\u001b[0miterator\u001b[0m\u001b[0;34m)\u001b[0m\u001b[0;34m\u001b[0m\u001b[0;34m\u001b[0m\u001b[0m\n\u001b[0m\u001b[1;32m   1390\u001b[0m               \u001b[0;32mif\u001b[0m \u001b[0mdata_handler\u001b[0m\u001b[0;34m.\u001b[0m\u001b[0mshould_sync\u001b[0m\u001b[0;34m:\u001b[0m\u001b[0;34m\u001b[0m\u001b[0;34m\u001b[0m\u001b[0m\n\u001b[1;32m   1391\u001b[0m                 \u001b[0mcontext\u001b[0m\u001b[0;34m.\u001b[0m\u001b[0masync_wait\u001b[0m\u001b[0;34m(\u001b[0m\u001b[0;34m)\u001b[0m\u001b[0;34m\u001b[0m\u001b[0;34m\u001b[0m\u001b[0m\n",
            "\u001b[0;32m/usr/local/lib/python3.7/dist-packages/tensorflow/python/eager/def_function.py\u001b[0m in \u001b[0;36m__call__\u001b[0;34m(self, *args, **kwds)\u001b[0m\n\u001b[1;32m    826\u001b[0m     \u001b[0mtracing_count\u001b[0m \u001b[0;34m=\u001b[0m \u001b[0mself\u001b[0m\u001b[0;34m.\u001b[0m\u001b[0mexperimental_get_tracing_count\u001b[0m\u001b[0;34m(\u001b[0m\u001b[0;34m)\u001b[0m\u001b[0;34m\u001b[0m\u001b[0;34m\u001b[0m\u001b[0m\n\u001b[1;32m    827\u001b[0m     \u001b[0;32mwith\u001b[0m \u001b[0mtrace\u001b[0m\u001b[0;34m.\u001b[0m\u001b[0mTrace\u001b[0m\u001b[0;34m(\u001b[0m\u001b[0mself\u001b[0m\u001b[0;34m.\u001b[0m\u001b[0m_name\u001b[0m\u001b[0;34m)\u001b[0m \u001b[0;32mas\u001b[0m \u001b[0mtm\u001b[0m\u001b[0;34m:\u001b[0m\u001b[0;34m\u001b[0m\u001b[0;34m\u001b[0m\u001b[0m\n\u001b[0;32m--> 828\u001b[0;31m       \u001b[0mresult\u001b[0m \u001b[0;34m=\u001b[0m \u001b[0mself\u001b[0m\u001b[0;34m.\u001b[0m\u001b[0m_call\u001b[0m\u001b[0;34m(\u001b[0m\u001b[0;34m*\u001b[0m\u001b[0margs\u001b[0m\u001b[0;34m,\u001b[0m \u001b[0;34m**\u001b[0m\u001b[0mkwds\u001b[0m\u001b[0;34m)\u001b[0m\u001b[0;34m\u001b[0m\u001b[0;34m\u001b[0m\u001b[0m\n\u001b[0m\u001b[1;32m    829\u001b[0m       \u001b[0mcompiler\u001b[0m \u001b[0;34m=\u001b[0m \u001b[0;34m\"xla\"\u001b[0m \u001b[0;32mif\u001b[0m \u001b[0mself\u001b[0m\u001b[0;34m.\u001b[0m\u001b[0m_experimental_compile\u001b[0m \u001b[0;32melse\u001b[0m \u001b[0;34m\"nonXla\"\u001b[0m\u001b[0;34m\u001b[0m\u001b[0;34m\u001b[0m\u001b[0m\n\u001b[1;32m    830\u001b[0m       \u001b[0mnew_tracing_count\u001b[0m \u001b[0;34m=\u001b[0m \u001b[0mself\u001b[0m\u001b[0;34m.\u001b[0m\u001b[0mexperimental_get_tracing_count\u001b[0m\u001b[0;34m(\u001b[0m\u001b[0;34m)\u001b[0m\u001b[0;34m\u001b[0m\u001b[0;34m\u001b[0m\u001b[0m\n",
            "\u001b[0;32m/usr/local/lib/python3.7/dist-packages/tensorflow/python/eager/def_function.py\u001b[0m in \u001b[0;36m_call\u001b[0;34m(self, *args, **kwds)\u001b[0m\n\u001b[1;32m    869\u001b[0m       \u001b[0;31m# This is the first call of __call__, so we have to initialize.\u001b[0m\u001b[0;34m\u001b[0m\u001b[0;34m\u001b[0m\u001b[0;34m\u001b[0m\u001b[0m\n\u001b[1;32m    870\u001b[0m       \u001b[0minitializers\u001b[0m \u001b[0;34m=\u001b[0m \u001b[0;34m[\u001b[0m\u001b[0;34m]\u001b[0m\u001b[0;34m\u001b[0m\u001b[0;34m\u001b[0m\u001b[0m\n\u001b[0;32m--> 871\u001b[0;31m       \u001b[0mself\u001b[0m\u001b[0;34m.\u001b[0m\u001b[0m_initialize\u001b[0m\u001b[0;34m(\u001b[0m\u001b[0margs\u001b[0m\u001b[0;34m,\u001b[0m \u001b[0mkwds\u001b[0m\u001b[0;34m,\u001b[0m \u001b[0madd_initializers_to\u001b[0m\u001b[0;34m=\u001b[0m\u001b[0minitializers\u001b[0m\u001b[0;34m)\u001b[0m\u001b[0;34m\u001b[0m\u001b[0;34m\u001b[0m\u001b[0m\n\u001b[0m\u001b[1;32m    872\u001b[0m     \u001b[0;32mfinally\u001b[0m\u001b[0;34m:\u001b[0m\u001b[0;34m\u001b[0m\u001b[0;34m\u001b[0m\u001b[0m\n\u001b[1;32m    873\u001b[0m       \u001b[0;31m# At this point we know that the initialization is complete (or less\u001b[0m\u001b[0;34m\u001b[0m\u001b[0;34m\u001b[0m\u001b[0;34m\u001b[0m\u001b[0m\n",
            "\u001b[0;32m/usr/local/lib/python3.7/dist-packages/tensorflow/python/eager/def_function.py\u001b[0m in \u001b[0;36m_initialize\u001b[0;34m(self, args, kwds, add_initializers_to)\u001b[0m\n\u001b[1;32m    724\u001b[0m     self._concrete_stateful_fn = (\n\u001b[1;32m    725\u001b[0m         self._stateful_fn._get_concrete_function_internal_garbage_collected(  # pylint: disable=protected-access\n\u001b[0;32m--> 726\u001b[0;31m             *args, **kwds))\n\u001b[0m\u001b[1;32m    727\u001b[0m \u001b[0;34m\u001b[0m\u001b[0m\n\u001b[1;32m    728\u001b[0m     \u001b[0;32mdef\u001b[0m \u001b[0minvalid_creator_scope\u001b[0m\u001b[0;34m(\u001b[0m\u001b[0;34m*\u001b[0m\u001b[0munused_args\u001b[0m\u001b[0;34m,\u001b[0m \u001b[0;34m**\u001b[0m\u001b[0munused_kwds\u001b[0m\u001b[0;34m)\u001b[0m\u001b[0;34m:\u001b[0m\u001b[0;34m\u001b[0m\u001b[0;34m\u001b[0m\u001b[0m\n",
            "\u001b[0;32m/usr/local/lib/python3.7/dist-packages/tensorflow/python/eager/function.py\u001b[0m in \u001b[0;36m_get_concrete_function_internal_garbage_collected\u001b[0;34m(self, *args, **kwargs)\u001b[0m\n\u001b[1;32m   2967\u001b[0m       \u001b[0margs\u001b[0m\u001b[0;34m,\u001b[0m \u001b[0mkwargs\u001b[0m \u001b[0;34m=\u001b[0m \u001b[0;32mNone\u001b[0m\u001b[0;34m,\u001b[0m \u001b[0;32mNone\u001b[0m\u001b[0;34m\u001b[0m\u001b[0;34m\u001b[0m\u001b[0m\n\u001b[1;32m   2968\u001b[0m     \u001b[0;32mwith\u001b[0m \u001b[0mself\u001b[0m\u001b[0;34m.\u001b[0m\u001b[0m_lock\u001b[0m\u001b[0;34m:\u001b[0m\u001b[0;34m\u001b[0m\u001b[0;34m\u001b[0m\u001b[0m\n\u001b[0;32m-> 2969\u001b[0;31m       \u001b[0mgraph_function\u001b[0m\u001b[0;34m,\u001b[0m \u001b[0m_\u001b[0m \u001b[0;34m=\u001b[0m \u001b[0mself\u001b[0m\u001b[0;34m.\u001b[0m\u001b[0m_maybe_define_function\u001b[0m\u001b[0;34m(\u001b[0m\u001b[0margs\u001b[0m\u001b[0;34m,\u001b[0m \u001b[0mkwargs\u001b[0m\u001b[0;34m)\u001b[0m\u001b[0;34m\u001b[0m\u001b[0;34m\u001b[0m\u001b[0m\n\u001b[0m\u001b[1;32m   2970\u001b[0m     \u001b[0;32mreturn\u001b[0m \u001b[0mgraph_function\u001b[0m\u001b[0;34m\u001b[0m\u001b[0;34m\u001b[0m\u001b[0m\n\u001b[1;32m   2971\u001b[0m \u001b[0;34m\u001b[0m\u001b[0m\n",
            "\u001b[0;32m/usr/local/lib/python3.7/dist-packages/tensorflow/python/eager/function.py\u001b[0m in \u001b[0;36m_maybe_define_function\u001b[0;34m(self, args, kwargs)\u001b[0m\n\u001b[1;32m   3359\u001b[0m \u001b[0;34m\u001b[0m\u001b[0m\n\u001b[1;32m   3360\u001b[0m           \u001b[0mself\u001b[0m\u001b[0;34m.\u001b[0m\u001b[0m_function_cache\u001b[0m\u001b[0;34m.\u001b[0m\u001b[0mmissed\u001b[0m\u001b[0;34m.\u001b[0m\u001b[0madd\u001b[0m\u001b[0;34m(\u001b[0m\u001b[0mcall_context_key\u001b[0m\u001b[0;34m)\u001b[0m\u001b[0;34m\u001b[0m\u001b[0;34m\u001b[0m\u001b[0m\n\u001b[0;32m-> 3361\u001b[0;31m           \u001b[0mgraph_function\u001b[0m \u001b[0;34m=\u001b[0m \u001b[0mself\u001b[0m\u001b[0;34m.\u001b[0m\u001b[0m_create_graph_function\u001b[0m\u001b[0;34m(\u001b[0m\u001b[0margs\u001b[0m\u001b[0;34m,\u001b[0m \u001b[0mkwargs\u001b[0m\u001b[0;34m)\u001b[0m\u001b[0;34m\u001b[0m\u001b[0;34m\u001b[0m\u001b[0m\n\u001b[0m\u001b[1;32m   3362\u001b[0m           \u001b[0mself\u001b[0m\u001b[0;34m.\u001b[0m\u001b[0m_function_cache\u001b[0m\u001b[0;34m.\u001b[0m\u001b[0mprimary\u001b[0m\u001b[0;34m[\u001b[0m\u001b[0mcache_key\u001b[0m\u001b[0;34m]\u001b[0m \u001b[0;34m=\u001b[0m \u001b[0mgraph_function\u001b[0m\u001b[0;34m\u001b[0m\u001b[0;34m\u001b[0m\u001b[0m\n\u001b[1;32m   3363\u001b[0m \u001b[0;34m\u001b[0m\u001b[0m\n",
            "\u001b[0;32m/usr/local/lib/python3.7/dist-packages/tensorflow/python/eager/function.py\u001b[0m in \u001b[0;36m_create_graph_function\u001b[0;34m(self, args, kwargs, override_flat_arg_shapes)\u001b[0m\n\u001b[1;32m   3204\u001b[0m             \u001b[0marg_names\u001b[0m\u001b[0;34m=\u001b[0m\u001b[0marg_names\u001b[0m\u001b[0;34m,\u001b[0m\u001b[0;34m\u001b[0m\u001b[0;34m\u001b[0m\u001b[0m\n\u001b[1;32m   3205\u001b[0m             \u001b[0moverride_flat_arg_shapes\u001b[0m\u001b[0;34m=\u001b[0m\u001b[0moverride_flat_arg_shapes\u001b[0m\u001b[0;34m,\u001b[0m\u001b[0;34m\u001b[0m\u001b[0;34m\u001b[0m\u001b[0m\n\u001b[0;32m-> 3206\u001b[0;31m             capture_by_value=self._capture_by_value),\n\u001b[0m\u001b[1;32m   3207\u001b[0m         \u001b[0mself\u001b[0m\u001b[0;34m.\u001b[0m\u001b[0m_function_attributes\u001b[0m\u001b[0;34m,\u001b[0m\u001b[0;34m\u001b[0m\u001b[0;34m\u001b[0m\u001b[0m\n\u001b[1;32m   3208\u001b[0m         \u001b[0mfunction_spec\u001b[0m\u001b[0;34m=\u001b[0m\u001b[0mself\u001b[0m\u001b[0;34m.\u001b[0m\u001b[0mfunction_spec\u001b[0m\u001b[0;34m,\u001b[0m\u001b[0;34m\u001b[0m\u001b[0;34m\u001b[0m\u001b[0m\n",
            "\u001b[0;32m/usr/local/lib/python3.7/dist-packages/tensorflow/python/framework/func_graph.py\u001b[0m in \u001b[0;36mfunc_graph_from_py_func\u001b[0;34m(name, python_func, args, kwargs, signature, func_graph, autograph, autograph_options, add_control_dependencies, arg_names, op_return_value, collections, capture_by_value, override_flat_arg_shapes)\u001b[0m\n\u001b[1;32m    988\u001b[0m         \u001b[0m_\u001b[0m\u001b[0;34m,\u001b[0m \u001b[0moriginal_func\u001b[0m \u001b[0;34m=\u001b[0m \u001b[0mtf_decorator\u001b[0m\u001b[0;34m.\u001b[0m\u001b[0munwrap\u001b[0m\u001b[0;34m(\u001b[0m\u001b[0mpython_func\u001b[0m\u001b[0;34m)\u001b[0m\u001b[0;34m\u001b[0m\u001b[0;34m\u001b[0m\u001b[0m\n\u001b[1;32m    989\u001b[0m \u001b[0;34m\u001b[0m\u001b[0m\n\u001b[0;32m--> 990\u001b[0;31m       \u001b[0mfunc_outputs\u001b[0m \u001b[0;34m=\u001b[0m \u001b[0mpython_func\u001b[0m\u001b[0;34m(\u001b[0m\u001b[0;34m*\u001b[0m\u001b[0mfunc_args\u001b[0m\u001b[0;34m,\u001b[0m \u001b[0;34m**\u001b[0m\u001b[0mfunc_kwargs\u001b[0m\u001b[0;34m)\u001b[0m\u001b[0;34m\u001b[0m\u001b[0;34m\u001b[0m\u001b[0m\n\u001b[0m\u001b[1;32m    991\u001b[0m \u001b[0;34m\u001b[0m\u001b[0m\n\u001b[1;32m    992\u001b[0m       \u001b[0;31m# invariant: `func_outputs` contains only Tensors, CompositeTensors,\u001b[0m\u001b[0;34m\u001b[0m\u001b[0;34m\u001b[0m\u001b[0;34m\u001b[0m\u001b[0m\n",
            "\u001b[0;32m/usr/local/lib/python3.7/dist-packages/tensorflow/python/eager/def_function.py\u001b[0m in \u001b[0;36mwrapped_fn\u001b[0;34m(*args, **kwds)\u001b[0m\n\u001b[1;32m    632\u001b[0m             \u001b[0mxla_context\u001b[0m\u001b[0;34m.\u001b[0m\u001b[0mExit\u001b[0m\u001b[0;34m(\u001b[0m\u001b[0;34m)\u001b[0m\u001b[0;34m\u001b[0m\u001b[0;34m\u001b[0m\u001b[0m\n\u001b[1;32m    633\u001b[0m         \u001b[0;32melse\u001b[0m\u001b[0;34m:\u001b[0m\u001b[0;34m\u001b[0m\u001b[0;34m\u001b[0m\u001b[0m\n\u001b[0;32m--> 634\u001b[0;31m           \u001b[0mout\u001b[0m \u001b[0;34m=\u001b[0m \u001b[0mweak_wrapped_fn\u001b[0m\u001b[0;34m(\u001b[0m\u001b[0;34m)\u001b[0m\u001b[0;34m.\u001b[0m\u001b[0m__wrapped__\u001b[0m\u001b[0;34m(\u001b[0m\u001b[0;34m*\u001b[0m\u001b[0margs\u001b[0m\u001b[0;34m,\u001b[0m \u001b[0;34m**\u001b[0m\u001b[0mkwds\u001b[0m\u001b[0;34m)\u001b[0m\u001b[0;34m\u001b[0m\u001b[0;34m\u001b[0m\u001b[0m\n\u001b[0m\u001b[1;32m    635\u001b[0m         \u001b[0;32mreturn\u001b[0m \u001b[0mout\u001b[0m\u001b[0;34m\u001b[0m\u001b[0;34m\u001b[0m\u001b[0m\n\u001b[1;32m    636\u001b[0m \u001b[0;34m\u001b[0m\u001b[0m\n",
            "\u001b[0;32m/usr/local/lib/python3.7/dist-packages/tensorflow/python/framework/func_graph.py\u001b[0m in \u001b[0;36mwrapper\u001b[0;34m(*args, **kwargs)\u001b[0m\n\u001b[1;32m    975\u001b[0m           \u001b[0;32mexcept\u001b[0m \u001b[0mException\u001b[0m \u001b[0;32mas\u001b[0m \u001b[0me\u001b[0m\u001b[0;34m:\u001b[0m  \u001b[0;31m# pylint:disable=broad-except\u001b[0m\u001b[0;34m\u001b[0m\u001b[0;34m\u001b[0m\u001b[0m\n\u001b[1;32m    976\u001b[0m             \u001b[0;32mif\u001b[0m \u001b[0mhasattr\u001b[0m\u001b[0;34m(\u001b[0m\u001b[0me\u001b[0m\u001b[0;34m,\u001b[0m \u001b[0;34m\"ag_error_metadata\"\u001b[0m\u001b[0;34m)\u001b[0m\u001b[0;34m:\u001b[0m\u001b[0;34m\u001b[0m\u001b[0;34m\u001b[0m\u001b[0m\n\u001b[0;32m--> 977\u001b[0;31m               \u001b[0;32mraise\u001b[0m \u001b[0me\u001b[0m\u001b[0;34m.\u001b[0m\u001b[0mag_error_metadata\u001b[0m\u001b[0;34m.\u001b[0m\u001b[0mto_exception\u001b[0m\u001b[0;34m(\u001b[0m\u001b[0me\u001b[0m\u001b[0;34m)\u001b[0m\u001b[0;34m\u001b[0m\u001b[0;34m\u001b[0m\u001b[0m\n\u001b[0m\u001b[1;32m    978\u001b[0m             \u001b[0;32melse\u001b[0m\u001b[0;34m:\u001b[0m\u001b[0;34m\u001b[0m\u001b[0;34m\u001b[0m\u001b[0m\n\u001b[1;32m    979\u001b[0m               \u001b[0;32mraise\u001b[0m\u001b[0;34m\u001b[0m\u001b[0;34m\u001b[0m\u001b[0m\n",
            "\u001b[0;31mValueError\u001b[0m: in user code:\n\n    /usr/local/lib/python3.7/dist-packages/tensorflow/python/keras/engine/training.py:1233 test_function  *\n        return step_function(self, iterator)\n    /usr/local/lib/python3.7/dist-packages/tensorflow/python/keras/engine/training.py:1224 step_function  **\n        outputs = model.distribute_strategy.run(run_step, args=(data,))\n    /usr/local/lib/python3.7/dist-packages/tensorflow/python/distribute/distribute_lib.py:1259 run\n        return self._extended.call_for_each_replica(fn, args=args, kwargs=kwargs)\n    /usr/local/lib/python3.7/dist-packages/tensorflow/python/distribute/distribute_lib.py:2730 call_for_each_replica\n        return self._call_for_each_replica(fn, args, kwargs)\n    /usr/local/lib/python3.7/dist-packages/tensorflow/python/distribute/distribute_lib.py:3417 _call_for_each_replica\n        return fn(*args, **kwargs)\n    /usr/local/lib/python3.7/dist-packages/tensorflow/python/keras/engine/training.py:1217 run_step  **\n        outputs = model.test_step(data)\n    /usr/local/lib/python3.7/dist-packages/tensorflow/python/keras/engine/training.py:1183 test_step\n        y_pred = self(x, training=False)\n    /usr/local/lib/python3.7/dist-packages/tensorflow/python/keras/engine/base_layer.py:998 __call__\n        input_spec.assert_input_compatibility(self.input_spec, inputs, self.name)\n    /usr/local/lib/python3.7/dist-packages/tensorflow/python/keras/engine/input_spec.py:259 assert_input_compatibility\n        ' but received input with shape ' + display_shape(x.shape))\n\n    ValueError: Input 0 of layer sequential_66 is incompatible with the layer: expected axis -1 of input shape to have value 30 but received input with shape (None, 60)\n"
          ]
        }
      ]
    },
    {
      "cell_type": "code",
      "metadata": {
        "id": "NJZNFtS5Vhph"
      },
      "source": [
        "# Prediction Labels\n",
        "Y_pred = model1.predict(X_test)\n",
        "\n",
        "\n",
        "#Initial a threshhold for last layer\n",
        "y_pred=np.zeros(len(Y_pred))\n",
        "for i in range(len(y_pred)):\n",
        "  if Y_pred[i]>0.5:\n",
        "    y_pred[i]=1\n",
        "  else:\n",
        "    y_pred[i]=0\n",
        "\n",
        "\n",
        "# Evaluate the trained model\n",
        "[test_loss, test_acc] = model1.evaluate(X_test, y_test)\n",
        "print(\"Test Loss\", test_loss)\n",
        "print(\"Test Accuracy\", test_acc)\n",
        "\n",
        "# correct_indices = np.nonzero(y_pred == y_test)[0]\n",
        "# incorrect_indices = np.nonzero(y_pred != y_test)[0]\n",
        "\n",
        "# print(\" classified correctly\", len(correct_indices))\n",
        "# print(\" classified incorrectly\", len(incorrect_indices))\n",
        "\n",
        "from sklearn.metrics import confusion_matrix , classification_report\n",
        "# Confusion Matrix\n",
        "class_names=[0,1]\n",
        "confusion_mtx = confusion_matrix(y_test, y_pred)\n",
        "print(\"confusion matrix=\\n\",confusion_mtx)\n",
        "\n",
        "import itertools\n",
        "def plot_confusion_matrix(cm, classes,\n",
        "                          normalize=False,\n",
        "                          title='Confusion matrix',\n",
        "                          cmap=plt.cm.Blues):\n",
        "    \"\"\"\n",
        "    This function prints and plots the confusion matrix.\n",
        "    Normalization can be applied by setting `normalize=True`.\n",
        "    \"\"\"\n",
        "    plt.figure(figsize = (5,5))\n",
        "    plt.imshow(cm, interpolation='nearest', cmap=cmap)\n",
        "    plt.title(title)\n",
        "    plt.colorbar()\n",
        "    tick_marks = np.arange(len(classes))\n",
        "    plt.xticks(tick_marks, classes)\n",
        "    plt.yticks(tick_marks, classes)\n",
        "    if normalize:\n",
        "        cm = cm.astype('float') / cm.sum(axis=1)[:, np.newaxis]\n",
        "\n",
        "    thresh = cm.max() / 2.\n",
        "    for i, j in itertools.product(range(cm.shape[0]), range(cm.shape[1])):\n",
        "        plt.text(j, i, cm[i, j],\n",
        "                 horizontalalignment=\"center\",\n",
        "                 color=\"white\" if cm[i, j] > thresh else \"black\")\n",
        "    plt.tight_layout()\n",
        "    plt.ylabel('True label')\n",
        "    plt.xlabel('Predicted label')\n",
        "    \n",
        "plot_confusion_matrix(confusion_mtx, class_names)    \n",
        "\n",
        "print(classification_report(y_test,y_pred))"
      ],
      "execution_count": null,
      "outputs": []
    }
  ]
}