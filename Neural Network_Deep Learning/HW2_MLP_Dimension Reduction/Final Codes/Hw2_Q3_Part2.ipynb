{
  "nbformat": 4,
  "nbformat_minor": 0,
  "metadata": {
    "colab": {
      "name": "Hw2_Q3_Part2.ipynb",
      "provenance": [],
      "collapsed_sections": []
    },
    "kernelspec": {
      "name": "python3",
      "display_name": "Python 3"
    },
    "language_info": {
      "name": "python"
    },
    "accelerator": "GPU"
  },
  "cells": [
    {
      "cell_type": "code",
      "metadata": {
        "id": "DZRVVEAEu7q6"
      },
      "source": [
        "# Python ≥3.5 is required\n",
        "import sys\n",
        "assert sys.version_info >= (3, 5)\n",
        " \n",
        "# Scikit-Learn ≥0.20 is required\n",
        "import sklearn\n",
        "assert sklearn.__version__ >= \"0.20\"\n",
        "from keras.models import Sequential\n",
        "from keras.layers import Dense\n",
        "# from keras.wrappers.scikit_learn import KerasClassifier\n",
        "# from sklearn.model_selection import cross_val_score\n",
        "# from sklearn.preprocessing import LabelEncoder\n",
        "# from sklearn.model_selection import StratifiedKFold\n",
        "# from sklearn.preprocessing import StandardScaler\n",
        "# from sklearn.pipeline import Pipeline\n",
        "from sklearn.preprocessing import LabelEncoder\n",
        "from sklearn.model_selection import train_test_split\n",
        "from sklearn.preprocessing import MinMaxScaler\n",
        "# Common imports\n",
        "import numpy as np\n",
        "import pandas as pd\n",
        "import os\n",
        "import time \n",
        "# to make this notebook's output stable across runs\n",
        "np.random.seed(42)\n",
        " \n",
        "# To plot pretty figures\n",
        "%matplotlib inline\n",
        "import matplotlib as mpl\n",
        "import matplotlib.pyplot as plt\n",
        "mpl.rc('axes', labelsize=14)\n",
        "mpl.rc('xtick', labelsize=12)\n",
        "mpl.rc('ytick', labelsize=12)"
      ],
      "execution_count": 1,
      "outputs": []
    },
    {
      "cell_type": "code",
      "metadata": {
        "id": "GoNupIDpvYBN"
      },
      "source": [
        "#Reading The Data File\n",
        "PATH_TO_DATA ='/content/drive/MyDrive/Colab Notebooks/sonar.all-data'\n",
        "df = pd.read_csv(PATH_TO_DATA,header=None)\n",
        "Data=df.values\n",
        "n=Data.shape[1]\n",
        "# split into input (X) and output (Y) variables\n",
        "#X = Data[:,0:60].astype(float)\n",
        "X = Data[:,:n-1]\n",
        "Y = Data[:,-1]\n",
        "# encode class values as integers\n",
        "encoder = LabelEncoder()\n",
        "encoder.fit(Y)\n",
        "encoded_Y = encoder.transform(Y).astype(float)\n",
        "XScaler = MinMaxScaler().fit(X);\n",
        "X_new1  = XScaler.transform(X)"
      ],
      "execution_count": 2,
      "outputs": []
    },
    {
      "cell_type": "code",
      "metadata": {
        "id": "NYo9EnVfx72S",
        "colab": {
          "base_uri": "https://localhost:8080/"
        },
        "outputId": "a24655d7-8c63-43fb-aa07-656e1564b232"
      },
      "source": [
        "from sklearn.decomposition import PCA\n",
        "imput_numb=30   #This should be set\n",
        "start1=time.time()\n",
        "pca = PCA(n_components=imput_numb)\n",
        "X_new=pca.fit_transform(X_new1)\n",
        "end1=time.time()\n",
        "PCA_time=end1-start1\n",
        "PCA_time"
      ],
      "execution_count": 3,
      "outputs": [
        {
          "output_type": "execute_result",
          "data": {
            "text/plain": [
              "0.0398859977722168"
            ]
          },
          "metadata": {
            "tags": []
          },
          "execution_count": 3
        }
      ]
    },
    {
      "cell_type": "markdown",
      "metadata": {
        "id": "-WEgvZgJ2iC3"
      },
      "source": [
        "# Evaluating"
      ]
    },
    {
      "cell_type": "code",
      "metadata": {
        "id": "h7sapGuF2B6P"
      },
      "source": [
        "X_train, X_test, y_train, y_test = train_test_split(X_new, encoded_Y, test_size=0.25, random_state=42)\n",
        "X_train, X_val, y_train, y_val = train_test_split(X_train, y_train, test_size=0.2, random_state=42)"
      ],
      "execution_count": 4,
      "outputs": []
    },
    {
      "cell_type": "code",
      "metadata": {
        "id": "nAFZDeofzxIB"
      },
      "source": [
        "#Normalising The data\n",
        "xScaler = MinMaxScaler().fit(X_train);\n",
        "X_train = xScaler.transform(X_train)\n",
        "X_test  = xScaler.transform(X_test)\n",
        "X_val  = xScaler.transform(X_val)\n",
        "y_train=y_train.reshape(-1,1)\n",
        "y_test=y_test.reshape(-1,1)\n",
        "y_val=y_val.reshape(-1,1)"
      ],
      "execution_count": 5,
      "outputs": []
    },
    {
      "cell_type": "code",
      "metadata": {
        "colab": {
          "base_uri": "https://localhost:8080/"
        },
        "id": "jYbWd7333VLY",
        "outputId": "e0c22022-1c82-4850-84d6-95b48a51056a"
      },
      "source": [
        "from keras.models import Sequential\n",
        "from keras.utils import np_utils\n",
        "from keras.layers.core import Dense\n",
        "\n",
        "model = Sequential()\n",
        "model.add(Dense(20, activation='relu', input_shape=(imput_numb,)))\t#Hidden Layer 1\n",
        "model.add(Dense(256, activation='relu'))\t#Hidden Layer 2\n",
        "model.add(Dense(1, activation='sigmoid')) #Last layer with one output per class\n",
        "model.summary()\n",
        "\n",
        "# Configure the Network\n",
        "model.compile(loss='binary_crossentropy', optimizer='adam', metrics=['accuracy'])\n"
      ],
      "execution_count": 6,
      "outputs": [
        {
          "output_type": "stream",
          "text": [
            "Model: \"sequential\"\n",
            "_________________________________________________________________\n",
            "Layer (type)                 Output Shape              Param #   \n",
            "=================================================================\n",
            "dense (Dense)                (None, 20)                620       \n",
            "_________________________________________________________________\n",
            "dense_1 (Dense)              (None, 256)               5376      \n",
            "_________________________________________________________________\n",
            "dense_2 (Dense)              (None, 1)                 257       \n",
            "=================================================================\n",
            "Total params: 6,253\n",
            "Trainable params: 6,253\n",
            "Non-trainable params: 0\n",
            "_________________________________________________________________\n"
          ],
          "name": "stdout"
        }
      ]
    },
    {
      "cell_type": "code",
      "metadata": {
        "colab": {
          "base_uri": "https://localhost:8080/",
          "height": 1000
        },
        "id": "uW582Zro3WAJ",
        "outputId": "01172e0d-cd17-4746-97aa-6128e21ae3cb"
      },
      "source": [
        "# history = model.fit(X_train, y_train, epochs=25, batch_size=128, validation_split=0.2)\n",
        "history = model.fit(X_train, y_train, validation_data=(X_val,y_val) ,epochs=30, batch_size=32)\n",
        "test_loss, test_acc = model.evaluate(X_test, y_test)\n",
        "print('Test accuracy:', test_acc)\n",
        "# Plotting Metrics\n",
        "# Plot the Accuracy Curves\n",
        "fig = plt.figure(figsize=(16,10))\n",
        "plt.subplot(231)\n",
        "plt.plot(history.history['accuracy'],'r')\n",
        "plt.plot(history.history['val_accuracy'],'b')\n",
        "plt.title('model accuracy')\n",
        "plt.ylabel('accuracy')\n",
        "plt.xlabel('epoch')\n",
        "plt.legend(['train', 'validation'], loc='lower right')\n",
        "plt.grid()\n",
        "\n",
        "# Plot the Loss Curves\n",
        "plt.subplot(232)\n",
        "plt.plot(history.history['loss'],'r')\n",
        "plt.plot(history.history['val_loss'],'b')\n",
        "plt.title('model loss')\n",
        "plt.ylabel('loss')\n",
        "plt.xlabel('epoch')\n",
        "plt.legend(['train', 'validation'], loc='upper right')\n",
        "plt.grid()"
      ],
      "execution_count": 7,
      "outputs": [
        {
          "output_type": "stream",
          "text": [
            "Epoch 1/30\n",
            "4/4 [==============================] - 1s 167ms/step - loss: 0.6879 - accuracy: 0.5460 - val_loss: 0.6861 - val_accuracy: 0.5625\n",
            "Epoch 2/30\n",
            "4/4 [==============================] - 0s 15ms/step - loss: 0.6806 - accuracy: 0.5650 - val_loss: 0.6821 - val_accuracy: 0.5625\n",
            "Epoch 3/30\n",
            "4/4 [==============================] - 0s 15ms/step - loss: 0.6788 - accuracy: 0.6457 - val_loss: 0.6750 - val_accuracy: 0.8125\n",
            "Epoch 4/30\n",
            "4/4 [==============================] - 0s 15ms/step - loss: 0.6731 - accuracy: 0.7098 - val_loss: 0.6712 - val_accuracy: 0.8125\n",
            "Epoch 5/30\n",
            "4/4 [==============================] - 0s 14ms/step - loss: 0.6700 - accuracy: 0.7141 - val_loss: 0.6629 - val_accuracy: 0.7188\n",
            "Epoch 6/30\n",
            "4/4 [==============================] - 0s 14ms/step - loss: 0.6651 - accuracy: 0.7529 - val_loss: 0.6563 - val_accuracy: 0.6875\n",
            "Epoch 7/30\n",
            "4/4 [==============================] - 0s 16ms/step - loss: 0.6590 - accuracy: 0.7416 - val_loss: 0.6511 - val_accuracy: 0.7188\n",
            "Epoch 8/30\n",
            "4/4 [==============================] - 0s 16ms/step - loss: 0.6573 - accuracy: 0.7353 - val_loss: 0.6469 - val_accuracy: 0.7500\n",
            "Epoch 9/30\n",
            "4/4 [==============================] - 0s 16ms/step - loss: 0.6520 - accuracy: 0.7489 - val_loss: 0.6422 - val_accuracy: 0.7188\n",
            "Epoch 10/30\n",
            "4/4 [==============================] - 0s 21ms/step - loss: 0.6361 - accuracy: 0.7800 - val_loss: 0.6360 - val_accuracy: 0.7500\n",
            "Epoch 11/30\n",
            "4/4 [==============================] - 0s 15ms/step - loss: 0.6330 - accuracy: 0.7645 - val_loss: 0.6282 - val_accuracy: 0.7500\n",
            "Epoch 12/30\n",
            "4/4 [==============================] - 0s 16ms/step - loss: 0.6423 - accuracy: 0.7272 - val_loss: 0.6205 - val_accuracy: 0.7188\n",
            "Epoch 13/30\n",
            "4/4 [==============================] - 0s 16ms/step - loss: 0.6330 - accuracy: 0.7251 - val_loss: 0.6130 - val_accuracy: 0.7188\n",
            "Epoch 14/30\n",
            "4/4 [==============================] - 0s 16ms/step - loss: 0.6184 - accuracy: 0.7562 - val_loss: 0.6054 - val_accuracy: 0.7188\n",
            "Epoch 15/30\n",
            "4/4 [==============================] - 0s 16ms/step - loss: 0.6132 - accuracy: 0.7816 - val_loss: 0.5986 - val_accuracy: 0.7188\n",
            "Epoch 16/30\n",
            "4/4 [==============================] - 0s 17ms/step - loss: 0.6176 - accuracy: 0.7420 - val_loss: 0.5962 - val_accuracy: 0.7500\n",
            "Epoch 17/30\n",
            "4/4 [==============================] - 0s 18ms/step - loss: 0.6038 - accuracy: 0.7196 - val_loss: 0.5910 - val_accuracy: 0.7500\n",
            "Epoch 18/30\n",
            "4/4 [==============================] - 0s 17ms/step - loss: 0.6024 - accuracy: 0.7273 - val_loss: 0.5798 - val_accuracy: 0.7188\n",
            "Epoch 19/30\n",
            "4/4 [==============================] - 0s 17ms/step - loss: 0.5951 - accuracy: 0.7703 - val_loss: 0.5734 - val_accuracy: 0.7500\n",
            "Epoch 20/30\n",
            "4/4 [==============================] - 0s 16ms/step - loss: 0.5857 - accuracy: 0.7943 - val_loss: 0.5654 - val_accuracy: 0.7188\n",
            "Epoch 21/30\n",
            "4/4 [==============================] - 0s 17ms/step - loss: 0.5668 - accuracy: 0.8037 - val_loss: 0.5582 - val_accuracy: 0.7188\n",
            "Epoch 22/30\n",
            "4/4 [==============================] - 0s 18ms/step - loss: 0.5615 - accuracy: 0.8069 - val_loss: 0.5537 - val_accuracy: 0.7500\n",
            "Epoch 23/30\n",
            "4/4 [==============================] - 0s 14ms/step - loss: 0.5489 - accuracy: 0.7910 - val_loss: 0.5469 - val_accuracy: 0.7188\n",
            "Epoch 24/30\n",
            "4/4 [==============================] - 0s 15ms/step - loss: 0.5533 - accuracy: 0.8070 - val_loss: 0.5410 - val_accuracy: 0.7188\n",
            "Epoch 25/30\n",
            "4/4 [==============================] - 0s 16ms/step - loss: 0.5321 - accuracy: 0.8311 - val_loss: 0.5348 - val_accuracy: 0.7500\n",
            "Epoch 26/30\n",
            "4/4 [==============================] - 0s 16ms/step - loss: 0.5085 - accuracy: 0.8383 - val_loss: 0.5329 - val_accuracy: 0.7188\n",
            "Epoch 27/30\n",
            "4/4 [==============================] - 0s 14ms/step - loss: 0.4985 - accuracy: 0.8122 - val_loss: 0.5259 - val_accuracy: 0.6875\n",
            "Epoch 28/30\n",
            "4/4 [==============================] - 0s 15ms/step - loss: 0.5245 - accuracy: 0.8251 - val_loss: 0.5237 - val_accuracy: 0.7500\n",
            "Epoch 29/30\n",
            "4/4 [==============================] - 0s 15ms/step - loss: 0.5110 - accuracy: 0.8000 - val_loss: 0.5203 - val_accuracy: 0.7500\n",
            "Epoch 30/30\n",
            "4/4 [==============================] - 0s 16ms/step - loss: 0.5040 - accuracy: 0.8155 - val_loss: 0.5148 - val_accuracy: 0.7188\n",
            "2/2 [==============================] - 0s 7ms/step - loss: 0.5293 - accuracy: 0.7308\n",
            "Test accuracy: 0.7307692170143127\n"
          ],
          "name": "stdout"
        },
        {
          "output_type": "display_data",
          "data": {
            "image/png": "[encoded data removed]",
            "text/plain": [
              "<Figure size 1152x720 with 2 Axes>"
            ]
          },
          "metadata": {
            "tags": [],
            "needs_background": "light"
          }
        }
      ]
    },
    {
      "cell_type": "code",
      "metadata": {
        "colab": {
          "base_uri": "https://localhost:8080/",
          "height": 620
        },
        "id": "J27xz9Gk3cMA",
        "outputId": "c6b6e737-c882-4886-853c-716f2ef01715"
      },
      "source": [
        "# Prediction Labels\n",
        "Y_pred = model.predict(X_test)\n",
        "\n",
        "\n",
        "#Initial a threshhold for last layer\n",
        "y_pred=np.zeros(len(Y_pred))\n",
        "for i in range(len(y_pred)):\n",
        "  if Y_pred[i]>0.5:\n",
        "    y_pred[i]=1\n",
        "  else:\n",
        "    y_pred[i]=0\n",
        "\n",
        "\n",
        "# Evaluate the trained model\n",
        "[test_loss, test_acc] = model.evaluate(X_test, y_test)\n",
        "print(\"Test Loss\", test_loss)\n",
        "print(\"Test Accuracy\", test_acc)\n",
        "\n",
        "# correct_indices = np.nonzero(y_pred == y_test)[0]\n",
        "# incorrect_indices = np.nonzero(y_pred != y_test)[0]\n",
        "\n",
        "# print(\" classified correctly\", len(correct_indices))\n",
        "# print(\" classified incorrectly\", len(incorrect_indices))\n",
        "\n",
        "from sklearn.metrics import confusion_matrix , classification_report\n",
        "# Confusion Matrix\n",
        "class_names=[0,1]\n",
        "confusion_mtx = confusion_matrix(y_test, y_pred)\n",
        "print(\"confusion matrix=\\n\",confusion_mtx)\n",
        "\n",
        "import itertools\n",
        "def plot_confusion_matrix(cm, classes,\n",
        "                          normalize=False,\n",
        "                          title='Confusion matrix',\n",
        "                          cmap=plt.cm.Blues):\n",
        "    \"\"\"\n",
        "    This function prints and plots the confusion matrix.\n",
        "    Normalization can be applied by setting `normalize=True`.\n",
        "    \"\"\"\n",
        "    plt.figure(figsize = (5,5))\n",
        "    plt.imshow(cm, interpolation='nearest', cmap=cmap)\n",
        "    plt.title(title)\n",
        "    plt.colorbar()\n",
        "    tick_marks = np.arange(len(classes))\n",
        "    plt.xticks(tick_marks, classes)\n",
        "    plt.yticks(tick_marks, classes)\n",
        "    if normalize:\n",
        "        cm = cm.astype('float') / cm.sum(axis=1)[:, np.newaxis]\n",
        "\n",
        "    thresh = cm.max() / 2.\n",
        "    for i, j in itertools.product(range(cm.shape[0]), range(cm.shape[1])):\n",
        "        plt.text(j, i, cm[i, j],\n",
        "                 horizontalalignment=\"center\",\n",
        "                 color=\"white\" if cm[i, j] > thresh else \"black\")\n",
        "    plt.tight_layout()\n",
        "    plt.ylabel('True label')\n",
        "    plt.xlabel('Predicted label')\n",
        "    \n",
        "plot_confusion_matrix(confusion_mtx, class_names)    \n",
        "\n",
        "print(classification_report(y_test,y_pred))\n",
        "\n"
      ],
      "execution_count": 8,
      "outputs": [
        {
          "output_type": "stream",
          "text": [
            "2/2 [==============================] - 0s 7ms/step - loss: 0.5293 - accuracy: 0.7308\n",
            "Test Loss 0.5293273329734802\n",
            "Test Accuracy 0.7307692170143127\n",
            "confusion matrix=\n",
            " [[19 11]\n",
            " [ 3 19]]\n",
            "              precision    recall  f1-score   support\n",
            "\n",
            "         0.0       0.86      0.63      0.73        30\n",
            "         1.0       0.63      0.86      0.73        22\n",
            "\n",
            "    accuracy                           0.73        52\n",
            "   macro avg       0.75      0.75      0.73        52\n",
            "weighted avg       0.77      0.73      0.73        52\n",
            "\n"
          ],
          "name": "stdout"
        },
        {
          "output_type": "display_data",
          "data": {
            "image/png": "[encoded data removed]",
            "text/plain": [
              "<Figure size 360x360 with 2 Axes>"
            ]
          },
          "metadata": {
            "tags": [],
            "needs_background": "light"
          }
        }
      ]
    },
    {
      "cell_type": "markdown",
      "metadata": {
        "id": "NLdQQ0g6-Wdq"
      },
      "source": [
        "# Auto Encoder"
      ]
    },
    {
      "cell_type": "code",
      "metadata": {
        "colab": {
          "base_uri": "https://localhost:8080/"
        },
        "id": "qW59_eXb-SvD",
        "outputId": "e6e6fd1b-f465-4b0f-c63b-05058f37d46e"
      },
      "source": [
        "X_train, X_test, y_train, y_test = train_test_split(X_new1, encoded_Y, test_size=0.2, random_state=42)\n",
        "X_train, X_val, y_train, y_val = train_test_split(X_train, y_train, test_size=0.2, random_state=42)\n",
        "#Normalising The data\n",
        "xScaler = MinMaxScaler().fit(X_train);\n",
        "yScaler = MinMaxScaler().fit(y_train.reshape(-1, 1));\n",
        "X_train = xScaler.transform(X_train)\n",
        "X_test  = xScaler.transform(X_test)\n",
        "X_val  = xScaler.transform(X_val)\n",
        "y_train=y_train.reshape(-1,1)\n",
        "y_test=y_test.reshape(-1,1)\n",
        "y_val=y_val.reshape(-1,1)\n",
        "\n",
        "import keras\n",
        "from keras import layers\n",
        "# This is the size of our encoded representations\n",
        "encoding_dim = imput_numb      # 32 floats -> compression of factor 24.5, assuming the input is 784 floats\n",
        "\n",
        "# This is our input image\n",
        "encoder_input = keras.Input(shape=(60,))\n",
        "# \"encoded\" is the encoded representation of the input\n",
        "encoded = layers.Dense(50, activation='relu')(encoder_input)\n",
        "#Add a second hiden layer\n",
        "encoded = layers.Dense(encoding_dim, activation='relu')(encoded)\n",
        "# \"decoded\" is the lossy reconstruction of the input\n",
        "decoded = layers.Dense(60, activation='sigmoid')(encoded)\n",
        "\n",
        "# This model maps an input to its reconstruction\n",
        "autoencoder = keras.Model(encoder_input, decoded)\n",
        "encoder = keras.Model(encoder_input, encoded)\n",
        "\n",
        "# This is our encoded (32-dimensional) input\n",
        "encoded_input = keras.Input(shape=(encoding_dim,))\n",
        "# Retrieve the last layer of the autoencoder model\n",
        "decoder_layer = autoencoder.layers[-1]\n",
        "# Create the decoder model\n",
        "decoder = keras.Model(encoded_input, decoder_layer(encoded_input))\n",
        "\n",
        "autoencoder.compile(optimizer='adam', loss='binary_crossentropy',metrics=['accuracy'])\n",
        "\n",
        "autoencoder.fit(X_train, X_train,\n",
        "                epochs=25,\n",
        "                batch_size=50,\n",
        "                validation_data=(X_val, X_val))"
      ],
      "execution_count": 9,
      "outputs": [
        {
          "output_type": "stream",
          "text": [
            "Epoch 1/25\n",
            "3/3 [==============================] - 1s 86ms/step - loss: 0.7008 - accuracy: 0.0063 - val_loss: 0.6939 - val_accuracy: 0.0000e+00\n",
            "Epoch 2/25\n",
            "3/3 [==============================] - 0s 26ms/step - loss: 0.6931 - accuracy: 0.0000e+00 - val_loss: 0.6881 - val_accuracy: 0.0294\n",
            "Epoch 3/25\n",
            "3/3 [==============================] - 0s 24ms/step - loss: 0.6876 - accuracy: 0.0000e+00 - val_loss: 0.6837 - val_accuracy: 0.0294\n",
            "Epoch 4/25\n",
            "3/3 [==============================] - 0s 24ms/step - loss: 0.6832 - accuracy: 0.0000e+00 - val_loss: 0.6799 - val_accuracy: 0.0000e+00\n",
            "Epoch 5/25\n",
            "3/3 [==============================] - 0s 23ms/step - loss: 0.6791 - accuracy: 0.0063 - val_loss: 0.6756 - val_accuracy: 0.0000e+00\n",
            "Epoch 6/25\n",
            "3/3 [==============================] - 0s 27ms/step - loss: 0.6744 - accuracy: 0.0101 - val_loss: 0.6708 - val_accuracy: 0.0000e+00\n",
            "Epoch 7/25\n",
            "3/3 [==============================] - 0s 24ms/step - loss: 0.6687 - accuracy: 0.0101 - val_loss: 0.6657 - val_accuracy: 0.0000e+00\n",
            "Epoch 8/25\n",
            "3/3 [==============================] - 0s 26ms/step - loss: 0.6639 - accuracy: 0.0113 - val_loss: 0.6605 - val_accuracy: 0.0294\n",
            "Epoch 9/25\n",
            "3/3 [==============================] - 0s 25ms/step - loss: 0.6572 - accuracy: 0.0063 - val_loss: 0.6553 - val_accuracy: 0.0000e+00\n",
            "Epoch 10/25\n",
            "3/3 [==============================] - 0s 24ms/step - loss: 0.6516 - accuracy: 0.0177 - val_loss: 0.6505 - val_accuracy: 0.0000e+00\n",
            "Epoch 11/25\n",
            "3/3 [==============================] - 0s 23ms/step - loss: 0.6449 - accuracy: 0.0615 - val_loss: 0.6462 - val_accuracy: 0.0000e+00\n",
            "Epoch 12/25\n",
            "3/3 [==============================] - 0s 28ms/step - loss: 0.6400 - accuracy: 0.0402 - val_loss: 0.6426 - val_accuracy: 0.0000e+00\n",
            "Epoch 13/25\n",
            "3/3 [==============================] - 0s 24ms/step - loss: 0.6364 - accuracy: 0.0377 - val_loss: 0.6393 - val_accuracy: 0.0000e+00\n",
            "Epoch 14/25\n",
            "3/3 [==============================] - 0s 26ms/step - loss: 0.6326 - accuracy: 0.0402 - val_loss: 0.6359 - val_accuracy: 0.0294\n",
            "Epoch 15/25\n",
            "3/3 [==============================] - 0s 24ms/step - loss: 0.6253 - accuracy: 0.0527 - val_loss: 0.6324 - val_accuracy: 0.0000e+00\n",
            "Epoch 16/25\n",
            "3/3 [==============================] - 0s 25ms/step - loss: 0.6263 - accuracy: 0.0402 - val_loss: 0.6287 - val_accuracy: 0.0000e+00\n",
            "Epoch 17/25\n",
            "3/3 [==============================] - 0s 24ms/step - loss: 0.6178 - accuracy: 0.0352 - val_loss: 0.6251 - val_accuracy: 0.0000e+00\n",
            "Epoch 18/25\n",
            "3/3 [==============================] - 0s 26ms/step - loss: 0.6183 - accuracy: 0.0339 - val_loss: 0.6215 - val_accuracy: 0.0000e+00\n",
            "Epoch 19/25\n",
            "3/3 [==============================] - 0s 24ms/step - loss: 0.6136 - accuracy: 0.0653 - val_loss: 0.6182 - val_accuracy: 0.0588\n",
            "Epoch 20/25\n",
            "3/3 [==============================] - 0s 25ms/step - loss: 0.6107 - accuracy: 0.0553 - val_loss: 0.6150 - val_accuracy: 0.0588\n",
            "Epoch 21/25\n",
            "3/3 [==============================] - 0s 27ms/step - loss: 0.6072 - accuracy: 0.0503 - val_loss: 0.6120 - val_accuracy: 0.0588\n",
            "Epoch 22/25\n",
            "3/3 [==============================] - 0s 30ms/step - loss: 0.6086 - accuracy: 0.0604 - val_loss: 0.6092 - val_accuracy: 0.0882\n",
            "Epoch 23/25\n",
            "3/3 [==============================] - 0s 27ms/step - loss: 0.6011 - accuracy: 0.1130 - val_loss: 0.6065 - val_accuracy: 0.0588\n",
            "Epoch 24/25\n",
            "3/3 [==============================] - 0s 24ms/step - loss: 0.6033 - accuracy: 0.0942 - val_loss: 0.6039 - val_accuracy: 0.0588\n",
            "Epoch 25/25\n",
            "3/3 [==============================] - 0s 24ms/step - loss: 0.5999 - accuracy: 0.0605 - val_loss: 0.6015 - val_accuracy: 0.0588\n"
          ],
          "name": "stdout"
        },
        {
          "output_type": "execute_result",
          "data": {
            "text/plain": [
              "<tensorflow.python.keras.callbacks.History at 0x7fc3e9aea1d0>"
            ]
          },
          "metadata": {
            "tags": []
          },
          "execution_count": 9
        }
      ]
    },
    {
      "cell_type": "code",
      "metadata": {
        "id": "nGGFsscwP6as"
      },
      "source": [
        "# encoded_imgs = encoder.predict(X_test)\n",
        "# decoded_imgs = decoder.predict(encoded_imgs)\n",
        "# [test_loss, test_acc] = autoencoder.evaluate(X_test, X_test)\n",
        "# print(\"Test Loss\", test_loss)\n",
        "# print(\"Test Accuracy\", test_acc)\n",
        "# decoded_imgs[5,:],X_test[5,:]\n",
        "X_test = encoder.predict(X_test)\n",
        "X_train = encoder.predict(X_train)\n",
        "X_val = encoder.predict(X_val)"
      ],
      "execution_count": 10,
      "outputs": []
    },
    {
      "cell_type": "code",
      "metadata": {
        "colab": {
          "base_uri": "https://localhost:8080/"
        },
        "id": "sMAOlGiNWSMB",
        "outputId": "d4093b73-3ab4-4e5d-94be-9efcf383f9c7"
      },
      "source": [
        "from keras.models import Sequential\n",
        "from keras.utils import np_utils\n",
        "from keras.layers.core import Dense\n",
        "\n",
        "model1 = Sequential()\n",
        "model1.add(Dense(imput_numb, activation='relu', input_shape=(imput_numb,)))\t#Hidden Layer 1\n",
        "model1.add(Dense(256, activation='relu'))\t#Hidden Layer 2\n",
        "model1.add(Dense(1, activation='sigmoid')) #Last layer with one output per class\n",
        "model1.summary()\n",
        "\n",
        "# Configure the Network\n",
        "model1.compile(loss='binary_crossentropy', optimizer='adam', metrics=['accuracy'])\n"
      ],
      "execution_count": 11,
      "outputs": [
        {
          "output_type": "stream",
          "text": [
            "Model: \"sequential_1\"\n",
            "_________________________________________________________________\n",
            "Layer (type)                 Output Shape              Param #   \n",
            "=================================================================\n",
            "dense_6 (Dense)              (None, 30)                930       \n",
            "_________________________________________________________________\n",
            "dense_7 (Dense)              (None, 256)               7936      \n",
            "_________________________________________________________________\n",
            "dense_8 (Dense)              (None, 1)                 257       \n",
            "=================================================================\n",
            "Total params: 9,123\n",
            "Trainable params: 9,123\n",
            "Non-trainable params: 0\n",
            "_________________________________________________________________\n"
          ],
          "name": "stdout"
        }
      ]
    },
    {
      "cell_type": "code",
      "metadata": {
        "colab": {
          "base_uri": "https://localhost:8080/",
          "height": 1000
        },
        "id": "ghCo5FMfVZ-x",
        "outputId": "a1c5c19d-cb47-4a0c-e523-646617c247ea"
      },
      "source": [
        "history = model1.fit(X_train, y_train, validation_data=(X_val,y_val) ,epochs=20, batch_size=32)\n",
        "test_loss, test_acc = model1.evaluate(X_test, y_test)\n",
        "print('Test accuracy:', test_acc)\n",
        "# Plotting Metrics\n",
        "# Plot the Accuracy Curves\n",
        "fig = plt.figure()\n",
        "plt.plot(history.history['accuracy'],'r')\n",
        "plt.plot(history.history['val_accuracy'],'b')\n",
        "plt.title('model accuracy')\n",
        "plt.ylabel('accuracy')\n",
        "plt.xlabel('epoch')\n",
        "plt.legend(['train', 'validation'], loc='lower right')\n",
        "plt.grid()\n",
        "\n",
        "# Plot the Loss Curves\n",
        "fig = plt.figure()\n",
        "plt.plot(history.history['loss'],'r')\n",
        "plt.plot(history.history['val_loss'],'b')\n",
        "plt.title('model loss')\n",
        "plt.ylabel('loss')\n",
        "plt.xlabel('epoch')\n",
        "plt.legend(['train', 'validation'], loc='upper right')\n",
        "plt.grid()"
      ],
      "execution_count": 12,
      "outputs": [
        {
          "output_type": "stream",
          "text": [
            "Epoch 1/20\n",
            "5/5 [==============================] - 1s 49ms/step - loss: 0.6902 - accuracy: 0.5323 - val_loss: 0.6882 - val_accuracy: 0.5588\n",
            "Epoch 2/20\n",
            "5/5 [==============================] - 0s 13ms/step - loss: 0.6858 - accuracy: 0.5810 - val_loss: 0.6828 - val_accuracy: 0.5294\n",
            "Epoch 3/20\n",
            "5/5 [==============================] - 0s 16ms/step - loss: 0.6837 - accuracy: 0.5661 - val_loss: 0.6778 - val_accuracy: 0.7059\n",
            "Epoch 4/20\n",
            "5/5 [==============================] - 0s 14ms/step - loss: 0.6726 - accuracy: 0.7309 - val_loss: 0.6786 - val_accuracy: 0.4706\n",
            "Epoch 5/20\n",
            "5/5 [==============================] - 0s 17ms/step - loss: 0.6692 - accuracy: 0.5443 - val_loss: 0.6812 - val_accuracy: 0.4706\n",
            "Epoch 6/20\n",
            "5/5 [==============================] - 0s 13ms/step - loss: 0.6759 - accuracy: 0.5383 - val_loss: 0.6733 - val_accuracy: 0.5294\n",
            "Epoch 7/20\n",
            "5/5 [==============================] - 0s 13ms/step - loss: 0.6561 - accuracy: 0.6534 - val_loss: 0.6701 - val_accuracy: 0.5294\n",
            "Epoch 8/20\n",
            "5/5 [==============================] - 0s 13ms/step - loss: 0.6555 - accuracy: 0.6592 - val_loss: 0.6553 - val_accuracy: 0.7059\n",
            "Epoch 9/20\n",
            "5/5 [==============================] - 0s 12ms/step - loss: 0.6608 - accuracy: 0.5886 - val_loss: 0.6510 - val_accuracy: 0.7059\n",
            "Epoch 10/20\n",
            "5/5 [==============================] - 0s 13ms/step - loss: 0.6531 - accuracy: 0.6557 - val_loss: 0.6588 - val_accuracy: 0.6176\n",
            "Epoch 11/20\n",
            "5/5 [==============================] - 0s 12ms/step - loss: 0.6467 - accuracy: 0.6523 - val_loss: 0.6756 - val_accuracy: 0.4706\n",
            "Epoch 12/20\n",
            "5/5 [==============================] - 0s 12ms/step - loss: 0.6529 - accuracy: 0.5877 - val_loss: 0.6649 - val_accuracy: 0.5588\n",
            "Epoch 13/20\n",
            "5/5 [==============================] - 0s 12ms/step - loss: 0.6432 - accuracy: 0.6589 - val_loss: 0.6468 - val_accuracy: 0.6471\n",
            "Epoch 14/20\n",
            "5/5 [==============================] - 0s 14ms/step - loss: 0.6439 - accuracy: 0.6991 - val_loss: 0.6395 - val_accuracy: 0.6765\n",
            "Epoch 15/20\n",
            "5/5 [==============================] - 0s 14ms/step - loss: 0.6299 - accuracy: 0.7352 - val_loss: 0.6344 - val_accuracy: 0.6765\n",
            "Epoch 16/20\n",
            "5/5 [==============================] - 0s 14ms/step - loss: 0.6224 - accuracy: 0.7397 - val_loss: 0.6335 - val_accuracy: 0.6765\n",
            "Epoch 17/20\n",
            "5/5 [==============================] - 0s 12ms/step - loss: 0.6240 - accuracy: 0.7561 - val_loss: 0.6256 - val_accuracy: 0.6765\n",
            "Epoch 18/20\n",
            "5/5 [==============================] - 0s 14ms/step - loss: 0.6112 - accuracy: 0.7541 - val_loss: 0.6248 - val_accuracy: 0.6765\n",
            "Epoch 19/20\n",
            "5/5 [==============================] - 0s 15ms/step - loss: 0.6150 - accuracy: 0.7539 - val_loss: 0.6288 - val_accuracy: 0.6471\n",
            "Epoch 20/20\n",
            "5/5 [==============================] - 0s 14ms/step - loss: 0.6038 - accuracy: 0.6955 - val_loss: 0.6345 - val_accuracy: 0.6471\n",
            "2/2 [==============================] - 0s 8ms/step - loss: 0.5365 - accuracy: 0.8571\n",
            "Test accuracy: 0.8571428656578064\n"
          ],
          "name": "stdout"
        },
        {
          "output_type": "display_data",
          "data": {
            "image/png": "[encoded data removed]",
            "text/plain": [
              "<Figure size 432x288 with 1 Axes>"
            ]
          },
          "metadata": {
            "tags": [],
            "needs_background": "light"
          }
        },
        {
          "output_type": "display_data",
          "data": {
            "image/png": "[encoded data removed]",
            "text/plain": [
              "<Figure size 432x288 with 1 Axes>"
            ]
          },
          "metadata": {
            "tags": [],
            "needs_background": "light"
          }
        }
      ]
    },
    {
      "cell_type": "code",
      "metadata": {
        "id": "NJZNFtS5Vhph"
      },
      "source": [
        "# # Prediction Labels\n",
        "# Y_pred = model.predict(X_test)\n",
        "\n",
        "\n",
        "# #Initial a threshhold for last layer\n",
        "# y_pred=np.zeros(len(Y_pred))\n",
        "# for i in range(len(y_pred)):\n",
        "#   if Y_pred[i]>0.5:\n",
        "#     y_pred[i]=1\n",
        "#   else:\n",
        "#     y_pred[i]=0\n",
        "\n",
        "\n",
        "# # Evaluate the trained model\n",
        "# [test_loss, test_acc] = model.evaluate(X_test, y_test)\n",
        "# print(\"Test Loss\", test_loss)\n",
        "# print(\"Test Accuracy\", test_acc)\n",
        "\n",
        "# # correct_indices = np.nonzero(y_pred == y_test)[0]\n",
        "# # incorrect_indices = np.nonzero(y_pred != y_test)[0]\n",
        "\n",
        "# # print(\" classified correctly\", len(correct_indices))\n",
        "# # print(\" classified incorrectly\", len(incorrect_indices))\n",
        "\n",
        "# from sklearn.metrics import confusion_matrix , classification_report\n",
        "# # Confusion Matrix\n",
        "# class_names=[0,1]\n",
        "# confusion_mtx = confusion_matrix(y_test, y_pred)\n",
        "# print(\"confusion matrix=\\n\",confusion_mtx)\n",
        "\n",
        "# import itertools\n",
        "# def plot_confusion_matrix(cm, classes,\n",
        "#                           normalize=False,\n",
        "#                           title='Confusion matrix',\n",
        "#                           cmap=plt.cm.Blues):\n",
        "#     \"\"\"\n",
        "#     This function prints and plots the confusion matrix.\n",
        "#     Normalization can be applied by setting `normalize=True`.\n",
        "#     \"\"\"\n",
        "#     plt.figure(figsize = (5,5))\n",
        "#     plt.imshow(cm, interpolation='nearest', cmap=cmap)\n",
        "#     plt.title(title)\n",
        "#     plt.colorbar()\n",
        "#     tick_marks = np.arange(len(classes))\n",
        "#     plt.xticks(tick_marks, classes)\n",
        "#     plt.yticks(tick_marks, classes)\n",
        "#     if normalize:\n",
        "#         cm = cm.astype('float') / cm.sum(axis=1)[:, np.newaxis]\n",
        "\n",
        "#     thresh = cm.max() / 2.\n",
        "#     for i, j in itertools.product(range(cm.shape[0]), range(cm.shape[1])):\n",
        "#         plt.text(j, i, cm[i, j],\n",
        "#                  horizontalalignment=\"center\",\n",
        "#                  color=\"white\" if cm[i, j] > thresh else \"black\")\n",
        "#     plt.tight_layout()\n",
        "#     plt.ylabel('True label')\n",
        "#     plt.xlabel('Predicted label')\n",
        "    \n",
        "# plot_confusion_matrix(confusion_mtx, class_names)    \n",
        "\n",
        "# print(classification_report(y_test,y_pred))\n",
        "\n"
      ],
      "execution_count": 15,
      "outputs": []
    }
  ]
}