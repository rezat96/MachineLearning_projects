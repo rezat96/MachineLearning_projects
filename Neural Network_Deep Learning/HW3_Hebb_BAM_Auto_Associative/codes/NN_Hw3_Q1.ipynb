{
  "nbformat": 4,
  "nbformat_minor": 0,
  "metadata": {
    "colab": {
      "name": "NN_Hw3_Q1.ipynb",
      "provenance": [],
      "collapsed_sections": []
    },
    "kernelspec": {
      "name": "python3",
      "display_name": "Python 3"
    },
    "language_info": {
      "name": "python"
    }
  },
  "cells": [
    {
      "cell_type": "markdown",
      "metadata": {
        "id": "h0MHCLBCKs1o"
      },
      "source": [
        "\n",
        "\n",
        "> # Creating The data set\n",
        "\n"
      ]
    },
    {
      "cell_type": "code",
      "metadata": {
        "id": "_QAjWJhQKtX3"
      },
      "source": [
        "import numpy as np\n",
        "#creating A\n",
        "A_mat=-1*np.ones((9,7)).flatten()\n",
        "index_A=[3,10,17,23,25,30,32,36,37,38,39,40,43,47,50,54,56,57,58,60,61,62]\n",
        "A_mat[index_A]=1\n",
        "# A_mat=A_mat.reshape((9,7))\n",
        "A_mat=A_mat.reshape(-1,1)\n",
        "\n",
        "#creating B\n",
        "B_mat=-1*np.ones((9,7)).flatten()\n",
        "index_B=[0,1,2,3,4,5,6,7,13,14,19,21,25,28,29,30,31,35,39,42,47,49,55,56,57,58,59,60,61,62]\n",
        "B_mat[index_B]=1\n",
        "B_mat=B_mat.reshape(-1,1)\n",
        "\n",
        "#creating C\n",
        "C_mat=-1*np.ones((9,7)).flatten()\n",
        "index_C=[2,3,4,5,8,13,14,21,28,35,42,50,55,58,59,60,61]\n",
        "C_mat[index_C]=1\n",
        "C_mat=C_mat.reshape(-1,1)\n",
        "\n",
        "##new A , B,C\n",
        "A_new=np.array([-1,1,-1,1,-1,1,1,1,1,1,-1,1,1,-1,1]).reshape(-1,1)\n",
        "B_new=np.array([1,1,-1,1,-1,1,1,1,-1,1,-1,1,1,1,-1]).reshape(-1,1)\n",
        "C_new=np.array([-1,1,1,1,-1,-1,1,-1,-1,1,-1,-1,-1,1,1]).reshape(-1,1)"
      ],
      "execution_count": 1,
      "outputs": []
    },
    {
      "cell_type": "markdown",
      "metadata": {
        "id": "JALlRZ5KLfv3"
      },
      "source": [
        "# Plotting The Dataset"
      ]
    },
    {
      "cell_type": "code",
      "metadata": {
        "id": "J-l13V6DEkWG"
      },
      "source": [
        "import matplotlib.pyplot as plt\n",
        "def plot_char_dataset(dataset, plot_targets=False):\n",
        "  l = len(dataset)\n",
        "  fig = plt.figure(figsize=(9,3 + plot_targets*3))\n",
        "  for i in range(l):\n",
        "    ax = fig.add_subplot(1+plot_targets,l,i+1)\n",
        "    ax.imshow(np.array(dataset[i][0].reshape((9,7))),cmap='Greys')\n",
        "    # Turn off tick labels\n",
        "    ax.set_yticklabels([])\n",
        "    ax.set_xticklabels([])\n",
        "    # ax.axis('off')\n",
        "    if(plot_targets):\n",
        "      ax = fig.add_subplot(1+plot_targets,l,i+1+l)\n",
        "      ax.imshow(np.array(dataset[i][1].reshape((5,3))),cmap='Greys')\n",
        "      # Turn off tick labels\n",
        "      ax.set_yticklabels([])\n",
        "      ax.set_xticklabels([])\n",
        "      # ax.axis('off')"
      ],
      "execution_count": 2,
      "outputs": []
    },
    {
      "cell_type": "code",
      "metadata": {
        "colab": {
          "base_uri": "https://localhost:8080/",
          "height": 361
        },
        "id": "qxCUvs0iE_Xk",
        "outputId": "2afa462b-6f5a-4877-a36e-ad4637c6ec1a"
      },
      "source": [
        "charset=np.array([[A_mat,A_new],[B_mat,B_new],[C_mat,C_new]], dtype=\"object\")\n",
        "plot_char_dataset(charset, plot_targets=True)"
      ],
      "execution_count": 3,
      "outputs": [
        {
          "output_type": "display_data",
          "data": {
            "image/png": "[encoded data removed]",
            "text/plain": [
              "<Figure size 648x432 with 6 Axes>"
            ]
          },
          "metadata": {
            "tags": [],
            "needs_background": "light"
          }
        }
      ]
    },
    {
      "cell_type": "markdown",
      "metadata": {
        "id": "ZRbuQyM8Lm2X"
      },
      "source": [
        "# Part A"
      ]
    },
    {
      "cell_type": "code",
      "metadata": {
        "id": "v8x-NJUGifBg"
      },
      "source": [
        "W = np.zeros([63, 15])\n",
        "for i in range(3):\n",
        "  s, t = np.array(charset[i,0]).flatten(), np.array(charset[i,1]).flatten()\n",
        "  W += np.transpose([s]).dot([t])"
      ],
      "execution_count": 4,
      "outputs": []
    },
    {
      "cell_type": "code",
      "metadata": {
        "id": "6k2eTGLilNuZ"
      },
      "source": [
        "def evaluate(dataset, W):\n",
        "  sum=0\n",
        "  is_recognized = np.zeros((len(dataset),1))\n",
        "  for i in range(len(dataset)):\n",
        "    s, t = np.array(dataset[i,0]).flatten(), np.array(dataset[i,1]).flatten()\n",
        "    t_hat = np.sign(np.array([s]).dot(W))\n",
        "    if((t_hat-t==0).all()):\n",
        "      is_recognized[i] = 1\n",
        "      sum+=1  \n",
        "  return is_recognized,sum"
      ],
      "execution_count": 5,
      "outputs": []
    },
    {
      "cell_type": "code",
      "metadata": {
        "colab": {
          "base_uri": "https://localhost:8080/"
        },
        "id": "46wdotTSClII",
        "outputId": "2d80ef60-3353-4f3a-88f6-5124c7038ad0"
      },
      "source": [
        "if((evaluate(charset, W)[0]==[1,1,1]).all()):\n",
        "  print('Target pattern has been fully recognized by the network')\n",
        "else:\n",
        "  print('Target pattern has not been completly recognized by the network')\n",
        "  print(evaluate(charset, W)[1])\n",
        "  print(evaluate(charset, W)[0]==1)"
      ],
      "execution_count": 6,
      "outputs": [
        {
          "output_type": "stream",
          "text": [
            "Target pattern has been fully recognized by the network\n"
          ],
          "name": "stdout"
        }
      ]
    },
    {
      "cell_type": "markdown",
      "metadata": {
        "id": "jTTJc9kjVX0F"
      },
      "source": [
        "# Part B"
      ]
    },
    {
      "cell_type": "code",
      "metadata": {
        "id": "1HE4-XZQVYx8",
        "colab": {
          "base_uri": "https://localhost:8080/"
        },
        "outputId": "f437b4ce-87a5-4214-9f1e-d8e226a9c6b6"
      },
      "source": [
        "import random\n",
        "random.seed(41)\n",
        "epoch=1000\n",
        "sum=0\n",
        "sum_a=0\n",
        "sum_b=0\n",
        "sum_c=0\n",
        "# WW = np.zeros([63, 15])\n",
        "for e in range(epoch):\n",
        "  noise_ratio=6                                        #******change between 6 and 16\n",
        "  randomlist_a = random.sample(range(0, 62), noise_ratio) \n",
        "  randomlist_b = random.sample(range(0, 62), noise_ratio)\n",
        "  randomlist_c = random.sample(range(0, 62), noise_ratio)\n",
        "  A_mat_noisy=A_mat.copy()\n",
        "  A_mat_noisy[randomlist_a]*=-1\n",
        "  B_mat_noisy=B_mat.copy()\n",
        "  B_mat_noisy[randomlist_b]*=-1\n",
        "  C_mat_noisy=C_mat.copy()\n",
        "  C_mat_noisy[randomlist_c]*=-1\n",
        "\n",
        "  a_diff=np.sign(A_mat_noisy.reshape((1,63)).dot(W))-A_new.reshape((1,15))\n",
        "  b_diff=np.sign(B_mat_noisy.reshape((1,63)).dot(W))-B_new.reshape((1,15))\n",
        "  c_diff=np.sign(C_mat_noisy.reshape((1,63)).dot(W))-C_new.reshape((1,15))\n",
        "  if ((a_diff==0).all() & (b_diff==0).all() & (c_diff==0).all()):\n",
        "    sum+=1\n",
        "\n",
        "  if ((a_diff==0).all()):\n",
        "      sum_a+=1\n",
        "  if ((b_diff==0).all()):\n",
        "      sum_b+=1\n",
        "  if ((c_diff==0).all()):\n",
        "      sum_c+=1\n",
        "\n",
        "print(sum_a,sum_b,sum_c)"
      ],
      "execution_count": 7,
      "outputs": [
        {
          "output_type": "stream",
          "text": [
            "1000 1000 1000\n"
          ],
          "name": "stdout"
        }
      ]
    },
    {
      "cell_type": "code",
      "metadata": {
        "colab": {
          "base_uri": "https://localhost:8080/",
          "height": 197
        },
        "id": "monMneSDtBc3",
        "outputId": "120d1091-2846-4e2a-db9c-5be0fa1c5c61"
      },
      "source": [
        "charset_noisy=np.array([[A_mat_noisy,A_new],[B_mat_noisy,B_new],[C_mat_noisy,C_new]],dtype=\"object\")\n",
        "plot_char_dataset(charset_noisy, plot_targets=False)"
      ],
      "execution_count": 8,
      "outputs": [
        {
          "output_type": "display_data",
          "data": {
            "image/png": "[encoded data removed]",
            "text/plain": [
              "<Figure size 648x216 with 3 Axes>"
            ]
          },
          "metadata": {
            "tags": [],
            "needs_background": "light"
          }
        }
      ]
    },
    {
      "cell_type": "markdown",
      "metadata": {
        "id": "UTjAKtIAziXx"
      },
      "source": [
        "# Part C"
      ]
    },
    {
      "cell_type": "code",
      "metadata": {
        "colab": {
          "base_uri": "https://localhost:8080/"
        },
        "id": "vYQtqtpzzP7G",
        "outputId": "dca01f75-26b9-4f38-af1a-3d450cedd9d7"
      },
      "source": [
        "import random\n",
        "random.seed(40)\n",
        "epoch=1000\n",
        "sum=0\n",
        "sum_a=0\n",
        "sum_b=0\n",
        "sum_c=0\n",
        "# WWW = np.zeros([63, 15])\n",
        "for e in range(epoch):\n",
        "  miss_ratio=16                                       #change between 6 and 16\n",
        "  #Generate 5 random numbers between 10 and 30\n",
        "  randomlist_a = random.sample(range(0, 62), miss_ratio) \n",
        "  randomlist_b = random.sample(range(0, 62), miss_ratio)\n",
        "  randomlist_c = random.sample(range(0, 62), miss_ratio)\n",
        "  A_mat_missing=A_mat.copy()\n",
        "  A_mat_missing[randomlist_a]=0\n",
        "  B_mat_missing=B_mat.copy()\n",
        "  B_mat_missing[randomlist_b]=0\n",
        "  C_mat_missing=C_mat.copy()\n",
        "  C_mat_missing[randomlist_c]=0\n",
        "\n",
        "  a_diff=np.sign(A_mat_missing.reshape((1,63)).dot(W))-A_new.reshape((1,15))\n",
        "  b_diff=np.sign(B_mat_missing.reshape((1,63)).dot(W))-B_new.reshape((1,15))\n",
        "  c_diff=np.sign(C_mat_missing.reshape((1,63)).dot(W))-C_new.reshape((1,15))\n",
        "\n",
        "  if ((a_diff==0).all() & (b_diff==0).all() & (c_diff==0).all()):\n",
        "    sum+=1\n",
        "  if ((a_diff==0).all()):\n",
        "      sum_a+=1\n",
        "  if ((b_diff==0).all()):\n",
        "      sum_b+=1\n",
        "  if ((c_diff==0).all()):\n",
        "      sum_c+=1\n",
        "\n",
        "  # if ((np.sign(A_mat_missing.reshape((1,63)).dot(W))-A_new.reshape((1,15))==0).all() & (np.sign(B_mat_missing.reshape((1,63)).dot(W))-B_new.reshape((1,15))==0).all() & (np.sign(C_mat_missing.reshape((1,63)).dot(W))-C_new.reshape((1,15))==0).all()):\n",
        "  #   sum+=1\n",
        "print(sum_a,sum_b,sum_c)"
      ],
      "execution_count": 9,
      "outputs": [
        {
          "output_type": "stream",
          "text": [
            "1000 1000 1000\n"
          ],
          "name": "stdout"
        }
      ]
    },
    {
      "cell_type": "code",
      "metadata": {
        "colab": {
          "base_uri": "https://localhost:8080/",
          "height": 197
        },
        "id": "eJK9lViy03hv",
        "outputId": "8ef0a1a7-1bbc-4b99-ba9e-c9f198a5f024"
      },
      "source": [
        "  charset_missing=np.array([[A_mat_missing,A_new],[B_mat_missing,B_new],[C_mat_missing,C_new]],dtype=\"object\")\n",
        "plot_char_dataset(charset_missing, plot_targets=False)"
      ],
      "execution_count": 10,
      "outputs": [
        {
          "output_type": "display_data",
          "data": {
            "image/png": "[encoded data removed]",
            "text/plain": [
              "<Figure size 648x216 with 3 Axes>"
            ]
          },
          "metadata": {
            "tags": [],
            "needs_background": "light"
          }
        }
      ]
    }
  ]
}