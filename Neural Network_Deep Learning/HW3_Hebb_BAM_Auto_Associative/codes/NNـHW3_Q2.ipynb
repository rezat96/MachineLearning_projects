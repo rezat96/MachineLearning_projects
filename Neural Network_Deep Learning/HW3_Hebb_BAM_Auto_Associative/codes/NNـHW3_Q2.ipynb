{
  "nbformat": 4,
  "nbformat_minor": 0,
  "metadata": {
    "colab": {
      "name": "NNـHW3_Q2.ipynb",
      "provenance": [],
      "collapsed_sections": []
    },
    "kernelspec": {
      "name": "python3",
      "display_name": "Python 3"
    },
    "language_info": {
      "name": "python"
    }
  },
  "cells": [
    {
      "cell_type": "code",
      "metadata": {
        "id": "GHjNQm4lzpzl"
      },
      "source": [
        "#importss\n",
        "import numpy as np"
      ],
      "execution_count": 1,
      "outputs": []
    },
    {
      "cell_type": "code",
      "metadata": {
        "id": "0G7fENwD8jEq"
      },
      "source": [
        "N=100\n",
        "# E=0,20,40\n",
        "R_list=[10,20,30,40,50,60,70,80,90,100]"
      ],
      "execution_count": 2,
      "outputs": []
    },
    {
      "cell_type": "markdown",
      "metadata": {
        "id": "2P5xsDcZ_1LJ"
      },
      "source": [
        "# E=0"
      ]
    },
    {
      "cell_type": "code",
      "metadata": {
        "colab": {
          "base_uri": "https://localhost:8080/"
        },
        "id": "H-keVC2WqSyy",
        "outputId": "f1241209-0a3b-402d-b99c-63fe5f1a1d51"
      },
      "source": [
        "mean_accuracy_E0=np.zeros(10)\n",
        "print(\"the results for Data without noise are : \")\n",
        "for k in R_list:\n",
        "  R=k\n",
        "  inputs=np.sign(np.random.uniform(-1,1,size=(N,R)).reshape(-1,1))\n",
        "  inputs=inputs.reshape((R,N))\n",
        "  outputs=inputs.copy()\n",
        "  #Weights\n",
        "  W=np.zeros((N,N))-R*np.identity(N)\n",
        "  for i in range(R):\n",
        "    W=W+np.matmul(inputs[i].reshape(N,1),inputs[i].reshape(N,1).T)\n",
        "  run=30\n",
        "  count_hit_arr=np.zeros((run,R))\n",
        "                    \n",
        "  for c in range(run):\n",
        "    for r in range(R):\n",
        "      d=np.sign(np.matmul(inputs[r,:],W))-outputs[r,:]\n",
        "      count_hit_arr[c,r] =N- np.count_nonzero(d)\n",
        "  succes_rate=np.sum(count_hit_arr)/(R*run*N)\n",
        "  print(\"for R=%d:\"%k)\n",
        "  v=int(R/10)-1\n",
        "  mean_accuracy_E0[v]=np.mean(count_hit_arr)   \n",
        "  print(\"mean and variation are  %0.2f   :\"%mean_accuracy_E0[v],'%0.2f' %np.std(count_hit_arr))  "
      ],
      "execution_count": 20,
      "outputs": [
        {
          "output_type": "stream",
          "text": [
            "the results for Data without noise are : \n",
            "for R=10:\n",
            "mean and variation are  100.00   : 0.00\n",
            "for R=20:\n",
            "mean and variation are  98.80   : 1.25\n",
            "for R=30:\n",
            "mean and variation are  96.93   : 1.53\n",
            "for R=40:\n",
            "mean and variation are  94.55   : 1.80\n",
            "for R=50:\n",
            "mean and variation are  91.34   : 2.31\n",
            "for R=60:\n",
            "mean and variation are  90.38   : 2.43\n",
            "for R=70:\n",
            "mean and variation are  87.93   : 2.93\n",
            "for R=80:\n",
            "mean and variation are  86.11   : 2.84\n",
            "for R=90:\n",
            "mean and variation are  84.99   : 2.81\n",
            "for R=100:\n",
            "mean and variation are  83.68   : 3.17\n"
          ],
          "name": "stdout"
        }
      ]
    },
    {
      "cell_type": "markdown",
      "metadata": {
        "id": "6kfV5B70_81o"
      },
      "source": [
        "# E=20 %"
      ]
    },
    {
      "cell_type": "code",
      "metadata": {
        "colab": {
          "base_uri": "https://localhost:8080/"
        },
        "id": "G6D7nlCH8p8K",
        "outputId": "37a64814-ec59-440a-887c-25c1c361afd3"
      },
      "source": [
        "mean_accuracy_E20=np.zeros(10)\n",
        "print(\"the results for Data with 20% noise are : \")\n",
        "rate=0.2\n",
        "for k in R_list:\n",
        "  R=k\n",
        "  inputs=np.sign(np.random.uniform(-1,1,size=(N,R)).reshape(-1,1))\n",
        "  inputs1=inputs.copy()\n",
        "  inputs1=inputs1.reshape((R,N))\n",
        "  inputs=inputs.reshape((R,N))\n",
        "  outputs=inputs.copy()\n",
        "  # ind=np.zeros((R,int(0.4*N))).astype('int32')\n",
        "  ind=np.zeros(int(rate*N)).astype('int32')\n",
        "  for t in range(R):\n",
        "    ind=np.random.choice(N, int(N*rate),replace=False)\n",
        "    inputs1[t,ind]=-1*inputs[t,ind]\n",
        "\n",
        "  #Weights\n",
        "  W=np.zeros((N,N))-R*np.identity(N)\n",
        "  for i in range(R):\n",
        "    W=W+np.matmul(inputs[i].reshape(N,1),inputs[i].reshape(N,1).T)\n",
        "  run=30\n",
        "  count_hit_arr=np.zeros((run,R))\n",
        "                    \n",
        "  for c in range(run):\n",
        "    for r in range(R):\n",
        "      d=np.sign(np.matmul(inputs1[r,:],W))-outputs[r,:]\n",
        "      count_hit_arr[c,r] =N- np.count_nonzero(d)\n",
        "  succes_rate=np.sum(count_hit_arr)/(R*run*N)\n",
        "  print(\"for R=%d:\"%k)\n",
        "  v=int(R/10)-1\n",
        "  # print(v)\n",
        "  mean_accuracy_E20[v]=np.mean(count_hit_arr)\n",
        "  # print(\"mean and variation are :\",mean_accuracy_E20[v],\"&&\",np.std(count_hit_arr))  \n",
        "  print(\"mean and variation are  %0.2f   :\"%mean_accuracy_E0[v],'%0.2f' %np.std(count_hit_arr))    \n"
      ],
      "execution_count": 22,
      "outputs": [
        {
          "output_type": "stream",
          "text": [
            "the results for Data with 20% noise are : \n",
            "for R=10:\n",
            "mean and variation are  100.00   : 2.14\n",
            "for R=20:\n",
            "mean and variation are  98.80   : 3.35\n",
            "for R=30:\n",
            "mean and variation are  96.93   : 3.14\n",
            "for R=40:\n",
            "mean and variation are  94.55   : 3.53\n",
            "for R=50:\n",
            "mean and variation are  91.34   : 3.62\n",
            "for R=60:\n",
            "mean and variation are  90.38   : 3.65\n",
            "for R=70:\n",
            "mean and variation are  87.93   : 3.99\n",
            "for R=80:\n",
            "mean and variation are  86.11   : 4.19\n",
            "for R=90:\n",
            "mean and variation are  84.99   : 3.99\n",
            "for R=100:\n",
            "mean and variation are  83.68   : 4.09\n"
          ],
          "name": "stdout"
        }
      ]
    },
    {
      "cell_type": "markdown",
      "metadata": {
        "id": "vjhHHQhC__ZX"
      },
      "source": [
        "# E=40 %"
      ]
    },
    {
      "cell_type": "code",
      "metadata": {
        "colab": {
          "base_uri": "https://localhost:8080/"
        },
        "id": "sxq2drff3Mrv",
        "outputId": "f4b2ddca-e5f9-43e2-a291-8514ec0b5a35"
      },
      "source": [
        "mean_accuracy_E40=np.zeros(10)\n",
        "print(\"the results for Data with 40% noise are : \")\n",
        "rate=0.4\n",
        "for k in R_list:\n",
        "  R=k\n",
        "  inputs=np.sign(np.random.uniform(-1,1,size=(N,R)).reshape(-1,1))\n",
        "  inputs1=inputs.copy()\n",
        "  inputs1=inputs1.reshape((R,N))\n",
        "  inputs=inputs.reshape((R,N))\n",
        "  outputs=inputs.copy()\n",
        "  ind=np.zeros(int(rate*N)).astype('int32')\n",
        "  for t in range(R):\n",
        "    ind=np.random.choice(N, int(N*rate),replace=False)\n",
        "    inputs1[t,ind]=-1*inputs[t,ind]\n",
        "\n",
        "  #Weights\n",
        "  W=np.zeros((N,N))-R*np.identity(N)\n",
        "  for i in range(R):\n",
        "    W=W+np.matmul(inputs[i].reshape(N,1),inputs[i].reshape(N,1).T)\n",
        "  run=30\n",
        "  count_hit_arr=np.zeros((run,R))\n",
        "                    \n",
        "  for c in range(run):\n",
        "    for r in range(R):\n",
        "      d=np.sign(np.matmul(inputs1[r,:],W))-outputs[r,:]\n",
        "      count_hit_arr[c,r] =N- np.count_nonzero(d)\n",
        "  # succes_rate=np.sum(count_hit_arr)/(R*run*N)\n",
        "  print(\"for R=%d:\"%k)\n",
        "  v=int(R/10)-1\n",
        "  mean_accuracy_E40[v]=np.mean(count_hit_arr)\n",
        "  # print(\"mean and variation are :\",mean_accuracy_E40[v],\"&&\",np.std(count_hit_arr))   \n",
        "  print(\"mean and variation are  %0.2f   :\"%mean_accuracy_E0[v],'%0.2f' %np.std(count_hit_arr))    \n",
        " \n"
      ],
      "execution_count": 23,
      "outputs": [
        {
          "output_type": "stream",
          "text": [
            "the results for Data with 40% noise are : \n",
            "for R=10:\n",
            "mean and variation are  100.00   : 5.66\n",
            "for R=20:\n",
            "mean and variation are  98.80   : 4.07\n",
            "for R=30:\n",
            "mean and variation are  96.93   : 4.90\n",
            "for R=40:\n",
            "mean and variation are  94.55   : 4.77\n",
            "for R=50:\n",
            "mean and variation are  91.34   : 4.68\n",
            "for R=60:\n",
            "mean and variation are  90.38   : 5.02\n",
            "for R=70:\n",
            "mean and variation are  87.93   : 4.94\n",
            "for R=80:\n",
            "mean and variation are  86.11   : 4.86\n",
            "for R=90:\n",
            "mean and variation are  84.99   : 5.50\n",
            "for R=100:\n",
            "mean and variation are  83.68   : 4.46\n"
          ],
          "name": "stdout"
        }
      ]
    },
    {
      "cell_type": "code",
      "metadata": {
        "colab": {
          "base_uri": "https://localhost:8080/",
          "height": 513
        },
        "id": "Tems0r4QCPGz",
        "outputId": "da58ae6b-1f7f-498d-af76-aab48cad6a69"
      },
      "source": [
        "import matplotlib.pyplot as plt\n",
        "plt.figure(figsize=(10,8))\n",
        "plt.plot(R_list,mean_accuracy_E0)\n",
        "plt.plot(R_list,mean_accuracy_E20)\n",
        "plt.plot(R_list,mean_accuracy_E40)\n",
        "# plt.plot(R_list,mean_accuracy_E60)\n",
        "plt.title('Auto associative')\n",
        "plt.ylabel('Mean accuracy')\n",
        "plt.xlabel('Number of vectors')\n",
        "# plt.ylim([40,60])\n",
        "plt.legend(['0% Noise', '20% Noise','40% Noise'] )\n",
        "# plt.savefig(\"P1.png\")\n",
        "plt.show()\n",
        "# from google.colab import files\n",
        "# files.download(\"P1.png\") "
      ],
      "execution_count": 6,
      "outputs": [
        {
          "output_type": "display_data",
          "data": {
            "image/png": "[encoded data removed]",
            "text/plain": [
              "<Figure size 720x576 with 1 Axes>"
            ]
          },
          "metadata": {
            "tags": [],
            "needs_background": "light"
          }
        }
      ]
    }
  ]
}