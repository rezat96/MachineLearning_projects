{
  "nbformat": 4,
  "nbformat_minor": 0,
  "metadata": {
    "colab": {
      "name": "NN_HW3_Q4_Part2.ipynb",
      "provenance": [],
      "collapsed_sections": []
    },
    "kernelspec": {
      "name": "python3",
      "display_name": "Python 3"
    },
    "language_info": {
      "name": "python"
    }
  },
  "cells": [
    {
      "cell_type": "code",
      "metadata": {
        "id": "EAPbvpNIDnIS"
      },
      "source": [
        "import numpy as np\n",
        "import matplotlib.pyplot as plt\n",
        "R=8 # A,B ,C,D,E,F,G,H       #change R to 8\n",
        "n,m=15,3\n",
        "A=np.array([-1,1,-1,1,-1,1,1,1,1,1,-1,1,1,-1,1]).reshape((1,n))\n",
        "B=np.array([1,1,-1,1,-1,1,1,1,-1,1,-1,1,1,1,-1]).reshape((1,n))\n",
        "C=np.array([-1,1,1,1,-1,-1,1,-1,-1,1,-1,-1,-1,1,1]).reshape((1,n))\n",
        "D=np.array([1,1,-1,1,-1,1,1,-1,1,1,-1,1,1,1,-1]).reshape((1,n))\n",
        "E=np.array([1,1,1,1,-1,-1,1,1,-1,1,-1,-1,1,1,1]).reshape((1,n))\n",
        "F=np.array([1,1,1,1,-1,-1,1,1,-1,1,-1,-1,1,-1,-1]).reshape((1,n))\n",
        "G=np.array([-1,1,1,1,-1,-1,1,-1,1,1,-1,1,-1,1,1]).reshape((1,n))\n",
        "H=np.array([1,-1,1,1,-1,1,1,1,1,1,-1,1,1,-1,1]).reshape((1,n))"
      ],
      "execution_count": 1,
      "outputs": []
    },
    {
      "cell_type": "code",
      "metadata": {
        "id": "yZ8mpDXxDu8Z"
      },
      "source": [
        "a_map=np.array([-1,-1,-1]).reshape((1,m))\n",
        "b_map=np.array([-1,-1,1]).reshape((1,m))\n",
        "c_map=np.array([-1,1,-1]).reshape((1,m))\n",
        "d_map=np.array([-1,1,1]).reshape((1,m))\n",
        "e_map=np.array([1,-1,-1]).reshape((1,m))\n",
        "f_map=np.array([1,-1,1]).reshape((1,m))\n",
        "g_map=np.array([1,1,-1]).reshape((1,m))\n",
        "h_map=np.array([1,1,1]).reshape((1,m))"
      ],
      "execution_count": 2,
      "outputs": []
    },
    {
      "cell_type": "code",
      "metadata": {
        "id": "6TqETY-6Dx2Z"
      },
      "source": [
        "outputs=np.zeros((R,m))\n",
        "outputs[0,:]=a_map.copy()\n",
        "outputs[1,:]=b_map.copy()\n",
        "outputs[2,:]=c_map.copy()\n",
        "outputs[3,:]=d_map.copy()\n",
        "outputs[4,:]=e_map.copy()\n",
        "outputs[5,:]=f_map.copy()\n",
        "outputs[6,:]=g_map.copy()\n",
        "outputs[7,:]=c_map.copy()\n",
        "##\n",
        "inputs=np.zeros((R,n))\n",
        "inputs[0,:]=A.copy()\n",
        "inputs[1,:]=B.copy()\n",
        "inputs[2,:]=C.copy()\n",
        "inputs[3,:]=D.copy()\n",
        "inputs[4,:]=E.copy()\n",
        "inputs[5,:]=F.copy()\n",
        "inputs[6,:]=G.copy()\n",
        "inputs[7,:]=H.copy()"
      ],
      "execution_count": 3,
      "outputs": []
    },
    {
      "cell_type": "code",
      "metadata": {
        "id": "hrplQN6TD0sg"
      },
      "source": [
        "#Weights\n",
        "W=np.zeros((n,m))\n",
        "for i in range(R):\n",
        "  W=W+np.matmul(inputs[i].reshape(n,1),outputs[i].reshape(m,1).T)\n"
      ],
      "execution_count": 4,
      "outputs": []
    },
    {
      "cell_type": "code",
      "metadata": {
        "colab": {
          "base_uri": "https://localhost:8080/",
          "height": 1000
        },
        "id": "_MmIUqS-poFJ",
        "outputId": "b8c4e8bd-2af1-46d5-8806-f53d2f9240fc"
      },
      "source": [
        "##Cheking The mem\n",
        "import string\n",
        "for h in range(R):\n",
        "  if ((np.sign(np.matmul(inputs[h],W))-outputs[h])==0).all():\n",
        "    print('for input',string.ascii_uppercase[h] ,' forward path in mem matched ')\n",
        "    plt.figure()\n",
        "    plt.title(\"Backward path matched\")\n",
        "    plt.imshow(np.sign(np.matmul(outputs[h],W.T)).reshape((5,3)),cmap=\"Greys\")\n",
        "\n",
        "  else:\n",
        "    print(string.ascii_uppercase[h],\"Missmatched\")\n",
        "    plt.title(\"Backward path doesnt match\")\n",
        "    plt.imshow(np.sign(np.matmul(outputs[h],W.T)).reshape((5,3)),cmap=\"Greys\")  "
      ],
      "execution_count": 5,
      "outputs": [
        {
          "output_type": "stream",
          "text": [
            "for input A  forward path in mem matched \n",
            "for input B  forward path in mem matched \n",
            "C Missmatched\n",
            "for input D  forward path in mem matched \n",
            "for input E  forward path in mem matched \n",
            "F Missmatched\n",
            "G Missmatched\n",
            "H Missmatched\n"
          ],
          "name": "stdout"
        },
        {
          "output_type": "display_data",
          "data": {
            "image/png": "[encoded data removed]",
            "text/plain": [
              "<Figure size 432x288 with 1 Axes>"
            ]
          },
          "metadata": {
            "tags": [],
            "needs_background": "light"
          }
        },
        {
          "output_type": "display_data",
          "data": {
            "image/png": "[encoded data removed]",
            "text/plain": [
              "<Figure size 432x288 with 1 Axes>"
            ]
          },
          "metadata": {
            "tags": [],
            "needs_background": "light"
          }
        },
        {
          "output_type": "display_data",
          "data": {
            "image/png": "[encoded data removed]",
            "text/plain": [
              "<Figure size 432x288 with 1 Axes>"
            ]
          },
          "metadata": {
            "tags": [],
            "needs_background": "light"
          }
        },
        {
          "output_type": "display_data",
          "data": {
            "image/png": "[encoded data removed]",
            "text/plain": [
              "<Figure size 432x288 with 1 Axes>"
            ]
          },
          "metadata": {
            "tags": [],
            "needs_background": "light"
          }
        }
      ]
    },
    {
      "cell_type": "markdown",
      "metadata": {
        "id": "mQdGFn3HAr5C"
      },
      "source": [
        "#Final Part:Choosing Patterns with Max Distance "
      ]
    },
    {
      "cell_type": "code",
      "metadata": {
        "id": "CjWS6vP9_mr-"
      },
      "source": [
        "Matr=np.zeros((R,R))\n",
        "for i in range(R):\n",
        "  for j in range(R): \n",
        "    Matr[i,j]=np.count_nonzero(inputs[i,:]-inputs[j,:])"
      ],
      "execution_count": 6,
      "outputs": []
    },
    {
      "cell_type": "code",
      "metadata": {
        "colab": {
          "base_uri": "https://localhost:8080/"
        },
        "id": "pmHJwXpqAfj1",
        "outputId": "9e11bc4e-46a0-4198-b07a-303be9431528"
      },
      "source": [
        "print(Matr)\n",
        "for t in range(R):\n",
        "  print(string.ascii_uppercase[t],\"Mean:\",np.mean((Matr[t,:])))"
      ],
      "execution_count": 7,
      "outputs": [
        {
          "output_type": "stream",
          "text": [
            "[[0. 4. 7. 4. 6. 6. 5. 3.]\n",
            " [4. 0. 7. 2. 4. 4. 7. 5.]\n",
            " [7. 7. 0. 7. 3. 5. 2. 8.]\n",
            " [4. 2. 7. 0. 6. 6. 5. 5.]\n",
            " [6. 4. 3. 6. 0. 2. 5. 5.]\n",
            " [6. 4. 5. 6. 2. 0. 7. 5.]\n",
            " [5. 7. 2. 5. 5. 7. 0. 6.]\n",
            " [3. 5. 8. 5. 5. 5. 6. 0.]]\n",
            "A Mean: 4.375\n",
            "B Mean: 4.125\n",
            "C Mean: 4.875\n",
            "D Mean: 4.375\n",
            "E Mean: 3.875\n",
            "F Mean: 4.375\n",
            "G Mean: 4.625\n",
            "H Mean: 4.625\n"
          ],
          "name": "stdout"
        }
      ]
    }
  ]
}