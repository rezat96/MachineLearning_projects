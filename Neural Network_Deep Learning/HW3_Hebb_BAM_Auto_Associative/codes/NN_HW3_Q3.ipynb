{
  "nbformat": 4,
  "nbformat_minor": 0,
  "metadata": {
    "colab": {
      "name": "NN_HW3_Q3.ipynb",
      "provenance": [],
      "collapsed_sections": []
    },
    "kernelspec": {
      "name": "python3",
      "display_name": "Python 3"
    },
    "language_info": {
      "name": "python"
    }
  },
  "cells": [
    {
      "cell_type": "code",
      "metadata": {
        "id": "eeVOnyJTbMvd"
      },
      "source": [
        "import matplotlib.pyplot as plt\n",
        "import numpy as np\n",
        "zero_mat=np.ones((8,8))\n",
        "zero_mat[2:6,2:6]*=-1\n",
        "zero_mat=zero_mat.reshape((1,64))\n",
        "\n",
        "one_mat=-np.ones((8,8))\n",
        "one_mat[:,3:5]*=-1\n",
        "one_mat[:2,2]*=-1\n",
        "one_mat=one_mat.reshape((1,64))\n",
        "inputs=np.zeros((2,64))\n",
        "inputs[0,:]=zero_mat.copy()\n",
        "inputs[1,:]=one_mat.copy()"
      ],
      "execution_count": 1,
      "outputs": []
    },
    {
      "cell_type": "code",
      "metadata": {
        "id": "vf0CrwUWgaOk"
      },
      "source": [
        "# Step 0 Weight initialization\n",
        "R=2\n",
        "N=64\n",
        "#Weights\n",
        "W=np.zeros((N,N))-R*np.identity(N)\n",
        "for i in range(R):\n",
        "  W=W+np.matmul(inputs[i].reshape(N,1),inputs[i].reshape(N,1).T)"
      ],
      "execution_count": 2,
      "outputs": []
    },
    {
      "cell_type": "markdown",
      "metadata": {
        "id": "WW2BQeot35FP"
      },
      "source": [
        "# Testing Memory"
      ]
    },
    {
      "cell_type": "code",
      "metadata": {
        "colab": {
          "base_uri": "https://localhost:8080/"
        },
        "id": "mZweA8B3jWup",
        "outputId": "b96af11c-7c64-4aff-c51c-6518ce5f6dab"
      },
      "source": [
        "sum=0\n",
        "for r in range(2):\n",
        "  d=np.sign(np.matmul(inputs[r,:],W))-inputs[r,:]\n",
        "  # print(d)\n",
        "  sum+=np.sum(d)\n",
        "if sum==0 :\n",
        "  print(\"Two Number Targets have been succesfully saved in Memory\")"
      ],
      "execution_count": 3,
      "outputs": [
        {
          "output_type": "stream",
          "text": [
            "Two Number Targets have been succesfully saved in Memory\n"
          ],
          "name": "stdout"
        }
      ]
    },
    {
      "cell_type": "markdown",
      "metadata": {
        "id": "L0EQWD1R3tQV"
      },
      "source": [
        "#for 0 noisy pattern"
      ]
    },
    {
      "cell_type": "code",
      "metadata": {
        "id": "wfCd57ZEipP7"
      },
      "source": [
        "# 30% noise means nearly 19 or 20 pixels to be noisy for each number\n",
        "rate=0.3\n",
        "inputs_noisy=inputs.copy()\n",
        "inputs_noisy=inputs_noisy.reshape((R,N))\n",
        "ind=np.zeros(int(rate*N)).astype('int32')\n",
        "for t in range(R):\n",
        "  ind=np.random.choice(N, int(N*rate),replace=False)\n",
        "  inputs_noisy[t,ind]=-1*inputs[t,ind]\n"
      ],
      "execution_count": 4,
      "outputs": []
    },
    {
      "cell_type": "code",
      "metadata": {
        "colab": {
          "base_uri": "https://localhost:8080/",
          "height": 331
        },
        "id": "PzberFbhRTnz",
        "outputId": "237209f1-fbb2-43a0-b1cc-c2092fdf36a9"
      },
      "source": [
        "q=0  # changeeee 0or 1 for the input type\n",
        "\n",
        "counter=-1\n",
        "pp=0\n",
        "random_ind=np.random.choice(N,N,replace=False).reshape(-1,1)\n",
        "flag=1\n",
        "y=inputs_noisy[q].copy()\n",
        "# delta=np.zeros(64)\n",
        "y_in=np.zeros(N)\n",
        "y_prime=y.copy()\n",
        "history=np.zeros(200)\n",
        "index=-1\n",
        "while(flag):    #check she\n",
        "  for i in random_ind:\n",
        "    index+=1\n",
        "    counter+=1\n",
        "    y_in[i]=inputs_noisy[q,i]+np.matmul(y,W[:,i])\n",
        "    y[i]=np.sign(y_in[i])\n",
        "    # if((y-inputs[q]==0).all()):\n",
        "    history[index]=np.count_nonzero(y-inputs[q])  #Hamming Distance\n",
        "    if((y-y_prime==0).all()):\n",
        "      pp+=1\n",
        "      # print(pp)\n",
        "    else:\n",
        "      pp=0\n",
        "    if(pp>N):           #The criterion is such that in a complete epoch y doesnt change at all\n",
        "      print('Done',counter)\n",
        "      flag=0\n",
        "      break\n",
        "    y_prime=y.copy()\n",
        "\n",
        "vv=np.arange(counter)\n",
        "plt.plot(vv,history[:counter],'g')\n",
        "plt.title(\"Hamming Distance for %d_noisy input\"%q)\n",
        "plt.ylabel('H Distance')\n",
        "plt.xlabel('iterations')\n",
        "# plt.xlim([0,100])"
      ],
      "execution_count": 5,
      "outputs": [
        {
          "output_type": "stream",
          "text": [
            "Done 126\n"
          ],
          "name": "stdout"
        },
        {
          "output_type": "execute_result",
          "data": {
            "text/plain": [
              "Text(0.5, 0, 'iterations')"
            ]
          },
          "metadata": {
            "tags": []
          },
          "execution_count": 5
        },
        {
          "output_type": "display_data",
          "data": {
            "image/png": "[encoded data removed]",
            "text/plain": [
              "<Figure size 432x288 with 1 Axes>"
            ]
          },
          "metadata": {
            "tags": [],
            "needs_background": "light"
          }
        }
      ]
    },
    {
      "cell_type": "code",
      "metadata": {
        "colab": {
          "base_uri": "https://localhost:8080/",
          "height": 500
        },
        "id": "j2BFnowMzHXb",
        "outputId": "f62bab0e-d71b-4d7f-87d9-c2c53ce04b1f"
      },
      "source": [
        "import matplotlib.pyplot as plt\n",
        "# g=g.reshape((8,8))\n",
        "g1=y_prime.reshape((8,8))\n",
        "plt.figure(figsize=(8,8))\n",
        "plt.title(\"zero input/output\")\n",
        "plt.subplot(211)\n",
        "plt.imshow(inputs_noisy[q].reshape((8,8)),cmap='Greys')\n",
        "plt.subplot(212)\n",
        "plt.imshow(g1,cmap='Greys')"
      ],
      "execution_count": 6,
      "outputs": [
        {
          "output_type": "execute_result",
          "data": {
            "text/plain": [
              "<matplotlib.image.AxesImage at 0x7f75622e03d0>"
            ]
          },
          "metadata": {
            "tags": []
          },
          "execution_count": 6
        },
        {
          "output_type": "display_data",
          "data": {
            "image/png": "[encoded data removed]",
            "text/plain": [
              "<Figure size 576x576 with 2 Axes>"
            ]
          },
          "metadata": {
            "tags": [],
            "needs_background": "light"
          }
        }
      ]
    },
    {
      "cell_type": "markdown",
      "metadata": {
        "id": "DbBtXJiQ30Mn"
      },
      "source": [
        "#for 1 noisy pattern"
      ]
    },
    {
      "cell_type": "code",
      "metadata": {
        "colab": {
          "base_uri": "https://localhost:8080/",
          "height": 331
        },
        "id": "xD0vgFzXRO1c",
        "outputId": "2dc9d485-3abb-4132-f209-99a96cdf4125"
      },
      "source": [
        "q=1  # changeeee 0or 1 for the input type\n",
        "\n",
        "counter=-1\n",
        "pp=0\n",
        "random_ind=np.random.choice(N,N,replace=False).reshape(-1,1)\n",
        "flag=1\n",
        "y=inputs_noisy[q].copy()\n",
        "# delta=np.zeros(64)\n",
        "y_in=np.zeros(N)\n",
        "y_prime=y.copy()\n",
        "history=np.zeros(200)\n",
        "index=-1\n",
        "while(flag):    #check she\n",
        "  for i in random_ind:\n",
        "    index+=1\n",
        "    counter+=1\n",
        "    y_in[i]=inputs_noisy[q,i]+np.matmul(y,W[:,i])\n",
        "    y[i]=np.sign(y_in[i])\n",
        "    # if((y-inputs[q]==0).all()):\n",
        "    history[index]=np.count_nonzero(y-inputs[q])  #Hamming Distance\n",
        "    if((y-y_prime==0).all()):\n",
        "      pp+=1\n",
        "      # print(pp)\n",
        "    else:\n",
        "      pp=0\n",
        "    if(pp>N):           #The criterion is such that in a complete epoch y doesnt change at all\n",
        "      print('Done',counter)\n",
        "      flag=0\n",
        "      break\n",
        "    y_prime=y.copy()\n",
        "\n",
        "vv=np.arange(counter)\n",
        "plt.plot(vv,history[:counter],'g')\n",
        "plt.title(\"Hamming Distance for %d_noisy input\"%q)\n",
        "plt.ylabel('H Distance')\n",
        "plt.xlabel('iterations')\n",
        "# plt.xlim([0,100])"
      ],
      "execution_count": 7,
      "outputs": [
        {
          "output_type": "stream",
          "text": [
            "Done 128\n"
          ],
          "name": "stdout"
        },
        {
          "output_type": "execute_result",
          "data": {
            "text/plain": [
              "Text(0.5, 0, 'iterations')"
            ]
          },
          "metadata": {
            "tags": []
          },
          "execution_count": 7
        },
        {
          "output_type": "display_data",
          "data": {
            "image/png": "[encoded data removed]",
            "text/plain": [
              "<Figure size 432x288 with 1 Axes>"
            ]
          },
          "metadata": {
            "tags": [],
            "needs_background": "light"
          }
        }
      ]
    },
    {
      "cell_type": "code",
      "metadata": {
        "colab": {
          "base_uri": "https://localhost:8080/",
          "height": 500
        },
        "id": "gUPxCHCg3kz_",
        "outputId": "ab930363-e01f-4983-9bc7-a058cc0b286a"
      },
      "source": [
        "import matplotlib.pyplot as plt\n",
        "g1=y_prime.reshape((8,8))\n",
        "# g=g.reshape((8,8))\n",
        "plt.figure(figsize=(8,8))\n",
        "plt.subplot(211)\n",
        "plt.imshow(inputs_noisy[q].reshape((8,8)),cmap='Greys')\n",
        "plt.subplot(212)\n",
        "plt.imshow(g1,cmap='Greys')"
      ],
      "execution_count": 8,
      "outputs": [
        {
          "output_type": "execute_result",
          "data": {
            "text/plain": [
              "<matplotlib.image.AxesImage at 0x7f75621b2810>"
            ]
          },
          "metadata": {
            "tags": []
          },
          "execution_count": 8
        },
        {
          "output_type": "display_data",
          "data": {
            "image/png": "[encoded data removed]",
            "text/plain": [
              "<Figure size 576x576 with 2 Axes>"
            ]
          },
          "metadata": {
            "tags": [],
            "needs_background": "light"
          }
        }
      ]
    },
    {
      "cell_type": "markdown",
      "metadata": {
        "id": "f9InP4d9igXA"
      },
      "source": [
        "# Part C"
      ]
    },
    {
      "cell_type": "code",
      "metadata": {
        "colab": {
          "base_uri": "https://localhost:8080/"
        },
        "id": "uufHCXEyiMa5",
        "outputId": "f3466048-0562-4290-a28e-9b282bfad6d9"
      },
      "source": [
        "np.count_nonzero(inputs[0,:]-inputs[1,:])"
      ],
      "execution_count": 9,
      "outputs": [
        {
          "output_type": "execute_result",
          "data": {
            "text/plain": [
              "46"
            ]
          },
          "metadata": {
            "tags": []
          },
          "execution_count": 9
        }
      ]
    }
  ]
}