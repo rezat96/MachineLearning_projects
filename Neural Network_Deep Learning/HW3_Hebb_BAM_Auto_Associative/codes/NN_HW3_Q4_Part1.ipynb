{
  "nbformat": 4,
  "nbformat_minor": 0,
  "metadata": {
    "colab": {
      "name": "NN_HW3_Q4_Part1.ipynb",
      "provenance": [],
      "collapsed_sections": []
    },
    "kernelspec": {
      "name": "python3",
      "display_name": "Python 3"
    },
    "language_info": {
      "name": "python"
    }
  },
  "cells": [
    {
      "cell_type": "markdown",
      "metadata": {
        "id": "yPm8H2HbTEnV"
      },
      "source": [
        "#Part A"
      ]
    },
    {
      "cell_type": "code",
      "metadata": {
        "id": "azEiIcEI7R9L"
      },
      "source": [
        "import numpy as np\n",
        "import matplotlib.pyplot as plt\n",
        "R=3 # A,B ,C       \n",
        "n,m=15,3\n",
        "A=np.array([-1,1,-1,1,-1,1,1,1,1,1,-1,1,1,-1,1]).reshape((1,n))\n",
        "B=np.array([1,1,-1,1,-1,1,1,1,-1,1,-1,1,1,1,-1]).reshape((1,n))\n",
        "C=np.array([-1,1,1,1,-1,-1,1,-1,-1,1,-1,-1,-1,1,1]).reshape((1,n))\n",
        "D=np.array([1,1,-1,1,-1,1,1,-1,1,1,-1,1,1,1,-1]).reshape((1,n))\n",
        "E=np.array([1,1,1,1,-1,-1,1,1,-1,1,-1,-1,1,1,1]).reshape((1,n))\n",
        "F=np.array([1,1,1,1,-1,-1,1,1,-1,1,-1,-1,1,-1,-1]).reshape((1,n))\n",
        "G=np.array([-1,1,1,1,-1,-1,1,-1,1,1,-1,1,-1,1,1]).reshape((1,n))\n",
        "H=np.array([1,-1,1,1,-1,1,1,1,1,1,-1,1,1,-1,1]).reshape((1,n))"
      ],
      "execution_count": 1,
      "outputs": []
    },
    {
      "cell_type": "code",
      "metadata": {
        "id": "YIN4Sq157XMw"
      },
      "source": [
        "a_map=np.array([-1,-1,-1])\n",
        "b_map=np.array([-1,-1,1])\n",
        "c_map=np.array([-1,1,-1])"
      ],
      "execution_count": 2,
      "outputs": []
    },
    {
      "cell_type": "code",
      "metadata": {
        "id": "isf-7lr4GGau"
      },
      "source": [
        "dataset=np.array([[A,a_map],[B,b_map],[C,c_map]], dtype=\"object\")"
      ],
      "execution_count": 3,
      "outputs": []
    },
    {
      "cell_type": "code",
      "metadata": {
        "id": "hELejGxm7bEv"
      },
      "source": [
        "#Weights\n",
        "W=np.zeros((n,m))\n",
        "for d in dataset:\n",
        "    s, t = np.array(d[0]).flatten(), np.array(d[1]).flatten()\n",
        "    W += np.transpose(np.array([s])).dot(np.array([t]))"
      ],
      "execution_count": 4,
      "outputs": []
    },
    {
      "cell_type": "code",
      "metadata": {
        "colab": {
          "base_uri": "https://localhost:8080/"
        },
        "id": "T9zhf0B6mSau",
        "outputId": "1f917062-17d1-4474-d87f-55c2045164e7"
      },
      "source": [
        "W"
      ],
      "execution_count": 5,
      "outputs": [
        {
          "output_type": "execute_result",
          "data": {
            "text/plain": [
              "array([[ 1., -1.,  3.],\n",
              "       [-3., -1., -1.],\n",
              "       [ 1.,  3., -1.],\n",
              "       [-3., -1., -1.],\n",
              "       [ 3.,  1.,  1.],\n",
              "       [-1., -3.,  1.],\n",
              "       [-3., -1., -1.],\n",
              "       [-1., -3.,  1.],\n",
              "       [ 1., -1., -1.],\n",
              "       [-3., -1., -1.],\n",
              "       [ 3.,  1.,  1.],\n",
              "       [-1., -3.,  1.],\n",
              "       [-1., -3.,  1.],\n",
              "       [-1.,  1.,  1.],\n",
              "       [-1.,  1., -3.]])"
            ]
          },
          "metadata": {
            "tags": []
          },
          "execution_count": 5
        }
      ]
    },
    {
      "cell_type": "markdown",
      "metadata": {
        "id": "L8w3Nx8aTIA5"
      },
      "source": [
        "#Part B"
      ]
    },
    {
      "cell_type": "code",
      "metadata": {
        "colab": {
          "base_uri": "https://localhost:8080/",
          "height": 862
        },
        "id": "kTJmX43RTJkp",
        "outputId": "8c692cc0-ae17-4382-a9d5-0ca8c4c9f46b"
      },
      "source": [
        "##Cheking The mem\n",
        "import string\n",
        "for h in range(R):\n",
        "  if (np.sign(np.matmul(dataset[h][0],W))-dataset[h][1].reshape((1,3))==0).all():\n",
        "    print('for input',string.ascii_uppercase[h] ,' forward path in mem matched ')\n",
        "    plt.figure()\n",
        "    plt.title(\"Backward path matched\")\n",
        "    plt.imshow(np.sign(np.matmul(dataset[h][1],W.T)).reshape((5,3)),cmap=\"Greys\")"
      ],
      "execution_count": 6,
      "outputs": [
        {
          "output_type": "stream",
          "text": [
            "for input A  forward path in mem matched \n",
            "for input B  forward path in mem matched \n",
            "for input C  forward path in mem matched \n"
          ],
          "name": "stdout"
        },
        {
          "output_type": "display_data",
          "data": {
            "image/png": "[encoded data removed]",
            "text/plain": [
              "<Figure size 432x288 with 1 Axes>"
            ]
          },
          "metadata": {
            "tags": [],
            "needs_background": "light"
          }
        },
        {
          "output_type": "display_data",
          "data": {
            "image/png": "[encoded data removed]",
            "text/plain": [
              "<Figure size 432x288 with 1 Axes>"
            ]
          },
          "metadata": {
            "tags": [],
            "needs_background": "light"
          }
        },
        {
          "output_type": "display_data",
          "data": {
            "image/png": "[encoded data removed]",
            "text/plain": [
              "<Figure size 432x288 with 1 Axes>"
            ]
          },
          "metadata": {
            "tags": [],
            "needs_background": "light"
          }
        }
      ]
    },
    {
      "cell_type": "markdown",
      "metadata": {
        "id": "nIP9NU0_TMNJ"
      },
      "source": [
        "#Part C: Noisy Evaluation"
      ]
    },
    {
      "cell_type": "code",
      "metadata": {
        "id": "iXmy6yz6Hxik"
      },
      "source": [
        "def evaluate_one_data_one_way(new_s, s, t, W):\n",
        "    x = (np.array([new_s]))\n",
        "    ox = np.zeros_like(x)\n",
        "    oy = np.zeros_like(np.array([t]))\n",
        "    while True:\n",
        "        y = np.sign(x.dot(W))\n",
        "        x = np.sign(y.dot(W.T))\n",
        "        if((ox==x).all() and (oy==y).all()):\n",
        "            evaluation = ((y==t).all() and (x==s).all())\n",
        "            break\n",
        "        ox, oy = x, y\n",
        "    return evaluation"
      ],
      "execution_count": 7,
      "outputs": []
    },
    {
      "cell_type": "code",
      "metadata": {
        "id": "egq5uBTgH4C0"
      },
      "source": [
        "def evaluate(dataset, W, noise):\n",
        "    forward_eval, backward_eval = np.zeros(len(dataset)), np.zeros(len(dataset))\n",
        "    for i, d in enumerate(dataset):\n",
        "        s, t = np.array(d[0]).flatten(), np.array(d[1]).flatten()\n",
        "        input_s = s.copy()\n",
        "        \n",
        "        if(noise!=0):\n",
        "            n = len(s)\n",
        "            ind = np.random.choice(range(n), int(noise*n+0.5), replace=False)\n",
        "            input_s[ind] *= -1\n",
        "\n",
        "        forward_eval[i]  = evaluate_one_data_one_way(input_s, s, t, W)\n",
        "    return forward_eval"
      ],
      "execution_count": 8,
      "outputs": []
    },
    {
      "cell_type": "code",
      "metadata": {
        "colab": {
          "base_uri": "https://localhost:8080/"
        },
        "id": "h0IaGf5hH4uE",
        "outputId": "335269f8-8521-461d-a2f7-411678eea9e1"
      },
      "source": [
        "n_experiments = 100\n",
        "noise = [0.1, 0.4]\n",
        "\n",
        "for noise_ratio in noise:\n",
        "    evaluation = np.zeros(3)\n",
        "    for _ in range(n_experiments):\n",
        "        evaluation += evaluate(dataset, W, noise_ratio)\n",
        "    print(f\"noise ratio of {noise_ratio*100}%, network was able to\",\n",
        "         f\"assocoate target pattern in {evaluation/n_experiments*100}% of times for (A,B,C) noisy inputs.\")"
      ],
      "execution_count": 9,
      "outputs": [
        {
          "output_type": "stream",
          "text": [
            "noise ratio of 10.0%, network was able to assocoate target pattern in [ 99.  86. 100.]% of times for (A,B,C) noisy inputs.\n",
            "noise ratio of 40.0%, network was able to assocoate target pattern in [36. 26. 40.]% of times for (A,B,C) noisy inputs.\n"
          ],
          "name": "stdout"
        }
      ]
    },
    {
      "cell_type": "markdown",
      "metadata": {
        "id": "p-u4LexKNJB3"
      },
      "source": [
        "#Part D"
      ]
    },
    {
      "cell_type": "code",
      "metadata": {
        "colab": {
          "base_uri": "https://localhost:8080/",
          "height": 266
        },
        "id": "x1g26wSDOd8A",
        "outputId": "67f9d6f3-17d5-4e54-84c8-b02bc4d52239"
      },
      "source": [
        "inn=np.array([0,-1,-1]).reshape((1,3))\n",
        "plt.figure()\n",
        "plt.imshow((np.sign(np.matmul(inn,W.T))).reshape((5,3)),cmap=\"Greys\")\n",
        "plt.axis(\"off\")"
      ],
      "execution_count": 10,
      "outputs": [
        {
          "output_type": "execute_result",
          "data": {
            "text/plain": [
              "(-0.5, 2.5, 4.5, -0.5)"
            ]
          },
          "metadata": {
            "tags": []
          },
          "execution_count": 10
        },
        {
          "output_type": "display_data",
          "data": {
            "image/png": "[encoded data removed]",
            "text/plain": [
              "<Figure size 432x288 with 1 Axes>"
            ]
          },
          "metadata": {
            "tags": [],
            "needs_background": "light"
          }
        }
      ]
    }
  ]
}