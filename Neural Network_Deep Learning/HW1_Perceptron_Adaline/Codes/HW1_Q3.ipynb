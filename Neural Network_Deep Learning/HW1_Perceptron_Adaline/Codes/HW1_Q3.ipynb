{
 "cells": [
  {
   "cell_type": "code",
   "execution_count": 23,
   "id": "simplified-stanley",
   "metadata": {},
   "outputs": [],
   "source": [
    "# Python ≥3.5 is required\n",
    "import sys\n",
    "assert sys.version_info >= (3, 5)\n",
    "\n",
    "# Scikit-Learn ≥0.20 is required\n",
    "import sklearn\n",
    "assert sklearn.__version__ >= \"0.20\"\n",
    "\n",
    "# Common imports\n",
    "import numpy as np\n",
    "import pandas as pd\n",
    "import os\n",
    "import sklearn\n",
    "from sklearn.model_selection import train_test_split\n",
    "from numpy import linalg as LA\n",
    "# to make this notebook's output stable across runs\n",
    "np.random.seed(1)\n",
    "\n",
    "import math\n",
    "# To plot pretty figures\n",
    "%matplotlib inline\n",
    "import matplotlib as mpl\n",
    "import matplotlib.pyplot as plt\n",
    "mpl.rc('axes', labelsize=14)\n",
    "mpl.rc('xtick', labelsize=12)\n",
    "mpl.rc('ytick', labelsize=12)\n",
    "\n"
   ]
  },
  {
   "cell_type": "code",
   "execution_count": 24,
   "id": "painful-pressure",
   "metadata": {},
   "outputs": [],
   "source": [
    "#Data1\n",
    "#class1_D1\n",
    "# mean1=[1,1]\n",
    "# cov1=[[0.25 , 0],[0,0.25]]\n",
    "# c1=np.random.multivariate_normal(1, cov1, 1000)\n",
    "#class2_D1\n",
    "# mean2=[-1,-1]\n",
    "# cov2=[[0.25 , 0],[0,0.25]]\n",
    "# c2=np.random.multivariate_normal(mean2, cov2, 10)\n",
    "\n",
    "\n",
    "\n",
    "\n",
    "\n",
    "c1=np.random.normal(1,0.5,(1000,2))\n",
    "c2=np.random.normal(-1, 0.5, (10,2))\n",
    "\n",
    "# ##Coment this part to run fig2\n",
    "\n",
    "a1=np.full((1000,1), 1)\n",
    "b1=np.full((10,1), -1)\n",
    "x1_train=np.concatenate((c1[:,0], c2[:,0]), axis=0)\n",
    "x2_train=np.concatenate((c1[:,1], c2[:,1]), axis=0)\n",
    "z1_train=np.concatenate((a1, b1), axis=None)\n",
    "\n",
    "\n",
    "\n",
    "\n",
    "#Data2\n",
    "#class1_D2\n",
    "# mean3=[1,1]\n",
    "# cov3=[[0.5 , 0],[0,0.5]]\n",
    "# g1=np.random.multivariate_normal(mean3, cov3, 100)\n",
    "\n",
    "## class2_D2\n",
    "## mean4=[-1,-1]\n",
    "## cov4=[[0.25 , 0],[0,0.25]]\n",
    "## g2=np.random.multivariate_normal(mean4, cov4, 100)\n",
    "\n",
    "\n",
    "##Coment this part to run fig1\n",
    "# g1=np.random.normal(1, 0.5, (100,2))\n",
    "# g2=np.random.normal(-1, 0.5, (100,2))\n",
    "# a2=np.full((100,1), 1)\n",
    "# b2=np.full((100,1), -1)\n",
    "# z1_train=np.concatenate((a2, b2), axis=None)\n",
    "# x1_train=np.concatenate((g1[:,0], g2[:,0]), axis=0)\n",
    "# x2_train=np.concatenate((g1[:,1], g2[:,1]), axis=0)"
   ]
  },
  {
   "cell_type": "code",
   "execution_count": 25,
   "id": "extreme-species",
   "metadata": {},
   "outputs": [],
   "source": [
    "# plt.scatter(c1[:,0], c1[:,1],color='r',marker='x')\n",
    "# plt.scatter(c2[:,0], c2[:,1],color='b',marker='o')\n",
    "\n",
    "# plt.xlabel(\"$x1$\", fontsize=18)\n",
    "# plt.ylabel(\"$x2$\", rotation=0, fontsize=18)    \n",
    "# plt.show()"
   ]
  },
  {
   "cell_type": "code",
   "execution_count": 26,
   "id": "bigger-chemical",
   "metadata": {},
   "outputs": [],
   "source": [
    "# plt.scatter(g1[:,0], g1[:,1],color='r',marker='x')\n",
    "# plt.scatter(g2[:,0], g2[:,1],color='b',marker='o')\n",
    "# plt.xlabel(\"$x1$\", fontsize=18)\n",
    "# plt.ylabel(\"$x2$\", rotation=0, fontsize=18)    \n",
    "# plt.show()"
   ]
  },
  {
   "cell_type": "markdown",
   "id": "framed-chicken",
   "metadata": {},
   "source": [
    "# Original Algorithm \n"
   ]
  },
  {
   "cell_type": "code",
   "execution_count": 27,
   "id": "identical-criterion",
   "metadata": {},
   "outputs": [
    {
     "data": {
      "text/plain": [
       "(1, 1, 1, -0.024721912939064172)"
      ]
     },
     "execution_count": 27,
     "metadata": {},
     "output_type": "execute_result"
    }
   ],
   "source": [
    "Alpha=0.1 #change\n",
    "#Initialization\n",
    "b_curr=0.1 #changed\n",
    "w1_curr=0.1\n",
    "w2_curr=0.1\n",
    "b_next=1 #changed\n",
    "w1_next=1\n",
    "w2_next=1\n",
    "epoch=0\n",
    "flag=1\n",
    "h=np.zeros(len(z1_train))\n",
    "#while(epoch!=10):\n",
    "# while(epoch!=10 or flag==1):\n",
    "while(flag==1 and epoch<=50):\n",
    "    #epoch=epoch+1\n",
    "    #print(epoch)\n",
    "    for j in range(len(z1_train)):\n",
    "        net=w1_curr*x1_train[j]+w2_curr*x2_train[j]+b_curr\n",
    "        if (net >= 0 ):  \n",
    "            h[j] =1\n",
    "        elif (net < 0) :  \n",
    "            h[j] = -1\n",
    "        #Updating rules            \n",
    "        if (h[j]-z1_train[j]!=0):\n",
    "            w1_next=w1_curr+Alpha*(z1_train[j]-net)*x1_train[j]\n",
    "            w2_next=w2_curr+Alpha*(z1_train[j]-net)*x2_train[j]      \n",
    "            b_next=b_curr+Alpha*(z1_train[j]-net)\n",
    "            Error_weights=[w1_next-w1_curr,w2_next-w2_curr,b_next-b_curr ]\n",
    "            w1_curr=w1_next.copy()     \n",
    "            w2_curr=w2_next.copy() \n",
    "            b_curr=b_next.copy()\n",
    "            if (abs(max(Error_weights))>=0.1):\n",
    "                print(epoch,j)\n",
    "#                 w1_curr=w1_next.copy()   \n",
    "#                 w2_curr=w2_next.copy() \n",
    "#                 b_curr=b_next.copy()  \n",
    "            else :\n",
    "                flag=0\n",
    "                break                \n",
    "    epoch=epoch+1\n",
    "    #print(max(Error_weights))\n",
    "w1,w2,b=w1_next,w2_next,b_next\n",
    "w1,w2,b,max(Error_weights)"
   ]
  },
  {
   "cell_type": "markdown",
   "id": "delayed-effect",
   "metadata": {},
   "source": [
    "# Revised algorithm"
   ]
  },
  {
   "cell_type": "code",
   "execution_count": 28,
   "id": "hairy-logic",
   "metadata": {},
   "outputs": [],
   "source": [
    "# Alpha=0.1 #change\n",
    "# #Initialization\n",
    "# b_curr=0.1 #changed\n",
    "# w1_curr=0.1\n",
    "# w2_curr=0.1\n",
    "# b_next=1 #changed\n",
    "# w1_next=1\n",
    "# w2_next=1\n",
    "# epoch=0\n",
    "# flag=1\n",
    "# h=np.zeros(len(z1_train))\n",
    "# #while(epoch!=10):\n",
    "# # while(epoch!=10 or flag==1):\n",
    "# while(flag==1 and epoch<=50):\n",
    "#     #print(epoch)\n",
    "#     for j in range(len(z1_train)):\n",
    "#         net=w1_curr*x1_train[j]+w2_curr*x2_train[j]+b_curr\n",
    "#         if (math.tanh(net) >= 0 ):  \n",
    "#             h[j] = 1\n",
    "#         elif (math.tanh(net) < 0) :  \n",
    "#             h[j] = -1\n",
    "#         #Updating rules            \n",
    "#         if (h[j]-z1_train[j]!=0):\n",
    "#             w1_next=w1_curr+Alpha*(z1_train[j]-net)*x1_train[j]\n",
    "#             w2_next=w2_curr+Alpha*(z1_train[j]-net)*x2_train[j]      \n",
    "#             b_next=b_curr+Alpha*(z1_train[j]-net)\n",
    "#             Error_weights=[w1_next-w1_curr,w2_next-w2_curr,b_next-b_curr ]\n",
    "#             w1_curr=w1_next.copy()     \n",
    "#             w2_curr=w2_next.copy() \n",
    "#             b_curr=b_next.copy()\n",
    "#             if (abs(max(Error_weights))>=0.1):\n",
    "#                 print(epoch,j)\n",
    "# #                 w1_curr=w1_next.copy()   \n",
    "# #                 w2_curr=w2_next.copy() \n",
    "# #                 b_curr=b_next.copy()  \n",
    "#             else :\n",
    "#                 flag=0\n",
    "#                 break                \n",
    "#     epoch=epoch+1\n",
    "#     #print(max(Error_weights))\n",
    "# w1,w2,b=w1_next,w2_next,b_next\n",
    "# w1,w2,b,max(Error_weights)"
   ]
  },
  {
   "cell_type": "markdown",
   "id": "checked-investigation",
   "metadata": {},
   "source": [
    "# Figure 1"
   ]
  },
  {
   "cell_type": "code",
   "execution_count": 29,
   "id": "macro-proceeding",
   "metadata": {},
   "outputs": [
    {
     "data": {
      "image/png": "[encoded data removed]",
      "text/plain": [
       "<Figure size 432x288 with 1 Axes>"
      ]
     },
     "metadata": {
      "needs_background": "light"
     },
     "output_type": "display_data"
    }
   ],
   "source": [
    "xx=np.linspace(-2,2)\n",
    "yy1=-(w1/w2) * xx-(b/w2)\n",
    "plt.plot(xx, yy1, \"k--\")\n",
    "for i in range(len(z1_train)):\n",
    "    if z1_train[i]==1:\n",
    "        plt.scatter(x1_train[i], x2_train[i],color='r',marker='x')\n",
    "    else: \n",
    "        plt.scatter(x1_train[i], x2_train[i],color='b',marker='o')\n",
    "    plt.xlabel(\"$x1$\", fontsize=18)\n",
    "    plt.ylabel(\"$x2$\", rotation=0, fontsize=18)\n",
    "plt.show()\n"
   ]
  }
 ],
 "metadata": {
  "kernelspec": {
   "display_name": "Python 3",
   "language": "python",
   "name": "python3"
  },
  "language_info": {
   "codemirror_mode": {
    "name": "ipython",
    "version": 3
   },
   "file_extension": ".py",
   "mimetype": "text/x-python",
   "name": "python",
   "nbconvert_exporter": "python",
   "pygments_lexer": "ipython3",
   "version": "3.7.10"
  }
 },
 "nbformat": 4,
 "nbformat_minor": 5
}
