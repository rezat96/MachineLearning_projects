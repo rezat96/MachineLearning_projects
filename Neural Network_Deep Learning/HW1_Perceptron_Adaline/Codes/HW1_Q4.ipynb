{
 "cells": [
  {
   "cell_type": "code",
   "execution_count": 1,
   "id": "growing-hebrew",
   "metadata": {},
   "outputs": [],
   "source": [
    "# Python ≥3.5 is required\n",
    "import sys\n",
    "assert sys.version_info >= (3, 5)\n",
    "\n",
    "# Scikit-Learn ≥0.20 is required\n",
    "import sklearn\n",
    "assert sklearn.__version__ >= \"0.20\"\n",
    "\n",
    "# Common imports\n",
    "import numpy as np\n",
    "import pandas as pd\n",
    "import os\n",
    "\n",
    "# to make this notebook's output stable across runs\n",
    "np.random.seed(42)\n",
    "\n",
    "# To plot pretty figures\n",
    "%matplotlib inline\n",
    "import matplotlib as mpl\n",
    "import matplotlib.pyplot as plt\n",
    "mpl.rc('axes', labelsize=14)\n",
    "mpl.rc('xtick', labelsize=12)\n",
    "mpl.rc('ytick', labelsize=12)\n",
    "\n"
   ]
  },
  {
   "cell_type": "code",
   "execution_count": 2,
   "id": "sitting-hungary",
   "metadata": {},
   "outputs": [],
   "source": [
    "#Reading The Data File\n",
    "PATH_TO_DATA = 'madaline.csv'\n",
    "df = pd.read_csv(PATH_TO_DATA)\n",
    "#a = Data.to_numpy()\n",
    "Data=df.values\n",
    "#Data"
   ]
  },
  {
   "cell_type": "code",
   "execution_count": 3,
   "id": "removed-reduction",
   "metadata": {},
   "outputs": [],
   "source": [
    "x_train = Data[:,:2]\n",
    "x1_train = Data[:,0]\n",
    "x2_train = Data[:,1]\n",
    "\n",
    "#changed This part for better handling\n",
    "y1_train = Data[:,2]"
   ]
  },
  {
   "cell_type": "code",
   "execution_count": 4,
   "id": "continent-european",
   "metadata": {},
   "outputs": [
    {
     "data": {
      "image/png": "[encoded data removed]",
      "text/plain": [
       "<Figure size 432x288 with 1 Axes>"
      ]
     },
     "metadata": {
      "needs_background": "light"
     },
     "output_type": "display_data"
    }
   ],
   "source": [
    "for i in range(len(y1_train)):\n",
    "    #plt.figure()\n",
    "    #plt.ion()\n",
    "    if y1_train[i]==0:\n",
    "        plt.plot(x1_train[i], x2_train[i], \"b.\")\n",
    "    else: \n",
    "        plt.plot(x1_train[i], x2_train[i], \"r.\")\n",
    "    plt.xlabel(\"$x1$\", fontsize=18)\n",
    "    plt.ylabel(\"$x2$\", rotation=0, fontsize=18)\n",
    "    #plt.grid()\n",
    "    \n",
    "plt.show()"
   ]
  },
  {
   "cell_type": "code",
   "execution_count": 5,
   "id": "closed-summit",
   "metadata": {},
   "outputs": [],
   "source": [
    "alpha=0.2 #change\n",
    "n=4 #change this part 4 6 or 8   IMPORTAAAANT\n",
    "\n",
    "#Initialization\n",
    "w_curr=np.random.random((2,n))\n",
    "b_curr=np.random.random((n,1))\n",
    "# w_curr=np.zeros((2,n))\n",
    "# b_curr=np.zeros((n,1))\n",
    "                       \n",
    "b_next=np.zeros((n,1)) #changed\n",
    "w_next=np.zeros((2,n))\n",
    "\n",
    "\n",
    "epoch=0\n",
    "flag=1      \n",
    "#h=np.zeros(n)\n",
    "z_out=np.zeros(n)\n",
    "z_in=np.zeros(n)\n",
    "# while(epoch!=10 or flag==1):\n",
    "#while(flag==1 and epoch<=50):\n",
    "while(epoch!=800):\n",
    "    for j in range(len(y1_train)):\n",
    "        for i in range(n):\n",
    "            z_in[i]=b_curr[i,0]+x1_train[j]*w_curr[0,i] + x2_train[j]*w_curr[1,i]\n",
    "            if (z_in[i] >= 0 ):  \n",
    "                z_out[i] =1\n",
    "            else:  \n",
    "                z_out[i] = -1\n",
    "        #OR Function\n",
    "        y_in=np.sum(z_out)+3  #This line Does The OR\n",
    "        #y_out=np.sign(y_in)\n",
    "        if (y_in >= 0 ):  \n",
    "            y_out =1\n",
    "        else:  \n",
    "            y_out = 0\n",
    "\n",
    "        input_num=2\n",
    "        #Step7\n",
    "        if(y1_train[j]==y_out) :\n",
    "            #print('ok')\n",
    "            pass\n",
    "        elif (y1_train[j]==1):\n",
    "            ind=np.argmin(abs(z_in))\n",
    "            for i in range(input_num):\n",
    "                #Update\n",
    "                b_next[ind]=b_curr[ind]+alpha*(1-z_in[ind])\n",
    "                w_next[i,ind]=w_curr[i,ind]+alpha*(1-z_in[ind])*x_train[j,i]  #pay attention to this part\n",
    "                #print(w_next)\n",
    "        elif (y1_train[j]==0): \n",
    "            #print('no')\n",
    "            for e in range(n):\n",
    "                if(z_in[e]>0):\n",
    "                    b_next[e]=b_curr[e]+alpha*(0-z_in[e])\n",
    "                    w_next[1,e]=w_curr[1,e]+alpha*(0-z_in[e])*x_train[j,1]\n",
    "                    w_next[0,e]=w_curr[0,e]+alpha*(0-z_in[e])*x_train[j,0]\n",
    "        b_curr=b_next.copy()\n",
    "        w_curr=w_next.copy()\n",
    "        #print(w_curr)\n",
    "        \n",
    "    epoch=epoch+1  \n",
    "    #print(epoch)\n",
    "\n",
    "\n",
    "\n",
    "        \n",
    "#         #Updating rules            \n",
    "#         if (h[j]-z1_train[j]!=0):\n",
    "#             w1_next=w1_curr+Alpha*(z1_train[j]-net)*x1_train[j]\n",
    "#             w2_next=w2_curr+Alpha*(z1_train[j]-net)*x2_train[j]      \n",
    "#             b_next=b_curr+Alpha*(z1_train[j]-net)\n",
    "#             Error_weights=[w1_next-w1_curr,w2_next-w2_curr,b_next-b_curr ]\n",
    "#             w1_curr=w1_next.copy()     \n",
    "#             w2_curr=w2_next.copy() \n",
    "#             b_curr=b_next.copy()\n",
    "#             if (abs(max(Error_weights))>=0.1):\n",
    "#                 print(epoch,j)\n",
    "# #                 w1_curr=w1_next.copy()   \n",
    "# #                 w2_curr=w2_next.copy() \n",
    "# #                 b_curr=b_next.copy()  \n",
    "#             else :\n",
    "#                 flag=0\n",
    "#                 break                \n",
    "#    epoch=epoch+1\n",
    "    #print(max(Error_weights))\n",
    "# w1,w2,b=w1_next,w2_next,b_next\n",
    "# w1,w2,b,max(Error_weights)\n",
    "#w_next,b_curr,w_curr"
   ]
  },
  {
   "cell_type": "code",
   "execution_count": 6,
   "id": "hispanic-defeat",
   "metadata": {},
   "outputs": [
    {
     "data": {
      "image/png": "[encoded data removed]",
      "text/plain": [
       "<Figure size 432x288 with 1 Axes>"
      ]
     },
     "metadata": {
      "needs_background": "light"
     },
     "output_type": "display_data"
    }
   ],
   "source": [
    "xx1=np.linspace(-2,2)\n",
    "for k in range(n):\n",
    "    w1=w_next[0,k]\n",
    "    w2=w_next[1,k]\n",
    "    b=b_curr[k]\n",
    "    yy1=-(w1/w2) * xx1 -(b/w2)\n",
    "    plt.plot(xx1, yy1, \"g--\")\n",
    "\n",
    "#Plotting Dataa\n",
    "for i in range(len(y1_train)):\n",
    "    if y1_train[i]==1:\n",
    "        plt.scatter(x1_train[i], x2_train[i],color='r',marker='x')\n",
    "    else: \n",
    "        plt.scatter(x1_train[i], x2_train[i],color='b',marker='o')\n",
    "plt.xlabel(\"$x1$\", fontsize=18)\n",
    "plt.ylabel(\"$x2$\", rotation=0, fontsize=18)\n",
    "plt.ylim([-2, 2])\n",
    "plt.show()\n"
   ]
  }
 ],
 "metadata": {
  "kernelspec": {
   "display_name": "Python 3",
   "language": "python",
   "name": "python3"
  },
  "language_info": {
   "codemirror_mode": {
    "name": "ipython",
    "version": 3
   },
   "file_extension": ".py",
   "mimetype": "text/x-python",
   "name": "python",
   "nbconvert_exporter": "python",
   "pygments_lexer": "ipython3",
   "version": "3.7.10"
  }
 },
 "nbformat": 4,
 "nbformat_minor": 5
}
